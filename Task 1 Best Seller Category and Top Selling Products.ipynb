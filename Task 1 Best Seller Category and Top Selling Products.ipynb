{
 "cells": [
  {
   "cell_type": "code",
   "execution_count": 1,
   "id": "227afe2a-4142-4389-94b8-753fb842048d",
   "metadata": {},
   "outputs": [],
   "source": [
    "import warnings\n",
    "import numpy as np\n",
    "import pandas as pd\n",
    "import matplotlib.pyplot as plt\n",
    "import seaborn as sns"
   ]
  },
  {
   "cell_type": "code",
   "execution_count": 2,
   "id": "6dd9b5be-d40e-4d11-ac2c-866121fb18af",
   "metadata": {},
   "outputs": [],
   "source": [
    "path = \"./Pakistan Largest Ecommerce Dataset.csv\""
    #Enter your path
   ]
  },
  {
   "cell_type": "code",
   "execution_count": 3,
   "id": "da9de75d-f990-4486-b304-8a7a15e01d4f",
   "metadata": {},
   "outputs": [],
   "source": [
    "warnings.filterwarnings('ignore')"
   ]
  },
  {
   "cell_type": "code",
   "execution_count": 4,
   "id": "8db36ca7-4fc8-47a6-9cc7-353f468c5507",
   "metadata": {},
   "outputs": [],
   "source": [
    "df = pd.read_csv(path,  parse_dates = [\"Customer Since\", \"M-Y\"], low_memory = False, na_values = [\"NaN\", 'NaT', ' -   '])"
   ]
  },
  {
   "cell_type": "code",
   "execution_count": 5,
   "id": "debd623f-e033-4b44-a5ba-5c23fe16287a",
   "metadata": {},
   "outputs": [],
   "source": [
    "pd.set_option('display.max_columns', None)"
   ]
  },
  {
   "cell_type": "code",
   "execution_count": 6,
   "id": "1bac8281-68d7-496d-99e4-88f2fdd60e1c",
   "metadata": {},
   "outputs": [
    {
     "data": {
      "text/html": [
       "<div>\n",
       "<style scoped>\n",
       "    .dataframe tbody tr th:only-of-type {\n",
       "        vertical-align: middle;\n",
       "    }\n",
       "\n",
       "    .dataframe tbody tr th {\n",
       "        vertical-align: top;\n",
       "    }\n",
       "\n",
       "    .dataframe thead th {\n",
       "        text-align: right;\n",
       "    }\n",
       "</style>\n",
       "<table border=\"1\" class=\"dataframe\">\n",
       "  <thead>\n",
       "    <tr style=\"text-align: right;\">\n",
       "      <th></th>\n",
       "      <th>item_id</th>\n",
       "      <th>status</th>\n",
       "      <th>created_at</th>\n",
       "      <th>sku</th>\n",
       "      <th>price</th>\n",
       "      <th>qty_ordered</th>\n",
       "      <th>grand_total</th>\n",
       "      <th>increment_id</th>\n",
       "      <th>category_name_1</th>\n",
       "      <th>sales_commission_code</th>\n",
       "      <th>discount_amount</th>\n",
       "      <th>payment_method</th>\n",
       "      <th>Working Date</th>\n",
       "      <th>BI Status</th>\n",
       "      <th>MV</th>\n",
       "      <th>Year</th>\n",
       "      <th>Month</th>\n",
       "      <th>Customer Since</th>\n",
       "      <th>M-Y</th>\n",
       "      <th>FY</th>\n",
       "      <th>Customer ID</th>\n",
       "      <th>Unnamed: 21</th>\n",
       "      <th>Unnamed: 22</th>\n",
       "      <th>Unnamed: 23</th>\n",
       "      <th>Unnamed: 24</th>\n",
       "      <th>Unnamed: 25</th>\n",
       "    </tr>\n",
       "  </thead>\n",
       "  <tbody>\n",
       "    <tr>\n",
       "      <th>0</th>\n",
       "      <td>211131.0</td>\n",
       "      <td>complete</td>\n",
       "      <td>7/1/2016</td>\n",
       "      <td>kreations_YI 06-L</td>\n",
       "      <td>1950.0</td>\n",
       "      <td>1.0</td>\n",
       "      <td>1950.0</td>\n",
       "      <td>100147443</td>\n",
       "      <td>Women's Fashion</td>\n",
       "      <td>\\N</td>\n",
       "      <td>0.0</td>\n",
       "      <td>cod</td>\n",
       "      <td>7/1/2016</td>\n",
       "      <td>#REF!</td>\n",
       "      <td>1,950</td>\n",
       "      <td>2016.0</td>\n",
       "      <td>7.0</td>\n",
       "      <td>2016-07-01</td>\n",
       "      <td>2016-07-01</td>\n",
       "      <td>FY17</td>\n",
       "      <td>1.0</td>\n",
       "      <td>NaN</td>\n",
       "      <td>NaN</td>\n",
       "      <td>NaN</td>\n",
       "      <td>NaN</td>\n",
       "      <td>NaN</td>\n",
       "    </tr>\n",
       "    <tr>\n",
       "      <th>1</th>\n",
       "      <td>211133.0</td>\n",
       "      <td>canceled</td>\n",
       "      <td>7/1/2016</td>\n",
       "      <td>kcc_Buy 2 Frey Air Freshener &amp; Get 1 Kasual Bo...</td>\n",
       "      <td>240.0</td>\n",
       "      <td>1.0</td>\n",
       "      <td>240.0</td>\n",
       "      <td>100147444</td>\n",
       "      <td>Beauty &amp; Grooming</td>\n",
       "      <td>\\N</td>\n",
       "      <td>0.0</td>\n",
       "      <td>cod</td>\n",
       "      <td>7/1/2016</td>\n",
       "      <td>Gross</td>\n",
       "      <td>240</td>\n",
       "      <td>2016.0</td>\n",
       "      <td>7.0</td>\n",
       "      <td>2016-07-01</td>\n",
       "      <td>2016-07-01</td>\n",
       "      <td>FY17</td>\n",
       "      <td>2.0</td>\n",
       "      <td>NaN</td>\n",
       "      <td>NaN</td>\n",
       "      <td>NaN</td>\n",
       "      <td>NaN</td>\n",
       "      <td>NaN</td>\n",
       "    </tr>\n",
       "    <tr>\n",
       "      <th>2</th>\n",
       "      <td>211134.0</td>\n",
       "      <td>canceled</td>\n",
       "      <td>7/1/2016</td>\n",
       "      <td>Ego_UP0017-999-MR0</td>\n",
       "      <td>2450.0</td>\n",
       "      <td>1.0</td>\n",
       "      <td>2450.0</td>\n",
       "      <td>100147445</td>\n",
       "      <td>Women's Fashion</td>\n",
       "      <td>\\N</td>\n",
       "      <td>0.0</td>\n",
       "      <td>cod</td>\n",
       "      <td>7/1/2016</td>\n",
       "      <td>Gross</td>\n",
       "      <td>2,450</td>\n",
       "      <td>2016.0</td>\n",
       "      <td>7.0</td>\n",
       "      <td>2016-07-01</td>\n",
       "      <td>2016-07-01</td>\n",
       "      <td>FY17</td>\n",
       "      <td>3.0</td>\n",
       "      <td>NaN</td>\n",
       "      <td>NaN</td>\n",
       "      <td>NaN</td>\n",
       "      <td>NaN</td>\n",
       "      <td>NaN</td>\n",
       "    </tr>\n",
       "    <tr>\n",
       "      <th>3</th>\n",
       "      <td>211135.0</td>\n",
       "      <td>complete</td>\n",
       "      <td>7/1/2016</td>\n",
       "      <td>kcc_krone deal</td>\n",
       "      <td>360.0</td>\n",
       "      <td>1.0</td>\n",
       "      <td>60.0</td>\n",
       "      <td>100147446</td>\n",
       "      <td>Beauty &amp; Grooming</td>\n",
       "      <td>R-FSD-52352</td>\n",
       "      <td>300.0</td>\n",
       "      <td>cod</td>\n",
       "      <td>7/1/2016</td>\n",
       "      <td>Net</td>\n",
       "      <td>360</td>\n",
       "      <td>2016.0</td>\n",
       "      <td>7.0</td>\n",
       "      <td>2016-07-01</td>\n",
       "      <td>2016-07-01</td>\n",
       "      <td>FY17</td>\n",
       "      <td>4.0</td>\n",
       "      <td>NaN</td>\n",
       "      <td>NaN</td>\n",
       "      <td>NaN</td>\n",
       "      <td>NaN</td>\n",
       "      <td>NaN</td>\n",
       "    </tr>\n",
       "    <tr>\n",
       "      <th>4</th>\n",
       "      <td>211136.0</td>\n",
       "      <td>order_refunded</td>\n",
       "      <td>7/1/2016</td>\n",
       "      <td>BK7010400AG</td>\n",
       "      <td>555.0</td>\n",
       "      <td>2.0</td>\n",
       "      <td>1110.0</td>\n",
       "      <td>100147447</td>\n",
       "      <td>Soghaat</td>\n",
       "      <td>\\N</td>\n",
       "      <td>0.0</td>\n",
       "      <td>cod</td>\n",
       "      <td>7/1/2016</td>\n",
       "      <td>Valid</td>\n",
       "      <td>1,110</td>\n",
       "      <td>2016.0</td>\n",
       "      <td>7.0</td>\n",
       "      <td>2016-07-01</td>\n",
       "      <td>2016-07-01</td>\n",
       "      <td>FY17</td>\n",
       "      <td>5.0</td>\n",
       "      <td>NaN</td>\n",
       "      <td>NaN</td>\n",
       "      <td>NaN</td>\n",
       "      <td>NaN</td>\n",
       "      <td>NaN</td>\n",
       "    </tr>\n",
       "  </tbody>\n",
       "</table>\n",
       "</div>"
      ],
      "text/plain": [
       "    item_id          status created_at  \\\n",
       "0  211131.0        complete   7/1/2016   \n",
       "1  211133.0        canceled   7/1/2016   \n",
       "2  211134.0        canceled   7/1/2016   \n",
       "3  211135.0        complete   7/1/2016   \n",
       "4  211136.0  order_refunded   7/1/2016   \n",
       "\n",
       "                                                 sku   price  qty_ordered  \\\n",
       "0                                  kreations_YI 06-L  1950.0          1.0   \n",
       "1  kcc_Buy 2 Frey Air Freshener & Get 1 Kasual Bo...   240.0          1.0   \n",
       "2                                 Ego_UP0017-999-MR0  2450.0          1.0   \n",
       "3                                     kcc_krone deal   360.0          1.0   \n",
       "4                                        BK7010400AG   555.0          2.0   \n",
       "\n",
       "   grand_total increment_id    category_name_1 sales_commission_code  \\\n",
       "0       1950.0    100147443    Women's Fashion                    \\N   \n",
       "1        240.0    100147444  Beauty & Grooming                    \\N   \n",
       "2       2450.0    100147445    Women's Fashion                    \\N   \n",
       "3         60.0    100147446  Beauty & Grooming           R-FSD-52352   \n",
       "4       1110.0    100147447            Soghaat                    \\N   \n",
       "\n",
       "   discount_amount payment_method Working Date BI Status      MV     Year  \\\n",
       "0              0.0            cod     7/1/2016     #REF!   1,950   2016.0   \n",
       "1              0.0            cod     7/1/2016     Gross     240   2016.0   \n",
       "2              0.0            cod     7/1/2016     Gross   2,450   2016.0   \n",
       "3            300.0            cod     7/1/2016       Net     360   2016.0   \n",
       "4              0.0            cod     7/1/2016     Valid   1,110   2016.0   \n",
       "\n",
       "   Month Customer Since        M-Y    FY  Customer ID  Unnamed: 21  \\\n",
       "0    7.0     2016-07-01 2016-07-01  FY17          1.0          NaN   \n",
       "1    7.0     2016-07-01 2016-07-01  FY17          2.0          NaN   \n",
       "2    7.0     2016-07-01 2016-07-01  FY17          3.0          NaN   \n",
       "3    7.0     2016-07-01 2016-07-01  FY17          4.0          NaN   \n",
       "4    7.0     2016-07-01 2016-07-01  FY17          5.0          NaN   \n",
       "\n",
       "   Unnamed: 22  Unnamed: 23  Unnamed: 24  Unnamed: 25  \n",
       "0          NaN          NaN          NaN          NaN  \n",
       "1          NaN          NaN          NaN          NaN  \n",
       "2          NaN          NaN          NaN          NaN  \n",
       "3          NaN          NaN          NaN          NaN  \n",
       "4          NaN          NaN          NaN          NaN  "
      ]
     },
     "execution_count": 6,
     "metadata": {},
     "output_type": "execute_result"
    }
   ],
   "source": [
    "df.head(5)"
   ]
  },
  {
   "cell_type": "code",
   "execution_count": 7,
   "id": "e62ff5a1-e5ed-415a-89bc-8375a5f05c19",
   "metadata": {},
   "outputs": [
    {
     "data": {
      "text/html": [
       "<div>\n",
       "<style scoped>\n",
       "    .dataframe tbody tr th:only-of-type {\n",
       "        vertical-align: middle;\n",
       "    }\n",
       "\n",
       "    .dataframe tbody tr th {\n",
       "        vertical-align: top;\n",
       "    }\n",
       "\n",
       "    .dataframe thead th {\n",
       "        text-align: right;\n",
       "    }\n",
       "</style>\n",
       "<table border=\"1\" class=\"dataframe\">\n",
       "  <thead>\n",
       "    <tr style=\"text-align: right;\">\n",
       "      <th></th>\n",
       "      <th>item_id</th>\n",
       "      <th>status</th>\n",
       "      <th>created_at</th>\n",
       "      <th>sku</th>\n",
       "      <th>price</th>\n",
       "      <th>qty_ordered</th>\n",
       "      <th>grand_total</th>\n",
       "      <th>increment_id</th>\n",
       "      <th>category_name_1</th>\n",
       "      <th>sales_commission_code</th>\n",
       "      <th>discount_amount</th>\n",
       "      <th>payment_method</th>\n",
       "      <th>Working Date</th>\n",
       "      <th>BI Status</th>\n",
       "      <th>MV</th>\n",
       "      <th>Year</th>\n",
       "      <th>Month</th>\n",
       "      <th>Customer Since</th>\n",
       "      <th>M-Y</th>\n",
       "      <th>FY</th>\n",
       "      <th>Customer ID</th>\n",
       "      <th>Unnamed: 21</th>\n",
       "      <th>Unnamed: 22</th>\n",
       "      <th>Unnamed: 23</th>\n",
       "      <th>Unnamed: 24</th>\n",
       "      <th>Unnamed: 25</th>\n",
       "    </tr>\n",
       "  </thead>\n",
       "  <tbody>\n",
       "    <tr>\n",
       "      <th>1048570</th>\n",
       "      <td>NaN</td>\n",
       "      <td>NaN</td>\n",
       "      <td>NaN</td>\n",
       "      <td>NaN</td>\n",
       "      <td>NaN</td>\n",
       "      <td>NaN</td>\n",
       "      <td>NaN</td>\n",
       "      <td>NaN</td>\n",
       "      <td>NaN</td>\n",
       "      <td>NaN</td>\n",
       "      <td>NaN</td>\n",
       "      <td>NaN</td>\n",
       "      <td>NaN</td>\n",
       "      <td>NaN</td>\n",
       "      <td>NaN</td>\n",
       "      <td>NaN</td>\n",
       "      <td>NaN</td>\n",
       "      <td>NaT</td>\n",
       "      <td>NaT</td>\n",
       "      <td>NaN</td>\n",
       "      <td>NaN</td>\n",
       "      <td>NaN</td>\n",
       "      <td>NaN</td>\n",
       "      <td>NaN</td>\n",
       "      <td>NaN</td>\n",
       "      <td>NaN</td>\n",
       "    </tr>\n",
       "    <tr>\n",
       "      <th>1048571</th>\n",
       "      <td>NaN</td>\n",
       "      <td>NaN</td>\n",
       "      <td>NaN</td>\n",
       "      <td>NaN</td>\n",
       "      <td>NaN</td>\n",
       "      <td>NaN</td>\n",
       "      <td>NaN</td>\n",
       "      <td>NaN</td>\n",
       "      <td>NaN</td>\n",
       "      <td>NaN</td>\n",
       "      <td>NaN</td>\n",
       "      <td>NaN</td>\n",
       "      <td>NaN</td>\n",
       "      <td>NaN</td>\n",
       "      <td>NaN</td>\n",
       "      <td>NaN</td>\n",
       "      <td>NaN</td>\n",
       "      <td>NaT</td>\n",
       "      <td>NaT</td>\n",
       "      <td>NaN</td>\n",
       "      <td>NaN</td>\n",
       "      <td>NaN</td>\n",
       "      <td>NaN</td>\n",
       "      <td>NaN</td>\n",
       "      <td>NaN</td>\n",
       "      <td>NaN</td>\n",
       "    </tr>\n",
       "    <tr>\n",
       "      <th>1048572</th>\n",
       "      <td>NaN</td>\n",
       "      <td>NaN</td>\n",
       "      <td>NaN</td>\n",
       "      <td>NaN</td>\n",
       "      <td>NaN</td>\n",
       "      <td>NaN</td>\n",
       "      <td>NaN</td>\n",
       "      <td>NaN</td>\n",
       "      <td>NaN</td>\n",
       "      <td>NaN</td>\n",
       "      <td>NaN</td>\n",
       "      <td>NaN</td>\n",
       "      <td>NaN</td>\n",
       "      <td>NaN</td>\n",
       "      <td>NaN</td>\n",
       "      <td>NaN</td>\n",
       "      <td>NaN</td>\n",
       "      <td>NaT</td>\n",
       "      <td>NaT</td>\n",
       "      <td>NaN</td>\n",
       "      <td>NaN</td>\n",
       "      <td>NaN</td>\n",
       "      <td>NaN</td>\n",
       "      <td>NaN</td>\n",
       "      <td>NaN</td>\n",
       "      <td>NaN</td>\n",
       "    </tr>\n",
       "    <tr>\n",
       "      <th>1048573</th>\n",
       "      <td>NaN</td>\n",
       "      <td>NaN</td>\n",
       "      <td>NaN</td>\n",
       "      <td>NaN</td>\n",
       "      <td>NaN</td>\n",
       "      <td>NaN</td>\n",
       "      <td>NaN</td>\n",
       "      <td>NaN</td>\n",
       "      <td>NaN</td>\n",
       "      <td>NaN</td>\n",
       "      <td>NaN</td>\n",
       "      <td>NaN</td>\n",
       "      <td>NaN</td>\n",
       "      <td>NaN</td>\n",
       "      <td>NaN</td>\n",
       "      <td>NaN</td>\n",
       "      <td>NaN</td>\n",
       "      <td>NaT</td>\n",
       "      <td>NaT</td>\n",
       "      <td>NaN</td>\n",
       "      <td>NaN</td>\n",
       "      <td>NaN</td>\n",
       "      <td>NaN</td>\n",
       "      <td>NaN</td>\n",
       "      <td>NaN</td>\n",
       "      <td>NaN</td>\n",
       "    </tr>\n",
       "    <tr>\n",
       "      <th>1048574</th>\n",
       "      <td>NaN</td>\n",
       "      <td>NaN</td>\n",
       "      <td>NaN</td>\n",
       "      <td>NaN</td>\n",
       "      <td>NaN</td>\n",
       "      <td>NaN</td>\n",
       "      <td>NaN</td>\n",
       "      <td>NaN</td>\n",
       "      <td>NaN</td>\n",
       "      <td>NaN</td>\n",
       "      <td>NaN</td>\n",
       "      <td>NaN</td>\n",
       "      <td>NaN</td>\n",
       "      <td>NaN</td>\n",
       "      <td>NaN</td>\n",
       "      <td>NaN</td>\n",
       "      <td>NaN</td>\n",
       "      <td>NaT</td>\n",
       "      <td>NaT</td>\n",
       "      <td>NaN</td>\n",
       "      <td>NaN</td>\n",
       "      <td>NaN</td>\n",
       "      <td>NaN</td>\n",
       "      <td>NaN</td>\n",
       "      <td>NaN</td>\n",
       "      <td>NaN</td>\n",
       "    </tr>\n",
       "  </tbody>\n",
       "</table>\n",
       "</div>"
      ],
      "text/plain": [
       "         item_id status created_at  sku  price  qty_ordered  grand_total  \\\n",
       "1048570      NaN    NaN        NaN  NaN    NaN          NaN          NaN   \n",
       "1048571      NaN    NaN        NaN  NaN    NaN          NaN          NaN   \n",
       "1048572      NaN    NaN        NaN  NaN    NaN          NaN          NaN   \n",
       "1048573      NaN    NaN        NaN  NaN    NaN          NaN          NaN   \n",
       "1048574      NaN    NaN        NaN  NaN    NaN          NaN          NaN   \n",
       "\n",
       "        increment_id category_name_1 sales_commission_code  discount_amount  \\\n",
       "1048570          NaN             NaN                   NaN              NaN   \n",
       "1048571          NaN             NaN                   NaN              NaN   \n",
       "1048572          NaN             NaN                   NaN              NaN   \n",
       "1048573          NaN             NaN                   NaN              NaN   \n",
       "1048574          NaN             NaN                   NaN              NaN   \n",
       "\n",
       "        payment_method Working Date BI Status  MV   Year  Month  \\\n",
       "1048570            NaN          NaN       NaN  NaN   NaN    NaN   \n",
       "1048571            NaN          NaN       NaN  NaN   NaN    NaN   \n",
       "1048572            NaN          NaN       NaN  NaN   NaN    NaN   \n",
       "1048573            NaN          NaN       NaN  NaN   NaN    NaN   \n",
       "1048574            NaN          NaN       NaN  NaN   NaN    NaN   \n",
       "\n",
       "        Customer Since M-Y   FY  Customer ID  Unnamed: 21  Unnamed: 22  \\\n",
       "1048570            NaT NaT  NaN          NaN          NaN          NaN   \n",
       "1048571            NaT NaT  NaN          NaN          NaN          NaN   \n",
       "1048572            NaT NaT  NaN          NaN          NaN          NaN   \n",
       "1048573            NaT NaT  NaN          NaN          NaN          NaN   \n",
       "1048574            NaT NaT  NaN          NaN          NaN          NaN   \n",
       "\n",
       "         Unnamed: 23  Unnamed: 24  Unnamed: 25  \n",
       "1048570          NaN          NaN          NaN  \n",
       "1048571          NaN          NaN          NaN  \n",
       "1048572          NaN          NaN          NaN  \n",
       "1048573          NaN          NaN          NaN  \n",
       "1048574          NaN          NaN          NaN  "
      ]
     },
     "execution_count": 7,
     "metadata": {},
     "output_type": "execute_result"
    }
   ],
   "source": [
    "df.tail(5)"
   ]
  },
  {
   "cell_type": "code",
   "execution_count": 8,
   "id": "668ed7ba-37f2-4c06-81d0-25e0e41b66f2",
   "metadata": {},
   "outputs": [
    {
     "data": {
      "text/plain": [
       "1048575"
      ]
     },
     "execution_count": 8,
     "metadata": {},
     "output_type": "execute_result"
    }
   ],
   "source": [
    "len(df)"
   ]
  },
  {
   "cell_type": "code",
   "execution_count": 9,
   "id": "1788359b-521f-4e20-a603-867541ec9ecc",
   "metadata": {},
   "outputs": [
    {
     "name": "stdout",
     "output_type": "stream",
     "text": [
      "<class 'pandas.core.frame.DataFrame'>\n",
      "RangeIndex: 1048575 entries, 0 to 1048574\n",
      "Data columns (total 26 columns):\n",
      " #   Column                 Non-Null Count   Dtype         \n",
      "---  ------                 --------------   -----         \n",
      " 0   item_id                584524 non-null  float64       \n",
      " 1   status                 584509 non-null  object        \n",
      " 2   created_at             584524 non-null  object        \n",
      " 3   sku                    584504 non-null  object        \n",
      " 4   price                  584524 non-null  float64       \n",
      " 5   qty_ordered            584524 non-null  float64       \n",
      " 6   grand_total            584524 non-null  float64       \n",
      " 7   increment_id           584524 non-null  object        \n",
      " 8   category_name_1        584360 non-null  object        \n",
      " 9   sales_commission_code  447349 non-null  object        \n",
      " 10  discount_amount        584524 non-null  float64       \n",
      " 11  payment_method         584524 non-null  object        \n",
      " 12  Working Date           584524 non-null  object        \n",
      " 13  BI Status              584524 non-null  object        \n",
      " 14   MV                    582292 non-null  object        \n",
      " 15  Year                   584524 non-null  float64       \n",
      " 16  Month                  584524 non-null  float64       \n",
      " 17  Customer Since         584513 non-null  datetime64[ns]\n",
      " 18  M-Y                    584524 non-null  datetime64[ns]\n",
      " 19  FY                     584524 non-null  object        \n",
      " 20  Customer ID            584513 non-null  float64       \n",
      " 21  Unnamed: 21            0 non-null       float64       \n",
      " 22  Unnamed: 22            0 non-null       float64       \n",
      " 23  Unnamed: 23            0 non-null       float64       \n",
      " 24  Unnamed: 24            0 non-null       float64       \n",
      " 25  Unnamed: 25            0 non-null       float64       \n",
      "dtypes: datetime64[ns](2), float64(13), object(11)\n",
      "memory usage: 208.0+ MB\n"
     ]
    }
   ],
   "source": [
    "df.info()"
   ]
  },
  {
   "cell_type": "markdown",
   "id": "ba1c2846-099d-419c-a0af-309735a3e41a",
   "metadata": {},
   "source": [
    "### Droping off Un-necessary Columns"
   ]
  },
  {
   "cell_type": "code",
   "execution_count": 10,
   "id": "b03cceaa-bd27-46f0-8588-b326acb2bc1e",
   "metadata": {},
   "outputs": [
    {
     "data": {
      "text/plain": [
       "Index(['item_id', 'status', 'created_at', 'sku', 'price', 'qty_ordered',\n",
       "       'grand_total', 'increment_id', 'category_name_1',\n",
       "       'sales_commission_code', 'discount_amount', 'payment_method',\n",
       "       'Working Date', 'BI Status', ' MV ', 'Year', 'Month', 'Customer Since',\n",
       "       'M-Y', 'FY', 'Customer ID', 'Unnamed: 21', 'Unnamed: 22', 'Unnamed: 23',\n",
       "       'Unnamed: 24', 'Unnamed: 25'],\n",
       "      dtype='object')"
      ]
     },
     "execution_count": 10,
     "metadata": {},
     "output_type": "execute_result"
    }
   ],
   "source": [
    "df.columns"
   ]
  },
  {
   "cell_type": "markdown",
   "id": "0db8e5ac-a9e3-4d0e-a37b-09dfdb86cb6c",
   "metadata": {},
   "source": [
    "#### Droping Columns = ['Unnamed: 21', 'Unnamed: 22', 'Unnamed: 23', 'Unnamed: 24', 'Unnamed: 25']"
   ]
  },
  {
   "cell_type": "code",
   "execution_count": 11,
   "id": "345cfcc7-eef1-4a45-b2ba-c7c4ae983e3f",
   "metadata": {},
   "outputs": [
    {
     "data": {
      "text/plain": [
       "Index(['Unnamed: 21', 'Unnamed: 22', 'Unnamed: 23', 'Unnamed: 24',\n",
       "       'Unnamed: 25'],\n",
       "      dtype='object')"
      ]
     },
     "execution_count": 11,
     "metadata": {},
     "output_type": "execute_result"
    }
   ],
   "source": [
    "drop_columns_0 = df.columns[-5:]\n",
    "drop_columns_0"
   ]
  },
  {
   "cell_type": "code",
   "execution_count": 12,
   "id": "868aef8a-1dd9-4a45-839b-daa27108475d",
   "metadata": {},
   "outputs": [],
   "source": [
    "df.drop(drop_columns_0, axis = 1, inplace = True)"
   ]
  },
  {
   "cell_type": "markdown",
   "id": "61c41fd7-46f0-4ab7-b3c2-0d45f23779c5",
   "metadata": {},
   "source": [
    "#### Droping Columns \"items_id\", \"created_at\", \"increment_id\", \"sales_commission_code\", \"Working Date\" , \"BI Status\" , \"Year\", \"Month\", \"FY\""
   ]
  },
  {
   "cell_type": "code",
   "execution_count": 13,
   "id": "2db0d0f1-091a-463b-9d35-436c8c2b65bb",
   "metadata": {},
   "outputs": [],
   "source": [
    "drop_columns_1 = [\"item_id\", \"created_at\", \"increment_id\", \"sales_commission_code\", \"Working Date\" , \"BI Status\" , \"Year\", \"Month\", \"FY\"]"
   ]
  },
  {
   "cell_type": "code",
   "execution_count": 14,
   "id": "9508d5bd-ad51-4a28-8561-31565b2277e9",
   "metadata": {},
   "outputs": [],
   "source": [
    "df.drop(drop_columns_1, axis = 1, inplace = True)"
   ]
  },
  {
   "cell_type": "markdown",
   "id": "7c342012-75eb-4d7c-a4e8-ed239f059b0d",
   "metadata": {},
   "source": [
    "### Re arranging Columns"
   ]
  },
  {
   "cell_type": "code",
   "execution_count": 15,
   "id": "2d2645e1-f805-4b62-8a47-4aa40813a02d",
   "metadata": {},
   "outputs": [],
   "source": [
    "df = df[['Customer ID', 'sku', 'category_name_1', 'status', 'qty_ordered',  'price', 'grand_total',\n",
    "       'discount_amount', ' MV ', 'payment_method', 'Customer Since', 'M-Y']]"
   ]
  },
  {
   "cell_type": "markdown",
   "id": "cbaf6b04-57f8-4a31-a19a-5e72beb800e0",
   "metadata": {},
   "source": [
    "#### Check For Missing Data"
   ]
  },
  {
   "cell_type": "code",
   "execution_count": 16,
   "id": "8ccdcf8b-c8e8-49ef-a214-001e25fa2f84",
   "metadata": {},
   "outputs": [
    {
     "data": {
      "text/html": [
       "<div>\n",
       "<style scoped>\n",
       "    .dataframe tbody tr th:only-of-type {\n",
       "        vertical-align: middle;\n",
       "    }\n",
       "\n",
       "    .dataframe tbody tr th {\n",
       "        vertical-align: top;\n",
       "    }\n",
       "\n",
       "    .dataframe thead th {\n",
       "        text-align: right;\n",
       "    }\n",
       "</style>\n",
       "<table border=\"1\" class=\"dataframe\">\n",
       "  <thead>\n",
       "    <tr style=\"text-align: right;\">\n",
       "      <th></th>\n",
       "      <th>Customer ID</th>\n",
       "      <th>sku</th>\n",
       "      <th>category_name_1</th>\n",
       "      <th>status</th>\n",
       "      <th>qty_ordered</th>\n",
       "      <th>price</th>\n",
       "      <th>grand_total</th>\n",
       "      <th>discount_amount</th>\n",
       "      <th>MV</th>\n",
       "      <th>payment_method</th>\n",
       "      <th>Customer Since</th>\n",
       "      <th>M-Y</th>\n",
       "    </tr>\n",
       "  </thead>\n",
       "  <tbody>\n",
       "    <tr>\n",
       "      <th>0</th>\n",
       "      <td>464062</td>\n",
       "      <td>464071</td>\n",
       "      <td>464215</td>\n",
       "      <td>464066</td>\n",
       "      <td>464051</td>\n",
       "      <td>464051</td>\n",
       "      <td>464051</td>\n",
       "      <td>464051</td>\n",
       "      <td>466283</td>\n",
       "      <td>464051</td>\n",
       "      <td>464062</td>\n",
       "      <td>464051</td>\n",
       "    </tr>\n",
       "  </tbody>\n",
       "</table>\n",
       "</div>"
      ],
      "text/plain": [
       "   Customer ID     sku  category_name_1  status  qty_ordered   price  \\\n",
       "0       464062  464071           464215  464066       464051  464051   \n",
       "\n",
       "   grand_total  discount_amount     MV   payment_method  Customer Since  \\\n",
       "0       464051           464051  466283          464051          464062   \n",
       "\n",
       "      M-Y  \n",
       "0  464051  "
      ]
     },
     "execution_count": 16,
     "metadata": {},
     "output_type": "execute_result"
    }
   ],
   "source": [
    "missing = pd.DataFrame(df.isnull().sum())\n",
    "missing.transpose()"
   ]
  },
  {
   "cell_type": "code",
   "execution_count": 17,
   "id": "6fb03b49-8bf5-4309-9061-851534def361",
   "metadata": {},
   "outputs": [
    {
     "data": {
      "text/plain": [
       "5571065"
      ]
     },
     "execution_count": 17,
     "metadata": {},
     "output_type": "execute_result"
    }
   ],
   "source": [
    "total_missing_values = df.isnull().sum().sum()\n",
    "total_missing_values"
   ]
  },
  {
   "cell_type": "markdown",
   "id": "8fc162db-24a0-4d2b-a9cf-4c9f7a25873d",
   "metadata": {},
   "source": [
    "### Droping off Missing Values Rows"
   ]
  },
  {
   "cell_type": "code",
   "execution_count": 18,
   "id": "e7e61cc1-0caf-4b99-ba12-2c6bd05828e0",
   "metadata": {},
   "outputs": [],
   "source": [
    "df.dropna(axis = 0, how = 'any', inplace = True)"
   ]
  },
  {
   "cell_type": "code",
   "execution_count": 19,
   "id": "97d5568a-03e8-4c5d-ac0c-9f70eccdb890",
   "metadata": {},
   "outputs": [
    {
     "data": {
      "text/html": [
       "<div>\n",
       "<style scoped>\n",
       "    .dataframe tbody tr th:only-of-type {\n",
       "        vertical-align: middle;\n",
       "    }\n",
       "\n",
       "    .dataframe tbody tr th {\n",
       "        vertical-align: top;\n",
       "    }\n",
       "\n",
       "    .dataframe thead th {\n",
       "        text-align: right;\n",
       "    }\n",
       "</style>\n",
       "<table border=\"1\" class=\"dataframe\">\n",
       "  <thead>\n",
       "    <tr style=\"text-align: right;\">\n",
       "      <th></th>\n",
       "      <th>Customer ID</th>\n",
       "      <th>sku</th>\n",
       "      <th>category_name_1</th>\n",
       "      <th>status</th>\n",
       "      <th>qty_ordered</th>\n",
       "      <th>price</th>\n",
       "      <th>grand_total</th>\n",
       "      <th>discount_amount</th>\n",
       "      <th>MV</th>\n",
       "      <th>payment_method</th>\n",
       "      <th>Customer Since</th>\n",
       "      <th>M-Y</th>\n",
       "    </tr>\n",
       "  </thead>\n",
       "  <tbody>\n",
       "    <tr>\n",
       "      <th>0</th>\n",
       "      <td>0</td>\n",
       "      <td>0</td>\n",
       "      <td>0</td>\n",
       "      <td>0</td>\n",
       "      <td>0</td>\n",
       "      <td>0</td>\n",
       "      <td>0</td>\n",
       "      <td>0</td>\n",
       "      <td>0</td>\n",
       "      <td>0</td>\n",
       "      <td>0</td>\n",
       "      <td>0</td>\n",
       "    </tr>\n",
       "  </tbody>\n",
       "</table>\n",
       "</div>"
      ],
      "text/plain": [
       "   Customer ID  sku  category_name_1  status  qty_ordered  price  grand_total  \\\n",
       "0            0    0                0       0            0      0            0   \n",
       "\n",
       "   discount_amount   MV   payment_method  Customer Since  M-Y  \n",
       "0                0     0               0               0    0  "
      ]
     },
     "execution_count": 19,
     "metadata": {},
     "output_type": "execute_result"
    }
   ],
   "source": [
    "#Checking again for missing values\n",
    "missing = pd.DataFrame(df.isnull().sum())\n",
    "missing.transpose()"
   ]
  },
  {
   "cell_type": "code",
   "execution_count": 20,
   "id": "98bec8e0-3b27-48c2-9bca-9d5e79e26129",
   "metadata": {},
   "outputs": [
    {
     "data": {
      "text/plain": [
       "0"
      ]
     },
     "execution_count": 20,
     "metadata": {},
     "output_type": "execute_result"
    }
   ],
   "source": [
    "total_missing_values = df.isnull().sum().sum()\n",
    "total_missing_values"
   ]
  },
  {
   "cell_type": "code",
   "execution_count": 21,
   "id": "f2ff26ea-aaca-4525-a32a-a30c6d65de5f",
   "metadata": {},
   "outputs": [
    {
     "data": {
      "text/html": [
       "<div>\n",
       "<style scoped>\n",
       "    .dataframe tbody tr th:only-of-type {\n",
       "        vertical-align: middle;\n",
       "    }\n",
       "\n",
       "    .dataframe tbody tr th {\n",
       "        vertical-align: top;\n",
       "    }\n",
       "\n",
       "    .dataframe thead th {\n",
       "        text-align: right;\n",
       "    }\n",
       "</style>\n",
       "<table border=\"1\" class=\"dataframe\">\n",
       "  <thead>\n",
       "    <tr style=\"text-align: right;\">\n",
       "      <th></th>\n",
       "      <th>Customer ID</th>\n",
       "      <th>sku</th>\n",
       "      <th>category_name_1</th>\n",
       "      <th>status</th>\n",
       "      <th>qty_ordered</th>\n",
       "      <th>price</th>\n",
       "      <th>grand_total</th>\n",
       "      <th>discount_amount</th>\n",
       "      <th>MV</th>\n",
       "      <th>payment_method</th>\n",
       "      <th>Customer Since</th>\n",
       "      <th>M-Y</th>\n",
       "    </tr>\n",
       "  </thead>\n",
       "  <tbody>\n",
       "    <tr>\n",
       "      <th>0</th>\n",
       "      <td>1.0</td>\n",
       "      <td>kreations_YI 06-L</td>\n",
       "      <td>Women's Fashion</td>\n",
       "      <td>complete</td>\n",
       "      <td>1.0</td>\n",
       "      <td>1950.0</td>\n",
       "      <td>1950.0</td>\n",
       "      <td>0.0</td>\n",
       "      <td>1,950</td>\n",
       "      <td>cod</td>\n",
       "      <td>2016-07-01</td>\n",
       "      <td>2016-07-01</td>\n",
       "    </tr>\n",
       "    <tr>\n",
       "      <th>1</th>\n",
       "      <td>2.0</td>\n",
       "      <td>kcc_Buy 2 Frey Air Freshener &amp; Get 1 Kasual Bo...</td>\n",
       "      <td>Beauty &amp; Grooming</td>\n",
       "      <td>canceled</td>\n",
       "      <td>1.0</td>\n",
       "      <td>240.0</td>\n",
       "      <td>240.0</td>\n",
       "      <td>0.0</td>\n",
       "      <td>240</td>\n",
       "      <td>cod</td>\n",
       "      <td>2016-07-01</td>\n",
       "      <td>2016-07-01</td>\n",
       "    </tr>\n",
       "    <tr>\n",
       "      <th>2</th>\n",
       "      <td>3.0</td>\n",
       "      <td>Ego_UP0017-999-MR0</td>\n",
       "      <td>Women's Fashion</td>\n",
       "      <td>canceled</td>\n",
       "      <td>1.0</td>\n",
       "      <td>2450.0</td>\n",
       "      <td>2450.0</td>\n",
       "      <td>0.0</td>\n",
       "      <td>2,450</td>\n",
       "      <td>cod</td>\n",
       "      <td>2016-07-01</td>\n",
       "      <td>2016-07-01</td>\n",
       "    </tr>\n",
       "    <tr>\n",
       "      <th>3</th>\n",
       "      <td>4.0</td>\n",
       "      <td>kcc_krone deal</td>\n",
       "      <td>Beauty &amp; Grooming</td>\n",
       "      <td>complete</td>\n",
       "      <td>1.0</td>\n",
       "      <td>360.0</td>\n",
       "      <td>60.0</td>\n",
       "      <td>300.0</td>\n",
       "      <td>360</td>\n",
       "      <td>cod</td>\n",
       "      <td>2016-07-01</td>\n",
       "      <td>2016-07-01</td>\n",
       "    </tr>\n",
       "    <tr>\n",
       "      <th>4</th>\n",
       "      <td>5.0</td>\n",
       "      <td>BK7010400AG</td>\n",
       "      <td>Soghaat</td>\n",
       "      <td>order_refunded</td>\n",
       "      <td>2.0</td>\n",
       "      <td>555.0</td>\n",
       "      <td>1110.0</td>\n",
       "      <td>0.0</td>\n",
       "      <td>1,110</td>\n",
       "      <td>cod</td>\n",
       "      <td>2016-07-01</td>\n",
       "      <td>2016-07-01</td>\n",
       "    </tr>\n",
       "  </tbody>\n",
       "</table>\n",
       "</div>"
      ],
      "text/plain": [
       "   Customer ID                                                sku  \\\n",
       "0          1.0                                  kreations_YI 06-L   \n",
       "1          2.0  kcc_Buy 2 Frey Air Freshener & Get 1 Kasual Bo...   \n",
       "2          3.0                                 Ego_UP0017-999-MR0   \n",
       "3          4.0                                     kcc_krone deal   \n",
       "4          5.0                                        BK7010400AG   \n",
       "\n",
       "     category_name_1          status  qty_ordered   price  grand_total  \\\n",
       "0    Women's Fashion        complete          1.0  1950.0       1950.0   \n",
       "1  Beauty & Grooming        canceled          1.0   240.0        240.0   \n",
       "2    Women's Fashion        canceled          1.0  2450.0       2450.0   \n",
       "3  Beauty & Grooming        complete          1.0   360.0         60.0   \n",
       "4            Soghaat  order_refunded          2.0   555.0       1110.0   \n",
       "\n",
       "   discount_amount      MV  payment_method Customer Since        M-Y  \n",
       "0              0.0   1,950             cod     2016-07-01 2016-07-01  \n",
       "1              0.0     240             cod     2016-07-01 2016-07-01  \n",
       "2              0.0   2,450             cod     2016-07-01 2016-07-01  \n",
       "3            300.0     360             cod     2016-07-01 2016-07-01  \n",
       "4              0.0   1,110             cod     2016-07-01 2016-07-01  "
      ]
     },
     "execution_count": 21,
     "metadata": {},
     "output_type": "execute_result"
    }
   ],
   "source": [
    "df.head(5)"
   ]
  },
  {
   "cell_type": "code",
   "execution_count": 22,
   "id": "eeaee3da-867d-40a2-be07-7679c18edbc5",
   "metadata": {},
   "outputs": [
    {
     "data": {
      "text/plain": [
       "0"
      ]
     },
     "execution_count": 22,
     "metadata": {},
     "output_type": "execute_result"
    }
   ],
   "source": [
    "df[' MV '].isnull().sum()#.sum()"
   ]
  },
  {
   "cell_type": "markdown",
   "id": "6c5bc389-e37c-492d-87e9-b3ba59692d5c",
   "metadata": {},
   "source": [
    "### Extract Year and Month from 'M-Y' Column"
   ]
  },
  {
   "cell_type": "code",
   "execution_count": 23,
   "id": "dc1cc949-5d14-40ed-b1b0-068c5ee27a0f",
   "metadata": {},
   "outputs": [],
   "source": [
    "# Extract Year\n",
    "df['Year'] = df['M-Y'].apply(lambda x: int(x.year)) \n",
    "\n",
    "# Extract Month\n",
    "df['Month'] = df['M-Y'].apply(lambda x: int(x.month)) \n",
    "\n",
    "df.drop('M-Y', axis = 1, inplace = True)"
   ]
  },
  {
   "cell_type": "markdown",
   "id": "c6b7f7b4-7455-4ce4-973a-a3057e1fd145",
   "metadata": {},
   "source": [
    "### Looking for 0 (zeros) in integer or float value columns"
   ]
  },
  {
   "cell_type": "code",
   "execution_count": 24,
   "id": "8d8f2ef7-8426-4a64-8fda-667532250334",
   "metadata": {},
   "outputs": [
    {
     "data": {
      "text/plain": [
       "Series([], Name: qty_ordered, dtype: int64)"
      ]
     },
     "execution_count": 24,
     "metadata": {},
     "output_type": "execute_result"
    }
   ],
   "source": [
    "df[df['qty_ordered'] == 0]['qty_ordered'].value_counts()"
   ]
  },
  {
   "cell_type": "code",
   "execution_count": 25,
   "id": "2b6cdadd-6ff6-46bb-b69f-fe3d52937119",
   "metadata": {},
   "outputs": [
    {
     "data": {
      "text/plain": [
       "Series([], Name: price, dtype: int64)"
      ]
     },
     "execution_count": 25,
     "metadata": {},
     "output_type": "execute_result"
    }
   ],
   "source": [
    "df[df['price'] == 0]['price'].value_counts()"
   ]
  },
  {
   "cell_type": "code",
   "execution_count": 26,
   "id": "f0318f58-e20d-475f-aad1-b854bc0ab5b6",
   "metadata": {},
   "outputs": [
    {
     "data": {
      "text/plain": [
       "Series([], Name:  MV , dtype: int64)"
      ]
     },
     "execution_count": 26,
     "metadata": {},
     "output_type": "execute_result"
    }
   ],
   "source": [
    "df[df[' MV '] == '0'][' MV '].value_counts()"
   ]
  },
  {
   "cell_type": "code",
   "execution_count": 27,
   "id": "db1afb2c-059b-452c-91ea-753f4a46c0f8",
   "metadata": {},
   "outputs": [
    {
     "data": {
      "text/plain": [
       "0.0    9465\n",
       "Name: grand_total, dtype: int64"
      ]
     },
     "execution_count": 27,
     "metadata": {},
     "output_type": "execute_result"
    }
   ],
   "source": [
    "df[df['grand_total'] == 0]['grand_total'].value_counts()"
   ]
  },
  {
   "cell_type": "code",
   "execution_count": 28,
   "id": "717de9b5-0770-49d6-afda-98003493c5fc",
   "metadata": {},
   "outputs": [],
   "source": [
    "#found 9465 cells containing 0.0\n",
    "#replace 0.0 from corresponding values of ' MV ' column"
   ]
  },
  {
   "cell_type": "code",
   "execution_count": 29,
   "id": "949981a9-c924-4c1e-aa25-808ac2184476",
   "metadata": {},
   "outputs": [],
   "source": [
    "def replace_zeros(x, y):\n",
    "    if x == 0:\n",
    "        return y\n",
    "    else: \n",
    "        return x"
   ]
  },
  {
   "cell_type": "code",
   "execution_count": 30,
   "id": "49d9d678-670b-4908-90b4-033d077427e3",
   "metadata": {},
   "outputs": [
    {
     "data": {
      "text/plain": [
       "Index(['Customer ID', 'sku', 'category_name_1', 'status', 'qty_ordered',\n",
       "       'price', 'grand_total', 'discount_amount', ' MV ', 'payment_method',\n",
       "       'Customer Since', 'Year', 'Month'],\n",
       "      dtype='object')"
      ]
     },
     "execution_count": 30,
     "metadata": {},
     "output_type": "execute_result"
    }
   ],
   "source": [
    "df.columns"
   ]
  },
  {
   "cell_type": "code",
   "execution_count": 31,
   "id": "c424767f-e910-4cd8-8810-9ffd3ea2deb7",
   "metadata": {},
   "outputs": [],
   "source": [
    "df['grand_total'] = df.apply(lambda z: replace_zeros(z['grand_total'], z[' MV ']), axis = 1)"
   ]
  },
  {
   "cell_type": "code",
   "execution_count": 32,
   "id": "5e3f8c3c-bb4d-4e3c-ab46-6387256f5da5",
   "metadata": {},
   "outputs": [
    {
     "data": {
      "text/plain": [
       "Series([], Name: grand_total, dtype: int64)"
      ]
     },
     "execution_count": 32,
     "metadata": {},
     "output_type": "execute_result"
    }
   ],
   "source": [
    "#Checking again\n",
    "df[df['grand_total'] == 0]['grand_total'].value_counts()"
   ]
  },
  {
   "cell_type": "markdown",
   "id": "7179ca70-3614-44e3-bc3d-83099a1e166a",
   "metadata": {},
   "source": [
    "## DataFrame Without 0(Zeros) and Null Values"
   ]
  },
  {
   "cell_type": "code",
   "execution_count": 33,
   "id": "0023db94-9640-40c2-8e0e-6b8a3bf2fff6",
   "metadata": {},
   "outputs": [
    {
     "data": {
      "text/html": [
       "<div>\n",
       "<style scoped>\n",
       "    .dataframe tbody tr th:only-of-type {\n",
       "        vertical-align: middle;\n",
       "    }\n",
       "\n",
       "    .dataframe tbody tr th {\n",
       "        vertical-align: top;\n",
       "    }\n",
       "\n",
       "    .dataframe thead th {\n",
       "        text-align: right;\n",
       "    }\n",
       "</style>\n",
       "<table border=\"1\" class=\"dataframe\">\n",
       "  <thead>\n",
       "    <tr style=\"text-align: right;\">\n",
       "      <th></th>\n",
       "      <th>Customer ID</th>\n",
       "      <th>sku</th>\n",
       "      <th>category_name_1</th>\n",
       "      <th>status</th>\n",
       "      <th>qty_ordered</th>\n",
       "      <th>price</th>\n",
       "      <th>grand_total</th>\n",
       "      <th>discount_amount</th>\n",
       "      <th>MV</th>\n",
       "      <th>payment_method</th>\n",
       "      <th>Customer Since</th>\n",
       "      <th>Year</th>\n",
       "      <th>Month</th>\n",
       "    </tr>\n",
       "  </thead>\n",
       "  <tbody>\n",
       "    <tr>\n",
       "      <th>0</th>\n",
       "      <td>1.0</td>\n",
       "      <td>kreations_YI 06-L</td>\n",
       "      <td>Women's Fashion</td>\n",
       "      <td>complete</td>\n",
       "      <td>1.0</td>\n",
       "      <td>1950.0</td>\n",
       "      <td>1950.0</td>\n",
       "      <td>0.0</td>\n",
       "      <td>1,950</td>\n",
       "      <td>cod</td>\n",
       "      <td>2016-07-01</td>\n",
       "      <td>2016</td>\n",
       "      <td>7</td>\n",
       "    </tr>\n",
       "    <tr>\n",
       "      <th>1</th>\n",
       "      <td>2.0</td>\n",
       "      <td>kcc_Buy 2 Frey Air Freshener &amp; Get 1 Kasual Bo...</td>\n",
       "      <td>Beauty &amp; Grooming</td>\n",
       "      <td>canceled</td>\n",
       "      <td>1.0</td>\n",
       "      <td>240.0</td>\n",
       "      <td>240.0</td>\n",
       "      <td>0.0</td>\n",
       "      <td>240</td>\n",
       "      <td>cod</td>\n",
       "      <td>2016-07-01</td>\n",
       "      <td>2016</td>\n",
       "      <td>7</td>\n",
       "    </tr>\n",
       "    <tr>\n",
       "      <th>2</th>\n",
       "      <td>3.0</td>\n",
       "      <td>Ego_UP0017-999-MR0</td>\n",
       "      <td>Women's Fashion</td>\n",
       "      <td>canceled</td>\n",
       "      <td>1.0</td>\n",
       "      <td>2450.0</td>\n",
       "      <td>2450.0</td>\n",
       "      <td>0.0</td>\n",
       "      <td>2,450</td>\n",
       "      <td>cod</td>\n",
       "      <td>2016-07-01</td>\n",
       "      <td>2016</td>\n",
       "      <td>7</td>\n",
       "    </tr>\n",
       "    <tr>\n",
       "      <th>3</th>\n",
       "      <td>4.0</td>\n",
       "      <td>kcc_krone deal</td>\n",
       "      <td>Beauty &amp; Grooming</td>\n",
       "      <td>complete</td>\n",
       "      <td>1.0</td>\n",
       "      <td>360.0</td>\n",
       "      <td>60.0</td>\n",
       "      <td>300.0</td>\n",
       "      <td>360</td>\n",
       "      <td>cod</td>\n",
       "      <td>2016-07-01</td>\n",
       "      <td>2016</td>\n",
       "      <td>7</td>\n",
       "    </tr>\n",
       "    <tr>\n",
       "      <th>4</th>\n",
       "      <td>5.0</td>\n",
       "      <td>BK7010400AG</td>\n",
       "      <td>Soghaat</td>\n",
       "      <td>order_refunded</td>\n",
       "      <td>2.0</td>\n",
       "      <td>555.0</td>\n",
       "      <td>1110.0</td>\n",
       "      <td>0.0</td>\n",
       "      <td>1,110</td>\n",
       "      <td>cod</td>\n",
       "      <td>2016-07-01</td>\n",
       "      <td>2016</td>\n",
       "      <td>7</td>\n",
       "    </tr>\n",
       "  </tbody>\n",
       "</table>\n",
       "</div>"
      ],
      "text/plain": [
       "   Customer ID                                                sku  \\\n",
       "0          1.0                                  kreations_YI 06-L   \n",
       "1          2.0  kcc_Buy 2 Frey Air Freshener & Get 1 Kasual Bo...   \n",
       "2          3.0                                 Ego_UP0017-999-MR0   \n",
       "3          4.0                                     kcc_krone deal   \n",
       "4          5.0                                        BK7010400AG   \n",
       "\n",
       "     category_name_1          status  qty_ordered   price grand_total  \\\n",
       "0    Women's Fashion        complete          1.0  1950.0      1950.0   \n",
       "1  Beauty & Grooming        canceled          1.0   240.0       240.0   \n",
       "2    Women's Fashion        canceled          1.0  2450.0      2450.0   \n",
       "3  Beauty & Grooming        complete          1.0   360.0        60.0   \n",
       "4            Soghaat  order_refunded          2.0   555.0      1110.0   \n",
       "\n",
       "   discount_amount      MV  payment_method Customer Since  Year  Month  \n",
       "0              0.0   1,950             cod     2016-07-01  2016      7  \n",
       "1              0.0     240             cod     2016-07-01  2016      7  \n",
       "2              0.0   2,450             cod     2016-07-01  2016      7  \n",
       "3            300.0     360             cod     2016-07-01  2016      7  \n",
       "4              0.0   1,110             cod     2016-07-01  2016      7  "
      ]
     },
     "execution_count": 33,
     "metadata": {},
     "output_type": "execute_result"
    }
   ],
   "source": [
    "df.head(5)"
   ]
  },
  {
   "cell_type": "code",
   "execution_count": 34,
   "id": "82eb1985-193f-4945-8b9c-d3cad47b2519",
   "metadata": {},
   "outputs": [
    {
     "data": {
      "text/plain": [
       "582100"
      ]
     },
     "execution_count": 34,
     "metadata": {},
     "output_type": "execute_result"
    }
   ],
   "source": [
    "len(df)"
   ]
  },
  {
   "cell_type": "markdown",
   "id": "6ed6149b-4523-41bd-8fd3-edf804c8eb2e",
   "metadata": {},
   "source": [
    "# Returning Customers or Customers Who Brought Items Frequently"
   ]
  },
  {
   "cell_type": "markdown",
   "id": "9101bb8e-ba57-48f7-8c4f-6cbc86442797",
   "metadata": {},
   "source": [
    "##### Count of unique and frequent customers"
   ]
  },
  {
   "cell_type": "code",
   "execution_count": 35,
   "id": "71318c68-7b94-4420-bf0d-8d6eef763c38",
   "metadata": {},
   "outputs": [
    {
     "data": {
      "text/plain": [
       "115060"
      ]
     },
     "execution_count": 35,
     "metadata": {},
     "output_type": "execute_result"
    }
   ],
   "source": [
    "unique_customers = df['Customer ID'].nunique()\n",
    "unique_customers"
   ]
  },
  {
   "cell_type": "code",
   "execution_count": 36,
   "id": "1c9cbc7a-90af-4eef-9145-4ad81776afcc",
   "metadata": {},
   "outputs": [
    {
     "data": {
      "text/plain": [
       "467040"
      ]
     },
     "execution_count": 36,
     "metadata": {},
     "output_type": "execute_result"
    }
   ],
   "source": [
    "frequent_customers = len(df['Customer ID']) - unique_customers \n",
    "frequent_customers"
   ]
  },
  {
   "cell_type": "markdown",
   "id": "10b475ed-bf4c-4e35-a738-a15e527b146f",
   "metadata": {},
   "source": [
    "##### IDs of Unique and Frequent Customers"
   ]
  },
  {
   "cell_type": "code",
   "execution_count": 37,
   "id": "8808bac0-ec3c-4660-8c60-c53c3de241b4",
   "metadata": {},
   "outputs": [
    {
     "name": "stdout",
     "output_type": "stream",
     "text": [
      "115060\n"
     ]
    }
   ],
   "source": [
    "unique_customer_IDs = df['Customer ID'].unique().tolist()\n",
    "print(len(unique_customer_IDs))\n",
    "#unique_customer_IDs"
   ]
  },
  {
   "cell_type": "code",
   "execution_count": 38,
   "id": "1c72998b-266d-4b2b-a35e-526e8e288d85",
   "metadata": {},
   "outputs": [
    {
     "name": "stdout",
     "output_type": "stream",
     "text": [
      "467040\n"
     ]
    }
   ],
   "source": [
    "frequent_customers_IDs = df[\"Customer ID\"][df[\"Customer ID\"].duplicated(keep = 'first')] #use keep = 'firts' or keep = 'last' #it drops duplicates and keeps only one\n",
    "#frequent_customers_IDs[91500]\n",
    "#frequent_customers_IDs\n",
    "print(len(frequent_customers_IDs))"
   ]
  },
  {
   "cell_type": "code",
   "execution_count": 39,
   "id": "a582ba9d-a63e-4dbc-818d-0f6c3419f83c",
   "metadata": {},
   "outputs": [
    {
     "data": {
      "image/png": "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\n",
      "text/plain": [
       "<Figure size 576x288 with 1 Axes>"
      ]
     },
     "metadata": {},
     "output_type": "display_data"
    }
   ],
   "source": [
    "plt.figure(figsize = (8, 4))\n",
    "\n",
    "values = [frequent_customers, unique_customers]\n",
    "labels = ['Frequent Customers', 'Unique Customers']\n",
    "\n",
    "# Label distance: gives the space between labels and the center of the pie\n",
    "plt.pie(values, \n",
    "        labels = labels, \n",
    "        labeldistance = 1.15, #Label distance: gives the space between labels and the center of the pie\n",
    "        explode = (0, 0.1), #only explode the first\n",
    "        wedgeprops = { 'linewidth' : 1, 'edgecolor' : 'black'},#\n",
    "        autopct = '%1.2f%%',\n",
    "        shadow = True, \n",
    "        startangle = 90)\n",
    "\n",
    "plt.legend(labels, loc = \"right\")\n",
    "plt.axis('equal') # Equal aspect ratio ensures that pie is drawn as a circle\n",
    "plt.tight_layout()\n",
    "plt.show()"
   ]
  },
  {
   "cell_type": "markdown",
   "id": "c1e112f2-ba0f-44cc-b8e7-35dafc66cb8e",
   "metadata": {},
   "source": [
    "# Product Categories"
   ]
  },
  {
   "cell_type": "code",
   "execution_count": 40,
   "id": "60ac1181-b369-464c-9ebb-de69dbceabfd",
   "metadata": {},
   "outputs": [
    {
     "data": {
      "text/plain": [
       "16"
      ]
     },
     "execution_count": 40,
     "metadata": {},
     "output_type": "execute_result"
    }
   ],
   "source": [
    "no_of_product_categories = df['category_name_1'].nunique()\n",
    "no_of_product_categories"
   ]
  },
  {
   "cell_type": "markdown",
   "id": "d7011df5-2ff7-4336-bfe0-de0fd1a51e03",
   "metadata": {},
   "source": [
    "### Plot Product Categories with Av. Price Per Category"
   ]
  },
  {
   "cell_type": "code",
   "execution_count": 41,
   "id": "3208704d-8bb9-4eb2-8193-66a240002bab",
   "metadata": {},
   "outputs": [
    {
     "data": {
      "image/png": "iVBORw0KGgoAAAANSUhEUgAAA78AAAIgCAYAAABNp964AAAAOXRFWHRTb2Z0d2FyZQBNYXRwbG90bGliIHZlcnNpb24zLjQuMiwgaHR0cHM6Ly9tYXRwbG90bGliLm9yZy8rg+JYAAAACXBIWXMAAAsTAAALEwEAmpwYAAC3g0lEQVR4nOzde5xN9f7H8dfHyG0kiREmqdzHMMY0UtKkRColKiIyXU4Xpzod5PxKpBy6634lUseoKBOSSSnpdJyJIeTS0RSii3Ib1+H7+2Ot2e0xMwzNzJ7Z3s/HYx57r++6fb9779l7fb63Zc45RERERERERMJZuVBnQERERERERKS4KfgVERERERGRsKfgV0RERERERMKegl8REREREREJewp+RUREREREJOwp+BUREREREZGwp+BXRETChpnNM7MbQ52P0s7MPjCz/qHOR2lmZjvM7PRQ50NERIqOgl8RESlRZpZpZrv84OInM5tgZlVDna8cZpZkZusLsV2imc0ysy1m9puZLTSzAYU8R0iDdOfcxc65iUV1PDN70cxezye9lZntMbMaR3HM08zsgJm9UER5PKLPnXOuqnNubVGcW0RESgcFvyIiEgqXOeeqAvFAAnDfwRuYWfkSz1UhmVk74GPgU6AhcBJwK3BxKPN1OOYpjt/+icCVZhZ5UPp1wAzn3G9Hccx+wO/ANWZW8c9m0FemP3ciIvLnKPgVEZGQcc5tAD4AWgCYmTOz281sDbDGT7vJzL71W1dTzaxuzv5m1snMVprZVjN7FrCgdSPM7I2g5Qb+8cv7yzXM7DUz+9HMfjez9/zg7QOgrt9CuCP4fEEeBSY65x52zv3qPF855672j32imc0ws1/8Y88ws2h/3SjgXOBZ//jP+ulNzSzNL+cqM7s6KO8nmdn7ZrbNzP5rZg+Z2edB68/207f6j2cHrZtnZqPMbAGwEzj94JZnM0s2s2/8vH5oZqf66WZmT5rZz/65vzazFvm8j/8GNgA9go4ZAVwLvO4vJ5pZun+cn8zsifw+EznnxQt+7wP2AZf56deYWfpB2/7NzFILOlZ+Cvm5c2bW0H9e2cweN7Pv/df4czOr7K87y8y+MK8HwBIzSzqSvIiISMlR8CsiIiFjZqcAXYHFQclXAG2B5mbWERgNXA3UAb4HUvx9awLT8AKkmsD/gHOO4PSTgCpADBAFPOmcy8Jrvf3R7/Za1Tn340F5rgK0A945xLHLAa8BpwL1gV3AswDOuXuB+cBA//gD/aA7DfiXn5dewPNm1tw/3nNAFnAy0N//y8lPDWAm8DReC/QTwEwzOykoP9cBNwPH472GweW5HPg/4Eqglp+3yf7qi4AOQGPgBLz3YXMBZX4dL2DNcSFwHDDLX34KeMo5Vw04A3irgOMAtAei8d7rt4LK+z7QxMwaBW17Ld7rVmiH+9zls8tjQBvgbKAGMAQ4YGb18F77h/z0QcBUM6t1JPkREZGSoeBXRERC4T0z2wJ8jtd1+J9B60Y7535zzu0C+gDjnXOLnHN7gH8A7cysAV7wstw5945zbh8wFthUmJObWR28IPcW59zvzrl9zrlPC5n3E/F+PzcWtIFzbrNzbqpzbqdzbjswCjjvEMe8FMh0zr3mnMt2zi0GpgJX+S2oPYDh/vFW4HUzznEJsMY5N8nfdzKwEr+11DfBObfcX7/voHPfgveaf+Ocy8Z7L+L81t99eAFzU8D8bQoq9yTgvJwWbrxA+F9B59sHNDSzms65Hc65Lw/xevQHPnDO/Y4X2HYxsyjn3E5gOtAbwA+CmwKFbfkt7OcuwLxu4snAnc65Dc65/c65L/zPY19glnNulnPugHMuDUjH+2yKiEgpo+BXRERC4QrnXHXn3KnOudsOCjjWBT2vS1BLpXNuB17LYz1/3bqgde6gfQ/lFOA3P7g6Ur8DB/BaovNlZlXM7CW/m+w24DOguh/I5udUoK3fdXaLH6D1wWvprQWUJ3fZCnyNfN/jvUb5bZ/fuZ8KOu9veN3H6znnPsZrsX4O+NnMXjazavkdxDn3g1/OvuZNJHUFfpdn3w14Lcgr/a7Zl+Z3HL878VXAm/5x/w38gNfCC14w3Nt/fi3wnh8UF0ZhP3fBagKV8HoWHOxUvAqK4PetPYf4bIiISOgo+BURkdLGBT3/ES/AAMDvHnwS3vjSjXhBbM46C17G6yZcJWj55KDn64AaZlb9MOfPu9ILtP5N0PjWfPwdaAK09bv5dsjJZgHnWAd86gdmOX9VnXO3Ar8A2XjdgHMElzPXa+Srj/caFaZM64C/HHTuys65L/zyPu2ca4PXHbgxMPgQx5qI18W6B/Cdc+6rQAacW+Oc643Xrfth4B3LO0EWQHegGl63701mtgkvkM/p+pwG1DKzOLwg+Ii6PB9CQa/Rr8BuvK7aB1sHTDrotYt0zo0pojyJiEgRUvArIiKl2WRggJnFmTfj7z+B/zjnMvHGWsaY2ZXmTWJ1B7kD3Aygg5nVN7MT8LpMA+B33f0AL8A60cyOM7OcAPUn4CR/n4IMAa43s8E5Y2vNu61Pir/+eLxxvlv8MbnDD9r/JyD4HrIzgMZmdp2fl+PM7Ewza+ac2483tnmE36LclNxja2f5+15rZuXN7Bq8QHXGIfIf7EXgH2YW45fjBDO7yn9+ppm1NbPj8CoTduO1ehdkKl7g/QC5u2ZjZn3NrJZz7gCwxU/O71j9gfFALBDn/50DtDKzWL8b9dt4k47VwAuGi42f3/HAE2ZW18wizKyd/3l8A7jMzDr76ZXMu1VW9KGPKiIioaDgV0RESi3n3EfAMLygaiNe61svf92veN1jx+B1hW4ELAjaNw2YAiwFviJvMHgd3jjUlcDPwF3+fivxgu61flfWPLM9+62iHf2/tWb2G/Ayf0zuNBaojNdq+CUw+6BDPAX0NG925af9ccEX+WX7EW/s8sNAzi1+BuJNOLUJb2ztZGCPn5fNeGOG/+6/DkOAS/3X57Ccc+/650rxu2gv449bNlUDXsHr6v29f/xHD3GsLLz3Khq/23KQLsByM9vhl79XPuNr6wEXAGOdc5uC/r7Cew1zWn//hTeh1tv+OGXMrI+ZLS9MmY/CIOBr4L943cIfBso559YBOROG/YLXEjwYXV+JiJRK5g2REhERkbLCzB4GTnbO9T/sxiIiIgKoZlJERKTUM+8ewC3Nk4g3edS7oc6XiIhIWVI+1BkQERGRwzoer6tzXbzxwo/j3fJHRERECkndnkVERERERCTsqduziIiIiIiIhD0FvyIiIiIiIhL2jrkxvzVr1nQNGjQIdTZERERERESkGHz11Ve/OudqHZx+zAW/DRo0ID09PdTZEBERERERkWJgZt/nl65uzyIiIiIiIhL2FPyKiIiIhBEzo2/fvoHl7OxsatWqxaWXXhrCXImIhJ6CXxEREZEwEhkZybJly9i1axcAaWlp1KtXL8S5EhEJvWILfs3sFDP7xMxWmNlyM7vTT69hZmlmtsZ/PNFPNzN72sy+NbOlZhYfdKz+/vZrzKx/UHobM/va3+dpM7PiKo+IiIhIWdG1a1dmzpwJwOTJk+ndu3dgXVZWFsnJySQmJtK6dWumT58OQGZmJueeey7x8fHEx8fzxRdfADBv3jySkpLo2bMnTZs2pU+fPjjnSr5QIiJ/UnG2/GYDf3fONQfOAm43s+bAUGCuc64RMNdfBrgYaOT/3Qy8AF6wDAwH2gKJwPCcgNnf5qag/boUY3lEREREyoRevXqRkpLC7t27Wbp0KW3btg2sGzVqFB07dmThwoV88sknDB48mKysLKKiokhLS2PRokVMmTKFO+64I7DP4sWLGTt2LCtWrGDt2rUsWLAAgPvvv5/U1NQSL5+IyNEottmenXMbgY3+8+1m9g1QD7gcSPI3mwjMA+7x0193XlXil2ZW3czq+NumOed+AzCzNKCLmc0DqjnnvvTTXweuAD4orjKJiIiIlAUtW7YkMzOTyZMn07Vr11zr5syZQ2pqKo899hgAu3fv5ocffqBu3boMHDiQjIwMIiIiWL16dWCfxMREoqOjAYiLiyMzM5P27dszcuTIkiuUiMifVCK3OjKzBkBr4D9AbT8wBtgE1Paf1wPWBe223k87VPr6fNJFREREjnndunVj0KBBzJs3j82bNwfSnXNMnTqVJk2a5Np+xIgR1K5dmyVLlnDgwAEqVaoUWFexYsXA84iICLKzs4u/ACIiRazYJ7wys6rAVOAu59y24HV+K2+xDxoxs5vNLN3M0n/55ZfiPp2IiIhIyCUnJzN8+HBiY2NzpXfu3JlnnnkmMG538eLFAGzdupU6depQrlw5Jk2axP79+0s8zyIixalYg18zOw4v8H3TOTfNT/7J786M//izn74BOCVo92g/7VDp0fmk5+Gce9k5l+CcS6hVq9afK5SIiIhIGRAdHZ1r3G6OYcOGsW/fPlq2bElMTAzDhg0D4LbbbmPixIm0atWKlStXEhkZedhzaMyviJQlVlyz9fkzL08EfnPO3RWU/iiw2Tk3xsyGAjWcc0PM7BJgINAVb3Krp51zif6EV18BObM/LwLaOOd+M7OFwB143alnAc8452YdKl8JCQkuPT29SMsqIiIiIiIipYOZfeWcSzg4vTjH/J4DXAd8bWYZftr/AWOAt8zsBuB74Gp/3Sy8wPdbYCcwAMAPch8E/utvNzJn8ivgNmACUBlvoitNdiUiIiIiIiJ5FFvLb2mlll8REREREZHwVVDLb7FPeCUiIiIiIiISagp+RURERMqQ5ORkoqKiaNGiRSBtyZIltGvXjtjYWC677DK2bfNusJGWlkabNm2IjY2lTZs2fPzxx4F9kpKSaNKkCXFxccTFxfHzz94cpN9//z0XXHABLVu2JCkpifXr15OfvXv3cvPNN9O4cWOaNm3K1KlTj2h/EZGSpuBXREREpAy5/vrrmT17dq60G2+8kTFjxvD111/TvXt3Hn30UQBq1qzJ+++/z9dff83EiRO57rrrcu335ptvkpGRQUZGBlFRUQAMGjSIfv36sXTpUu6//37+8Y9/5JuPUaNGERUVxerVq1mxYgXnnXfeEe0vIlLSNOZXREREpIzJzMzk0ksvZdmyZQCccMIJbNmyBTNj3bp1dO7cmRUrVuTaxznHSSedxMaNG6lYsSJJSUk89thjJCTkHhYXExPD7NmzOeWUU3DOccIJJwRakoOdcsop+d4SqbD7i4gUF435FREREQlTMTExTJ8+HYC3336bdevW5dlm6tSpxMfHU7FixUDagAEDiIuL48EHHySnQaRVq1ZMmzYNgHfffZft27ezefPmXMfasmUL4N0zOD4+nquuuoqffvqp0PuLiISCgl8RERGRMm78+PE8//zztGnThu3bt1OhQoVc65cvX84999zDSy+9FEh78803+frrr5k/fz7z589n0qRJADz22GN8+umntG7dmk8//ZR69eoRERGR63jZ2dmsX7+es88+m0WLFtGuXTsGDRpU6P1FREJB3Z5FREREypiDuz0HW716NX379mXhwoUArF+/no4dO/Laa69xzjnn5Hu8CRMm8PTTT9OiRQtOPvlkHnnkEQB27NhB06ZN80xa5ZyjatWqbN++nXLlyrFu3Tq6dOnC8uXLc21X0P4iIsVJ3Z5FREREwlTOTM0HDhzgoYce4pZbbgG87smXXHIJY8aMyRX4Zmdn8+uvvwKwb98+ZsyYQYUKFdiwYQOZmZkcOHAAgNGjR5OcnJznfGbGZZddxrx58wCYO3cuzZs3B+DXX3897P4iIqGgll8RERGRMqR3797MmzePX3/9ldq1a/PAAw+wY8cOnnvuOQCuvPJKRo8ejZnx0EMPMXr0aBo1ahTYf86cOURGRtKhQwf27dvH/v37ufDCC9m8eTMbN24kOzubH3/8ETOjQ4cOPPfcc4FxwnFxcWRkZADeLY2uu+46tmzZQq1atXjttdeoX78+77zzDv/4xz/y3V9EpCQU1PKr4FdERERE6NevHxs2bKBevXq8/vrroc6OiMhRU7dnEREREREROWaVD3UGRERERKTwek5dVCzH3bpjDwAbd+wp8nO80yO+SI8nInI01PIrIiIiIiIiYU/Br4iIiIiIiIQ9Bb8iIiIiIiIS9hT8ioiIiIiISNjThFciIiIiQrnjT8z1KCISbhT8ioiIiAjHd7s51FkQESlW6vYsIiIiIiIiYU/Br4iIiIiIiIQ9Bb8iIiIiIiIS9hT8ioiIiIiISNhT8CsiIiIiIiJhT8GviIiIiIiIhD0FvyIiIiIiIhL2FPyKlHFmRt++fQPL2dnZ1KpVi0svvTSEuRIRERERKV0U/IqUcZGRkSxbtoxdu3YBkJaWRr169UKcKxERERGR0kXBr0gY6Nq1KzNnzgRg8uTJ9O7dO7AuKyuL5ORkEhMTad26NdOnTwcgMzOTc889l/j4eOLj4/niiy8AmDdvHklJSfTs2ZOmTZvSp08fnHMlXygRERERkSKk4FckDPTq1YuUlBR2797N0qVLadu2bWDdqFGj6NixIwsXLuSTTz5h8ODBZGVlERUVRVpaGosWLWLKlCnccccdgX0WL17M2LFjWbFiBWvXrmXBggUA3H///aSmppZ4+URERERE/qzyoc6AiPx5LVu2JDMzk8mTJ9O1a9dc6+bMmUNqaiqPPfYYALt37+aHH36gbt26DBw4kIyMDCIiIli9enVgn8TERKKjowGIi4sjMzOT9u3bM3LkyJIrlIiIiIhIEVLwKxImunXrxqBBg5g3bx6bN28OpDvnmDp1Kk2aNMm1/YgRI6hduzZLlizhwIEDVKpUKbCuYsWKgecRERFkZ2cXfwFERERERIqRuj2LhInk5GSGDx9ObGxsrvTOnTvzzDPPBMbtLl68GICtW7dSp04dypUrx6RJk9i/f3+J51lEREREpKQo+BUJE9HR0bnG7eYYNmwY+/bto2XLlsTExDBs2DAAbrvtNiZOnEirVq1YuXIlkZGRhz2HxvyKiIiISFllx9osrgkJCS49PT3U2RARERE5Kj2nLgp1Fo7YOz3iQ50FETmGmNlXzrmEg9PV8isiIiIiIiJhT8GviIiIiIiIhD0FvyKlWHJyMlFRUbRo0SKQds011xAXF0dcXBwNGjQgLi4OgMzMTCpXrhxYd8sttwT2mTJlSmDM7z333BNIf+KJJ2jevDktW7bkggsu4Pvvv883H126dKFVq1bExMRwyy23BCbHWrJkCe3atSM2NpbLLruMbdu2FcOrICIiIiLy5yn4FSnFrr/+embPnp0rbcqUKWRkZJCRkUGPHj248sorA+vOOOOMwLoXX3wRgM2bNzN48GDmzp3L8uXL2bRpE3PnzgWgdevWpKens3TpUnr27MmQIUPyzcdbb73FkiVLWLZsGb/88gtvv/02ADfeeCNjxozh66+/pnv37jz66KPF8TKIiIiIiPxpCn5FSrEOHTpQo0aNfNc553jrrbfo3bv3IY+xdu1aGjVqRK1atQC48MILmTp1KgDnn38+VapUAeCss85i/fr1+R6jWrVqAGRnZ7N3717MDIDVq1fToUMHADp16hQ4roiIiIhIaaPgV6SMmj9/PrVr16ZRo0aBtO+++47WrVtz3nnnMX/+fAAaNmzIqlWryMzMJDs7m/fee49169blOd64ceO4+OKLCzxf586diYqK4vjjj6dnz54AxMTEMH36dADefvvtfI8rIiIiIlIaKPgVKaMmT56cq9W3Tp06/PDDDyxevJgnnniCa6+9lm3btnHiiSfywgsvcM0113DuuefSoEEDIiIich3rjTfeID09ncGDBxd4vg8//JCNGzeyZ88ePv74YwDGjx/P888/T5s2bdi+fTsVKlQonsKKiIiIiPxJ5UOdARE5ctnZ2UybNo2vvvoqkFaxYkUqVqwIQJs2bTjjjDNYvXo1CQkJXHbZZVx22WUAvPzyy7mC348++ohRo0bx6aefBvYvSKVKlbj88suZPn06nTp1omnTpsyZMwfwukDPnDmzqIsqIiIiIlIkFPyKlEEfffQRTZs2JTo6OpD2yy+/UKNGDSIiIli7di1r1qzh9NNPB+Dnn38mKiqK33//neeff56EhAT69euHmfH5558ze/ZsoqKi8j3Xjh072L59O3Xq1CE7O5uZM2dy7rnn5jrugQMHeOihh3LNMC0iIiIiUpqo27NIKda7d2/atWvHqlWriI6OZty4cQCkpKTkmejqs88+o2XLlsTFxdGzZ09efPHFwGRZd955J82bN+ecc85h6NCh7N27lw0bNjBnzhx27NjBVVddRVxcHN26dQscL+cWSllZWXTr1i1w7KioqECQO3nyZBo3bkzTpk2pW7cuAwYMKIFXRURERETkyJlzrngObDYeuBT42TnXwk+bAjTxN6kObHHOxZlZA+AbYJW/7kvn3C3+Pm2ACUBlYBZwp3POmVkNYArQAMgErnbO/X64fCUkJLj09PQiKKFI2dWvXz82bNhAvXr1eP3110OdHREROQI9py4KdRaO2Ds94kOdBRE5hpjZV865hIPTi7PldwLQJTjBOXeNcy7OORcHTAWmBa3+X866nMDX9wJwE9DI/8s55lBgrnOuETDXXxYRERERERHJo9jG/DrnPvNbdPMw7yahVwMdD3UMM6sDVHPOfekvvw5cAXwAXA4k+ZtOBOYB9/z5nIuULtPHF3z7oaOVtW2v/7ihyI9/efIHRXo8EREREZGiEKoxv+cCPznn1gSlnWZmi83sUzM710+rB6wP2ma9nwZQ2zm30X++CahdrDkWERERERGRMitUsz33BiYHLW8E6jvnNvtjfN8zs5jCHswfA1zg4GUzuxm4GaB+/fpHmWUREREREREpq0q85dfMygNX4k1WBYBzbo9zbrP//Cvgf0BjYAMQHbR7tJ8G8JPfLTqne/TPBZ3TOfeycy7BOZdQq1atoiyOiIiIiIiIlAGh6PZ8IbDSORfozmxmtcwswn9+Ot7EVmv9bs3bzOwsf5xwP2C6v1sq0N9/3j8oXUQO4/hIo/rx3qOIiIiIyLGg2Lo9m9lkvAmpaprZemC4c24c0IvcXZ4BOgAjzWwfcAC4xTn3m7/uNv641dEH/h/AGOAtM7sB+B5vAi0RKYTuFxwX6iyIiIiIiJSo4pztuXcB6dfnkzYV79ZH+W2fDrTIJ30zcMGfy6WIiIiIiIgcC0I127OIiIiIiIhIiVHwKyIiIiIiImFPwa+IiIiIiIiEPQW/IiIiIiIiEvYU/IqIiIiIiEjYU/ArIiIiIiIiYU/Br4iIiIiIiIQ9Bb8iIiIiIiIS9hT8ioiIiIiISNhT8CsiIiIiIiJhT8GviIiIiIiIhD0FvyIiIiIiIhL2FPyKiIiIiIhI2FPwKyIiIiIiImFPwa+IiIiIiIiEPQW/IiIiIiIiEvYU/IqIiIiIiEjYU/ArIiIiIiIiYU/Br4iIiIiIiIQ9Bb8iIiIiIiIS9hT8ioiIiIiISNhT8CsiIiIiIiJhT8GviIiIiIiIhD0FvyIiIiIiIhL2FPyKiIiIiIhI2FPwKyIiIiIiImFPwa+IiIiIiIiEPQW/IiIiIiIiEvYU/IqIiIiIiEjYU/ArIiIiIiIiYU/Br4iIiIiIiIQ9Bb8iIiIiIiIS9hT8ioiIiIiISNhT8CsiIiIiIiJhT8GviIiIiIiIhD0FvyIiIiIiIhL2FPyKiIiIiIhI2FPwKyIiIiIiImFPwa+IiIiIiIiEPQW/IiIiIiIiEvYU/IqIiIiIiEjYU/ArIiIiIiIiYU/Br4iIiIiIiIQ9Bb8iIiIiIiIS9hT8ioiIiIiISNgrtuDXzMab2c9mtiwobYSZbTCzDP+va9C6f5jZt2a2ysw6B6V38dO+NbOhQemnmdl//PQpZlahuMoiIiIiIiIiZVtxtvxOALrkk/6kcy7O/5sFYGbNgV5AjL/P82YWYWYRwHPAxUBzoLe/LcDD/rEaAr8DNxRjWURERERERKQMK7bg1zn3GfBbITe/HEhxzu1xzn0HfAsk+n/fOufWOuf2AinA5WZmQEfgHX//icAVRZl/ERERERERCR+hGPM70MyW+t2iT/TT6gHrgrZZ76cVlH4SsMU5l31Qer7M7GYzSzez9F9++aWoyiEiIiIiIiJlREkHvy8AZwBxwEbg8ZI4qXPuZedcgnMuoVatWiVxShERERERESlFypfkyZxzP+U8N7NXgBn+4gbglKBNo/00CkjfDFQ3s/J+62/w9iIiIiIiIiK5lGjLr5nVCVrsDuTMBJ0K9DKzimZ2GtAIWAj8F2jkz+xcAW9SrFTnnAM+AXr6+/cHppdEGURERERERKTsKbaWXzObDCQBNc1sPTAcSDKzOMABmcBfAJxzy83sLWAFkA3c7pzb7x9nIPAhEAGMd84t909xD5BiZg8Bi4FxxVUWERERERERKduKLfh1zvXOJ7nAANU5NwoYlU/6LGBWPulr8WaDFhERERERETmkUMz2LCIiIiIiIlKiFPyKiIiIiIhI2FPwKyIiIiIiImFPwa+IiIiIiIiEPQW/IiIiIiIiEvYU/IqIiIiIiEjYU/ArIiIiIiIiYU/Br4iIiIiIiIQ9Bb8iIiIiIiIS9hT8ioiIiIiISNhT8CsiIiIiIiJhT8GviIiIiIiIhD0FvyIiIiIiIhL2FPyKiIiIiIhI2FPwKyIiIiIiImFPwa+IiIiIiIiEPQW/IiIiIiIiEvYU/IqIiIiIiEjYU/ArIiIiIiIiYU/Br4iIiIiIiIQ9Bb8iIiIiIiIS9hT8ioiIiIiISNhT8CsiIiIiIiJhT8GviIiIiIiIhD0FvyIiIiIiIhL2FPyKiIiIiIhI2FPwKyIiIiIiImFPwa+IiIiIiIiEPQW/IiIiIiIiEvYU/IqIiIiIiEjYU/ArIiIiIiIiYU/Br4iIiIiIiIQ9Bb8iIiIiIiIS9hT8ioiIiIiISNhT8CsiIiIiIiJhT8GviIiIiIiIhD0FvyIiIiIiIhL2FPyKiIiIiIhI2FPwKyIiIiIiImFPwa+IiIiIiIiEPQW/IiIiIiIiEvYU/IqIiIiIiEjYU/ArIiIiIiIiYU/Br4iIiIiIiIS9Ygt+zWy8mf1sZsuC0h41s5VmttTM3jWz6n56AzPbZWYZ/t+LQfu0MbOvzexbM3vazMxPr2FmaWa2xn88sbjKIiIiIiIiImVbcbb8TgC6HJSWBrRwzrUEVgP/CFr3P+dcnP93S1D6C8BNQCP/L+eYQ4G5zrlGwFx/WURERERERCSPYgt+nXOfAb8dlDbHOZftL34JRB/qGGZWB6jmnPvSOeeA14Er/NWXAxP95xOD0kVERERERERyCeWY32Tgg6Dl08xssZl9ambn+mn1gPVB26z30wBqO+c2+s83AbWLNbciIiIiIiJSZpUPxUnN7F4gG3jTT9oI1HfObTazNsB7ZhZT2OM555yZuUOc72bgZoD69esffcZFRERERESkTCrxll8zux64FOjjd2XGObfHObfZf/4V8D+gMbCB3F2jo/00gJ/8btE53aN/LuiczrmXnXMJzrmEWrVqFXGJREREREREpLQr0eDXzLoAQ4BuzrmdQem1zCzCf3463sRWa/1uzdvM7Cx/lud+wHR/t1Sgv/+8f1C6iIiIiIiISC7F1u3ZzCYDSUBNM1sPDMeb3bkikObfsehLf2bnDsBIM9sHHABucc7lTJZ1G97M0ZXxxgjnjBMeA7xlZjcA3wNXF1dZREREREREpGwrtuDXOdc7n+RxBWw7FZhawLp0oEU+6ZuBC/5MHkVEREREROTYEMrZnkVERERERERKhIJfERERERERCXsKfkVERERERCTsKfgVERERERGRsKfgV0RKNTOjb9++geXs7Gxq1arFpZdeGsJciYiIiEhZo+BXREq1yMhIli1bxq5duwBIS0ujXr16Ic6ViIiIiJQ1Cn5FpNTr2rUrM2fOBGDy5Mn07v3HndSysrJITk4mMTGR1q1bM336dAAyMzM599xziY+PJz4+ni+++AKAefPmkZSURM+ePWnatCl9+vTBOVfyhRIRERGREqXgV0RKvV69epGSksLu3btZunQpbdu2DawbNWoUHTt2ZOHChXzyyScMHjyYrKwsoqKiSEtLY9GiRUyZMoU77rgjsM/ixYsZO3YsK1asYO3atSxYsACA+++/n9TU1BIvn4iIFJ6Gw4jI0Sof6gyIiBxOy5YtyczMZPLkyXTt2jXXujlz5pCamspjjz0GwO7du/nhhx+oW7cuAwcOJCMjg4iICFavXh3YJzExkejoaADi4uLIzMykffv2jBw5suQKJSIiRyV4OEzlypU1HEZECk0tvyJSJnTr1o1Bgwbl6vIM4Jxj6tSpZGRkkJGRwQ8//ECzZs148sknqV27NkuWLCE9PZ29e/cG9qlYsWLgeUREBNnZ2SVWDhER+fM0HEZEjoaCXxEpE5KTkxk+fDixsbG50jt37swzzzwTuFBZvHgxAFu3bqVOnTqUK1eOSZMmsX///hLPs4iIFA8NhxGRo6HgV0TKhOjo6FwXKjmGDRvGvn37aNmyJTExMQwbNgyA2267jYkTJ9KqVStWrlxJZGTkYc+hixwRkbLhcMNhxowZQ1xcHElJSYHhMPv27eOmm24iNjaWq666ihUrVgT2yRkOU65cucBwGICRI0fSrVu3kiyaiBQjjfkVkVJtx44dedKSkpJISkoCoHLlyrz00kt5tmnUqBFLly4NLD/88MN59gV49tlnA8815ldEpOzIGQ4zb948Nm/eHEjPGQ7TpEmTXNuPGDEiMBzmwIEDVKpUKbBOw2FEjg1q+RURERGRMkfDYUTkSCn4FREREZEyR8NhRORI2bE2m11CQoJLT08PdTZECm36+ItDnYUjcnnyB4XeNjk5mRkzZhAVFcWyZcsAePvttxkxYgTffPMNCxcuJCEhIbD96NGjGTduHBERETz99NN07tyZVatWcc011wS2Wbt2LSNHjuSuu+7immuuYdWqVQBs2bKF6tWrk5GRkScfTz75JK+++ipmRmxsLK+99hqVKlVi7ty5DB48mAMHDlC1alUmTJhAw4YNj/KVEREpGj2nLgp1Fo7YOz3iQ50FETmGmNlXzrmEg9PV8isiIXP99dcze/bsXGktWrRg2rRpdOjQIVf6ihUrSElJYfny5cyePZvbbruN/fv306RJk8Btjr766iuqVKlC9+7dAZgyZUpgXY8ePbjyyivz5GHDhg08/fTTpKens2zZMvbv309KSgoAt956K2+++SYZGRlce+21PPTQQ8X0SoiIiIhIcVPwKyIh06FDB2rUqJErrVmzZnkmKQGYPn06vXr1omLFipx22mk0bNiQhQsX5tpm7ty5nHHGGZx66qm50p1zvPXWW3nuEZwjOzubXbt2kZ2dzc6dO6lbty4AZsa2bdsAb6xYTrqIiIiIlD2a7VlEyoQNGzZw1llnBZajo6PZsGFDrm1SUlLyDXDnz59P7dq1adSoUZ519erVY9CgQdSvX5/KlStz0UUXcdFFFwHw6quv0rVrVypXrky1atX48ssvi7hUIiIiIlJS1PIrImFh7969pKamctVVV+VZN3ny5AJbfX///XemT5/Od999x48//khWVhZvvPEG4I0FnjVrFuvXr2fAgAHcfffdxVoGERHx5oOIioqiRYsWgbTffvuNTp060ahRIzp16sTvv/8OeN/h3bt3p2XLliQmJgbmjwCYPXs2TZo0oWHDhowZMyaQ7pzj3nvvpXHjxjRr1oynn34633xMnDiRRo0a0ahRIyZOnBhIT0pKokmTJsTFxREXF8fPP/9c1C+BiBQTBb8iUibUq1ePdevWBZbXr19PvXr1AssffPAB8fHx1K5dO9d+2dnZTJs2LdekWME++ugjTjvtNGrVqsVxxx3HlVdeyRdffMEvv/zCkiVLaNu2LQDXXHMNX3zxRTGUTEREguU3H8SYMWO44IILWLNmDRdccEEgmP3nP/9JXFwcS5cu5fXXX+fOO+8EYP/+/dx+++188MEHrFixgieeeIJzzz2Xiy66iPj4eNatW8fKlSv55ptv6NWrV548/PbbbzzwwAP85z//YeHChTzwwAOBgBsIzAeRkZFBVFRUMb4aIlKUFPyKSJnQrVs3UlJS2LNnD9999x1r1qwhMTExsD64dXfIkCH069ePIUOG8NFHH9G0aVOio6PzPW79+vX58ssv2blzJ8455s6dS7NmzTjxxBPZunUrq1evBiAtLY1mzZoVf0FFRI5x+c0HMX36dPr37w9A//79ee+99wBvMsSOHTsC0LRpUzIzM/npp59YuHAhDRs25PTTT6dChQrUq1ePH3/8kf3797N27Vruv/9+ypXzLoPzC14//PBDOnXqRI0aNTjxxBPp1KlTnoBcRMoeBb8iEjK9e/emXbt2rFq1iujoaMaNG8e7775LdHQ0//73v7nkkkvo3LkzADExMVx99dU0b96cLl268NxzzxEREQFAVlYWaWlpgdmcN23axIYNG9i0aVO+44B//PFHunbtCkDbtm3p2bMn8fHxxMbGcuDAAW6++WbKly/PK6+8Qo8ePWjVqhWTJk3i0UcfLcFXR0REcvz000/UqVMHgJNPPpmffvoJgFatWjFt2jQAFi5cyPfff8/69evZsGEDp5xySmD/unXrsm/fPgB27drFlClTSEhI4OKLL2bNmjV5znfw/gfPMzFgwADi4uJ48MEHOdZuGypSlmnCKxEJmcmTJ+ebnnOrooPde++93HvvvXnSIyMj2bx5c777TJgwIU9a3bp1mTVrVmD5gQce4IEHHsg3HwXlRUREQsPMMDMAhg4dyp133klcXByxsbG0bt06UDEarFevXvzvf/8DvDG/lSpVIj09nWnTppGcnMz8+fMLff4333yTevXqsX37dnr06MGkSZPo169f0RRORIqVWn5FREREpFSrXbs2GzduBGDjxo2BrsrVqlXjtddeIyMjg9dff51ffvmF008/Pd95IipXrgxAlSpVAj2FunfvztKlS/Oc71DzTOQ8Hn/88Vx77bV5brsnIqWXWn5FJKRemtS5yI+5dXu2/7ihyI//l+s+LNLjiYjI4XXr1o2JEycydOhQJk6cyOWXXw7Ali1bqFKlChUqVODVV1+lQ4cOVKtWjTPPPJM1a9bw3XffUa9ePVJSUjj11FPJysrilFNO4ZNPPuG0007j008/pXHjxnnO17lzZ/7v//4vMMnVnDlzGD16NNnZ2WzZsoWaNWuyb98+ZsyYwYUXXliir4WIHD0FvyIiIiJSavTu3Zt58+bx66+/Eh0dzQMPPMDQoUO5+uqrGTduHKeeeipvvfUWAN988w39+/fHzIiJiWHcuHEAlC9fnmeffZbOnTuzf/9+kpOTWbVqFVlZWbRo0YKpU6fy5JNPUrVqVV599VUA0tPTefHFF3n11VepUaMGw4YN48wzzwTg/vvvp0aNGmRlZdG5c2f27dvH/v37ufDCC7nppptC80KJyBFT8CsiIiIipUZB80HMnTs3T1q7du0Cs/IfrGvXroHJDYHAuNwKFSowc+bMPNsnJCQEAmHw7jecnJyca5vIyEi++uqrwxdCREoljfkVERERERGRsKeWXxEJO5FVDXD+o4iIlCUPv7uxWI77+479gceiPsc93esU6fFEpHgo+BWRsHPeRXlvcyEiIiIixzZ1exYREREREZGwp+BXREREREREwp6CXxEREREREQl7hQp+zayxmc01s2X+ckszu694syYiIiIiIiJSNArb8vsK8A9gH4BzbinQq7gyJSIiIiJSVL6aPoZd238BYHfWbyHOjYiESmGD3yrOuYUHpWUXdWZERERERIrarm2/4g54tzrKeRSRY09hg99fzewMwAGYWU+geG7CJiIiIiJShCpXq0m58hWwchGUP65SqLMjIiFS2Pv83g68DDQ1sw3Ad0DfYsuViIiIiEgRaXP50FBnQURKgUIFv865tcCFZhYJlHPObS/ebImIiIiIiIgUncLO9vxPM6vunMtyzm03sxPN7KHizpyIiIiIiIhIUSjsmN+LnXNbchacc78DXYslRyIiIiIiIiJFrLDBb4SZVcxZMLPKQMVDbC8iIiIiIiJSahR2wqs3gblm9pq/PACYWDxZEhERERERESlahWr5dc49DIwCmvl/DzrnHjncfmY23sx+NrNlQWk1zCzNzNb4jyf66WZmT5vZt2a21Mzig/bp72+/xsz6B6W3MbOv/X2eNjMrfNFFRERERETkWFHYbs845z5wzg3y/z4s5G4TgC4HpQ0F5jrnGgFz/WWAi4FG/t/NwAvgBcvAcKAtkAgMzwmY/W1uCtrv4HOJiIiIiIiIHDr4NbPP/cftZrYt6G+7mW073MGdc58Bvx2UfDl/dJmeCFwRlP6683wJVDezOkBnIM0595s/0VYa0MVfV80596VzzgGvBx1LREREREREJOCQY36dc+39x+OL8Jy1nXMb/eebgNr+83rAuqDt1vtph0pfn0+6iIiIiIiISC6H7fZsZhFmtrI4Tu632LriOHYwM7vZzNLNLP2XX34p7tOJiIiIiIhIKXPY4Nc5tx9YZWb1i+icP/ldlvEff/bTNwCnBG0X7acdKj06n/Q8nHMvO+cSnHMJtWrVKpJCiIiIiIiISNlR2AmvTgSWm9lcM0vN+TvKc6YCOTM29wemB6X382d9PgvY6neP/hC4yMxO9Ce6ugj40F+3zczO8md57hd0LBEREREREZGAwt7nd9jRHNzMJgNJQE0zW483a/MY4C0zuwH4Hrja33wW0BX4FtiJdy9hnHO/mdmDwH/97UY653Im0boNb0bpysAH/p+IiIiIiIhILocMfs2sEnAL0BD4GhjnnMsu7MGdc70LWHVBPts64PYCjjMeGJ9PejrQorD5ERERERERkWPT4bo9TwQS8ALfi4HHiz1HIiIiIiIiIkXscN2emzvnYgHMbBywsPizJCIiIiIiIlK0Dtfyuy/nyZF0dxYREREREREpTQ7X8tvKzLb5zw2o7C8b3jDdasWaOxEREREREZEicMjg1zkXUVIZERERERERESkuhb3Pr4iIiIiIiEiZpeBXREREREREwp6CXxEREREREQl7Cn5FREREREQk7Cn4FRERERERkbCn4FdERERERETCnoJfERERERERCXsKfkVERERERCTsKfgVERERERGRsKfgV0RERERERMKegl8REREREREJewp+RUREREREJOwp+BUREREREZGwp+BXREREREREwp6CXxEREREREQl7Cn5FREREREQk7Cn4FRERERERkbCn4FdERERERETCnoJfERERERERCXsKfkVERERERCTsKfgVERERERGRsKfgV0RERERERMKegl8REREREREJewp+RUREREREJOwp+BUREREREZGwp+BXREREREREwp6CXxEREREREQl7Cn5FREREREQk7Cn4FRERERERkbCn4FdERERERETCnoJfERERERERCXsKfkVERERERCTsKfgVERERERGRsKfgV0RERERERMKegl8REREREREJewp+RUREREREJOwp+BUREREREZGwp+BXREREREREwp6CXxEREREREQl7JR78mlkTM8sI+ttmZneZ2Qgz2xCU3jVon3+Y2bdmtsrMOgeld/HTvjWzoSVdFhERERERESkbypf0CZ1zq4A4ADOLADYA7wIDgCedc48Fb29mzYFeQAxQF/jIzBr7q58DOgHrgf+aWapzbkVJlENERERERETKjhIPfg9yAfA/59z3ZlbQNpcDKc65PcB3ZvYtkOiv+9Y5txbAzFL8bRX8ioiIiIiISC6hHvPbC5gctDzQzJaa2XgzO9FPqwesC9pmvZ9WULqIiIiIiIhILiELfs2sAtANeNtPegE4A69L9Ebg8SI8181mlm5m6b/88ktRHVZERERERETKiFC2/F4MLHLO/QTgnPvJObffOXcAeIU/ujZvAE4J2i/aTysoPQ/n3MvOuQTnXEKtWrWKuBgiIiIiIiJS2oUy+O1NUJdnM6sTtK47sMx/ngr0MrOKZnYa0AhYCPwXaGRmp/mtyL38bUVERERERERyCcmEV2YWiTdL81+Ckh8xszjAAZk565xzy83sLbyJrLKB251z+/3jDAQ+BCKA8c655SVVBhERERERESk7QhL8OueygJMOSrvuENuPAkblkz4LmFXkGRQREREREZGwEurZnkVERERERESKnYJfERERERERCXsKfkVERERERCTsKfgVERERERGRsKfgV0RERERERMKegl8REREREREJewp+RUREREREJOwp+BUREREREZGwp+BXREREREREwp6CXxEREREREQl7Cn5FREREREQk7Cn4FRERERERkbCn4FdERERERETCnoJfERERERERCXsKfkVERERERCTsKfgVERERERGRsKfgV0RERERERMKegl8REREREREJewp+RUREREREJOwp+BUREREREZGwp+BXREREREREwp6CXxEREREREQl7Cn5FREREREQk7Cn4FRERERERkbCn4FdERERERETCnoJfERERERERCXsKfkVERERERCTsKfgVERERERGRsKfgV0RERERERMKegl8REREREREJewp+RUREREREJOwp+BUREREREZGwp+BXREREREREwp6CXxEREREREQl7Cn5FREREREQk7Cn4FRERERERkbCn4FdERERERETCnoJfERERERERCXsKfkVERERERCTsKfgVERERERGRsKfgV0RERERERMKegl8REREREREJewp+RUREREREJOwp+BUREREREZGwp+BXREREREREwl7Igl8zyzSzr80sw8zS/bQaZpZmZmv8xxP9dDOzp83sWzNbambxQcfp72+/xsz6h6o8IiIi4cTM6Nu3b2A5OzubWrVqcemll4YwVyIiIkcv1C2/5zvn4pxzCf7yUGCuc64RMNdfBrgYaOT/3Qy8AF6wDAwH2gKJwPCcgFlERESOXmRkJMuWLWPXrl0ApKWlUa9evRDnSkRE5OiFOvg92OXARP/5ROCKoPTXnedLoLqZ1QE6A2nOud+cc78DaUCXEs6ziIhIWOratSszZ84EYPLkyfTu3TuwLisri+TkZBITE2ndujXTp08HIDMzk3PPPZf4+Hji4+P54osvAJg3bx5JSUn07NmTpk2b0qdPH5xzJV8oERE5ZoUy+HXAHDP7ysxu9tNqO+c2+s83AbX95/WAdUH7rvfTCkoXERGRP6lXr16kpKSwe/duli5dStu2bQPrRo0aRceOHVm4cCGffPIJgwcPJisri6ioKNLS0li0aBFTpkzhjjvuCOyzePFixo4dy4oVK1i7di0LFiwA4P777yc1NbXEyyciIseW8iE8d3vn3AYziwLSzGxl8ErnnDOzIqkS9oPrmwHq169fFIcUEREJey1btiQzM5PJkyfTtWvXXOvmzJlDamoqjz32GAC7d+/mhx9+oG7dugwcOJCMjAwiIiJYvXp1YJ/ExESio6MBiIuLIzMzk/bt2zNy5MiSK5SIiByzQhb8Ouc2+I8/m9m7eGN2fzKzOs65jX635p/9zTcApwTtHu2nbQCSDkqfl8+5XgZeBkhISFAfKxERkULq1q0bgwYNYt68eWzevDmQ7pxj6tSpNGnSJNf2I0aMoHbt2ixZsoQDBw5QqVKlwLqKFSsGnkdERJCdnV38BRAREfGFpNuzmUWa2fE5z4GLgGVAKpAzY3N/YLr/PBXo58/6fBaw1e8e/SFwkZmd6E90dZGfJiIiIkUgOTmZ4cOHExsbmyu9c+fOPPPMM4Fxu4sXLwZg69at1KlTh3LlyjFp0iT2799f4nkWERHJT6jG/NYGPjezJcBCYKZzbjYwBuhkZmuAC/1lgFnAWuBb4BXgNgDn3G/Ag8B//b+RfpqIiIgUgejo6FzjdnMMGzaMffv20bJlS2JiYhg2bBgAt912GxMnTqRVq1asXLmSyMjIw55DY35FRKQk2LE202JCQoJLT08PdTZECm36+ItDnYUjcnnyB0e0/UuTOhdTTorHX65T5xIRCa2eUxeFOgtH7J0e8YXe9uF3Nx5+o1Lmnu51Qp0FEQliZl8F3U43oLTd6khERERERESkyCn4FRERERERkbCn4FdERETYv38/rVu35tJLLwXg2WefpWHDhpgZv/76a65t582bR1xcHDExMZx33nkArFu3jvPPP5/mzZsTExPDU089le95Hn30UeLi4oiLi6NFixZERETw22/edB3JyclERUXRokWLYiypiIgcqxT8ioiICE899RTNmjULLJ9zzjl89NFHnHrqqbm227JlC7fddhupqaksX76ct99+G4Dy5cvz+OOPs2LFCr788kuee+45VqxYkec8gwcPJiMjg4yMDEaPHs15551HjRo1ALj++uuZPXt2MZZSRESOZQp+RUREjnHr169n5syZ3HjjjYG01q1b06BBgzzb/utf/+LKK6+kfv36AERFRQFQp04d4uO9SY2OP/54mjVrxoYNGw553smTJ9O7d+/AcocOHQKBsIiISFFT8CsiInKMu+uuu3jkkUcoV+7wlwWrV6/m999/JykpiTZt2vD666/n2SYzM5PFixfTtm3bAo+zc+dOZs+eTY8ePf5U3kVERAqrfKgzICIiIqEzY8YMoqKiaNOmDfPmzTvs9tnZ2Xz11VfMnTuXXbt20a5dO8466ywaN27MkCFDWLduHZ988gnPP/881apVK/A477//Puecc45aekVEpMQo+BURETmGLViwgNTUVGbNmsXu3bvZtm0bffv25Y033sh3++joaE466SQiIyOJjIykQ4cOLFmyhMaNG/Pjjz8yZ84cTjvtNK688spDnjclJSVXl2cREZHipm7PIiIix7DRo0ezfv16MjMzSUlJoWPHjgUGvgCXX345n3/+OdnZ2ezcuZP//Oc/NGvWDOcc//73v6lSpQrNmzc/5Dm3bt3Kp59+yuWXX17UxRERESmQgl8RERHJ4+mnnyY6Opr169fTsmXLwGRYzZo1o0uXLrRs2ZLExERuvPFGWrRowYIFC1i7di2///47M2bMIC4ujlmzZgHw4osv8uKLLwaO/e6773LRRRcRGRmZ65y9e/emXbt2rFq1iujoaMaNG1dyBRYRkbBnzrlQ56FEJSQkuPT09FBnQ6TQpo+/ONRZOCKXJ39wRNu/NKlzMeWkePzlug9DnQWRUqtfv35s2LCBevXq5TsRlhSNnlMXhToLR+ydHvGF3vbhdzcWY06Kxz3d64Q6CyISxMy+cs4lHJyull8REREREREJe5rwSkRE5Bh06TtvFvkxd+/YDsCPO7YX+fFn9OxTpMcTEZFjj1p+RUREREREJOwp+BUREREREZGwp+BXREREREREwp6CXxEREREREQl7mvBKREREioQdXzXXo4iISGmi4FdERESKRMXLuoQ6CyIiIgVSt2cREREREREJewp+RUREREREJOwp+BUREREREZGwp+BXREREREREwp6CXxEREREREQl7Cn5FREREREQk7Cn4FRERERERkbCn4FdERERERETCnoJfERERERERCXsKfkVERERERCTsKfgVERERERGRsKfgV0RERERERMKegl8REREREREJewp+RURE5JhjZvTt2zewnJ2dTa1atbj00ktDmCsRESlOCn5FRETkmBMZGcmyZcvYtWsXAGlpadSrVy/EuRIRkeKk4FdERESOSV27dmXmzJkATJ48md69ewfWZWVlkZycTGJiIq1bt2b69OkAZGZmcu655xIfH098fDxffPEFAPPmzSMpKYmePXvStGlT+vTpg3Ou5AslIiIFUvArIiIix6RevXqRkpLC7t27Wbp0KW3btg2sGzVqFB07dmThwoV88sknDB48mKysLKKiokhLS2PRokVMmTKFO+64I7DP4sWLGTt2LCtWrGDt2rUsWLAAgPvvv5/U1NQSL5+IiORWPtQZEBEREQmFli1bkpmZyeTJk+natWuudXPmzCE1NZXHHnsMgN27d/PDDz9Qt25dBg4cSEZGBhEREaxevTqwT2JiItHR0QDExcWRmZlJ+/btGTlyZMkVSkRECqTgV0RERI5Z3bp1Y9CgQcybN4/NmzcH0p1zTJ06lSZNmuTafsSIEdSuXZslS5Zw4MABKlWqFFhXsWLFwPOIiAiys7OLvwAiIlJo6vYsIiIix6zk5GSGDx9ObGxsrvTOnTvzzDPPBMbtLl68GICtW7dSp04dypUrx6RJk9i/f3+J51lERI6Ogl8RERE5ZkVHR+cat5tj2LBh7Nu3j5YtWxITE8OwYcMAuO2225g4cSKtWrVi5cqVREZGHvYcGvMrIlI6qNuziIiIHHN27NiRJy0pKYmkpCQAKleuzEsvvZRnm0aNGrF06dLA8sMPP5xnX4Bnn3028FxjfkVESge1/IqIiIiIiEjYU/BbCGZG3759A8vZ2dnUqlWLSy+9NIS5EhERERERkcJS8FsIkZGRLFu2jF27dgGQlpZGvXr1QpwrERERERERKawSD37N7BQz+8TMVpjZcjO7008fYWYbzCzD/+satM8/zOxbM1tlZp2D0rv4ad+a2dDizHfXrl2ZOXMmAJMnT6Z3796BdVlZWSQnJ5OYmEjr1q2ZPn06AJmZmZx77rnEx8cTHx/PF198AcC8efNISkqiZ8+eNG3alD59+gRmkxQREZGis27dOs4//3yaN29OTEwMTz31FACDBw+madOmtGzZku7du7NlyxbAq+Bu06YNsbGxtGnTho8//jhwrKSkJJo0aUJcXBxxcXH8/PPPec63d+9eBgwYQGxsLK1atWLevHkA7Ny5k0suuYSmTZsSExPD0KHFetkiIiL5CEXLbzbwd+dcc+As4HYza+6ve9I5F+f/zQLw1/UCYoAuwPNmFmFmEcBzwMVAc6B30HGKXK9evUhJSWH37t0sXbqUtm3bBtaNGjWKjh07snDhQj755BMGDx5MVlYWUVFRpKWlsWjRIqZMmZJrNsnFixczduxYVqxYwdq1a1mwYAGgGSFFRESKUvny5Xn88cdZsWIFX375Jc899xwrVqygU6dOLFu2jKVLl9K4cWNGjx4NQM2aNXn//ff5+uuvmThxItddd12u47355ptkZGSQkZFBVFRUnvO98sorAHz99dekpaXx97//nQMHDgAwaNAgVq5cyeLFi1mwYAEffPBBMZdeRESClfhsz865jcBG//l2M/sGOFQf4suBFOfcHuA7M/sWSPTXfeucWwtgZin+tiuKI98tW7YkMzOTyZMn07Vr11zr5syZQ2pqKo899hgAu3fv5ocffqBu3boMHDiQjIwMIiIiWL16dWCfxMREoqOjAYiLiyMzM5P27dtrRkgREZEiVKdOHerUqQPA8ccfT7NmzdiwYQMXXXRRYJuzzjqLd955B4DWrVsH0mNiYti1axd79uyhYsWKhTrfihUr6NixIwBRUVFUr16d9PR0EhMTOf/88wGoUKEC8fHxrF+/vkjKKCIihRPSMb9m1gBoDfzHTxpoZkvNbLyZnein1QPWBe223k8rKL3YdOvWjUGDBuXq8gzgnGPq1KmBmuAffviBZs2a8eSTT1K7dm2WLFlCeno6e/fuDewT/CMaERFBdnZ2cWZdRETkmJeZmcnixYtz9d4CGD9+PBdffHGe7adOnUp8fHyu3+wBAwYQFxfHgw8+mO+QpVatWpGamkp2djbfffcdX331FevWrcu1zZYtW3j//fe54IILiqhkIiJSGCELfs2sKjAVuMs5tw14ATgDiMNrGX68CM91s5mlm1n6L7/8ctTHSU5OZvjw4cTGxuZK79y5M88880zgR3Dx4sUAbN26lTp16lCuXDkmTZrE/v37j74QIiIictR27NhBjx49GDt2LNWqVQukjxo1ivLly9OnT59c2y9fvpx77rkn171+33zzTb7++mvmz5/P/PnzmTRpUp7zJCcnEx0dTUJCAnfddRdnn302ERERgfXZ2dn07t2bO+64g9NPP70YSioiIgUJSfBrZsfhBb5vOuemATjnfnLO7XfOHQBe4Y+uzRuAU4J2j/bTCkrPwzn3snMuwTmXUKtWraPOd3R0dK5xuzmGDRvGvn37aNmyJTExMQwbNgyA2267jYkTJ9KqVStWrlxJZGTkYc+hMb8iIiJFa9++ffTo0YM+ffpw5ZVXBtInTJjAjBkzePPNNzGzQPr69evp3r07r7/+OmeccUYgPedOD8cffzzXXnstCxcuzHOu8uXL8+STT5KRkcH06dPZsmULjRs3Dqy/+eabadSoEXfddVcxlFRERA6lxMf8mvfrMg74xjn3RFB6HX88MEB3YJn/PBX4l5k9AdQFGgELAQMamdlpeEFvL+Da4sjzjh078qQlJSWRlJQEQOXKlXPVDOdo1KgRS5cuDSw//PDDefYFePbZZwPPNeZXRESk6DjnuOGGG2jWrBl33313IH327Nk88sgjfPrpp1SpUiWQvmXLFi655BLGjBnDOeecE0jPzs5my5Yt1KxZk3379jFjxgwuvPDCPOfbuXMnzjkiIyNJS0ujfPnyNG/uzcd53333sXXrVl599dViLLGIiBSkxINf4BzgOuBrM8vw0/4Pb7bmOMABmcBfAJxzy83sLbyJrLKB251z+wHMbCDwIRABjHfOLS+5YoiIiEhpt2DBAiZNmkRsbCxxcXEA/POf/+SOO+5gz549dOrUCfAmvXrxxRd59tln+fbbbxk5cmSgQnrOnDlERkbSuXNn9u3bx/79+7nwwgu56aabAEhNTSU9PZ2RI0fy888/07lzZ8qVK0e9evUCXaPXr1/PqFGjaNq0KfHx8QAMHDiQG2+8sYRfERGRY1coZnv+HK/V9mCzDrHPKGBUPumzDrWfiIiIHNvat2+f78RUB9+5Icd9993Hfffdl++6Cy64gE2bNnHyySfzyCOPBNK7detGt27dAGjQoAGrVq3Ks290dHS++RARkZIT0tmeS6Pk5GSioqJo0aJFIO2aa64J3NC+QYMGgZpjgKVLl9KuXTtiYmKIjY1l9+7dgNe1uUmTJoH9fv7553zPN3r0aBo2bEiTJk348MMPA+mzZ8+mSZMmNGzYkDFjxhRPYUVERKTQNm3axIYNG9i0aVOosyIiIkchFN2eS7Xrr7+egQMH0q9fv0DalClTAs///ve/c8IJJwDe+J++ffsyadIkWrVqxebNmznuuOMC27755pskJCQUeK4VK1aQkpLC8uXL+fHHH7nwwgsD9wK+/fbbSUtLIzo6mjPPPJNu3boFxgyJiIjIoV3+zgdFfsysHTsB+HHHziI//vSeeW+1JCIiRUstvwfp0KEDNWrUyHedc4633norcJ/fOXPm0LJlS1q1agXASSedlOt2Boczffp0evXqRcWKFTnttNNo2LAhCxcuZOHChTRs2JDTTz+dChUq0KtXL6ZPn/7nCycipYqZ0bdv38BydnY2tWrV4tJLLw1hrkSkIOWOr4adcCLljq92+I1FRKTUUfB7BObPn0/t2rVp1KgRAKtXr8bM6Ny5M/Hx8bnG/wAMGDCAuLg4HnzwwXzH+WzYsIFTTvnjbk3R0dFs2LChwHQRCS+RkZEsW7aMXbt2AZCWlha4lYqIlD6VL7uKyGtvoPJlV4U6KyIichQU/B6ByZMnB1p9wWul+fzzz3nzzTf5/PPPeffdd5k7dy7gdXn++uuvmT9/PvPnzw/M9igiEqxr167MnDkTyPsdk5WVRXJyMomJibRu3TrQAyQzM5Nzzz2X+Ph44uPj+eKLLwCYN28eSUlJ9OzZk6ZNm9KnTx9NsCMiIiLiU/BbSNnZ2UybNo1rrrkmkBYdHU2HDh2oWbMmVapUoWvXrixatAgg0Hpz/PHHc+2117Jw4cI8x6xXrx7r1q0LLK9fv5569eoVmC4i4adXr16kpKSwe/duli5dStu2bQPrRo0aRceOHVm4cCGffPIJgwcPJisri6ioKNLS0li0aBFTpkzhjjvuCOyzePFixo4dy4oVK1i7di0LFiwA4P777yc1NbXEyyciIhJMQ34klBT8FtJHH31E06ZNiY6ODqR17tyZr7/+mp07d5Kdnc2nn35K8+bNyc7O5tdffwVg3759zJgxI9fs0Tm6detGSkoKe/bs4bvvvmPNmjUkJiZy5plnsmbNGr777jv27t1LSkpK4BYKIhJeWrZsSWZmJpMnT85z65U5c+YwZswY4uLiSEpKYvfu3fzwww/s27ePm266idjYWK666ipWrFgR2CcxMZHo6GjKlStHXFwcmZmZAIwcOVLfIyIiEnIa8iOhpOD3IL1796Zdu3asWrWK6Ohoxo0bB0BKSkqu7ogAJ554InfffTdnnnkmcXFxxMfHc8kll7Bnzx46d+5My5YtiYuLo169etx0000ApKamcv/99wMQExPD1VdfTfPmzenSpQvPPfccERERlC9fnmeffZbOnTvTrFkzrr76amJiYkr2hRCREtOtWzcGDRqU5zvGOcfUqVPJyMggIyODH374gWbNmvHkk09Su3ZtlixZQnp6Onv37g3sU7FixcDziIgIsrOzS6wcB1PtvoiI5EdDfiRUdKujg0yePDnf9AkTJuSb3rdv31wXd+DVaH311Vf5bt+tW7dcrS/33nsv9957b57tunbtmqcVqLiYGX369OGNN94AvAvUOnXq0LZtW2bMmFEieRA5liUnJ1O9enViY2OZN29eIL1z584888wzPPPMM5gZixcvpnXr1mzdujXQujtx4kT2798fuswfQnDtfuXKlVW7LyIigDfkZ+TIkVx66aUsXbqU5ORk5s+fD/wx5Gf8+PFs2bKFxMRELrzwwsCQn0qVKrFmzRp69+5Neno64A35Wb58OXXr1uWcc85hwYIFtG/fnvvvv5+EhAT1fJIAtfwWoyFDhtCvXz+GDBkS6qwckrqfiIRWdHR0rnG7OYYNG8a+ffto2bIlMTExDBs2DIDbbruNiRMn0qpVK1auXElkZORhzxGqMb+q3RcRkYNpyI+Eilp+gV9eeKNYjrth1Ro27djG/q3bi/wctW7te/iNjkDOBWrPnj0DF6g5NXBZWVn89a9/ZdmyZezbt48RI0Zw+eWXk5mZyXXXXUdWVhYAzz77LGeffTbz5s1jxIgR1KxZk2XLltGmTRveeOMNzKxI8yxS1u3YsSNPWlJSEklJSQBUrlyZl156Kc82jRo1YunSpYHlhx9+OM++4P1P5hg5cmQR5frIqHZfRETykzPkZ968eWzevDmQnjPkp0mTJrm2HzFiRGDIz4EDB6hUqVJgXWkb8qMelaWXWn4F0IyzIlI8VLsvIiL5SU5OZvjw4cTGxuZKzxnyk9OzZ/HixQBs3bqVOnXqUK5cOSZNmlQmhvyAelSWNgp+i1GtKlU5uWo1alWpGuqsHJYuUEWkuGhCLxEROZiG/GjITyio23MxurdD51Bn4YiEa/cTEQktTeglIlJ44d5tVkN+NOQnlNTyKwHh2v1EpDRITk4mKioq1z2/3377bWJiYihXrlzgBw5g4cKFxMXFERcXR6tWrXj33XcD6xo0aEBsbCxxcXEkJCTke66VK1fSrl07KlasyGOPPRZI3717N4mJibRq1YqYmBiGDx9eDCXNS7X7qt0XkcJTt9myTz0qSy8FvxIQzheoIqF2/fXXM3v27FxpLVq0YNq0aXTo0CFPenp6OhkZGcyePZu//OUvuXpPfPLJJ2RkZOQKmIPVqFGDp59+mkGDBuVKr1ixIh9//DFLliwJHPvLL78sohLmVVDtfk7LRU7t/tdff83y5csD6Tm1+0uWLOHhhx8OHCd4X/Bq96+//nogdBcAmi9BRIqDKtbKvnAd8lPWKfiVY+ICVSTUOnToQI0aNXKlNWvWLM9wAoAqVapQvrw3KmX37t1HPFN6VFQUZ555Jscdd1yudDOjalVvDoJ9+/axb98+zcL+J6l2X0SKQ7hUrOXX6+m3336jU6dONGrUiE6dOvH7778DBfdaAnjqqado0aIFMTExjB07Nt9zbd26lcsuuyzQu+m1114LrOvSpQvVq1cv0TkZwrFHZTjMdaHgV0SkFPrPf/5DTEwMsbGxvPjii4Fg2My46KKLaNOmDS+//PIRH3f//v3ExcURFRVFp06dcl1QydFR7b6IFLVwqVjLr9fTmDFjuOCCC1izZg0XXHABY8aMAQrutbRs2TJeeeUVFi5cyJIlS5gxYwbffvttnnM999xzNG/enCVLljBv3jz+/ve/B75fBw8ezKRJk4qplPkLxx6V4dAlX8GviEgp1LZtW5YvX85///tfRo8eze7duwH4/PPPWbRoER988AHPPfccn3322REdNyIigoyMDNavX8/ChQtZtmxZcWT/mBKOtfsiEnrhULGWX6+n6dOn079/fwD69+/Pe++9BxTca+mbb76hbdu2gV5R5513HtOmTctzLjNj+/btOOfYsWMHNWrUCFQcX3DBBRx//PHFUMK8wr1HZVnvkq/g9xj35JNPEhMTQ4sWLejduze7d+9m7ty5xMfHExcXR/v27QO1a5999hnx8fGUL1+ed955J9/j7dy5k0suuYSmTZsSExPD0KFD82wzdepUzKzA8Yoi8odmzZpRtWrVQJCaU8MaFRVF9+7dWbhw4VEdt3r16px//vl5auSLSn5d1Aqa4Gvz5s2cf/75VK1alYEDBxZ4zGuuuSYwEViDBg2Ii4sDDj1BWEkIx9p9EQm9cK1Y++mnn6hTpw4AJ598Mj/99NMht2/RogXz589n8+bN7Ny5k1mzZrFu3bo82w0cOJBvvvmGunXrEhsby1NPPUW5cgp1ilpZ75KvT8QxbMOGDTz99NOkp6ezbNky9u/fT0pKCrfeeitvvvkmGRkZXHvttTz00EMA1K9fnwkTJnDttdce8riDBg1i5cqVLF68mAULFvDBBx8E1m3fvp2nnnqqRLtahsP4BDm2fPfdd4Fa+e+//56VK1fSoEEDsrKy2L59O+DVrs6ZMyfXOKrD+eWXX9iyZQsAu3btIi0tjaZNmxZ5/gvqolbQBF+VKlXiwQcfzDPG62BTpkwJtHT06NGDK6+8Ejj8BGHFJdxr90UktI6FijUzO+zcE82aNeOee+7hoosuokuXLsTFxREREZFnuw8//JC4uDh+/PFHMjIyGDhwINu2bSuurB+zynqXfN3n9xiXnZ3Nrl27OO6449i5cyd169bFzAJfFlu3bqVu3bqAd4sV4JC1aFWqVOH8888HoEKFCsTHx7N+/frA+mHDhnHPPffw6KOPFlOJ8tK9OKU06N27N/PmzePXX38lOjqaBx54gBo1avDXv/6VX375hUsuuYS4uDg+/PBDPv/8c8aMGcNxxx1HuXLleP7556lZsyZr166le/fugPe/e+2119KlSxcAXnzxRQBuueUWNm3aREJCAtu2baNcuXKBGtWNGzfSv39/9u/fz4EDB7j66quLpRIouIsaEOiiNmTIkHy3j4yMzNXL5HCcc7z11lt8/PHHAIHzwNFNECYiUpqE+31wa9euzcaNG6lTpw4bN24kKirqsPvccMMN3HDDDQD83//9H9HR0Xm2ee211xg6dChmRsOGDTnttNNYuXIliYmJRV6GY11Ol/x58+axefPmQHpOl/yDJ/McMWJEoEv+gQMHqFSpUmBdSXfJV8vvMaxevXoMGjSI+vXrU6dOHU444QQuuugiXn31Vbp27Up0dDSTJk3Kt+tyYWzZsoX333+fCy64AIBFixaxbt06LrnkkqIsRqGU9fEJUvZNnjyZjRs3sm/fPtavX88NN9xA9+7dWb9+PXv27OGnn37iww8/BOC6665j+fLlZGRksGjRIq644goATj/9dJYsWULnzp1p06YNW7duDRz/lltu4ZZbbgG8bmTr169n27ZtbNmyhfXr11OtWjVatmzJ4sWLWbp0KcuWLeP+++8vlrIWtova0Zo/fz61a9emUaNGgbSCJggTEZHSpVu3bkycOBGAiRMncvnllx92n59//hmAH374gWnTpuXbC7F+/frMnTsX8LpWr1q1itNPP70Ic16wVatWBYbfxMXFUa1aNcaOHcuIESOoV69eIH3WrFmAd8eF/v37ExsbS7NmzRg9enS+x3XOce+999K4cWOaNWvG008/DXjXoieccELguCVdiVGWu+Tr6uAY9vvvvzN9+nS+++47qlevzlVXXcUbb7zBtGnTmDVrFm3btuXRRx/l7rvv5tVXXz2iY2dnZ9O7d2/uuOMOTj/9dA4cOMDdd9/NhAkTiqcwh9GrVy9GjhzJpZdeytKlS0lOTmb+/PnAH+MTxo8fz5YtW0hMTOTCCy8MjE+oVKkSa9asoXfv3oFxiosXL2b58uXUrVuXc845hwULFtC+fXvuv/9+EhIS1D1RitWmTZvYsGFDqLNRoOAuapGRkQV2UTtaB1dgwR8ThH3zzTf079+fiy++OFfNsoiIlLz8ej0NHTqUq6++mnHjxnHqqafy1ltvARTYa6latWr06NGDzZs3c9xxx/Hcc89RvXp1IHevp2HDhnH99dcTGxuLc46HH36YmjVrAnDuueeycuVKduzYQXR0NOPGjaNz585FVs4mTZqQkZEBeHdVqFevHt27d+e1117jb3/7W54ZrN9++2327NnD119/zc6dO2nevDm9e/cO9LLMMWHCBNatW8fKlSspV65coBIgp0zBQ2VK0qG65N911120bNmSAwcOcNpppzFjxgxuu+02evToweuvv06XLl0K3SW/OK6pFfwewz766CNOO+00atWqBcCVV17JggULWLJkSWBM7jXXXBPoVnkkbr75Zho1asRdd90FeGN9ly1bFuh2s2nTJrp160ZqaioJCQlFUp5DOdz4hNTU1MB4w5zxCXXr1mXgwIFkZGQQERHB6tWrA/vkjE8AAuMT2rdvH5LuQ1J63fPOkf/vFMavO/b5jxuK/BwP9yyaCbAK00XtaGRnZzNt2jS++uqrfNcHTxBWnN8tW7Zs4cYbb2TZsmWYGePHj2fs2LGsWrUqsL569eqBiyHwWiyaN2/OiBEj8lwIAXz88ccMGjSIvXv30qZNG8aNG0f58uVZuXIlAwYMYNGiRYwaNSrffUVESqPJkyfnm57TQhssp9dSftq1a8emTZs4+eSTAz0KgUCPJ4C6desyZ86cfPfPafAoCXPnzuWMM87g1FNPLXAbMyMrKysw/LBChQpUq1Ytz3YvvPAC//rXvwJDDgvTRbw4hUOXfHV7PobVr1+fL7/8kp07d+KcY+7cuTRv3pytW7cGAr20tDSaNWt2RMe977772Lp1a66bkJ9wwgn8+uuvZGZmkpmZyVlnnVVigW+OcLhlgEhZUZguakfjo48+omnTprmC6YImCCtOd955J126dGHlypUsWbKEZs2aFTghV467776biy++ON/jHThwgP79+5OSksKyZcs49dRTA90CC7r3pYiEny1btgSGVTVr1ox///vfBc6Un5aWRps2bYiNjaVNmzaBeRAOlpGRwVlnnUVcXBwJCQmBuwSEuuvskcjp8bRp06ZQZ+WwUlJScl1rPvvss7Rs2ZLk5GR+//13AHr27ElkZCR16tShfv36DBo0KM8toQD+97//MWXKFBISErj44otZs2ZNYN2///1vWrVqxcUXX8zy5cuLv2BhQi2/x7C2bdvSs2fPwO2LWrduzc0330x0dDQ9evSgXLlynHjiiYwfPx6A//73v3Tv3p3ff/+d999/n+HDhwf+2eLi4gL3Dh01ahRNmzYlPj4e8Kaev/HGG0NWzhzJyclUr16d2NhY5s2bF0jPGZ/wzDPPYGYsXryY1q1bs3Xr1sDscxMnTiy1twyQY0/F4w1w/mPplF8XtXfffTffCb7Am1Bv27Zt7N27l/fee485c+bQvHlzbrzxRm655ZZARdnBFxVAgROEFZetW7fy2WefBYZxVKhQgQoVKgTWHzwhF8B7773HaaedVmBXr82bN1OhQgUaN24MQKdOnRg9ejQ33HADUVFRREVFBeYtEJHwlVOx9s4777B371527txJ9erVmTZtGn/5y19ybVuzZk3ef/996taty7Jly+jcuXO+Q2KGDBnC8OHDufjii5k1axZDhgwJXAcVR9fZ5S8e+tZFR2Pv1v2Bx6I+fswttYvsWHv37iU1NTUwhvfWW29l2LBhmBnDhg3j73//O+PHj2fhwoVERETw448/8vvvv3Puuedy4YUX5hmjvGfPHipVqkR6ejrTpk0LDNuLj4/n+++/p2rVqsyaNYsrrrgiV2AsBVPwe4x74IEHeOCBB3Klde/ePTCjbLAzzzwz0B1lyJAhLFu2jIsuuogqVaoEuvZFR0cXavKn4OCzpJTl8QkiwRpfVvq/uvPrYlbQdwsQuLVBznfLXXfdRZUqVXjvvfdybZffvAHXXXcd11133Z/NcqF999131KpViwEDBrBkyRLatGnDU089FfiOOHhCrh07dvDwww+TlpZW4O2catasSXZ2Nunp6SQkJPDOO+8U6SRhIlL6FVSxljO+9WCtW7cOPI+JiWHXrl3s2bMnV+80oMC7eEjR++CDD4iPj6d2bS+gznkEuOmmmwJ3WPjXv/5Fly5dOO6444iKiuKcc84hPT09T/AbHR0d6EXUvXt3BgwYAJCri3TXrl257bbb+PXXX4u14jdcqNuzHJVNmzaxZ88e9u/fz86dO0OdnUPSvThFyo5ly5YFvlvy+98tDbKzs1m0aBG33norixcvJjIykjFjxgTWHzwh14gRI/jb3/5G1apVCzymmZGSksLf/vY3EhMTOf7444t0kjARKf2CK9Zat27NjTfeSFZWVqH2nTp1KvHx8XkCX4CxY8cyePBgTjnlFAYNGpRrZuGy0nW2RmQtalU9mRqRtUKdlUM6+Pt/48aNgefvvvsuLVq0ALyhhzm9g7Kysvjyyy9p2rRpnuNdccUVfPLJJwB8+umngd5BmzZtCjQ2LVy4kAMHDnDSSScVT6GC7N+/n9atWweC+Llz5xIfH09cXFyuWxY+8cQTNG/enJYtW3LBBRfw/fff53u8e++9l1NOOSXP7+OECROoVatWoEv+kU68eyilv/lA/rSNz99T5Mfc8vMfYy4O7N9f5Oeoc9vDRXo8ESl6Xd/7e5Efc8/+P8bWO+eK/Byzrnj8Tx8jOjqa6OjowMSAPXv2DAS/+U3I9Z///Id33nmHIUOGsGXLFsqVK0elSpUYOHBgruO2a9cu0GI+Z86cXJPsiUj4y6lYe+aZZ2jbti133nknY8aM4cEHHzzkfsuXL+eee+4pcLKnF154gSeffJIePXrw1ltvccMNN/DRRx+Vqa6zt3f4R6izcFhZWVmkpaXlmvBpyJAhZGRkYGY0aNAgsO72229nwIABxMTE4JwjKiqKxx57jJNPPplly5bx6quvUrduXYYOHUqfPn148sknqVq1aiAIfOedd3jhhRcoX748lStXJiUlpUTucf/UU0/RrFmzQE+CW2+9lenTp9OsWTOef/55HnroISZMmEDr1q1JT0+nSpUqvPDCCwwZMoQpU6bkOd5ll13GwIEDc926MMc111yTawKsoqLgV47K8RXLk7XPG39RrgT+2UTk2GB1quI27oADwHGls3PSySefzCmnnMKqVato0qRJYLJAyH9CruAu4CNGjKBq1ap5Al/wJgmLiopiz549PPzww9x7773FXxgRKTUOVbFWkPXr19O9e3def/11zjjjjHy3mThxIk899RQAV111VWAeFnWdLVqRkZFs3rw5V9qkSZPy3bZq1aq8/fbbgeV+/foFxmvn3AsYoHr16vnO9zBw4MB8f0eK0/r165k5cyb33nsvTzzxBFBwl/rzzz8/sN9ZZ53FG2+8ke8xzzrrrGLOdV4KfuWo1KxSkd927WP/AUel8qXzAlVEyp4KV+R/8VbaPPPMM/Tp04e9e/dy+umn89prrwH5T8h1KF27dg3U8D/66KPMmDGDAwcOcOutt9KxY0fg0Pe+FJHwcaiKtfxs2bKFSy65hDFjxnDOOecUuF3dunX59NNPSUpK4uOPPw60sm3atInatWtjZiXadVbKprvuuotHHnmE7du3B9JeffVVunbtSuXKlalWrRpffvllnv3GjRtX4J0ODmXq1Kl89tlnNG7cmCeffJJTTjnlT+U/h4JfOSpDz20c6iwc1rp16+jXrx8//fQTZsbNN9/MnXfeyZIlS7jlllvYsWMHDRo04M0338x1EXm4e3HecMMNpKen45yjcePGTJgwgapVq7Jnzx769evHV199xUknncSUKVOK/XYrIhIacXFxuW45kiO/CbmC7dy5k7Vr1zJkyBAeeeSRXDX8jz76KI8++miefQ5170sRCS/5VawVNFP+s88+y7fffsvIkSMDtymaM2cOUVFRuWbKf+WVV7jzzjvJzs6mUqVKvPzyy0Dous6WdZseX1nkx9z/+77AY1Ef/+S/5x1LfKRmzJhBVFQUbdq0yTVp7ZNPPsmsWbNo27Ytjz76KHfffXeu8blvvPEG6enpfPrpp0d0vssuu4zevXtTsWJFXnrpJfr371/grbyOlIJfCVvly5fn8ccfJz4+nu3bt9OmTRs6derEjTfeyGOPPcZ5553H+PHjefTRR3ONpznUvTjB+0fPCZbvvvtunn32WYYOHcq4ceM48cQT+fbbb0lJSeGee+7Jd3yDiBy7cu5VKSKSn/wq1gqaKf++++7jvvvuA7yxpZs2beKxxx7jkUceyRWAtG/fPtc8BDlC0XVWyqYFCxaQmprKrFmz2L17N9u2beOSSy5h5cqVgW7611xzDV26dAns89FHHzFq1Cg+/fTTfCdiO5TgHgg33ngjQ4YMKZqCoOBXwlidOnWoU6cOAMcffzzNmjVjw4YNrF69mg4dOgDevTQ7d+4cCH4Pdy9O+GOMjHOOXbt2BWpJp0+fzogRIwBvnM7AgQNxzqkWVaSMumTaM0V+zD07tgDw444txXL8mVf+tciPKSKlnyrWyraaVWrkeixtRo8eHZglfN68eTz22GO89957nHzyyaxevZrGjRuTlpZGs2bNAFi8eDF/+ctfmD17NlFRUUd8vo0bNwau4VNTUwPHLQoKfuWYkJmZyeLFi2nbti0xMTFMnz6dK664grfffjtwL83C3Iszx4ABA5g1axbNmzfn8ce92WM3bNgQGI9Qvnx5TjjhBDZv3qyJI0QkwKpVyfUoIseeD6b8WuTH3LnjQOCxOI5/8TW6lilO/0gsexWX5cuX55VXXqFHjx6UK1eOE088kfHjxwMwePBgduzYwVVXXQV419hnn302J598MnPmzCEjIwPweiz861//YufOnURHR3PjjTcyYsQInn76aVJTUylfvjw1atQ47JCiI8p3kR1JpJTasWMHPXr0YOzYsVSrVo3x48dzxx138OCDD9KtWzcqVKgAFO5enDlee+019u/fz1//+lemTJkSuOm4iMihVOhW8KQ0IiIipV1SUhJJSUlAwV3yP/roo1zLwbNZ5wS+AI888giPPPJInv2DW5qLmoJfCWv79u2jR48e9OnThyuvvBKApk2bBu6Ft3r16sAU8oW9F2eOiIgIevXqxSOPPMKAAQOoV68e69atIzo6muzsbLZu3apZE0VERKTYVataK9ejiORPwa+ELeccN9xwA82aNePuu+8OpOfcS/PAgQM89NBD3HLLLUDh7sXpnON///sfDRs2xDlHamoqTZt6s+h169aNiRMn0q5dO9555x06duyo8b4iIiJS7K66RPcFlz/v52c+KZbj7t+yK/BY1OeI+uv5h98oiIJfCVsLFixg0qRJxMbGEhcXB8A///lP1qxZw3PPPQfAlVdeWaguyzn34jz55JPp378/27ZtwzlHq1ateOGFFwDvFkjXXXcdDRs2pEaNGqSkpBRb2URERERE5Mgo+JWw1b59e5xz+a678847D7lvzqzNOYLvxblgwYJ896lUqRJvv/32kWVSRERERCSM1apyQq7HUFLwKyIiIiIiIsXi/87pE+osBCj4lTLvvy9dFuosHLEz//J+qLMgIiIiInJMKRfqDIiIiIiIiIgUtzIf/JpZFzNbZWbfmtnQUOdHRERERERESp8yHfyaWQTwHHAx0BzobWbNQ5srERERERERKW3KdPALJALfOufWOuf2AinA5SHOk4iIiIiIiJQyZT34rQesC1pe76eJiIiIiIiIBFhB90EtC8ysJ9DFOXejv3wd0NY5N/Cg7W4GbvYXmwCrSjCbNYFfS/B8JS2cyxfOZQOVr6xT+cqucC4bqHxlncpXdoVz2UDlK+tKunynOudqHZxY1m91tAE4JWg52k/LxTn3MvBySWUqmJmlO+cSQnHukhDO5QvnsoHKV9apfGVXOJcNVL6yTuUru8K5bKDylXWlpXxlvdvzf4FGZnaamVUAegGpIc6TiIiIiIiIlDJluuXXOZdtZgOBD4EIYLxzbnmIsyUiIiIiIiKlTJkOfgGcc7OAWaHOxyGEpLt1CQrn8oVz2UDlK+tUvrIrnMsGKl9Zp/KVXeFcNlD5yrpSUb4yPeGViIiIiIiISGGU9TG/IiIiIiIiIoel4FdEpBQyMwt1HuTPCdf30MzKm9ltoc6HiISfcP3elNJDwe+fYL5Q56O4mFnYfj7MrJyZnRrqfBQ3M4sIdR6KS7h/Pp0/JsWfyT6s+F+dYfv+5XBB44rC7LciArjXzHqFOiPFIczeqzzMrEqo81CcjoXvlnBlZhEuzMdjhuvnsyxdb4blG1AScv5BnXPOzFqFUyCVc2HqnDvgL59uZvVDna8iVgMYbWa1zexmM2sb6gwVpZyKGefcfn85bAKooLLlfD6Pz0kPbc6KjnPugJlFmlky0MfMKoY6T0Ul6LvzgJnVNbOoUOepqBz8GTSzhmZ2H+QOhMsiMzvXzM4EcM7tAe4G/hHaXBUt/6slrC++zSwe+D//edsw+24pd9Bvw4k56aHNWdHIKd9BaWHzuwcQdM0yyMyahjo/RSnnc5jz+fTTyvz7l1OGoPeul5mdnZNeGssYFl8IoeCc229m1cxsCDATeMTM7gx1vopC0IVpMzN7EkgBkspSrU5+LIhz7legMrAS6AT8HNrcFR2/fDkVM2eZ2XzgsrL+/uUIKts5ZvYWcG1OeoizVmTM7K/AB8BfgIFAw9DmqOj4353Hmdn9wCfA62aWWBp/II9UPp/BakDLnAqassq/CH0TmG5m95hZRefcFGCdmY0Ibe6Kjv/Vst/Mos3sn2Z2fqjzVFSCLlAXAbeY2ULgPuCUkGasCDnnDvi/DY3NbCjwXE56iLNWJILKF29mfczshLL+u3fwd6OZdTCzr4E2QHZoclU8giplepvZ52ZWt6y/f/DH757fUDYF75rlXuBZf5NSF2uWugyVVgcHDmbWHMgE9jvnooHXgVgzuywE2fvTDq4ZNbNuwDvAV8D3wJVAsxBkrUgEtTY5IKemez6wA/inc+67slw77NcIx4L3ReQv9wBeAZ50zk3NqZUri3L+/3LeIzO7ChgL/IugqfPLWgDl18Uc/L/XArgG6AmcC6wHLsxpxShr8infGcBUoKpzrgmwEK+8rUKQvT/N/F4VQbXct/i/DwAnAXudc9vL4Gcz8L4551YC44F5wAXA82bWDvgr0M/Maockk0Ugn5a0Xnjl3AosCkWeilJQa5Mzb6x2NWAx0NA5d5lz7tuy9tksiF+pNgHveqw5cEbONVlZLWPw/6FfvlfwfvuaAI+bWadQ5e3PMrOGQCczq2leL7z6wIXAHc653v5ns0z+7uUws/JBz8uZ2fNAf+Be59yPocvZn5NPTHQJ8AywzjnXHrge6Gtmjf0KxVL1/1dmL/ZLknldgHOa8xsAOOdW4AW/sf5mX/l/l1oZGk8TVBt8cM1oE2CGc+4NIBn4FehgZpElnMUiEdTa9DjwlJmd55x7AngAGGtm5ct47XA1oIt5Xbj741VWRAGPAz+Y2Zlm1s3MaoY0l0co6POZE7jnfIGeDnyKd5F6tpldbmaV/Au8UvUlWxDL3f23npnVyVkF/A7gnNsLPA90AWJClNWjZrmHT+R8d+wBagFV/eWX8Sqk2ppZ1bxHKZ3M7FIIvEcAOS0YUcCTZpYIfATEmFmLMljD/5qZXRnUMvM+kAW8BHwBPAacjRcgltnuz0GtFj3MG/7SFbjNOfcwcJx/gV5mBf3/XQ/cChxwznUCvjaz4f5m5QvYvdQqoLL6dLxKtbOAO4BJwAAzq1wG//+AXO/fuXjXm9875zoA24CzgDI3pCkocPoJrzLtPbzvyn3AacAQM0sxs5eAhWbWMiQZPUpmVsHMbjOvh0y2mZ1gZn2BE/Dirr8DP5tZgpm1CW1uj45/TV3OzM7zk+bh9aCsYGY1nHO/AC/gXb+Uup55Cn4LYGan5PzoB3UBngu8YmbPmTfGtw/Q0/+AbwK+xHtN/xK6nB+ZoB/+Lmb2jJld46/KAnaaWS3n3Ha8i52/4tWmlnr5tDa1AWYDm4HpwDNmdpFz7lW8H49eQduVCZZ7/M82vIDiYeBy59w7eF9EXYD7gb7AcLzubmWmAiPo83m1mX0EDDOzrsAbwBV43Wp64ZVtfPA+pZHf8tIEAj8eEeZ1G/0SeNm/QP0R2AQ09rf7EKgPXGJmJ4Uk40cguBXQ/+6sY2bvAePN7FG8C56HgFPN7FTn3Hq8XhhtgHahyPNResnM/uZf2HwGTDSzW5xzI/F6XNyJN7ZyKlCmKp18g4HWwPVmdpxzLqcX0Jl4Q33u8NefDvzVzBJCltMjFFxBZmax5o3L7otXoZ2O1xX/NeBJ4JOy3HpoZo3MbBxwOd4Qn4n+qtuBv/kVv/vMrHqo8lhYFiQoKOxoZh38TaoAiX7F4hbgQ7zAvl/O/qHI95/hB0ivABfhVXInm9mnQAJwhXNuZll474IFVWZfBnTAuwYb6pzbiPe98hzwBN530CzgklDk8084GeiIV9kEXmt2G+fc78BuvOuWvwPD8H73O4Ykl0fAvDG8rYOWewD/AYaa2VS834WX8Sq1c65xhgLt/W1LFQW/+fBrpQbht0yY2XF4gd+/8C64t+P1Z/8BmIx3oQOwBi/AyijRDB8BM6tsZjfl1KSZWQ0zG4D3JbMGeMC8LqVfAnXwavbB65q4A+8CtdT+iPi/i8GtTTk1jBuBv+GNXx6A92V7hXldav4B3Gxm/wHus1I8AUjO655TRr+ls4Zf3v8BH/NHV73pwE3OuW7OuTvxvnCrOOeyQpL5QrK83WkuxhvXOxDYC4wAHHCmc66vc+6vwM3AbxbUxai08T9X1wCn+stxeN3XajvnTgEexWtN24o3Fv1681rre+B9ftsBx5V8zo/Yq2Z2GoCZnYB3EfMFcAuQCNyGF+Av8p8DvItX7h0lntsj4Fc45Xw+e+JdvIzGu1h7Gm9uhNF+5dNwvFaNwXg1/mVq4h3n3M94rbynAyP95HFAXbwL8cXOuUHAa3i9nkp9j6ec9+6gHiIX4pXvQefcT865p/He2384567De3/PytkvBNkutHy+O0/Hq4A5zTnX3TnXzUu2/s65ZUAqMNUP9AeXfI4Lz8xigAY5w5fMrIF5XUgfBp4ws37AOrweCncAOOfWAAeArmZWrwy+fy3wKga3OOeG4XVXXwZ87pzr5XcLPhvo7F+nlkoHXy+a15j0PN6wnv54Q+xizBsD+7tzbgZeJVQzoCVlYE4W/7ch5/v9R7zvygvNLBrv+3K+v+4+oIdz7kbn3OV472mpbpDwK91rAt8FJV+G9515MfA2MNE592+8XqLt/XIDdAe+Lcn8FopzTn/+H15lQLmg5fZ4k0FUAL4BWvvppwGj8ALhqnhfrq1Dnf9ClvEkoHnQ8oN4gW4Xf7krXp998Prsz8JrufgP3kXAf0NdhkKWsx5eLdQgINpPq+GX5Uq8i9HFwJ3+uhbAeaHO92HKVOWg5arABLxWmNF43S1b4v34n+1vY0BTvMA3He9LN+RlKURZI4F4//kQvB/Im4ElQH8//TigAV7XmpXAJaHO9yHKU85/jMD7ETnPf5wFvBi0/l1grP+8j//eTsar8Z8GtAt1WQoonwERQc/b+c8rAGlAC385EXgVb3xvW+CznP874LhQl+Nw718+7+cbwOqg9Gi8oL6Jv3wqXgXHK6Euw58oezX/c9rD/5+73H8Pzw513v5EmQbiXYSe6i+vAG73n5f3H4/HC6JWAOeHOs9HUDbDa8XO+Z/r6/+fxfjLffAqgev77+c/gL+HOt+FKFcy0N5/3gQvmHjcX+6BVwHVBa+S8Ae83/ln8cb/vg50CnUZClnOSOAqvEpRgKeAd/3n1fEqUJf65XvG/+3rFup8H6I8EQct18a7RvkU/5oGuBiv8vBSf7kKXqXpp3it2yEvx2HKGBw3VPUfj8ermJmAdy0avE0EXov3FGBuzu9Fafrz89goaLm8/93fF+/a83OgZtD6NOAGvOFZM0v7d2aZqYUuTjnd9JzXkhY87vMBvItu8D6knf3tvsNrFa3tnNvhb/NrKW4NDXSPdc5tBjaY2cNm1h2vP/6PQE3zxkzOAlaa2T+dcxPwgse38C7W5wH/KW0to/nUlg7AG0PyGV6QO97MauGNK4wF3nPObQV2AY3N7BTn3DLn3Kf5Ha808PP0LzO7x1+uAjwCLHLOXYLXMnonsAXvS+l6f9ez8VqfNuBdOEwt2ZwfOTP7C16Qe45fk/or3kVMUyDROTfRvNvj1MXrhr8HL1CeGao8H47zuv/WwAuOrsLrDpWNNyZtP3+M570RuNXMWjvn3sS70PkbXgvjiXi9M0oN88foOs/+nOd4/3NPOm887FqgrnldZxfiVVjE47UWvow3oRfOuX0hKEKhuD96kvQys+f44//rb8BpOS3deF26F+O9zzjnvsf73lzp718qfyMOxTm3Da9ltAFeTf90vIri6sG/LaWxVTufFqc6ZpaGN3v6TrzhLy3xguH7AZw3Rq8ScA+QhBdYfFKiGT9KZnYR3vd/K7xx53cD/8YLIi4H8L9XKuJ1Bc4GxjjnHg9Njg/N/DlWAJxz44HKZtbTObcKr6dTzvdmTs+RNnj/fzfjVbT95D+viBcQlyoHt9aaN+wsA+/3/DnzbnU3DGjl/yZscd4s6yPxKgD24f32pZZszgvPecN7KprZXeaNqd+M93u+nT/mzJmDd43SyczexesR9Ipz7jzn3HtQOr9fcvi/75XM654+2byxyhF4n8vT8H7XHzGzYWbWCK9S9ErgU+fcBf7nubQ5Ba9HQTfzJgHsBJyB1yiYhfc+3h60/QeAOeeW41VKle7vzFBH36H+w3tDP/Sf59TS9/KXW+PVZrTGq5l6B7gOr2ZuJtAz1Pk/wrLW9x8rAXfh1ZRWxvsAP84fNcNn4LVmnxz0uszA+wGND3U5gspz6kHLOTX2bfFqtc/Cqx3+H97FTRW8YD8NrxX0YeCEUJfjMGW0oOcX+fk+wV8ejvfD/jZeF+dT/PSGeMF/Jl6AfGKoy1FQ2cjbotbGf39ODUo7E6/29Fp/+VK87t3nHfT6RBRnfo+ifAeX7R3//aru/7/djtfyMg64CajhbzcSuN5/Xh6va+KwUJcnn/L1BO7zn5+Ad8Fygb/cFPjNT/8r3tjJnN4lU4BzQp3/w5StBd6YrTr+cg28YS/v4QXua/AmRQKv18VSvF41cXi9ZE7111XAnxwq1GUqgtekIl7PmVtzvmtK6x8QWUB6B7zuzOD1qJgDNP7/9s463LKq/OOf7zAwpAw9goCENDg0OHSIdAkiSAgonSL5oxtEOqQbaUFAurvDAZQuQVDpUuD9/fF999w9h3vhDszcs++d9Xme89yz4+y71tn7rLXezu1rgOO/7hpNeXU23uE4wiqG8v4cN8fBLoonAcvkeYNpoLWpk/6cBgzBwvxi2Y+389hs+XtcLrcXzN/oz3O7X/bzBlyma2B9vmhzv4SNKbPldjV3nwjMl++Xzf7Nij0Q/jwiz0I7+9ayvShWSFSVGa7M/X/Ac2A1702Jhf5jgYFN7FutTV/yBMKW6mPxOvNyPI/Pjz0WrsJC8EE5P6zU1H5V9w/LOefh/COX5b45sYy0LhaOX8736+Q9Xqbdfeh2X9vdgDbe5MpFbwYcs3sSdsU4FC9WNszjh+brO3QIwA8DO7e7D93pX74fM/v4XP4458CW6+Nw/Ot4OFnQxtWgg+Mpq89PQMPcZfHC+3gsmM+J3Zp2rR0fgoX1GXMSeRZPoAOwa8bCtXMbMSG29G/cLvafgeNClRPjPdTcgoDB+XcqGuoim+2ruwBNVhtw1wBOyPcDqr/YAvM4FvKH63OT7iG2+J1Nh1vsdLVjPwcuyfer5W9uemDJHFcW7+KaY7e7Xy3tqcbOtbCr2k54Qj8FW1qWzeOnAOfn+81xPoSHsCDciPvVSd/Gxwqjp7P9T9aOLZ9j5XbYWn0LHQrD17HF7Rxgm/pzSYNdEr/B9/N9HJs+bbvb8hVtXB4vPMfEi7ktgR/nsR/huLWhLfdpbLw4fYN0W2zqq2XsnBwvpCfDirJTcox8AOd7qM6bCCtp9mnqb6+L/m2LPWNuBRbLfbcB+9aOn1s7f1Nglnw/RfZ3tXb3qbP+4bnuZmxIuTb3DXNhxuuuXYGdcvvN6jluuV5j7ictQmHu26zqQ24/iNedc2HlzFJdXKsx/eqqjzkfVGuXC4A18v20WLj/MfADbBWtlPeNms9rfRlOZsi/+2G5aL3crpLDnoaVvUtgj5m/0HA35y/1t90NaMMNHqbZyG3hTHJPVoMk9mk/Hlt8J8E++dWANA4wTrv78RX9a9W6rZk/wK3wwu43wNV5bC0cuzVlvj+NjI+tf1/t7lNLeyrr7hx4EbY/zui4CXAXaWEBVgGuyffT4UX59q3fVdP6l+1aNvs1dm7/Glgi388CPIEt21tj4aOKjT0GT6YTt7sP3exnPxxa8DIWOObH2v3rWs6bNM8dF/hhu9vdjX5NmuPETHii3ygnjbmxdngAFpL3AA7Nz2wHTNn6fLa7L63tYfiJvz+OF/wzsFbu2xpbWpTH36w9u9MBk7e7H1/Rv6lwCMix1RiPy28MyfdjYM39ybl9CXBOvl81n+Exa9drnGb/297/+t+mvehQlv047+FvsOfPmTnGrIkXomczvGC4G7B+vh+r3f34iv61WptmBf6Wv78rcIbZXXC4T7V4FXAInvunbOq966Sv/bFicDu8NqsrtmfBLs4TY6H/WmCTdre5G31qjX2dGytiLqVDobgFwwvzB5JKGlLR1sQXw6+pp8Hx9IPz+TuR9BDK40sBd+f7k7ACY+yW6zVuXdbSvqmxNfe8/H0NzL/rAN/Jc46nIyZ9dWDBdre7G/2aMO/XsaTBC6+lTyXXXliwP4Be7s3UWB/6UUV0ZMhdXNJd2IXtdmzNrdKpX4zjgZbDrnt/BgbL6fM/joiP29H27hD5dEpaTC4vsg129R0Yjk8+AcfNrIvdKT8ENo+Ii3HSi1dbrteI2re1LJ2f5d+/Ygv9fMDtEXEa1iYunTFcrwAfSroEL3b2xsJhdT2FaUT/YLj4tM/xYLq1pLtxjMXxkn6DLUznAQdFxHE4nnJfSfdioWqNiPhPjzf+a2iN18nYtNNx2v+lcQmVPSPiduBTSQdLmkfSetjaPWtEfBQRj+XnGxGXnXE+rZkaB2AN/rvYErEY1qB+gF3zIn9nj+E6opNHxNHRUvC++i03her3ImkuSWfjRejlOOZ6hjznOKyo2Cp/q0fiuFgi4oVwBuFGEhGvYYvgExHxsZz1fhpgFklThGOav4stvODf3jwZi3dFROwcLhnTL6/3eWf/p7dSPY9Ney4BJC2EwyDAwtIrOOzljxGxERaEt8bz3ZW45Nshku7EXkJ3w3A1mxtFzldV3Pkako7EFt/1ImJlnAH4QLzg/gw4UNLW2Etmaixc/aOJ964LdsSxrqdiS/6uyhr1EfE0zkNyUbiW6J44gRfQvLj6Wr6Vz3N7i8x03B97xPQHppc0FvbmGiTpaEkbYkX4K3mpJ+vXazcya8rlMKt153J4vv4BVu4ehBW+22b/wLlW7s/3+0bEMRHxSf3aTVmXyaUI95RLLU6f+ybFfboRhw8OwcLtRzhsa/XaJR4EiIjLI+K+nmz719HJmmxe7GHxd3LNLGnZ3PdvMucR9oJ9FLg7n4FGPI8jTLul75548WWN6fbYLWjN2r6F8MCzaG4vhTVyi7e7/d3oX6tGcXG80P5pbh9MJizJ7crSPQD/WGeufbbRmmGsLT0O2Du3D8/XpLW+VrV7Z8RC7wxdPQtNeXVyD7fDi7QqPm0hrCVdBVsW7wJWz2ODaHAMHsNbCytr9sI4OVflCjQZrj/5q3y/O1Y6XUnNBb9JL7yoPB1YoZNjhwFn5PtJ8ASyIXa/Xzn3j8PwGvPG/fY6GTs3y7FjCzqsFVtjrXeVDX8Z7BY8qN3tH4F+Vn2ZC1tjrsIePxvgOLXLsLV+Sxwbeg1ecC/0Vd9XeY3SezYNtvJOiBVM52NF9r45Xp6LF9+Vm+kVZLgSDpVZh17kko4tLgdhwe/wHEsq68wkWKBYOMfPX2ILTmNj8FrHO+wZUs1pE+VvrnK3PBs4u/Y99M/5YdyurtfuF1/2lBk/+3EZGZ6U+0/CSceq7amx0eKcBs99G+A19AXk+gpbe9+kY905IU5WOR1Wgv4RKyoeBHap37Om3bts06bYxf5ibOm8tdavG8hMyKRxAq+l18Zrlrvzu2lkCAXDrzsWxWEfk+ccN1P271YcaiYsU1yC5/W9aHg+hG59B+1uQE/d4Nq+sXCymSHYcjFXPrzfqQac2rmNTsrS0q8JsJtJ5fp1Dx0uF7PlQPpT0q0LC4jztrvdI9C/ibCm7RqspLgNu0UthF00VsvzBmBN6dItnx/O3b0JL7x4OwaYJLenrO4Jjlc6NwfV6p4dAByd7zfHWaubOnG0ujFNhd3qfwfMlfuOJ0vA5P1ZLCeNalIZVPt84/qY7ToEK1imadn/Xbw4qJI8zY/raH4BLN/6bLa7H130rVXwHTsnwFny/dRYwTQwx9Sta+PP+jjmsnH3ras20SEk7Q88VNvfH7uXVrHMPyeTXZVXW+5fP5yH4wXseXA+jiV/Fbipdt4mWAlVua3PhWN6Z2l3H7rRx86SWW2L65xPmNtH5phSJWXbBHi63W3v7j1s7S8O7zm/Nv5viAWmQXh98zJWYNxNQ5M4dtHXyfAaZXos+M6H5/qF8NpsMrye2QALTou1fF5NGkexwulmagJ87h8XC0u/rO3bHc/7Y2Ah6zAanIuk1u7Jc66uyoVNhZUUY+a9+wP2WKuUpnfQocifnDQ0NfmF15+X4nXKD3PfxDiMoOrLQ8Ae+X5WMoSpL7z6pNuzpNUlLRZ5xyStJ+kSSSvhgeR5nAhhP2wFPhPXh7sDmEguGk5E3NXzrR9xJG2KB539gbMlzYgth8tKGhQRT2Kt8Mp44Uq4wPZD7WrzVyGpfye75wGej4gVcIKdW3EShXvxpLiApJki4lOcFOKm2vUU6e7eA83vFpL2wRPda8Dbkg7Ggv0Gkn6PywBchl1Kl8yPXQ9Mle73J0XEatA8N0RJswMHV+7Ackmti7El7VXgGEmzYreopSQtEHZzegTf15kBIuKN/PwYDexjNXaegQXA+arnVlK/iHgdK5h2AoiIByLicKzJ/0v9WtEQFy8ASfNLGgzDyjcsL+l3kuYLu6YNxcqn0/B48zgWgu/Fv9FZ87PnRMT/GnjfNgOuljTNV5x2KDChpEVhWKjF/dhST0RcEBEn5PX65BzacDbFbvYzRsTqeBwZiLOI3ylp+TzveuwCvJCkgRHxOHbBf+XLl2wOOX5ULrIb5fgJVhY+gy3WYMFwDux63w+vY34vqX/Tn8vocOHeT9K2eNy4BCs01spzzsIJ1raNiPexx9rZEfGjiHg7P9+I8JeK6nuvXEElbYJDzd7Ec9+DeF7fFSsuLsPC0p5YKP5bOPRn2PUi6cl+dEbNvXUy4M2IeFTS+JKmkTRVRHyEaxJvLGmiPPc14JmI+Dwi7giHhtyT3rKNfUbD4Tmn01FK60xsMNsfe6w9j93xF8/jb+CEskTEmxHxYs+19huzAfBgRMwfGU6G5YM3IuJ8uTzos8D6kr4TEU9FxK3tauxIp93S98h84Xi6K3ACpNmxNfcsvPBeHj/Ae+e5k9Q+tw+wdb6ftCfbPIL966w0zFRYiJoqtw/HFsLpsJbtD7l/Iizof6d+vXb3qaUvrdbCleiwEv4MuC/fj4lr+N2K3bxmwZq4BVs+36j+ZZvWxwvpF4F9ct+Pcf1McGKyv+OJsbJwPIS1/k/i+Oy296OLvi1ER0bOMcjkaXl/pqWj9NTDtf7uCNxfu0bjkgRhb5Eu3Zfy3hxNS0ISnAnyTmCzTj7TqGcTCxMX5G9qjhw7T8QKi19hgbdyZ5uJjvIUB2MX6LFpeOkUrOy8MceOsVrH0jynSqi3PVZG/QjPJ9dRmzOaeA9Hhxe2wl9KR3mb8fPvuvmsboO9aSor/no5NyzS7rZ/Tb/mANaubc+MhfmrsSt3NY+vlvNB5WGxf/5Op+zpNo9g/1pdnOfGisNzsCD4LBaA18j+/CjPOyX7P0PL5xs1T9Bina2NIwcD/245d/La+0PJ0LrqM519X016YQvuFVj5cgNeXz8HHJjHb8DZf7fHAv/PWz7fSE+nTvo5Hq6j/DhOJDcIe+OdkfPdVthK+jA1t/UmvWrjYPV3WTqsvPeTIVtk+ED28Wqs3H4ux89OK4/09lfbGzASb/KyODnVjrV9U2JrRD8cK/MIXnxXMXfzYW3qA/Qicz72y6/cMSbPh7gquTGYzMyG3Wz+QcbiNfWF3UduxsJuFav7UA6gV+a9myUnylXzM9Pgxc7peX8bGVvR0s95cXmUIfm8Ho9jz/pj5cSp+T2sj92gZsjn9y/5HTTaXQhP9Edjbf2MOWn8MI/NTIdSajBOCLVSHjuPmtKJBk38OendSOYCaDlWxSsNzOewNYPs3tgq2sjSBrW2rkl6w9T2TU1H/N0WOY6cSUdOhJlw7M9fyYVqU1+1+7Q78NuWY9/BHjGdCcJ/BZ6il9Vz7+svrKSplNX1mMr7sGvivljRsQfOkdDYLLnZbuGwiOlze17szn1Gbk+Kk+NVAuE5dIQ0TUmL+2nTXq2/rZwbbgRurO07FAvyg3BysnvynNOafv9a+rYwFpD+L+fviXMerBSHY+H5fsm8x7cCk7U8C42Z/7ro4wAsAJ+OK6MsgxX4F2Hr/HxY6P0laZTpra/sw2W17TGB98gShnit0ziDWVffOzYG/o6Oyi/7d3Jvx8ehPfO1ux+j8tVYt4NvwL/xja0y4u2MJ74ncVzeJNjydCeOJQELXW9hoeLWHm5vt6i7hkjqJ+kQLPQdme9nwgLiPAAR8SgedAdFxPM4occjtWs0JjNbZso9HmepPBNPdoFdSS6MiOXxQmZM7KJxPnC0pGWwhftpPJHMHhEfNKlvnRERD0XEkmF3+mdxMoi1wm6V3wU+j4il8KQ4Ic7o/DBesO8eEfe0rfFd0OJ2dgJu95CIeBZrgNdNd+DJsCV4KHY7/AK76w2IiPUi4l/VRSJH4XaT2TYXx5bPe1qfr4iIdEt7B1sJB0vaTdIjOGHexRHxSkR80mQXL+waeg9WxlSuwbNh9+DD8WJ8OaxkWjKzdm6GFVCLR8TdbWl1N6k9Ty8Dy0n6vaT5ct8keH6oj7NV2MVPImLWiLgk9zfKxXJ0JH+DtwE/yCyzX0iaIA9fh90Pr8ReYONFxJU55jQOdVQwiIh4AIe0HBwORxoKjC3puzk2XowtaeD40SXTlfsfOec3DnVkPf9C0sTp4jxvzg1nAR9UIRbAUVjQ6B8RR+B45pMjYpMG379WF+cVsZL6BJyz40is1D4QezgRziY+CS6N9peIWCKcsZo8Hu2e/yTNLunPkpbs4pT/hl2YN46IcyPixoi4HguF70fEg3idPXtEvJZu+I1em30FZ+GQuhlzex68Tv0AICJerK9dmkCGnd0lafLc3lzSz/LwQVhmWAgrZaaXtJOkQZLOB46JiA/CoT0PtqUDPUSTF2QjyuPYgruNpCdwcourcB9nBg4Ox4OOjyfOxYDDI2KfFD4aRcZE1MsbzIFd8GaJiJmBjbEWcQguqbK8pK0krY37/BJA9QBXg0+7B9YWpsKJARaKiLPxoPo/bLWeKc95CgtRg8KxkvtipcbV2NI4No4TalrfuiQFphdw4o5BGVs4EY5N+y7OKHtjvgiXdWoUtYVbFZs2TkS8gi3bS0qaDidBWhAnshoKPC/pSqy8ORE4IH+TTY2dnBR4L1yi57MUdsfOOLwqFigAUkAaE1tRD4yIZSPiydrvrjFxva1ExBU4Jm0/SbfjxHgv4P4sDewQEU/gpDMLYm+F3cJ5A/7dpmZ3SetCq7Z9IY4rnAE4QtKfcTjMq3hOaC2n9mp+vn9u96nSRb2RHONvwXPcernv/Tw8M87I+hBW+u7enlZ+NbW5vfV5CqwQ/CG2ov0LJ+MkIg7AyrX1I+J+bAV+pyfb3V3qQm9uT4MF9rlwiamdcP/eAxZOBejrOB52vPzsRRFxUf16TaG1f7V1xxRYWBobWAJXZHgex/W+LunAPO/NiNg+Ik7O6zVGqZYC70U4Xv6xzs6pr7NSsJ1E0mHYbb0SBPfEisaJq7lzFDd9lJD3eC3gIkn7YQXxVXWFRVOozV9DsTL+t3loYmCRvBd/w+vOn2KZ6VjsiXcZMDQiNuvpdreLzhILNR45Ac7nte1+EfGZpDuw28m/I2KD2vH/4ppVP8B+7Kul8NE4JE2LA84roWAwtnqOgxduU0gaNyJekXQ9djM5Aj/IP8MD8G/CtfCG0dDB5xNcc3gJLMjPImkcXENsHUnfj4gX80ddTTRnSDoPC1RXYMH4k1xMNKKPqYCYCjg+OqkbWROEHsRuwKtFxG/kusxn4UXQhpEJn5pITehdHGvtH5V0Y0ScJWlh7J5+lKTLsGvUY1hhsxZwbdgrofrtftFQ4fCPwJaSrsAlKh4G3sZW0KtgmPW3Go92r2uBW8epJtDJ2Fltn45zBNwdEbvWjj8PnCPpXTxf7NFUSxN0/p1X40K4Bu/cWLt9UwoZS2Ft/iXYxf2q1ms2UTk6OhMRf5N0DbCPpKrm5JZ43Px7nvNp+1rYNfV5KhXwe2BL9aMRcaekG4HtImJjSc9hgXdoOGnlFth7gWipi9okakLvajgW+z3s4nyGnEx0N6y8PgfnJ5lf0szYI+jFrq7XFGr9Wwu7Lz+aguw4OMHhw3j+e17S2Dj/xdHAT6v5Lj+vME2aI8YBro6IY+s7Ja0eEZe37JsMz4V74NjXZSPio+zjM5LmSWNGryacoOtdHN40pGlji5yM6r3ammxV4J/ALyT9AXtM7oQF3pOxAP8clhlOjIh7U6b4qD09aA+N0qh9HTWN2+eSxpUzxkKH9eUV7Pr0nqSlah/dFGv9z4yIDZso+EqaWtK5OO7zF7lvcjyQRkRUE99dZIa5iLgWx16MERG34XjnNSPiwVbrR0N5CwsYZ+GYn2nxYPojLBSeKBdN3wF4o9an6fGideuI2LUJmsVU5g/IwWZbbDnr/1Va3bSa3YUzy24UEXsDP4uI5Zoo+KrDzWsMSRNKugS7b+2CXbV/KWlNHHc3n+xaegJO5rJIRLwVESfkoqBfTv5tX9h09VuJiNfoKC+yKBaA98AJk+aVNGGe93n+/VdebzireDup+lYfO3N7ivp22LJ7J1YkzVi7xEa5/8mIWLmJgm/1fVfWNNnF8kh1WOfr9/he4DeyNfcVHG6wI7B+RHxJ8C00k7AX0A74t/lL4PKIWD4i/tHeln2ZtI79AIYpy8aUtDVWNh2Rp/1O0gA8H04gV6a4EMfez52fvSkinun5Hnw99TFU0kA5XGJtLODODcycY9DjOIHVthFxAw63eBfnG1inaYJFhYYPP5tc0q44HOY2YDs5VCTw+vP4nOPmoqOm7+0RsW19vmv3mqUL+gOTSTpD0twpvAPsknN73YvwLTw3LB8RO6TgO0Z0WMR7veBbY5m8f415PuXKDJfi+Nxq37FYufQ8ViQdHM48fS+whKTpcZ6LZ3GI2tgAo5vgC/SOhFfYBXbs2vZvcZKnLfhyFsHJcSD3ETQ/0UyViGVd/DDugjVvC9CRne044IF8PxGupXktdtfbFWe+nLTlur0im16tvbNkvyfK7Y1xHN62WJD6ZTvbNwL96IeTN/2w5f4OoIu6b9nv9cmMj018Ucus2fL+ReDPte0l8GQo7JJ+JNZ6f7/leo1I6EHn2dNbt3fHcdnV728FHGt+H8722Kiso530caqW7fVweMjawJj1+4ET6Z2Z54zTtPvVRf8WAK6oba+PF9iHUstsXzv+HWx1ugTX7j2IXpJltby6fAYae89yjJkelx5cIX9bi2CF4BhYcH8IK7mPzM9UCQ8HkIktm/rqbPzDwu7zuBQh2DvtKrK+cs73N+FESQtipeKSeayxaxdgrPy7PQ7HWiO3h+Rctzxeu9yFlRhDsZBfv0Zj+1e1D4e6PIjXltfgmOUjcJLOMb/ic439HfalF44ZPyHXIJvU9o+PXdardfQgnOB3ldzeEyf9fYRMNjo6v9regG7c6MVyIKlK3vwif5RfWtjUPrM4tiYu0e72d7OPp3fW1hxQ+uO6YovnvgmwsHxKThqD2t3+UfB9nAts2dn30e62fU27B2Ft/gU5qVfCxdbAqb2hD1/Tv61zMqyUNPMBH9WOT4GtFZNhV9INGT4bayMnR2z9+zWO8a3uWVWq4mfY4+L72DPhGOxiOUu7292Nfg0BXq5t74AXnTN1cm6lbNsMK3C+dE6TXtViCwsI92CPCXAG6lXz2LhYoG8t9zAg7+X3atdr5LNZXr3zRU2xls/b+TgZ1x9rY8uq2FI4IU5A8xJW9I+X41FjS4zkGmui2vb2+dtbMbe3I3Ou5PYpOAN3le14ATqEycOrzzXl1frd51hybt6X8fH6crdaH84G9sz302JBsfEVKLro+0/oWK9Mnvfyn1ioP7bd7RvdX3h9+XDLviH591GyZBpWrh0K3FY7b0EarrDvqVdj3Z5rroO344QkS+ehMfAPcmk5wdPhkubPz4yZ59wP/F80NINzHUlT4oD059IVD0nzyoln9g3Hm+2CF91ExPsRcT7WKG4QEW+oYQkhRpR0C5tO0taS7gM+x9ktq+PDJZhoKmFX5RNx+YmjgCvlrOOvYVe2fk3vAzjphZywqtqeUdJZOBHZUfn3MBzHe62kP+WzuwgWfN+PiIcj4qxouJuXpB2xJ8WMWDO6KQyX9OhCLPDvDfwZeCfsuv10fr5x4QW138tdwOOS9sxD72BrxHclrSVpY0lz5rFqDDkTu+39vQebPMKE48QDa8FvxooZsOvhttgN/ywsbKxdfSb/fhoRL0XEqzX3+8Y9m4XeS5gv5Ljyw/BzegfOAP9Zjpdz4PwH72Ll2nvAxhHxYUScHA10RZT0Y0k3YGF3sZy3T8RhSM8Dx6R77G24PNoW+dFjcKLKmcJhSvdHRz6MPSLi6h7tSBdIWlrSzeR6U87BAvApNrqsiceYq7Gye7k8PhSvW8ix5YZwBYomJbNaVI4zr7ZnUWZKb2nna2Quloh4EyexugzPjXv1ZJsLHdTW+UcAY2Wo3SqSHsTeFWCPyT1gWEjThziL/Jq5775oQDhWE2hcwit1JMD5XB3JS87Ci2rCCXWWw+U33sAauZNxLdv/5Tkf43iu3sB7WBszbk6Kk2P3qAdwsovFIuIPkg6U9MuIOAOG9XHY99W21o8Est8T4GyQu1RKi2pR2rT+qZOkOrUF9D+wtW39jDn8BbYUTgecJ2mXiHi551vdPSRNjC1/z0o6KyJOw1kc18KJua6X9AqwTu77FfA6HYXfjwuX9lFERFMEi1qcUtT2TYxrLP4wx5SjcEbqqu3Vfd4CjzMDIuI/1fXy2Wx73ypqY+cXtXFhR+xeCHZlWxm7Xr6Hx9RlJa1bE/Y/xdkgG0VO/KsBL4bLfyHpoNx3BRbot46I/SX9BS/g3sGC8MCurtu0saXQe6nPC6mIXxO7wR4TEdtJWgP4iaSnI2KopH8AlTA5AMedP9qu9n8duYDeA2d6vy5/kwOw4nC9iHhT0mdYCfostvxuJenKiHhC0jrRkogThpX/aSsZ23oEXleeAFwnaQbgQUkLRsTfJd2KLbo74nCJRYADJf0Ue0H9ovW6DRM0fobz4fTD7f8c+FDSSrkGq+aMf2LF9uGSPsHj6B4R8RT0jTVnbyTndYVz+tyFPdL+CuwaEVVlkD9KWk/OHzQdzj2zXEQ8176WNxM1aO02HJI2xS7Pv8fJVv7b2Y9Ozii4GH4A2j6IdoWkiSLi7ZZ9Y6SQfxgW3pdNjXC1gD0UeDciDpKT0LzQsMF0lJCCSiOSIXVFLm7WwPGGn7QcuwK4OSKOzr7sjeO6BkXEKT3f2u4jJ3E6D2u2N8Qx51djje+EEbFxnrcfLk11gKR9gRUiYv42NbtLWoXvtHROHRHXyJli78I1wj8BDo2IW5TZE7u4Xj/SsNMT7e8u9X5KWgXH1V3aOulJGrNSEsp1jKeNiP16vMEjgJxV9XZsNbpDrjP8OXY13DEi/inpJ9h9coVwJvzxgdWxq/eREXFOu9pf6Nt0puDLseUAbBFdPCL+nWPPusBbEfF7OSGSsMB1blPXLzVl4GHAgxFxUW3f97HHzLkRcUuefw92cb4Lz31XhD34GksKusdExIq53T8Fwt8Bk0fEBrk2G4Lv6y+wB+KvgWci4rB2tb0rcq6aGXsrvZ7P247Yin1bRJwvl3t7LSI2b1Xq53cyeUTck9uNUGSPDkiqlO2tMkO/lA0mxMrstVoVZrIVfzZgzrCXaKET2u4uW1lkattzSToEZ/x9Ey9eVoHhUswPkLSYpHuxu9tpDZ441pZ0J3bTHqt+rDbQ7AXMKukXOE7kC0nL47jJZ/Oc51NQbvs9G5XkjzsaLvhuhLPnLUtmy6sdE04lv4ec8fIRHFN6fS8QfBV2wXsbxzVtgxVLW2KXr4EpiICTP1WhCXtjL4WVe77VXVM9S7Xt3+Dso/vK7ujj43qG/46In6Tg+z1cZmtgZ9eMDnfbRpEL0SnymdsGW+vPkjR1y6ljSppH0lXYje2mnm5rd6jmBUkz4QSHHwMPy27qq2FL/OI4hhBc8uwxnOwQXNphTVwyrAi+hVFGTem0qqQ7JO2FY3ePxAvUJfO8J7Dr8xBJr+Ln+MmIOL2p6xcYzltmMB3zXeUm+xrwHzz+V2PNUOB/qUDcuemCbzKs7KKkH+MSd7/F8/xikoakd8x7eOzZCyu0XwQmUWbPbwqS5ss11KLAWpIOwLHID2F3+//kqZsC60qaMdeXw7xBI+K5muA7RhPnvb6IpC2wRXc5SWPXZaSUDcbIdVpVnrD63JZyCbhpIuKJIvh+NW11e27VNCUb4AXLZHnONsCCkh6NiGdzgf6ppDeBwyLisp5ud3eR4yu2wjG792Atb3Ws0pz2D7uJbowtbRvksz4OsHdE3AzDxas1VigcGTSpf51ZoGX3qKVxLcY7c99wz3HYNXgZbH27INJNsxdxGTBrRDwg1+zdE5gG19A8UnbfmxS7tFXa4FVwbH5jqCnLdseLlIkjYrCk2XAW5/lxwpldUzAeC48/p0XEO21pdDfpREs/KRb8louIuXLf2cDakk6OiPfz1E9x/OGfIuLUnm53d0gFxCAsOKwCPBUR7+XCbEL87F2DkwgdCGyQC7d/ARvL5cZ+X1nv1VBrfaF3knPAZOHSitW+TfCzujGOMb8EK6CGYsHw0Yh4Nj1OXsjP9wahsM51uC9/DHviDci12OVY4ba0XK6pH1b6kr/L3mAxrJdd/A/OIzAfWWoS2F7SYBzjezr27PpC0t04B0ZjyvpIWhq7Y6+IE6QegNefe+F15TzA5LI34j8lnYCf18HRRU3zTtbphVGAXAd7fVwz+bn6b0cdnq+VLHCwpJ9KOgqvNd/HnlAvtKn5vYpGuD3LNe/exUlKKlfEzcNxJXPjWIVXI+K4NjZzhEkN4kERMV9tXz88Sb5XCba1Y+NgN5VB4Rq+1f7eMHn0KVoGne9hT4RH8CR5JJ5Unsca/qeBsyLiqb5wr9IDYRU86c+B3UlXxW5e/YErI+LAPLcx/W1ti+xm+GssuL+AMxlPGhEfStoNjzXH49jXxYE5gQMj4vkeb/wIUJsEkbQO9g55CFuY9gP2SwXMEGw1PSQi7m1bg0eQFCSOiIiBki7A9dmvy2ODcXmYB3ECsofwPfweFowvj1q9XpX4tMJIRtIieJ5+GI+P1wM/xYk2l8z350TEsbKr6abAsxFxTJuaPFLI8WRd4IaI+FNt/6J4LK3yBlzXlgaOBCTNgrNujx0Rb6dRYnpcPm054K6IOL2dbfw6JE2GFaGf4RCmXfHa5aQ0tPwcP6dn1Cy71+J6se80ZT4fHcnf2NY4983Lua8/NqBdGhFPp1GmXyqWVsFzfmOSxvUWetSFtm6+z+055cDt7+GkT8dg68uB+GYTEY8AzwFzKQvF9yJuAT6SdHu6JMyaC7HVgA/Ai7Pqe4mIjyPi0UrwVUfG6zIY9RCS1pX0g7TK90vFzNXA1DiBx8zAsVgLfjnOjjsBtlT1lXt1FU6S9GZEzB4RZ+LJtKr39xNJE0Fz+tvqliVpKpzmf/qIWDUitseu21W2yrNxQoiVgaERcVREbBIRz9d/k01B0uI50QGEHB5S1fveCtfDfgq4ElhG0ljhbM+vYG+SCdvS8G9AOMnas2mxfwuXb6iOPYr7OTe2YqwIfITLw+xcF3zz/CL4Fr41Gj4b7r+wIu1PwDwR8U+8fvkLMCbwkxR8Z4iIx7E7/mtNG1O+Afdid8wdJa0saWJJu+IEURER19WUVI3JcjwiRMTTuQ6rYi2XAl6PiItyfjgdvryWbSedfNf/wmuTwdg9/RCspF8dICIuwILxcpK+m/t+EhFvN2U+H415HRtV7pd0kKTF0xo/C34WgQ5LfERcGRGDi+A74vSY8Nu6OE1mx/XEdsU/zgnwQuZ84BNJ2+V5VwP7R8QzPdXeEUWdxOKGE8tsjBdwMwEnygkUfgTMLyfW6TKGsLia9BySBuXbhXEZh4pBWMC4ClsI5wUeiYhTUmv6IV74NK4sxbfgXSzUXwnDfrvPR8Q1uITFmcBnTVkApMX3c0njStpBLn32OvAH4L9pLQTHxyybSqjX8D19OmrxdurImNyYRUBq8m8B9pY0dbZtHqy53xDH4c2Gn8V7sFC4dn78EOyV8G7Pt/xbsTl219sa2EzSTyRNkscuxkLGJjgJ4EkRsVk4qVCfzolQ6FmUREcWZ+HwjpeAO7HSCZyYsx9wYkT8J62hJ6cb4+kRcWmTxpRvQn4HJwEXYW+8S/E4tELODa3n9jrUednFi2rHqzJyjbmXtWdze0mr4pjP+/DzuX04S/OzwOySZpbLb92Clb6vV9fprQqL3oik5SVtle/rMb3P47HkEryG2UHSdbh85nhyyFZhJDDK3Z41fPr/SXGG3KfCWTs3wYLGZ3jSODnPG4ALbe8ALN1bBlJJU6QWuL5vTWC2cAmO8bALzTk4RuRG7Bb9/pevVugp5EyxC0fE3pLmwTGuxwDP4IGoSu60X3SUYZoKW0JnxC4qd7Wj7aOCHIz/BJwKXNViUW2Em3MKuEtHxCG5vSzwO+ye9ikwUUSsKelU7CJ7fjhu9Gjg+xGxarva3h1q3iCR70/CHjJPR8Rv5EzwM+EkJpdHxP75ubFw/N10+Ln8sC0dGAlIOg672+8CbIcF3mtxGbgB+Lt4tHZ+cXEujBQkjRu1Ors53p8A/A0rBe/B88RH2C3/TUkH4t/jIKzIPyQiLu/xxvcQkqaMiH/k+z7z25Nd1bfGc8atua8R8x50Gt6zEK7K8AgOA1kLr5+nxOuX07CL/uZYYXgb8OtoYB3p0YVUjl2Iq7y0ygxDcD6jIbk9GY4zHxOXN9o6Gpwgr7cwyoTfTn6gk2JX0YexJW0NPEFsg+O77sjzDgCuiYi7mzygVv1TR+rxsXE5ji3Ddbiq4z/AA9LyOGHQRtiCeHZE/LVtHSgMI4WLMbAL2/2SdsDJHzaUdDXwt4jYMc+dDVgzlRlzpVtbn0PSxJE1bZtCfUyRayuujK2aN0vaFiAyrk7SE9hy+Bx2Cz4jIm6XszhPHA2O65W0Ao4rPzgizpRrYP8eL1pWwu7c02HlyxLV5CmXnzoT12X8pLcvbmTX+pdwiaM3JC2Oa2t+EhFHtLd1hb5IWr/2wRl9D8C/pc2w4ukT7MW1Zu6bGltAL8yxZQZcI3XeiLitxxvfJpq8Tvu25NqgMWUX9eVEh/2AJfBz+gJwIq7QcFZE7CZpA2AdYO2I+EDSbBHxZO3zjRHq+zrqKG1ayQxnAJ9GxOYt500EnIGT5Z2CY7YnwHmQiqFsJDHKXMRqi9RVJV0P/Ar4XUT8CrsfHoCFwvuB/SX9n1y6aBayvE9TBpw6clKqutvLRPl3POBuPAhVFpsxwq7ah2CN2/XYUnhwJfgWN72eJxUVw8h7uTjwZ7k+44XAuCmEHIrLUO0rxyBeSEeJnz4p+AJUgm/dJaedyEnHBtd2XYfdulbMNs5PR/kNgN2ALSLiQZwdcXY5DvadcFxvI/rVBW8BP8DZtFfCnjF/x+ESVwHbhrPcPwvsLmmrHGMXwI/zf3q74AsQjrs7ErvoERG3RcSBRfAtjAokbYqz/E6DPbLexh4GBwDfjYgDcDbgW4HdwtmaX8Cuia8CP4qID0YnwReauU4bGahhZRdTUP1c0niSDparLkwVTpz6P1zu7Rbgx7i80fdx5YYXsJcQleCrkk+mx6kpLabJv7/FYVgLwHDeXm/jMWda4Fxch3m9IviOXEaq5bfFMvN9nPVwJpwkYXngHxGxSR6/Dzg+Is6WtCROYDI0GpwpMB/S8dPSNAjHf+6N3S/fl3QLcFREXKGW8ho52EwVHRnc+qy2tKnItfh+DTwULjmxMk6wdk9E/EPSScBHEbGjnBFxbZzdckY8oXwPOC4inmtTF0Zb5BCJ30fEhLV952IhcScsIF4CTJ1a1SWAlSJiJ0lThWN8ew3p8rskHl9WwkLgCjj/we44Yded+LlcCrgjnMikzyEn9loP+E9tPC0Wi8JIQ9LkwBvAXDXF9OwRMVTSeri03QK5QJ0BOAqHal0taTlcK/zBdrW/0DfRl8N7lsaC0RVY4P11RMwsx/ouEBF7pHfaVcCjEbFGWWs2g2ocAf6NQx6Pxq7oq0bEsrXzKq9RAeP0BUV2Exkpwm+rK0buWxMnrlo3Ii5NK9oKwNUR8Re5DurFwHTRS2pqSpoXZ4sdF1t6F8MP8MfYEjUu1v7u8hXXapQbzeiEpHGBPfCkMQgrXP6GFzO/xBbCS7HA+wyOs/xXROzclgYXhkPSg9gd6AX8OxyKFWuz4EnkdFyK6TkcK3pWRBxV+3yvEZjSPfslbM3dGCsPn4yIdeTyRlvhSbNRrumFQm9Fzg9wXURcLOl8HJ60aUS8lF5pZ0bESZLGxErUhSPiF+1sc6Hv0UV4z9kRcZOkn+G4z7exV9qYEbFCujeviS2/ywEXYKX+M63XLIxaOlvjpzHwOGBH7C26LvBBKivux6GfF5b71HN8K+FXzmT4WkS8lNub4Fi0SyLi0ZxAXgrHHkyBtfffA/YKxx9sQiZ/6g03PF0vL8IZADeIiBfkEiKz46QCfwUei4gDOlMIFHqeTmJkhuAi4jNGxDK573Dsrn48FqIWjohV5aQEE0bEVWVQaj/peXEvDh/4bUQ8IWk6nDfgcTyWDME1ii+MiAfa1tiRgJxAZ+5c3GwIzAr8HzAFtvhegifQPv9clvG0MKqRE1K+g0tpnYsXpFWyzqXx4nVIOJvzeNGLk8kVmkmuMScLl/hEzvewDlbw7oRjehcG3sTKmPNqn10hz/1L5QVU1i09S4viYjxgvHAyvAVx7e+Z8tgCuP73XrhayEk4EeenbWr6aMc3Fn7ldOn7AgfhOozn42xkQ7Gb6HU4BuFWnJTlZTlhycbAeRFx/bdt/Kik7ioiB6DviCfGS7H18Ergloio6vUuBWwJzBwRc7al0YXhaLmHywMPRsRbkjbCMeg7hBNczYst+KthxcbNWLnxRHtaXugKSecB70XEFhlaMAbWeP8U2Ld+z/qCl4Wkl3GM758kDWy6l0yh0JuR9EscLrFmJ8cuB64I1z0vFEY6XxPeswuu4Xsv8J3a2uZY4MqIuKHlWkXwbROS9sThSm9iK/wjwBbATRkW+R1cUWOLiPibnG/gtHK/eo4RSrYkaQo5yJ6IeAzXl5wbuxqOHxGrRsTuwOF4Qfohdm0+LC/xALBn0wVfcBIHSdPm5v9wwpm56Bh8lgMmhWHxvLfi0kyPyVkfC21A0uKSVoFh9/CHkm4CdgZOl7Q3HnTuxxo3IuIhLPROH042sEQRfBvLNsC6cqbtL8K1tO/Gsdh1wbdRyUq+BTvjJGsUwbdQGOWcBSwoaUYASfNJOj/jetcqgm9hVBIRpwHPyEkMV0h3+0+BPwI/B57M9+dLOlrSw9jodG91DTWwFnFfRlL/lu0f4XxAS2IPknmxt+E9wLaSpsbJOz/DoXZExKnlfvUs/b/+lOE4FFheUv+IuAg4GVtBzwKmlTRPRDwMvAi8hgXjg4D7JH0vIl7F8QqNoxP32HGB5yUtGC5ddB8wB9beHI1LbqybVsNrIuI0OWnGJDhWr9DDyPXQbgEekfRIRLyC3UPvi4jdc0FzI548bgJ2lTQ9MBAPRFWW8Xfb0f7C15Muh0diT5M5ct/LtIwrfUDoBSAi/ihp8lSwfVEmyEJh1JEK07WAi+Qydz8BTooGJ+Is9Dm2pCO851ct4T0bYq+1wXht86tU3g+jr8x9TUYu3bpURFwUEZ/l2v/TXDvODQyIiI/SW+Q9fK/uxAmAD8+/v61isgs9z9dafiXNLdeqBce1vgVsJGlO7O78BNZwHI8zmRERbwGT43i0d3HN1FdHfvNHHrXYnsGSJgtnWDsQZ3UEJ9m5G5cbmRLXAhQWdM/OczbAsYefp8tlYRSjJDf/heui/RPYPvdNh7WlRMSzOC70gIi4Cj+7EwB3R8TSUZIH9QoiYh/gVUmTjA6/s4g4JiI+L4JvoTDqiYh7gHeBCYFF0hpXKPQIEXE/dpV9IQXffsCr2FttRWDOiHgkIg6NiIdyCVRKZvYsSwBrSlpU0sFYUXGunKjyLuANSYMj4r94PTorTp66L67XO09E3NSmthf4mpjfDLY/HmsudsjdO+EsiC9i4W9inDH3JuBaLCDOgcsGbAO81RsWbXLZm/2x8DoJ8POIeE/Si7im3wVp5T0Rl8rZojWmQtKAErDec2SChyNx3eQz83n9PXAbjrc4CLs2Lw2sF87YPSfwm4jYKOPW/x4RH7epC4VCoVBoGCXBWqGdSJoYG1wWjYjHc980ODTr1tp5Ja63h6i5k38hJyZbF1dj+Ht6Fl4CPIbLES4FLBkRK0r6dW7/Kkqt3sbwldqivFH/h2Nbf4fjIj8F/gw8iIPwV8Pliv6Js6xeDBwbET+LiDeb+MNMF8L69rTYarsezvY7BCfzAlsQD5W0Ihb8r8JZH4fFVNR+FEXw7Vnews/gVpJWwq7Lf8fW+auA7SPiFKzBP1DSuliZ8xQ4br0Ivr2X1t9xoVAojAyK4FtoJ+mFVoX3VPtergu+ua9x6+u+SJU8NQXfxbAcdCeuXvNOnrYnMB82CJ4MvCbpMiwk710E32bRrWzPkr4L3IGtv0vhepOnSFoIC7uTAt+LiH+PysaOTDKmdyHggYh4X9JYOKHADli4XxxbFP8iaePcHhoRh3V50UKPI+k47Ha/N7b2HknWkwZ2B84EHspjKwKXRpYBKBQKhUKhUGgikq7FRpn/FEG3Z5E0COsX/pnbU+D15VzAJjicbhNc3WafiPiXpJ2xi/NuEfGGpIlLOF0z6XapI0lrA/PjGMm5gGUyoHsbbH37P+D93vADlWtm7o4zNAs4NVzy5kLgsIyjuAoYH7vLvlZ3L1GthE6hvWSMxUvY/WRjYHmsnFlH0jrAVsCqZQAqFAqFQqFQKHRFepTtC6yFS5zekrLOL4FZImKX2rnzAr8Ano6IP2To3RnY0ju0Dc0vdJNuZ3uOiIskvQ/8DAu/ywJXACc01UVILky/M67bekNEPJxxE/PjPsyEY5Xvl/QMdmVYNh/+/+KMe++B1T9114c2dKfQCRHxTlp/j4yIFSQ9Ccya6efvAMYB/ldiYwqFQqFQKPQmSvx5z5EVQ04FXscGvldqSTXXAS7N88aPiA9w0tQHgZUk3RURf5W0bia6KjSYblt+h31AWhi4BFgtIh4YJa36lkiaCsd2DsA1XQcCS0fEjzO+97A8NilwdERcLGkcYGHs9jwlsEdEXNuG5he+AZJeBraNiD9JGhilJmqhUCgUCoVCoRtImgE4OSKWzu3vAB+FyxmtB6wZEWvUzp8UG1hWAv4UEa+3o92FEWeE6vym5fMeSdM0XBO1CLBKRPQDkLQMMG4e+zDfvxgRq+Xx7wHzRMSVkh6PiH9VFyouzr2GnYELcX21d9rclkKhUCgUCoVC7+ED4F1Ju+MQz/GA2SXdgD1I35V0FE56u1ce/1lEnNim9ha+ISNs+e0tSHoY13x9EfvgPwaMCayNffRnx27NnwC7YAvxPtjDOYqrSe9D0rbY4v9FcXEuFAqFQqFQKHSHrNyyCPYOfQ7nBZoSmAj4CDgG2AOYBbgz6/YWeiF9WfidH7gPF5/eMSKelHQaME5ErJs1YpfHD/ah4cLihUKhUCgUCoVCYTRE0lgR8d/KCCZpM+C7EbFPHh87Ij5pbysL34Y+K/wCSDoPZ6DePLcnAB4HFoyIN6sHPI8Jfx/FxblQKBQKhUKhUBgNqUIeMw74NOCPEXFSu9tVGDn0deF3YuAFnJ78dUkH4qLUv6pnYytxvYVCoVAoFAqFwuhNVgv5IU6AOwdwXESc2t5WFUYmI5TwqrcREf/J4PSnJN0P/ANncf5vy3lF8C0UCoVCoVAoFEZjMrvzG7gU6iYR8Wm721QYufRpy2+FpD8Bx0TEzbldLL2FQqFQKBQKhUKhMBoxWgi/dYrgWygUCoVCoVAoFAqjH/3a3YCeIlOYFxfnQqFQKBQKhUKhUBgNGe0sv4VCoVAoFAqFQqFQGP0YbSy/hUKhUCgUCoVCoVAYfSnCb6FQKBQKhUKhUCgU+jxF+C0UCoVCoVAoFAqFQp+nCL+FQqFQKHQDSZ9LelTSXyVdLGncb3GtWyXN9w0+N1DSll9xfJCkP0p6TtJDkq6RNNM3vd7IRNLmkjboif9VKBQKhUJnFOG3UCgUCoXu8XFEDI6IOYD/ApvXD0rq3wNtGAh0KqxKEnA5cGtEzBAR8wK7AVN8k+uNTCT1j4iTIuLsUf2/CoVCoVDoiiL8FgqFQqEw4twBzChpCUl3SLoSeFLS2JLOkPSEpEckLQkgaZy0yD4l6XJgnOpCkj6ovf+ppDPz/RSSLpf0WL5+BBwCzJAW6MNb2rQk8L+IOKnaERGPRcQdksaXdJOkh7Ntq+YpX7qepN9KekDS45L2rbVtT0l/k3SnpAsk7ZT7B0u6N8+/XNJEuf9WSUdJehDYTtI+tc/MIOnatE7fIWmW3L9WWtYfk3T7t75LhUKhUCjU6AktdaFQKBQKfYa08C4PXJu75gHmiIgXJP0GiIiYMwW669PteAvgo4iYVdJcwMPd+FfHALdFxOqSxgDGB3bN/zW4k/PnAB7q4lqfAKtHxHuSJgXuTYF9uOtJ+jHwA2ABQMCVkhYDPgbWBH4IjJntr/7X2cA2EXGbpP2AvYHt89hYETFfXnufWntOBjaPiGckLQicACwF7AUsFxGvSRrYje+oUCgUCoVuU4TfQqFQKBS6xziSHs33dwCnAT8C7o+IF3L/IsCxABHxtKSXgJmAxbAwS0Q8Lunxbvy/pYAN8jOfA+9WVtVvgICDUpD9ApiKzt2hf5yvR3J7fCwMTwBcERGfAJ9I+jOApAmBgRFxW55/FnBx7XoXfqkh0vj4e7vYntoADMi/dwFnSroIuOwb9LNQKBQKhS4pwm+hUCgUCt3j41aLawpvH37L60bt/djf4jpDgZ92cWw9YDJg3oj4n6QXu/hfAg6OiD8Mt1Pa/hu2qbPvph/wTmfW64jYPC3BKwIPSZo3Iv79Df93oVAoFArDUWJ+C4VCoVAYedyBBU3S3Xka4G/A7cC6uX8OYK7aZ/4paVZJ/YDVa/tvwu7SSBojrazvYytsZ9wMDJD062qHpLkkLQpMCLyZgu+SwLR5Suv1rgM2TusskqaSNDm2yK6cMc3jAysBRMS7wNv5PwDWB27jK4iI94AXJK2V/0OSfpjvZ4iI+yJiL+AtYOqvulahUCgUCiNCEX4LhUKhUBh5nAD0k/QEdvndKCI+BU4Expf0FLAfw8fm7gpcBdwNvF7bvx2wZF7rIWC2tILelUmhhkt4FRGBhedl5FJHQ4GDgTeA84D58lobAE/nZ4a7XkRcD5wP3JPnXgJMEBEPAFcCjwN/AZ4A3s1/vSFweLpyD87+fR3rAZtIegxbrKsEXIdnQq6/5vfxWDeuVSgUCoVCt5DnykKhUCgUCoWukTR+RHwg1ze+Hfh1RHQncVehUCgUCo2gxPwWCoVCoVDoDidLmg3HCp9VBN9CoVAo9DaK5bdQKBQKhUKhUCgUCn2eEvNbKBQKhUKhUCgUCoU+TxF+C4VCoVAoFAqFQqHQ5ynCb6FQKBQKhUKhUCgU+jxF+C0UCoVCoVAoFAqFQp+nCL+FQqFQKBQKhUKhUOjzFOG3UCgUCoVCoVAoFAp9nv8HlKJ4v+/oSUYAAAAASUVORK5CYII=\n",
      "text/plain": [
       "<Figure size 1152x576 with 1 Axes>"
      ]
     },
     "metadata": {
      "needs_background": "light"
     },
     "output_type": "display_data"
    }
   ],
   "source": [
    "fig, ax = plt.subplots(figsize=(16, 8))\n",
    "\n",
    "# add the plot\n",
    "sns.barplot(x = 'category_name_1', y = 'price', data = df, capsize = 0.001, ax = ax).set(title = 'Product Categories Vs Av. Price')\n",
    "\n",
    "# add the annotation\n",
    "ax.bar_label(ax.containers[-1], fmt = 'Mean:\\n%.2f', label_type = 'edge')\n",
    "\n",
    "# add Labels\n",
    "ax.set(xlabel = 'Product Categories')\n",
    "ax.set(ylabel = 'Price')\n",
    "ax.set_xticklabels(ax.get_xticklabels(), rotation = 30, horizontalalignment = 'right')\n",
    "\n",
    "plt.show()"
   ]
  },
  {
   "cell_type": "markdown",
   "id": "3aab8bb0-1511-4abf-a126-27771a9d6c27",
   "metadata": {},
   "source": [
    "# Highest Price of Product, Name and Category"
   ]
  },
  {
   "cell_type": "code",
   "execution_count": 42,
   "id": "b4df51a0-80f4-4546-b3af-c589d8374e95",
   "metadata": {},
   "outputs": [
    {
     "data": {
      "text/plain": [
       "1012625.9"
      ]
     },
     "execution_count": 42,
     "metadata": {},
     "output_type": "execute_result"
    }
   ],
   "source": [
    "df['price'].max()"
   ]
  },
  {
   "cell_type": "code",
   "execution_count": 43,
   "id": "c89999b5-542e-40fe-b66c-e72487539a85",
   "metadata": {},
   "outputs": [
    {
     "data": {
      "text/html": [
       "<div>\n",
       "<style scoped>\n",
       "    .dataframe tbody tr th:only-of-type {\n",
       "        vertical-align: middle;\n",
       "    }\n",
       "\n",
       "    .dataframe tbody tr th {\n",
       "        vertical-align: top;\n",
       "    }\n",
       "\n",
       "    .dataframe thead th {\n",
       "        text-align: right;\n",
       "    }\n",
       "</style>\n",
       "<table border=\"1\" class=\"dataframe\">\n",
       "  <thead>\n",
       "    <tr style=\"text-align: right;\">\n",
       "      <th></th>\n",
       "      <th>category_name_1</th>\n",
       "      <th>sku</th>\n",
       "      <th>price</th>\n",
       "    </tr>\n",
       "  </thead>\n",
       "  <tbody>\n",
       "    <tr>\n",
       "      <th>509081</th>\n",
       "      <td>Beauty &amp; Grooming</td>\n",
       "      <td>BAGGEM5A7038AC06C9A</td>\n",
       "      <td>1012625.9</td>\n",
       "    </tr>\n",
       "  </tbody>\n",
       "</table>\n",
       "</div>"
      ],
      "text/plain": [
       "          category_name_1                  sku      price\n",
       "509081  Beauty & Grooming  BAGGEM5A7038AC06C9A  1012625.9"
      ]
     },
     "execution_count": 43,
     "metadata": {},
     "output_type": "execute_result"
    }
   ],
   "source": [
    "df[df['price'] == 1012625.9][['category_name_1', 'sku', 'price']]"
   ]
  },
  {
   "cell_type": "markdown",
   "id": "63aee0ef-9314-4b44-9d59-b71f787cdbe5",
   "metadata": {},
   "source": [
    "# Question 1: Best Selling Category"
   ]
  },
  {
   "cell_type": "markdown",
   "id": "97044009-ad23-4e14-b2bc-c3c9fac17e2b",
   "metadata": {},
   "source": [
    "## 1 (a) Best Seller Category Yearly"
   ]
  },
  {
   "cell_type": "markdown",
   "id": "9e7fb55e-3229-43ee-973a-fe7244c603ec",
   "metadata": {},
   "source": [
    "#### Total No. of Orders Per Year"
   ]
  },
  {
   "cell_type": "code",
   "execution_count": 44,
   "id": "f3c2cddb-8973-4ebf-9a1a-ca25562f6cae",
   "metadata": {},
   "outputs": [
    {
     "data": {
      "text/plain": [
       "2017    289702\n",
       "2018    158590\n",
       "2016    133808\n",
       "Name: Year, dtype: int64"
      ]
     },
     "execution_count": 44,
     "metadata": {},
     "output_type": "execute_result"
    }
   ],
   "source": [
    "df['Year'].value_counts()"
   ]
  },
  {
   "cell_type": "code",
   "execution_count": 45,
   "id": "61f9740f-5de7-4a7a-91f4-7e90682754a2",
   "metadata": {},
   "outputs": [
    {
     "data": {
      "text/html": [
       "<div>\n",
       "<style scoped>\n",
       "    .dataframe tbody tr th:only-of-type {\n",
       "        vertical-align: middle;\n",
       "    }\n",
       "\n",
       "    .dataframe tbody tr th {\n",
       "        vertical-align: top;\n",
       "    }\n",
       "\n",
       "    .dataframe thead th {\n",
       "        text-align: right;\n",
       "    }\n",
       "</style>\n",
       "<table border=\"1\" class=\"dataframe\">\n",
       "  <thead>\n",
       "    <tr style=\"text-align: right;\">\n",
       "      <th>Year</th>\n",
       "      <th>2016</th>\n",
       "      <th>2017</th>\n",
       "      <th>2018</th>\n",
       "    </tr>\n",
       "    <tr>\n",
       "      <th>category_name_1</th>\n",
       "      <th></th>\n",
       "      <th></th>\n",
       "      <th></th>\n",
       "    </tr>\n",
       "  </thead>\n",
       "  <tbody>\n",
       "    <tr>\n",
       "      <th>Appliances</th>\n",
       "      <td>9698</td>\n",
       "      <td>27053</td>\n",
       "      <td>15570</td>\n",
       "    </tr>\n",
       "    <tr>\n",
       "      <th>Beauty &amp; Grooming</th>\n",
       "      <td>13898</td>\n",
       "      <td>18392</td>\n",
       "      <td>9114</td>\n",
       "    </tr>\n",
       "    <tr>\n",
       "      <th>Books</th>\n",
       "      <td>438</td>\n",
       "      <td>513</td>\n",
       "      <td>241</td>\n",
       "    </tr>\n",
       "    <tr>\n",
       "      <th>Computing</th>\n",
       "      <td>4074</td>\n",
       "      <td>7684</td>\n",
       "      <td>4144</td>\n",
       "    </tr>\n",
       "    <tr>\n",
       "      <th>Entertainment</th>\n",
       "      <td>3522</td>\n",
       "      <td>13178</td>\n",
       "      <td>9618</td>\n",
       "    </tr>\n",
       "    <tr>\n",
       "      <th>Health &amp; Sports</th>\n",
       "      <td>4160</td>\n",
       "      <td>6934</td>\n",
       "      <td>6407</td>\n",
       "    </tr>\n",
       "    <tr>\n",
       "      <th>Home &amp; Living</th>\n",
       "      <td>5630</td>\n",
       "      <td>14758</td>\n",
       "      <td>6016</td>\n",
       "    </tr>\n",
       "    <tr>\n",
       "      <th>Kids &amp; Baby</th>\n",
       "      <td>3415</td>\n",
       "      <td>9663</td>\n",
       "      <td>3363</td>\n",
       "    </tr>\n",
       "    <tr>\n",
       "      <th>Men's Fashion</th>\n",
       "      <td>25367</td>\n",
       "      <td>49416</td>\n",
       "      <td>17023</td>\n",
       "    </tr>\n",
       "    <tr>\n",
       "      <th>Mobiles &amp; Tablets</th>\n",
       "      <td>22277</td>\n",
       "      <td>59535</td>\n",
       "      <td>33584</td>\n",
       "    </tr>\n",
       "    <tr>\n",
       "      <th>Others</th>\n",
       "      <td>1813</td>\n",
       "      <td>3371</td>\n",
       "      <td>24004</td>\n",
       "    </tr>\n",
       "    <tr>\n",
       "      <th>School &amp; Education</th>\n",
       "      <td>1203</td>\n",
       "      <td>1493</td>\n",
       "      <td>782</td>\n",
       "    </tr>\n",
       "    <tr>\n",
       "      <th>Soghaat</th>\n",
       "      <td>16244</td>\n",
       "      <td>13736</td>\n",
       "      <td>4021</td>\n",
       "    </tr>\n",
       "    <tr>\n",
       "      <th>Superstore</th>\n",
       "      <td>6624</td>\n",
       "      <td>26954</td>\n",
       "      <td>9861</td>\n",
       "    </tr>\n",
       "    <tr>\n",
       "      <th>Women's Fashion</th>\n",
       "      <td>9625</td>\n",
       "      <td>35020</td>\n",
       "      <td>14842</td>\n",
       "    </tr>\n",
       "    <tr>\n",
       "      <th>\\N</th>\n",
       "      <td>5820</td>\n",
       "      <td>2002</td>\n",
       "      <td>0</td>\n",
       "    </tr>\n",
       "  </tbody>\n",
       "</table>\n",
       "</div>"
      ],
      "text/plain": [
       "Year                 2016   2017   2018\n",
       "category_name_1                        \n",
       "Appliances           9698  27053  15570\n",
       "Beauty & Grooming   13898  18392   9114\n",
       "Books                 438    513    241\n",
       "Computing            4074   7684   4144\n",
       "Entertainment        3522  13178   9618\n",
       "Health & Sports      4160   6934   6407\n",
       "Home & Living        5630  14758   6016\n",
       "Kids & Baby          3415   9663   3363\n",
       "Men's Fashion       25367  49416  17023\n",
       "Mobiles & Tablets   22277  59535  33584\n",
       "Others               1813   3371  24004\n",
       "School & Education   1203   1493    782\n",
       "Soghaat             16244  13736   4021\n",
       "Superstore           6624  26954   9861\n",
       "Women's Fashion      9625  35020  14842\n",
       "\\N                   5820   2002      0"
      ]
     },
     "execution_count": 45,
     "metadata": {},
     "output_type": "execute_result"
    }
   ],
   "source": [
    "cat_year_wise = pd.crosstab(df.category_name_1, df.Year)\n",
    "cat_year_wise"
   ]
  },
  {
   "cell_type": "markdown",
   "id": "9052810c-09fc-408f-8f4a-571dd30d1c4c",
   "metadata": {},
   "source": [
    "#### Yearly Best Seller Category"
   ]
  },
  {
   "cell_type": "code",
   "execution_count": 46,
   "id": "b3b71e65-bc41-445e-bd24-6d488ae7b76a",
   "metadata": {},
   "outputs": [
    {
     "name": "stdout",
     "output_type": "stream",
     "text": [
      "Best Selling Categories Year wise:\n",
      " Year\n",
      "2016        Men's Fashion\n",
      "2017    Mobiles & Tablets\n",
      "2018    Mobiles & Tablets\n",
      "dtype: object\n"
     ]
    }
   ],
   "source": [
    "#cat_year_wise.idxmax()\n",
    "\n",
    "print(\"Best Selling Categories Year wise:\\n\", cat_year_wise.idxmax())"
   ]
  },
  {
   "cell_type": "code",
   "execution_count": 47,
   "id": "f947dce8-e3b8-4aff-b83b-fdad782c26a3",
   "metadata": {},
   "outputs": [
    {
     "name": "stdout",
     "output_type": "stream",
     "text": [
      "Overall Best Selling Category from 2016 to 2018 is: Mobiles & Tablets\n"
     ]
    }
   ],
   "source": [
    "#df['category_name_1'].value_counts().idxmax()\n",
    "\n",
    "print(\"Overall Best Selling Category from 2016 to 2018 is:\", df['category_name_1'].value_counts().idxmax())"
   ]
  },
  {
   "cell_type": "code",
   "execution_count": 48,
   "id": "cf9aa35c-1960-4ad8-9b7c-29becd87f7c4",
   "metadata": {},
   "outputs": [
    {
     "data": {
      "image/png": "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\n",
      "text/plain": [
       "<Figure size 1152x432 with 1 Axes>"
      ]
     },
     "metadata": {
      "needs_background": "light"
     },
     "output_type": "display_data"
    }
   ],
   "source": [
    "fig, ax = plt.subplots(figsize=(16, 6))\n",
    "\n",
    "# add the plot\n",
    "sns.countplot(x = 'category_name_1', data = df, hue = 'Year').set(title = 'Product Categories Vs Count')\n",
    "\n",
    "# add Labels\n",
    "ax.set(xlabel = 'Product Categories')\n",
    "ax.set(ylabel = 'Count')\n",
    "ax.set_xticklabels(ax.get_xticklabels(), rotation = 30, horizontalalignment = 'right')\n",
    "\n",
    "plt.show()"
   ]
  },
  {
   "cell_type": "markdown",
   "id": "5b963b36-048d-4d23-b87c-03109b2612ae",
   "metadata": {},
   "source": [
    "## 1 (b) Highest Order Cancellation per Category"
   ]
  },
  {
   "cell_type": "code",
   "execution_count": 49,
   "id": "16859a46-24e1-433c-9e80-c82805f4a2f5",
   "metadata": {},
   "outputs": [
    {
     "data": {
      "text/plain": [
       "complete          233315\n",
       "canceled          200386\n",
       "received           76922\n",
       "order_refunded     59022\n",
       "refund              7864\n",
       "cod                 2753\n",
       "paid                1150\n",
       "closed               494\n",
       "payment_review        57\n",
       "pending               48\n",
       "processing            33\n",
       "holded                31\n",
       "fraud                 10\n",
       "pending_paypal         7\n",
       "\\N                     4\n",
       "exchange               4\n",
       "Name: status, dtype: int64"
      ]
     },
     "execution_count": 49,
     "metadata": {},
     "output_type": "execute_result"
    }
   ],
   "source": [
    "#Count of orders per status\n",
    "df['status'].value_counts()"
   ]
  },
  {
   "cell_type": "code",
   "execution_count": 50,
   "id": "d432ef6b-6375-4926-ace7-6b41334cfd26",
   "metadata": {},
   "outputs": [
    {
     "data": {
      "text/plain": [
       "16"
      ]
     },
     "execution_count": 50,
     "metadata": {},
     "output_type": "execute_result"
    }
   ],
   "source": [
    "#Total No. of Status\n",
    "df['status'].nunique()"
   ]
  },
  {
   "cell_type": "code",
   "execution_count": 51,
   "id": "13af7fe6-29ec-442c-8af0-c490a6acab88",
   "metadata": {},
   "outputs": [
    {
     "data": {
      "text/plain": [
       "array(['complete', 'canceled', 'order_refunded', 'received', 'refund',\n",
       "       'closed', 'fraud', 'holded', 'exchange', 'pending_paypal', 'paid',\n",
       "       '\\\\N', 'cod', 'pending', 'processing', 'payment_review'],\n",
       "      dtype=object)"
      ]
     },
     "execution_count": 51,
     "metadata": {},
     "output_type": "execute_result"
    }
   ],
   "source": [
    "#status Names\n",
    "df['status'].unique()"
   ]
  },
  {
   "cell_type": "code",
   "execution_count": 52,
   "id": "56db0aad-327e-40fb-be0d-9148cf635cb3",
   "metadata": {},
   "outputs": [],
   "source": [
    "cat_status_wise = pd.crosstab(df.category_name_1, df.status)\n",
    "#cat_status_wise"
   ]
  },
  {
   "cell_type": "code",
   "execution_count": 53,
   "id": "68e02d0d-a10d-4faf-9396-8ddeb0cd2847",
   "metadata": {},
   "outputs": [
    {
     "data": {
      "text/html": [
       "<div>\n",
       "<style scoped>\n",
       "    .dataframe tbody tr th:only-of-type {\n",
       "        vertical-align: middle;\n",
       "    }\n",
       "\n",
       "    .dataframe tbody tr th {\n",
       "        vertical-align: top;\n",
       "    }\n",
       "\n",
       "    .dataframe thead th {\n",
       "        text-align: right;\n",
       "    }\n",
       "</style>\n",
       "<table border=\"1\" class=\"dataframe\">\n",
       "  <thead>\n",
       "    <tr style=\"text-align: right;\">\n",
       "      <th>status</th>\n",
       "      <th>\\N</th>\n",
       "      <th>canceled</th>\n",
       "      <th>closed</th>\n",
       "      <th>cod</th>\n",
       "      <th>complete</th>\n",
       "      <th>exchange</th>\n",
       "      <th>fraud</th>\n",
       "      <th>holded</th>\n",
       "      <th>order_refunded</th>\n",
       "      <th>paid</th>\n",
       "      <th>payment_review</th>\n",
       "      <th>pending</th>\n",
       "      <th>pending_paypal</th>\n",
       "      <th>processing</th>\n",
       "      <th>received</th>\n",
       "      <th>refund</th>\n",
       "      <th>Categories</th>\n",
       "    </tr>\n",
       "    <tr>\n",
       "      <th>category_name_1</th>\n",
       "      <th></th>\n",
       "      <th></th>\n",
       "      <th></th>\n",
       "      <th></th>\n",
       "      <th></th>\n",
       "      <th></th>\n",
       "      <th></th>\n",
       "      <th></th>\n",
       "      <th></th>\n",
       "      <th></th>\n",
       "      <th></th>\n",
       "      <th></th>\n",
       "      <th></th>\n",
       "      <th></th>\n",
       "      <th></th>\n",
       "      <th></th>\n",
       "      <th></th>\n",
       "    </tr>\n",
       "  </thead>\n",
       "  <tbody>\n",
       "    <tr>\n",
       "      <th>Appliances</th>\n",
       "      <td>0</td>\n",
       "      <td>21547</td>\n",
       "      <td>92</td>\n",
       "      <td>107</td>\n",
       "      <td>20709</td>\n",
       "      <td>0</td>\n",
       "      <td>0</td>\n",
       "      <td>3</td>\n",
       "      <td>4662</td>\n",
       "      <td>43</td>\n",
       "      <td>6</td>\n",
       "      <td>6</td>\n",
       "      <td>0</td>\n",
       "      <td>1</td>\n",
       "      <td>4582</td>\n",
       "      <td>563</td>\n",
       "      <td>Appliances</td>\n",
       "    </tr>\n",
       "    <tr>\n",
       "      <th>Beauty &amp; Grooming</th>\n",
       "      <td>0</td>\n",
       "      <td>9684</td>\n",
       "      <td>57</td>\n",
       "      <td>326</td>\n",
       "      <td>20729</td>\n",
       "      <td>0</td>\n",
       "      <td>0</td>\n",
       "      <td>3</td>\n",
       "      <td>3549</td>\n",
       "      <td>114</td>\n",
       "      <td>2</td>\n",
       "      <td>0</td>\n",
       "      <td>0</td>\n",
       "      <td>1</td>\n",
       "      <td>6239</td>\n",
       "      <td>700</td>\n",
       "      <td>Beauty &amp; Grooming</td>\n",
       "    </tr>\n",
       "    <tr>\n",
       "      <th>Books</th>\n",
       "      <td>0</td>\n",
       "      <td>183</td>\n",
       "      <td>7</td>\n",
       "      <td>13</td>\n",
       "      <td>607</td>\n",
       "      <td>0</td>\n",
       "      <td>0</td>\n",
       "      <td>0</td>\n",
       "      <td>186</td>\n",
       "      <td>10</td>\n",
       "      <td>0</td>\n",
       "      <td>0</td>\n",
       "      <td>0</td>\n",
       "      <td>0</td>\n",
       "      <td>171</td>\n",
       "      <td>15</td>\n",
       "      <td>Books</td>\n",
       "    </tr>\n",
       "    <tr>\n",
       "      <th>Computing</th>\n",
       "      <td>0</td>\n",
       "      <td>6810</td>\n",
       "      <td>16</td>\n",
       "      <td>58</td>\n",
       "      <td>5728</td>\n",
       "      <td>1</td>\n",
       "      <td>1</td>\n",
       "      <td>2</td>\n",
       "      <td>1631</td>\n",
       "      <td>18</td>\n",
       "      <td>0</td>\n",
       "      <td>2</td>\n",
       "      <td>0</td>\n",
       "      <td>0</td>\n",
       "      <td>1419</td>\n",
       "      <td>216</td>\n",
       "      <td>Computing</td>\n",
       "    </tr>\n",
       "    <tr>\n",
       "      <th>Entertainment</th>\n",
       "      <td>0</td>\n",
       "      <td>12578</td>\n",
       "      <td>7</td>\n",
       "      <td>21</td>\n",
       "      <td>9327</td>\n",
       "      <td>0</td>\n",
       "      <td>2</td>\n",
       "      <td>2</td>\n",
       "      <td>2087</td>\n",
       "      <td>20</td>\n",
       "      <td>1</td>\n",
       "      <td>11</td>\n",
       "      <td>0</td>\n",
       "      <td>0</td>\n",
       "      <td>2119</td>\n",
       "      <td>143</td>\n",
       "      <td>Entertainment</td>\n",
       "    </tr>\n",
       "    <tr>\n",
       "      <th>Health &amp; Sports</th>\n",
       "      <td>0</td>\n",
       "      <td>3382</td>\n",
       "      <td>15</td>\n",
       "      <td>76</td>\n",
       "      <td>8049</td>\n",
       "      <td>0</td>\n",
       "      <td>0</td>\n",
       "      <td>0</td>\n",
       "      <td>2226</td>\n",
       "      <td>18</td>\n",
       "      <td>4</td>\n",
       "      <td>0</td>\n",
       "      <td>1</td>\n",
       "      <td>1</td>\n",
       "      <td>3499</td>\n",
       "      <td>230</td>\n",
       "      <td>Health &amp; Sports</td>\n",
       "    </tr>\n",
       "    <tr>\n",
       "      <th>Home &amp; Living</th>\n",
       "      <td>0</td>\n",
       "      <td>7196</td>\n",
       "      <td>15</td>\n",
       "      <td>388</td>\n",
       "      <td>11145</td>\n",
       "      <td>0</td>\n",
       "      <td>1</td>\n",
       "      <td>2</td>\n",
       "      <td>2448</td>\n",
       "      <td>77</td>\n",
       "      <td>0</td>\n",
       "      <td>1</td>\n",
       "      <td>1</td>\n",
       "      <td>1</td>\n",
       "      <td>4574</td>\n",
       "      <td>555</td>\n",
       "      <td>Home &amp; Living</td>\n",
       "    </tr>\n",
       "    <tr>\n",
       "      <th>Kids &amp; Baby</th>\n",
       "      <td>0</td>\n",
       "      <td>4069</td>\n",
       "      <td>5</td>\n",
       "      <td>147</td>\n",
       "      <td>7022</td>\n",
       "      <td>0</td>\n",
       "      <td>0</td>\n",
       "      <td>0</td>\n",
       "      <td>1813</td>\n",
       "      <td>63</td>\n",
       "      <td>0</td>\n",
       "      <td>0</td>\n",
       "      <td>0</td>\n",
       "      <td>0</td>\n",
       "      <td>2965</td>\n",
       "      <td>357</td>\n",
       "      <td>Kids &amp; Baby</td>\n",
       "    </tr>\n",
       "    <tr>\n",
       "      <th>Men's Fashion</th>\n",
       "      <td>0</td>\n",
       "      <td>21733</td>\n",
       "      <td>65</td>\n",
       "      <td>600</td>\n",
       "      <td>40287</td>\n",
       "      <td>1</td>\n",
       "      <td>0</td>\n",
       "      <td>5</td>\n",
       "      <td>14749</td>\n",
       "      <td>105</td>\n",
       "      <td>6</td>\n",
       "      <td>0</td>\n",
       "      <td>3</td>\n",
       "      <td>20</td>\n",
       "      <td>12155</td>\n",
       "      <td>2077</td>\n",
       "      <td>Men's Fashion</td>\n",
       "    </tr>\n",
       "    <tr>\n",
       "      <th>Mobiles &amp; Tablets</th>\n",
       "      <td>0</td>\n",
       "      <td>53613</td>\n",
       "      <td>63</td>\n",
       "      <td>155</td>\n",
       "      <td>41642</td>\n",
       "      <td>1</td>\n",
       "      <td>6</td>\n",
       "      <td>10</td>\n",
       "      <td>10631</td>\n",
       "      <td>80</td>\n",
       "      <td>1</td>\n",
       "      <td>19</td>\n",
       "      <td>0</td>\n",
       "      <td>6</td>\n",
       "      <td>8299</td>\n",
       "      <td>870</td>\n",
       "      <td>Mobiles &amp; Tablets</td>\n",
       "    </tr>\n",
       "    <tr>\n",
       "      <th>Others</th>\n",
       "      <td>0</td>\n",
       "      <td>18364</td>\n",
       "      <td>2</td>\n",
       "      <td>67</td>\n",
       "      <td>3111</td>\n",
       "      <td>0</td>\n",
       "      <td>0</td>\n",
       "      <td>0</td>\n",
       "      <td>1343</td>\n",
       "      <td>33</td>\n",
       "      <td>0</td>\n",
       "      <td>4</td>\n",
       "      <td>0</td>\n",
       "      <td>0</td>\n",
       "      <td>6097</td>\n",
       "      <td>167</td>\n",
       "      <td>Others</td>\n",
       "    </tr>\n",
       "    <tr>\n",
       "      <th>School &amp; Education</th>\n",
       "      <td>0</td>\n",
       "      <td>749</td>\n",
       "      <td>1</td>\n",
       "      <td>21</td>\n",
       "      <td>1584</td>\n",
       "      <td>0</td>\n",
       "      <td>0</td>\n",
       "      <td>1</td>\n",
       "      <td>496</td>\n",
       "      <td>5</td>\n",
       "      <td>0</td>\n",
       "      <td>0</td>\n",
       "      <td>0</td>\n",
       "      <td>0</td>\n",
       "      <td>566</td>\n",
       "      <td>55</td>\n",
       "      <td>School &amp; Education</td>\n",
       "    </tr>\n",
       "    <tr>\n",
       "      <th>Soghaat</th>\n",
       "      <td>0</td>\n",
       "      <td>7588</td>\n",
       "      <td>16</td>\n",
       "      <td>111</td>\n",
       "      <td>19788</td>\n",
       "      <td>0</td>\n",
       "      <td>0</td>\n",
       "      <td>3</td>\n",
       "      <td>1858</td>\n",
       "      <td>71</td>\n",
       "      <td>9</td>\n",
       "      <td>1</td>\n",
       "      <td>0</td>\n",
       "      <td>0</td>\n",
       "      <td>4159</td>\n",
       "      <td>397</td>\n",
       "      <td>Soghaat</td>\n",
       "    </tr>\n",
       "    <tr>\n",
       "      <th>Superstore</th>\n",
       "      <td>0</td>\n",
       "      <td>13878</td>\n",
       "      <td>10</td>\n",
       "      <td>165</td>\n",
       "      <td>16677</td>\n",
       "      <td>0</td>\n",
       "      <td>0</td>\n",
       "      <td>0</td>\n",
       "      <td>2035</td>\n",
       "      <td>366</td>\n",
       "      <td>28</td>\n",
       "      <td>0</td>\n",
       "      <td>1</td>\n",
       "      <td>0</td>\n",
       "      <td>9924</td>\n",
       "      <td>355</td>\n",
       "      <td>Superstore</td>\n",
       "    </tr>\n",
       "    <tr>\n",
       "      <th>Women's Fashion</th>\n",
       "      <td>0</td>\n",
       "      <td>15862</td>\n",
       "      <td>121</td>\n",
       "      <td>495</td>\n",
       "      <td>23684</td>\n",
       "      <td>1</td>\n",
       "      <td>0</td>\n",
       "      <td>0</td>\n",
       "      <td>8147</td>\n",
       "      <td>124</td>\n",
       "      <td>0</td>\n",
       "      <td>4</td>\n",
       "      <td>1</td>\n",
       "      <td>3</td>\n",
       "      <td>10022</td>\n",
       "      <td>1023</td>\n",
       "      <td>Women's Fashion</td>\n",
       "    </tr>\n",
       "    <tr>\n",
       "      <th>\\N</th>\n",
       "      <td>4</td>\n",
       "      <td>3150</td>\n",
       "      <td>2</td>\n",
       "      <td>3</td>\n",
       "      <td>3226</td>\n",
       "      <td>0</td>\n",
       "      <td>0</td>\n",
       "      <td>0</td>\n",
       "      <td>1161</td>\n",
       "      <td>3</td>\n",
       "      <td>0</td>\n",
       "      <td>0</td>\n",
       "      <td>0</td>\n",
       "      <td>0</td>\n",
       "      <td>132</td>\n",
       "      <td>141</td>\n",
       "      <td>\\N</td>\n",
       "    </tr>\n",
       "  </tbody>\n",
       "</table>\n",
       "</div>"
      ],
      "text/plain": [
       "status              \\N  canceled  closed  cod  complete  exchange  fraud  \\\n",
       "category_name_1                                                            \n",
       "Appliances           0     21547      92  107     20709         0      0   \n",
       "Beauty & Grooming    0      9684      57  326     20729         0      0   \n",
       "Books                0       183       7   13       607         0      0   \n",
       "Computing            0      6810      16   58      5728         1      1   \n",
       "Entertainment        0     12578       7   21      9327         0      2   \n",
       "Health & Sports      0      3382      15   76      8049         0      0   \n",
       "Home & Living        0      7196      15  388     11145         0      1   \n",
       "Kids & Baby          0      4069       5  147      7022         0      0   \n",
       "Men's Fashion        0     21733      65  600     40287         1      0   \n",
       "Mobiles & Tablets    0     53613      63  155     41642         1      6   \n",
       "Others               0     18364       2   67      3111         0      0   \n",
       "School & Education   0       749       1   21      1584         0      0   \n",
       "Soghaat              0      7588      16  111     19788         0      0   \n",
       "Superstore           0     13878      10  165     16677         0      0   \n",
       "Women's Fashion      0     15862     121  495     23684         1      0   \n",
       "\\N                   4      3150       2    3      3226         0      0   \n",
       "\n",
       "status              holded  order_refunded  paid  payment_review  pending  \\\n",
       "category_name_1                                                             \n",
       "Appliances               3            4662    43               6        6   \n",
       "Beauty & Grooming        3            3549   114               2        0   \n",
       "Books                    0             186    10               0        0   \n",
       "Computing                2            1631    18               0        2   \n",
       "Entertainment            2            2087    20               1       11   \n",
       "Health & Sports          0            2226    18               4        0   \n",
       "Home & Living            2            2448    77               0        1   \n",
       "Kids & Baby              0            1813    63               0        0   \n",
       "Men's Fashion            5           14749   105               6        0   \n",
       "Mobiles & Tablets       10           10631    80               1       19   \n",
       "Others                   0            1343    33               0        4   \n",
       "School & Education       1             496     5               0        0   \n",
       "Soghaat                  3            1858    71               9        1   \n",
       "Superstore               0            2035   366              28        0   \n",
       "Women's Fashion          0            8147   124               0        4   \n",
       "\\N                       0            1161     3               0        0   \n",
       "\n",
       "status              pending_paypal  processing  received  refund  \\\n",
       "category_name_1                                                    \n",
       "Appliances                       0           1      4582     563   \n",
       "Beauty & Grooming                0           1      6239     700   \n",
       "Books                            0           0       171      15   \n",
       "Computing                        0           0      1419     216   \n",
       "Entertainment                    0           0      2119     143   \n",
       "Health & Sports                  1           1      3499     230   \n",
       "Home & Living                    1           1      4574     555   \n",
       "Kids & Baby                      0           0      2965     357   \n",
       "Men's Fashion                    3          20     12155    2077   \n",
       "Mobiles & Tablets                0           6      8299     870   \n",
       "Others                           0           0      6097     167   \n",
       "School & Education               0           0       566      55   \n",
       "Soghaat                          0           0      4159     397   \n",
       "Superstore                       1           0      9924     355   \n",
       "Women's Fashion                  1           3     10022    1023   \n",
       "\\N                               0           0       132     141   \n",
       "\n",
       "status                      Categories  \n",
       "category_name_1                         \n",
       "Appliances                  Appliances  \n",
       "Beauty & Grooming    Beauty & Grooming  \n",
       "Books                            Books  \n",
       "Computing                    Computing  \n",
       "Entertainment            Entertainment  \n",
       "Health & Sports        Health & Sports  \n",
       "Home & Living            Home & Living  \n",
       "Kids & Baby                Kids & Baby  \n",
       "Men's Fashion            Men's Fashion  \n",
       "Mobiles & Tablets    Mobiles & Tablets  \n",
       "Others                          Others  \n",
       "School & Education  School & Education  \n",
       "Soghaat                        Soghaat  \n",
       "Superstore                  Superstore  \n",
       "Women's Fashion        Women's Fashion  \n",
       "\\N                                  \\N  "
      ]
     },
     "execution_count": 53,
     "metadata": {},
     "output_type": "execute_result"
    }
   ],
   "source": [
    "cat_status_wise['Categories'] = cat_status_wise.index\n",
    "cat_status_wise.reset_index(drop = True)\n",
    "cat_status_wise"
   ]
  },
  {
   "cell_type": "code",
   "execution_count": 54,
   "id": "6fc2fbe5-2eb8-4729-92e8-c2643975ee61",
   "metadata": {},
   "outputs": [
    {
     "data": {
      "image/png": "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\n",
      "text/plain": [
       "<Figure size 1080x432 with 1 Axes>"
      ]
     },
     "metadata": {
      "needs_background": "light"
     },
     "output_type": "display_data"
    }
   ],
   "source": [
    "#Order Cancellation\n",
    "fig, ax = plt.subplots(figsize=(15, 6))\n",
    "\n",
    "# add the plot\n",
    "sns.barplot(x = 'Categories', y = 'canceled', data = cat_status_wise, capsize = 0.001, ax = ax,  \n",
    "            order = cat_status_wise.sort_values('canceled', ascending = False).Categories).set(title = 'Order Cancellations per Category')\n",
    "\n",
    "# add the annotation\n",
    "ax.bar_label(ax.containers[-1], fmt = '\\n%.0f', label_type = 'edge')\n",
    "\n",
    "# add Labels\n",
    "ax.set(xlabel = 'Product Categories')\n",
    "ax.set(ylabel = 'Cancellation')\n",
    "ax.set_xticklabels(ax.get_xticklabels(), rotation = 30, horizontalalignment = 'right')\n",
    "plt.tight_layout()\n",
    "plt.show()"
   ]
  },
  {
   "cell_type": "markdown",
   "id": "7f4e13f1-7811-4a4e-9d98-d7337d2f46a5",
   "metadata": {},
   "source": [
    "## 1 (c) Highest Order Refunded per Category"
   ]
  },
  {
   "cell_type": "code",
   "execution_count": 55,
   "id": "864bcfb5-f422-49de-b716-4abb2b945a1a",
   "metadata": {},
   "outputs": [
    {
     "data": {
      "image/png": "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\n",
      "text/plain": [
       "<Figure size 1080x432 with 1 Axes>"
      ]
     },
     "metadata": {
      "needs_background": "light"
     },
     "output_type": "display_data"
    }
   ],
   "source": [
    "#Highest Order Refunded\n",
    "fig, ax = plt.subplots(figsize=(15, 6))\n",
    "\n",
    "# add the plot\n",
    "sns.barplot(x = 'Categories', y = 'order_refunded', data = cat_status_wise, capsize = 0.001, ax = ax, \n",
    "            order = cat_status_wise.sort_values('order_refunded', ascending = False).Categories).set(title = 'Orders Refunded per Category')\n",
    "\n",
    "# add the annotation\n",
    "ax.bar_label(ax.containers[-1], fmt = '\\n%.0f', label_type = 'edge')\n",
    "\n",
    "# add Labels\n",
    "ax.set(xlabel = 'Product Categories')\n",
    "ax.set(ylabel = 'Cancellation')\n",
    "ax.set_xticklabels(ax.get_xticklabels(), rotation = 30, horizontalalignment = 'right')\n",
    "plt.tight_layout()\n",
    "plt.show()"
   ]
  },
  {
   "cell_type": "markdown",
   "id": "28532c02-f40f-430b-bf8e-4a4659c015a6",
   "metadata": {},
   "source": [
    "## 1 (d) Most Orders for Product and Top 10 Most Orders for Products"
   ]
  },
  {
   "cell_type": "code",
   "execution_count": 56,
   "id": "be26fd9c-0314-4d12-b9d3-518e050b2961",
   "metadata": {},
   "outputs": [
    {
     "data": {
      "text/plain": [
       "'MATSAM59DB75ADB2F80'"
      ]
     },
     "execution_count": 56,
     "metadata": {},
     "output_type": "execute_result"
    }
   ],
   "source": [
    "#Most Ordered Product\n",
    "df['sku'].value_counts().idxmax()"
   ]
  },
  {
   "cell_type": "code",
   "execution_count": 57,
   "id": "d361f7fa-f509-4b12-9f47-6b111a2c1df9",
   "metadata": {},
   "outputs": [
    {
     "data": {
      "text/html": [
       "<div>\n",
       "<style scoped>\n",
       "    .dataframe tbody tr th:only-of-type {\n",
       "        vertical-align: middle;\n",
       "    }\n",
       "\n",
       "    .dataframe tbody tr th {\n",
       "        vertical-align: top;\n",
       "    }\n",
       "\n",
       "    .dataframe thead th {\n",
       "        text-align: right;\n",
       "    }\n",
       "</style>\n",
       "<table border=\"1\" class=\"dataframe\">\n",
       "  <thead>\n",
       "    <tr style=\"text-align: right;\">\n",
       "      <th></th>\n",
       "      <th>Count</th>\n",
       "      <th>Top 10 Most Ordered Products</th>\n",
       "    </tr>\n",
       "  </thead>\n",
       "  <tbody>\n",
       "    <tr>\n",
       "      <th>MATSAM59DB75ADB2F80</th>\n",
       "      <td>3775</td>\n",
       "      <td>MATSAM59DB75ADB2F80</td>\n",
       "    </tr>\n",
       "    <tr>\n",
       "      <th>Al Muhafiz Sohan Halwa Almond</th>\n",
       "      <td>2258</td>\n",
       "      <td>Al Muhafiz Sohan Halwa Almond</td>\n",
       "    </tr>\n",
       "    <tr>\n",
       "      <th>emart_00-7</th>\n",
       "      <td>2027</td>\n",
       "      <td>emart_00-7</td>\n",
       "    </tr>\n",
       "    <tr>\n",
       "      <th>kcc_krone deal</th>\n",
       "      <td>1894</td>\n",
       "      <td>kcc_krone deal</td>\n",
       "    </tr>\n",
       "    <tr>\n",
       "      <th>infinix_Zero 4-Grey</th>\n",
       "      <td>1793</td>\n",
       "      <td>infinix_Zero 4-Grey</td>\n",
       "    </tr>\n",
       "    <tr>\n",
       "      <th>emart_00-1</th>\n",
       "      <td>1391</td>\n",
       "      <td>emart_00-1</td>\n",
       "    </tr>\n",
       "    <tr>\n",
       "      <th>MATSAM59DB757FB47A2</th>\n",
       "      <td>1273</td>\n",
       "      <td>MATSAM59DB757FB47A2</td>\n",
       "    </tr>\n",
       "    <tr>\n",
       "      <th>Rubian_U8 Smart Watch</th>\n",
       "      <td>1233</td>\n",
       "      <td>Rubian_U8 Smart Watch</td>\n",
       "    </tr>\n",
       "    <tr>\n",
       "      <th>unilever_Deal-6</th>\n",
       "      <td>1213</td>\n",
       "      <td>unilever_Deal-6</td>\n",
       "    </tr>\n",
       "    <tr>\n",
       "      <th>APPNAT5A0A01860CE92</th>\n",
       "      <td>1173</td>\n",
       "      <td>APPNAT5A0A01860CE92</td>\n",
       "    </tr>\n",
       "  </tbody>\n",
       "</table>\n",
       "</div>"
      ],
      "text/plain": [
       "                               Count   Top 10 Most Ordered Products\n",
       "MATSAM59DB75ADB2F80             3775            MATSAM59DB75ADB2F80\n",
       "Al Muhafiz Sohan Halwa Almond   2258  Al Muhafiz Sohan Halwa Almond\n",
       "emart_00-7                      2027                     emart_00-7\n",
       "kcc_krone deal                  1894                 kcc_krone deal\n",
       "infinix_Zero 4-Grey             1793            infinix_Zero 4-Grey\n",
       "emart_00-1                      1391                     emart_00-1\n",
       "MATSAM59DB757FB47A2             1273            MATSAM59DB757FB47A2\n",
       "Rubian_U8 Smart Watch           1233          Rubian_U8 Smart Watch\n",
       "unilever_Deal-6                 1213                unilever_Deal-6\n",
       "APPNAT5A0A01860CE92             1173            APPNAT5A0A01860CE92"
      ]
     },
     "execution_count": 57,
     "metadata": {},
     "output_type": "execute_result"
    }
   ],
   "source": [
    "#Top 10 Most Sold Products from 2016-2018\n",
    "most_sold = pd.DataFrame(df['sku'].value_counts())\n",
    "top_10_most_sold = most_sold[0:10]\n",
    "top_10_most_sold['Top 10 Most Ordered Products'] = top_10_most_sold.index\n",
    "top_10_most_sold.reset_index(drop = True)\n",
    "top_10_most_sold.columns = ['Count', 'Top 10 Most Ordered Products'] #Renaming Columns\n",
    "top_10_most_sold"
   ]
  },
  {
   "cell_type": "code",
   "execution_count": 58,
   "id": "6e5d875d-e69b-473c-8130-9c05f842e1a6",
   "metadata": {},
   "outputs": [
    {
     "data": {
      "image/png": "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\n",
      "text/plain": [
       "<Figure size 720x360 with 1 Axes>"
      ]
     },
     "metadata": {
      "needs_background": "light"
     },
     "output_type": "display_data"
    }
   ],
   "source": [
    "fig, ax = plt.subplots(figsize=(10, 5))\n",
    "\n",
    "sns.barplot(x = top_10_most_sold['Top 10 Most Ordered Products'], y = top_10_most_sold['Count'], data = top_10_most_sold)\n",
    "\n",
    "# add Labels\n",
    "ax.set(xlabel = \"Top 10 Most Ordered Products\")\n",
    "ax.set(ylabel = 'Count')\n",
    "ax.set_xticklabels(ax.get_xticklabels(), rotation = 30, horizontalalignment = 'right')\n",
    "plt.tight_layout()\n",
    "plt.show()\n"
   ]
  },
  {
   "cell_type": "code",
   "execution_count": 59,
   "id": "2ce6ce5f-b625-4043-a9fb-da830a5bdf00",
   "metadata": {},
   "outputs": [
    {
     "data": {
      "text/html": [
       "<div>\n",
       "<style scoped>\n",
       "    .dataframe tbody tr th:only-of-type {\n",
       "        vertical-align: middle;\n",
       "    }\n",
       "\n",
       "    .dataframe tbody tr th {\n",
       "        vertical-align: top;\n",
       "    }\n",
       "\n",
       "    .dataframe thead th {\n",
       "        text-align: right;\n",
       "    }\n",
       "</style>\n",
       "<table border=\"1\" class=\"dataframe\">\n",
       "  <thead>\n",
       "    <tr style=\"text-align: right;\">\n",
       "      <th>Year</th>\n",
       "      <th>2016</th>\n",
       "      <th>2017</th>\n",
       "      <th>2018</th>\n",
       "    </tr>\n",
       "    <tr>\n",
       "      <th>sku</th>\n",
       "      <th></th>\n",
       "      <th></th>\n",
       "      <th></th>\n",
       "    </tr>\n",
       "  </thead>\n",
       "  <tbody>\n",
       "    <tr>\n",
       "      <th>Al Muhafiz Sohan Halwa Almond</th>\n",
       "      <td>2022</td>\n",
       "      <td>236</td>\n",
       "      <td>0</td>\n",
       "    </tr>\n",
       "    <tr>\n",
       "      <th>kcc_krone deal</th>\n",
       "      <td>1564</td>\n",
       "      <td>330</td>\n",
       "      <td>0</td>\n",
       "    </tr>\n",
       "    <tr>\n",
       "      <th>emart_00-7</th>\n",
       "      <td>1384</td>\n",
       "      <td>643</td>\n",
       "      <td>0</td>\n",
       "    </tr>\n",
       "    <tr>\n",
       "      <th>emart_00-1</th>\n",
       "      <td>1343</td>\n",
       "      <td>48</td>\n",
       "      <td>0</td>\n",
       "    </tr>\n",
       "    <tr>\n",
       "      <th>unilever_Deal-6</th>\n",
       "      <td>1163</td>\n",
       "      <td>50</td>\n",
       "      <td>0</td>\n",
       "    </tr>\n",
       "    <tr>\n",
       "      <th>...</th>\n",
       "      <td>...</td>\n",
       "      <td>...</td>\n",
       "      <td>...</td>\n",
       "    </tr>\n",
       "    <tr>\n",
       "      <th>MATSAM5A7055694B277</th>\n",
       "      <td>0</td>\n",
       "      <td>0</td>\n",
       "      <td>100</td>\n",
       "    </tr>\n",
       "    <tr>\n",
       "      <th>MATSAM5A70556B13F0D</th>\n",
       "      <td>0</td>\n",
       "      <td>0</td>\n",
       "      <td>18</td>\n",
       "    </tr>\n",
       "    <tr>\n",
       "      <th>MATSAM5A70595265AB1</th>\n",
       "      <td>0</td>\n",
       "      <td>0</td>\n",
       "      <td>1</td>\n",
       "    </tr>\n",
       "    <tr>\n",
       "      <th>MATSAM5A706D35765FD</th>\n",
       "      <td>0</td>\n",
       "      <td>0</td>\n",
       "      <td>5</td>\n",
       "    </tr>\n",
       "    <tr>\n",
       "      <th>MEFCUL59E85E0A9AE59-S</th>\n",
       "      <td>0</td>\n",
       "      <td>0</td>\n",
       "      <td>1</td>\n",
       "    </tr>\n",
       "  </tbody>\n",
       "</table>\n",
       "<p>84510 rows × 3 columns</p>\n",
       "</div>"
      ],
      "text/plain": [
       "Year                           2016  2017  2018\n",
       "sku                                            \n",
       "Al Muhafiz Sohan Halwa Almond  2022   236     0\n",
       "kcc_krone deal                 1564   330     0\n",
       "emart_00-7                     1384   643     0\n",
       "emart_00-1                     1343    48     0\n",
       "unilever_Deal-6                1163    50     0\n",
       "...                             ...   ...   ...\n",
       "MATSAM5A7055694B277               0     0   100\n",
       "MATSAM5A70556B13F0D               0     0    18\n",
       "MATSAM5A70595265AB1               0     0     1\n",
       "MATSAM5A706D35765FD               0     0     5\n",
       "MEFCUL59E85E0A9AE59-S             0     0     1\n",
       "\n",
       "[84510 rows x 3 columns]"
      ]
     },
     "execution_count": 59,
     "metadata": {},
     "output_type": "execute_result"
    }
   ],
   "source": [
    "sku_by_year = pd.crosstab(df.sku, df.Year)\n",
    "sku_by_year.sort_values(by = 2016, ascending = False)"
   ]
  },
  {
   "cell_type": "code",
   "execution_count": 60,
   "id": "46116d15-c739-464c-9e5c-4ad28e3f18da",
   "metadata": {},
   "outputs": [
    {
     "data": {
      "text/plain": [
       "'Al Muhafiz Sohan Halwa Almond'"
      ]
     },
     "execution_count": 60,
     "metadata": {},
     "output_type": "execute_result"
    }
   ],
   "source": [
    "#Most Ordered Product in 2016\n",
    "sku_by_year[2016].idxmax()"
   ]
  },
  {
   "cell_type": "code",
   "execution_count": 61,
   "id": "37a84e4f-d2c2-4cb0-8221-3e477b88c731",
   "metadata": {},
   "outputs": [
    {
     "data": {
      "text/plain": [
       "'MATSAM59DB75ADB2F80'"
      ]
     },
     "execution_count": 61,
     "metadata": {},
     "output_type": "execute_result"
    }
   ],
   "source": [
    "#Most Ordered Product in 2017\n",
    "sku_by_year[2017].idxmax()"
   ]
  },
  {
   "cell_type": "code",
   "execution_count": 62,
   "id": "97281524-3db7-4814-a154-a915b99b2d9c",
   "metadata": {},
   "outputs": [
    {
     "data": {
      "text/plain": [
       "'MATSAM5A7463EE3C1A5'"
      ]
     },
     "execution_count": 62,
     "metadata": {},
     "output_type": "execute_result"
    }
   ],
   "source": [
    "#Most Ordered Product in 2018\n",
    "sku_by_year[2018].idxmax()"
   ]
  },
  {
   "cell_type": "code",
   "execution_count": 63,
   "id": "a2cb8d94-2812-4e79-b4b0-4c0c463a0493",
   "metadata": {},
   "outputs": [
    {
     "data": {
      "text/plain": [
       "Year\n",
       "2016    Al Muhafiz Sohan Halwa Almond\n",
       "2017              MATSAM59DB75ADB2F80\n",
       "2018              MATSAM5A7463EE3C1A5\n",
       "dtype: object"
      ]
     },
     "execution_count": 63,
     "metadata": {},
     "output_type": "execute_result"
    }
   ],
   "source": [
    "#Most Ordered Product Each Year\n",
    "sku_by_year = pd.crosstab(df.sku, df.Year).idxmax()\n",
    "sku_by_year"
   ]
  },
  {
   "cell_type": "code",
   "execution_count": 64,
   "id": "8297b129-d756-4522-b110-cf7871c23feb",
   "metadata": {},
   "outputs": [
    {
     "data": {
      "text/plain": [
       "Year\n",
       "2016    133808\n",
       "2017    289702\n",
       "2018    158590\n",
       "Name: sku, dtype: int64"
      ]
     },
     "execution_count": 64,
     "metadata": {},
     "output_type": "execute_result"
    }
   ],
   "source": [
    "#Highest Orders Each Year\n",
    "by_year = df.groupby(\"Year\").count()['sku']#.idxmax().max()\n",
    "by_year"
   ]
  },
  {
   "cell_type": "code",
   "execution_count": 65,
   "id": "282fad01-c354-483e-a066-e87482d8fe01",
   "metadata": {},
   "outputs": [],
   "source": [
    "#print(plt.style.available)"
   ]
  },
  {
   "cell_type": "code",
   "execution_count": 66,
   "id": "141b5150-4e8c-455a-b71d-0107a3988c88",
   "metadata": {},
   "outputs": [
    {
     "data": {
      "image/png": "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\n",
      "text/plain": [
       "<Figure size 432x288 with 1 Axes>"
      ]
     },
     "metadata": {},
     "output_type": "display_data"
    }
   ],
   "source": [
    "plt.style.use('ggplot')\n",
    "by_year.plot.bar()\n",
    "plt.title('No. of Orders per Year')\n",
    "plt.show()"
   ]
  },
  {
   "cell_type": "markdown",
   "id": "fa10b459-0591-4eae-ad99-2ae0474170a2",
   "metadata": {},
   "source": [
    "# 1 (e) Most Qty of Products Ordered"
   ]
  },
  {
   "cell_type": "code",
   "execution_count": 67,
   "id": "7f3670b9-09ab-4c1e-bf0d-ce5282b0572d",
   "metadata": {},
   "outputs": [
    {
     "data": {
      "text/html": [
       "<div>\n",
       "<style scoped>\n",
       "    .dataframe tbody tr th:only-of-type {\n",
       "        vertical-align: middle;\n",
       "    }\n",
       "\n",
       "    .dataframe tbody tr th {\n",
       "        vertical-align: top;\n",
       "    }\n",
       "\n",
       "    .dataframe thead th {\n",
       "        text-align: right;\n",
       "    }\n",
       "</style>\n",
       "<table border=\"1\" class=\"dataframe\">\n",
       "  <thead>\n",
       "    <tr style=\"text-align: right;\">\n",
       "      <th></th>\n",
       "      <th>sku</th>\n",
       "      <th>Year</th>\n",
       "      <th>qty_ordered</th>\n",
       "    </tr>\n",
       "  </thead>\n",
       "  <tbody>\n",
       "    <tr>\n",
       "      <th>0</th>\n",
       "      <td>kreations_YI 06-L</td>\n",
       "      <td>2016</td>\n",
       "      <td>1.0</td>\n",
       "    </tr>\n",
       "    <tr>\n",
       "      <th>1</th>\n",
       "      <td>kcc_Buy 2 Frey Air Freshener &amp; Get 1 Kasual Bo...</td>\n",
       "      <td>2016</td>\n",
       "      <td>1.0</td>\n",
       "    </tr>\n",
       "    <tr>\n",
       "      <th>2</th>\n",
       "      <td>Ego_UP0017-999-MR0</td>\n",
       "      <td>2016</td>\n",
       "      <td>1.0</td>\n",
       "    </tr>\n",
       "    <tr>\n",
       "      <th>3</th>\n",
       "      <td>kcc_krone deal</td>\n",
       "      <td>2016</td>\n",
       "      <td>1.0</td>\n",
       "    </tr>\n",
       "    <tr>\n",
       "      <th>4</th>\n",
       "      <td>BK7010400AG</td>\n",
       "      <td>2016</td>\n",
       "      <td>2.0</td>\n",
       "    </tr>\n",
       "    <tr>\n",
       "      <th>...</th>\n",
       "      <td>...</td>\n",
       "      <td>...</td>\n",
       "      <td>...</td>\n",
       "    </tr>\n",
       "    <tr>\n",
       "      <th>584519</th>\n",
       "      <td>WOFSCE5AE00357AECDE</td>\n",
       "      <td>2018</td>\n",
       "      <td>1.0</td>\n",
       "    </tr>\n",
       "    <tr>\n",
       "      <th>584520</th>\n",
       "      <td>MATHUA5AF70A7D1E50A</td>\n",
       "      <td>2018</td>\n",
       "      <td>1.0</td>\n",
       "    </tr>\n",
       "    <tr>\n",
       "      <th>584521</th>\n",
       "      <td>MATSAM5B6D7208C6D30</td>\n",
       "      <td>2018</td>\n",
       "      <td>2.0</td>\n",
       "    </tr>\n",
       "    <tr>\n",
       "      <th>584522</th>\n",
       "      <td>MATSAM5B1509B4696EA</td>\n",
       "      <td>2018</td>\n",
       "      <td>2.0</td>\n",
       "    </tr>\n",
       "    <tr>\n",
       "      <th>584523</th>\n",
       "      <td>MATSAM5B10F91A9B6AB</td>\n",
       "      <td>2018</td>\n",
       "      <td>2.0</td>\n",
       "    </tr>\n",
       "  </tbody>\n",
       "</table>\n",
       "<p>582100 rows × 3 columns</p>\n",
       "</div>"
      ],
      "text/plain": [
       "                                                      sku  Year  qty_ordered\n",
       "0                                       kreations_YI 06-L  2016          1.0\n",
       "1       kcc_Buy 2 Frey Air Freshener & Get 1 Kasual Bo...  2016          1.0\n",
       "2                                      Ego_UP0017-999-MR0  2016          1.0\n",
       "3                                          kcc_krone deal  2016          1.0\n",
       "4                                             BK7010400AG  2016          2.0\n",
       "...                                                   ...   ...          ...\n",
       "584519                                WOFSCE5AE00357AECDE  2018          1.0\n",
       "584520                                MATHUA5AF70A7D1E50A  2018          1.0\n",
       "584521                                MATSAM5B6D7208C6D30  2018          2.0\n",
       "584522                                MATSAM5B1509B4696EA  2018          2.0\n",
       "584523                                MATSAM5B10F91A9B6AB  2018          2.0\n",
       "\n",
       "[582100 rows x 3 columns]"
      ]
     },
     "execution_count": 67,
     "metadata": {},
     "output_type": "execute_result"
    }
   ],
   "source": [
    "sku = pd.DataFrame(df[['sku', 'Year', 'qty_ordered']])\n",
    "sku"
   ]
  },
  {
   "cell_type": "code",
   "execution_count": 68,
   "id": "26f8f04f-e45d-4958-957c-2d8ab55a2fae",
   "metadata": {},
   "outputs": [
    {
     "data": {
      "text/html": [
       "<div>\n",
       "<style scoped>\n",
       "    .dataframe tbody tr th:only-of-type {\n",
       "        vertical-align: middle;\n",
       "    }\n",
       "\n",
       "    .dataframe tbody tr th {\n",
       "        vertical-align: top;\n",
       "    }\n",
       "\n",
       "    .dataframe thead th {\n",
       "        text-align: right;\n",
       "    }\n",
       "</style>\n",
       "<table border=\"1\" class=\"dataframe\">\n",
       "  <thead>\n",
       "    <tr style=\"text-align: right;\">\n",
       "      <th></th>\n",
       "      <th>qty_ordered</th>\n",
       "    </tr>\n",
       "    <tr>\n",
       "      <th>Year</th>\n",
       "      <th></th>\n",
       "    </tr>\n",
       "  </thead>\n",
       "  <tbody>\n",
       "    <tr>\n",
       "      <th>2016</th>\n",
       "      <td>148392.0</td>\n",
       "    </tr>\n",
       "    <tr>\n",
       "      <th>2017</th>\n",
       "      <td>360178.0</td>\n",
       "    </tr>\n",
       "    <tr>\n",
       "      <th>2018</th>\n",
       "      <td>243278.0</td>\n",
       "    </tr>\n",
       "  </tbody>\n",
       "</table>\n",
       "</div>"
      ],
      "text/plain": [
       "      qty_ordered\n",
       "Year             \n",
       "2016     148392.0\n",
       "2017     360178.0\n",
       "2018     243278.0"
      ]
     },
     "execution_count": 68,
     "metadata": {},
     "output_type": "execute_result"
    }
   ],
   "source": [
    "#Highest qty_ordered Each Year\n",
    "by_sku = sku.groupby('Year').sum()\n",
    "by_sku"
   ]
  },
  {
   "cell_type": "code",
   "execution_count": 69,
   "id": "eb4f493f-f726-4d92-97b3-1c22074330bc",
   "metadata": {},
   "outputs": [
    {
     "data": {
      "image/png": "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\n",
      "text/plain": [
       "<Figure size 432x288 with 1 Axes>"
      ]
     },
     "metadata": {},
     "output_type": "display_data"
    }
   ],
   "source": [
    "#plt.style.use('fivethirtyeight')\n",
    "plt.style.use('seaborn-pastel')\n",
    "by_sku.plot.bar()\n",
    "plt.title('Qty/items Ordered per Year')\n",
    "plt.show()"
   ]
  },
  {
   "cell_type": "code",
   "execution_count": 70,
   "id": "e7ae130b-63d9-41a1-94a5-0aa8363abb38",
   "metadata": {},
   "outputs": [
    {
     "data": {
      "text/html": [
       "<div>\n",
       "<style scoped>\n",
       "    .dataframe tbody tr th:only-of-type {\n",
       "        vertical-align: middle;\n",
       "    }\n",
       "\n",
       "    .dataframe tbody tr th {\n",
       "        vertical-align: top;\n",
       "    }\n",
       "\n",
       "    .dataframe thead th {\n",
       "        text-align: right;\n",
       "    }\n",
       "</style>\n",
       "<table border=\"1\" class=\"dataframe\">\n",
       "  <thead>\n",
       "    <tr style=\"text-align: right;\">\n",
       "      <th></th>\n",
       "      <th>sku</th>\n",
       "      <th>Year</th>\n",
       "      <th>qty_ordered</th>\n",
       "    </tr>\n",
       "  </thead>\n",
       "  <tbody>\n",
       "    <tr>\n",
       "      <th>0</th>\n",
       "      <td>kreations_YI 06-L</td>\n",
       "      <td>2016</td>\n",
       "      <td>1.0</td>\n",
       "    </tr>\n",
       "    <tr>\n",
       "      <th>1</th>\n",
       "      <td>kcc_Buy 2 Frey Air Freshener &amp; Get 1 Kasual Bo...</td>\n",
       "      <td>2016</td>\n",
       "      <td>1.0</td>\n",
       "    </tr>\n",
       "    <tr>\n",
       "      <th>2</th>\n",
       "      <td>Ego_UP0017-999-MR0</td>\n",
       "      <td>2016</td>\n",
       "      <td>1.0</td>\n",
       "    </tr>\n",
       "    <tr>\n",
       "      <th>3</th>\n",
       "      <td>kcc_krone deal</td>\n",
       "      <td>2016</td>\n",
       "      <td>1.0</td>\n",
       "    </tr>\n",
       "    <tr>\n",
       "      <th>4</th>\n",
       "      <td>BK7010400AG</td>\n",
       "      <td>2016</td>\n",
       "      <td>2.0</td>\n",
       "    </tr>\n",
       "    <tr>\n",
       "      <th>...</th>\n",
       "      <td>...</td>\n",
       "      <td>...</td>\n",
       "      <td>...</td>\n",
       "    </tr>\n",
       "    <tr>\n",
       "      <th>584519</th>\n",
       "      <td>WOFSCE5AE00357AECDE</td>\n",
       "      <td>2018</td>\n",
       "      <td>1.0</td>\n",
       "    </tr>\n",
       "    <tr>\n",
       "      <th>584520</th>\n",
       "      <td>MATHUA5AF70A7D1E50A</td>\n",
       "      <td>2018</td>\n",
       "      <td>1.0</td>\n",
       "    </tr>\n",
       "    <tr>\n",
       "      <th>584521</th>\n",
       "      <td>MATSAM5B6D7208C6D30</td>\n",
       "      <td>2018</td>\n",
       "      <td>2.0</td>\n",
       "    </tr>\n",
       "    <tr>\n",
       "      <th>584522</th>\n",
       "      <td>MATSAM5B1509B4696EA</td>\n",
       "      <td>2018</td>\n",
       "      <td>2.0</td>\n",
       "    </tr>\n",
       "    <tr>\n",
       "      <th>584523</th>\n",
       "      <td>MATSAM5B10F91A9B6AB</td>\n",
       "      <td>2018</td>\n",
       "      <td>2.0</td>\n",
       "    </tr>\n",
       "  </tbody>\n",
       "</table>\n",
       "<p>582100 rows × 3 columns</p>\n",
       "</div>"
      ],
      "text/plain": [
       "                                                      sku  Year  qty_ordered\n",
       "0                                       kreations_YI 06-L  2016          1.0\n",
       "1       kcc_Buy 2 Frey Air Freshener & Get 1 Kasual Bo...  2016          1.0\n",
       "2                                      Ego_UP0017-999-MR0  2016          1.0\n",
       "3                                          kcc_krone deal  2016          1.0\n",
       "4                                             BK7010400AG  2016          2.0\n",
       "...                                                   ...   ...          ...\n",
       "584519                                WOFSCE5AE00357AECDE  2018          1.0\n",
       "584520                                MATHUA5AF70A7D1E50A  2018          1.0\n",
       "584521                                MATSAM5B6D7208C6D30  2018          2.0\n",
       "584522                                MATSAM5B1509B4696EA  2018          2.0\n",
       "584523                                MATSAM5B10F91A9B6AB  2018          2.0\n",
       "\n",
       "[582100 rows x 3 columns]"
      ]
     },
     "execution_count": 70,
     "metadata": {},
     "output_type": "execute_result"
    }
   ],
   "source": [
    "df_sku_year = pd.DataFrame(df[['sku', 'Year', 'qty_ordered']])\n",
    "df_sku_year"
   ]
  },
  {
   "cell_type": "code",
   "execution_count": 71,
   "id": "32fe0a7a-e7e2-42ad-8e77-0ddb7a984e65",
   "metadata": {},
   "outputs": [
    {
     "name": "stdout",
     "output_type": "stream",
     "text": [
      "<class 'pandas.core.frame.DataFrame'>\n",
      "Int64Index: 582100 entries, 0 to 584523\n",
      "Data columns (total 3 columns):\n",
      " #   Column       Non-Null Count   Dtype  \n",
      "---  ------       --------------   -----  \n",
      " 0   sku          582100 non-null  object \n",
      " 1   Year         582100 non-null  int64  \n",
      " 2   qty_ordered  582100 non-null  float64\n",
      "dtypes: float64(1), int64(1), object(1)\n",
      "memory usage: 33.9+ MB\n"
     ]
    }
   ],
   "source": [
    "df_sku_year.info()"
   ]
  },
  {
   "cell_type": "code",
   "execution_count": 72,
   "id": "b2260bf8-0093-42b3-8b03-b4243e73a49b",
   "metadata": {},
   "outputs": [],
   "source": [
    "df_sku_year['Year'] = df_sku_year['Year'].apply(lambda x: str(x))"
   ]
  },
  {
   "cell_type": "code",
   "execution_count": 73,
   "id": "1b4411b5-4c7e-4855-a049-800e21b4cce6",
   "metadata": {},
   "outputs": [
    {
     "data": {
      "text/plain": [
       "str"
      ]
     },
     "execution_count": 73,
     "metadata": {},
     "output_type": "execute_result"
    }
   ],
   "source": [
    "type(df_sku_year['Year'][0])"
   ]
  },
  {
   "cell_type": "code",
   "execution_count": 74,
   "id": "56f54a41-f01c-449d-8edb-2c25f4b63e70",
   "metadata": {},
   "outputs": [
    {
     "name": "stdout",
     "output_type": "stream",
     "text": [
      "<class 'pandas.core.frame.DataFrame'>\n",
      "Int64Index: 582100 entries, 0 to 584523\n",
      "Data columns (total 3 columns):\n",
      " #   Column       Non-Null Count   Dtype  \n",
      "---  ------       --------------   -----  \n",
      " 0   sku          582100 non-null  object \n",
      " 1   Year         582100 non-null  object \n",
      " 2   qty_ordered  582100 non-null  float64\n",
      "dtypes: float64(1), object(2)\n",
      "memory usage: 33.9+ MB\n"
     ]
    }
   ],
   "source": [
    "df_sku_year.info()"
   ]
  },
  {
   "cell_type": "code",
   "execution_count": 75,
   "id": "0e8bf68a-7d3a-4f6c-b205-6b2f5a5c9674",
   "metadata": {},
   "outputs": [
    {
     "data": {
      "text/html": [
       "<div>\n",
       "<style scoped>\n",
       "    .dataframe tbody tr th:only-of-type {\n",
       "        vertical-align: middle;\n",
       "    }\n",
       "\n",
       "    .dataframe tbody tr th {\n",
       "        vertical-align: top;\n",
       "    }\n",
       "\n",
       "    .dataframe thead th {\n",
       "        text-align: right;\n",
       "    }\n",
       "</style>\n",
       "<table border=\"1\" class=\"dataframe\">\n",
       "  <thead>\n",
       "    <tr style=\"text-align: right;\">\n",
       "      <th></th>\n",
       "      <th>sku</th>\n",
       "      <th>Year</th>\n",
       "      <th>qty_ordered</th>\n",
       "    </tr>\n",
       "  </thead>\n",
       "  <tbody>\n",
       "    <tr>\n",
       "      <th>0</th>\n",
       "      <td>OTHOTH5A0945D0A72F4</td>\n",
       "      <td>2018</td>\n",
       "      <td>6720.0</td>\n",
       "    </tr>\n",
       "    <tr>\n",
       "      <th>1</th>\n",
       "      <td>VIT5ABCCF7FDF973</td>\n",
       "      <td>2018</td>\n",
       "      <td>3914.0</td>\n",
       "    </tr>\n",
       "    <tr>\n",
       "      <th>2</th>\n",
       "      <td>IDROID_BALRX7-Gold</td>\n",
       "      <td>2017</td>\n",
       "      <td>3907.0</td>\n",
       "    </tr>\n",
       "    <tr>\n",
       "      <th>3</th>\n",
       "      <td>MATSAM59DB75ADB2F80</td>\n",
       "      <td>2017</td>\n",
       "      <td>3583.0</td>\n",
       "    </tr>\n",
       "    <tr>\n",
       "      <th>4</th>\n",
       "      <td>IDROID_BALRX7-Jet black</td>\n",
       "      <td>2017</td>\n",
       "      <td>3038.0</td>\n",
       "    </tr>\n",
       "    <tr>\n",
       "      <th>5</th>\n",
       "      <td>Al Muhafiz Sohan Halwa Almond</td>\n",
       "      <td>2016</td>\n",
       "      <td>2357.0</td>\n",
       "    </tr>\n",
       "    <tr>\n",
       "      <th>6</th>\n",
       "      <td>OTHPCB5AB351EF2864B</td>\n",
       "      <td>2018</td>\n",
       "      <td>2036.0</td>\n",
       "    </tr>\n",
       "    <tr>\n",
       "      <th>7</th>\n",
       "      <td>BAGLUX5A099F4DDC6A7</td>\n",
       "      <td>2017</td>\n",
       "      <td>1859.0</td>\n",
       "    </tr>\n",
       "    <tr>\n",
       "      <th>8</th>\n",
       "      <td>KNO59D64DAF36939</td>\n",
       "      <td>2017</td>\n",
       "      <td>1842.0</td>\n",
       "    </tr>\n",
       "    <tr>\n",
       "      <th>9</th>\n",
       "      <td>OTHPCB5ABB207927CA9</td>\n",
       "      <td>2018</td>\n",
       "      <td>1831.0</td>\n",
       "    </tr>\n",
       "    <tr>\n",
       "      <th>10</th>\n",
       "      <td>OTHPCB5ABB2073BDF0C</td>\n",
       "      <td>2018</td>\n",
       "      <td>1730.0</td>\n",
       "    </tr>\n",
       "    <tr>\n",
       "      <th>11</th>\n",
       "      <td>kcc_krone deal</td>\n",
       "      <td>2016</td>\n",
       "      <td>1668.0</td>\n",
       "    </tr>\n",
       "    <tr>\n",
       "      <th>12</th>\n",
       "      <td>emart_00-7</td>\n",
       "      <td>2016</td>\n",
       "      <td>1658.0</td>\n",
       "    </tr>\n",
       "    <tr>\n",
       "      <th>13</th>\n",
       "      <td>infinix_Zero 4-Grey</td>\n",
       "      <td>2017</td>\n",
       "      <td>1628.0</td>\n",
       "    </tr>\n",
       "    <tr>\n",
       "      <th>14</th>\n",
       "      <td>OTHPCB5AB351EEA6010</td>\n",
       "      <td>2018</td>\n",
       "      <td>1608.0</td>\n",
       "    </tr>\n",
       "    <tr>\n",
       "      <th>15</th>\n",
       "      <td>OTHPCB5ABB206B9F4F8</td>\n",
       "      <td>2018</td>\n",
       "      <td>1602.0</td>\n",
       "    </tr>\n",
       "  </tbody>\n",
       "</table>\n",
       "</div>"
      ],
      "text/plain": [
       "                              sku  Year  qty_ordered\n",
       "0             OTHOTH5A0945D0A72F4  2018       6720.0\n",
       "1                VIT5ABCCF7FDF973  2018       3914.0\n",
       "2              IDROID_BALRX7-Gold  2017       3907.0\n",
       "3             MATSAM59DB75ADB2F80  2017       3583.0\n",
       "4         IDROID_BALRX7-Jet black  2017       3038.0\n",
       "5   Al Muhafiz Sohan Halwa Almond  2016       2357.0\n",
       "6             OTHPCB5AB351EF2864B  2018       2036.0\n",
       "7             BAGLUX5A099F4DDC6A7  2017       1859.0\n",
       "8                KNO59D64DAF36939  2017       1842.0\n",
       "9             OTHPCB5ABB207927CA9  2018       1831.0\n",
       "10            OTHPCB5ABB2073BDF0C  2018       1730.0\n",
       "11                 kcc_krone deal  2016       1668.0\n",
       "12                     emart_00-7  2016       1658.0\n",
       "13            infinix_Zero 4-Grey  2017       1628.0\n",
       "14            OTHPCB5AB351EEA6010  2018       1608.0\n",
       "15            OTHPCB5ABB206B9F4F8  2018       1602.0"
      ]
     },
     "execution_count": 75,
     "metadata": {},
     "output_type": "execute_result"
    }
   ],
   "source": [
    "#pd.set_option('display.max_rows', None)\n",
    "sku_year = df_sku_year.groupby(['sku', 'Year']).sum().sort_values(by = ['qty_ordered', 'Year'], ascending = False).head(16).reset_index()\n",
    "sku_year"
   ]
  },
  {
   "cell_type": "code",
   "execution_count": 76,
   "id": "1d4dd26b-efba-46fb-9381-87271bd2c722",
   "metadata": {},
   "outputs": [
    {
     "data": {
      "image/png": "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\n",
      "text/plain": [
       "<Figure size 720x576 with 1 Axes>"
      ]
     },
     "metadata": {},
     "output_type": "display_data"
    }
   ],
   "source": [
    "fig, ax = plt.subplots(figsize = (10, 8))\n",
    "\n",
    "sns.barplot(x = 'sku', y = 'qty_ordered', hue = 'Year', data = sku_year)\n",
    "\n",
    "# add labels\n",
    "ax.set(xlabel = 'Products Qty Ordered')\n",
    "ax.set(ylabel = 'Count')\n",
    "ax.set_xticklabels(ax.get_xticklabels(), rotation = 30, horizontalalignment = 'right')\n",
    "plt.tight_layout()\n",
    "plt.show()"
   ]
  },
  {
   "cell_type": "code",
   "execution_count": null,
   "id": "f73acab3-4619-4700-b430-678d6b22dcbe",
   "metadata": {},
   "outputs": [],
   "source": []
  },
  {
   "cell_type": "code",
   "execution_count": null,
   "id": "51c54a4c-79b9-41cb-870e-69c90477b56a",
   "metadata": {},
   "outputs": [],
   "source": []
  }
 ],
 "metadata": {
  "kernelspec": {
   "display_name": "Python 3",
   "language": "python",
   "name": "python3"
  },
  "language_info": {
   "codemirror_mode": {
    "name": "ipython",
    "version": 3
   },
   "file_extension": ".py",
   "mimetype": "text/x-python",
   "name": "python",
   "nbconvert_exporter": "python",
   "pygments_lexer": "ipython3",
   "version": "3.8.0"
  }
 },
 "nbformat": 4,
 "nbformat_minor": 5
}
