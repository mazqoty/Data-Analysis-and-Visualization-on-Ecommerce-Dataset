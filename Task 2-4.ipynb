{
 "cells": [
  {
   "cell_type": "code",
   "execution_count": 1,
   "id": "227afe2a-4142-4389-94b8-753fb842048d",
   "metadata": {},
   "outputs": [],
   "source": [
    "import warnings\n",
    "import numpy as np\n",
    "import pandas as pd\n",
    "import matplotlib.pyplot as plt\n",
    "import seaborn as sns"
   ]
  },
  {
   "cell_type": "code",
   "execution_count": 2,
   "id": "4b7ddd57-12e0-4e0b-8dbb-2248a04c7e91",
   "metadata": {},
   "outputs": [
    {
     "name": "stdout",
     "output_type": "stream",
     "text": [
      "5.1.0\n"
     ]
    },
    {
     "data": {
      "text/html": [
       "        <script type=\"text/javascript\">\n",
       "        window.PlotlyConfig = {MathJaxConfig: 'local'};\n",
       "        if (window.MathJax) {MathJax.Hub.Config({SVG: {font: \"STIX-Web\"}});}\n",
       "        if (typeof require !== 'undefined') {\n",
       "        require.undef(\"plotly\");\n",
       "        requirejs.config({\n",
       "            paths: {\n",
       "                'plotly': ['https://cdn.plot.ly/plotly-2.2.0.min']\n",
       "            }\n",
       "        });\n",
       "        require(['plotly'], function(Plotly) {\n",
       "            window._Plotly = Plotly;\n",
       "        });\n",
       "        }\n",
       "        </script>\n",
       "        "
      ]
     },
     "metadata": {},
     "output_type": "display_data"
    },
    {
     "data": {
      "text/html": [
       "        <script type=\"text/javascript\">\n",
       "        window.PlotlyConfig = {MathJaxConfig: 'local'};\n",
       "        if (window.MathJax) {MathJax.Hub.Config({SVG: {font: \"STIX-Web\"}});}\n",
       "        if (typeof require !== 'undefined') {\n",
       "        require.undef(\"plotly\");\n",
       "        requirejs.config({\n",
       "            paths: {\n",
       "                'plotly': ['https://cdn.plot.ly/plotly-2.2.0.min']\n",
       "            }\n",
       "        });\n",
       "        require(['plotly'], function(Plotly) {\n",
       "            window._Plotly = Plotly;\n",
       "        });\n",
       "        }\n",
       "        </script>\n",
       "        "
      ]
     },
     "metadata": {},
     "output_type": "display_data"
    }
   ],
   "source": [
    "# Plotly and Cufflinks setup\n",
    "\n",
    "#!pip install plotly\n",
    "#!pip install cufflinks\n",
    "#!pip install chart_studio\n",
    "\n",
    "import chart_studio.plotly as py\n",
    "import plotly.graph_objs as go\n",
    "\n",
    "from plotly import __version__\n",
    "from plotly.offline import download_plotlyjs, init_notebook_mode, plot, iplot\n",
    "print(__version__) #requires version >= 1.9.0\n",
    "\n",
    "import cufflinks as cf\n",
    "\n",
    "#for Notebooks\n",
    "init_notebook_mode(connected = True)\n",
    "\n",
    "#for offline use\n",
    "cf.go_offline()"
   ]
  },
  {
   "cell_type": "markdown",
   "id": "57c3408c-967f-4a4d-9dc1-cd0520ed7db0",
   "metadata": {},
   "source": [
    "# Loading Data"
   ]
  },
  {
   "cell_type": "code",
   "execution_count": 3,
   "id": "6dd9b5be-d40e-4d11-ac2c-866121fb18af",
   "metadata": {},
   "outputs": [],
   "source": [
    "path = \"C:/users/Mazhar/Projects_Jupyter/8.Pakistan_Largest_Ecommerce_Dataset/Pakistan Largest Ecommerce Dataset.csv\""
   ]
  },
  {
   "cell_type": "code",
   "execution_count": 4,
   "id": "da9de75d-f990-4486-b304-8a7a15e01d4f",
   "metadata": {},
   "outputs": [],
   "source": [
    "warnings.filterwarnings('ignore')"
   ]
  },
  {
   "cell_type": "code",
   "execution_count": 5,
   "id": "8db36ca7-4fc8-47a6-9cc7-353f468c5507",
   "metadata": {},
   "outputs": [],
   "source": [
    "df = pd.read_csv(path,  parse_dates = [\"Customer Since\", \"M-Y\"], low_memory = False, na_values = [\"NaN\", 'NaT', ' -   '])"
   ]
  },
  {
   "cell_type": "code",
   "execution_count": 6,
   "id": "debd623f-e033-4b44-a5ba-5c23fe16287a",
   "metadata": {},
   "outputs": [],
   "source": [
    "pd.set_option('display.max_columns', None)"
   ]
  },
  {
   "cell_type": "code",
   "execution_count": 7,
   "id": "1bac8281-68d7-496d-99e4-88f2fdd60e1c",
   "metadata": {},
   "outputs": [
    {
     "data": {
      "text/html": [
       "<div>\n",
       "<style scoped>\n",
       "    .dataframe tbody tr th:only-of-type {\n",
       "        vertical-align: middle;\n",
       "    }\n",
       "\n",
       "    .dataframe tbody tr th {\n",
       "        vertical-align: top;\n",
       "    }\n",
       "\n",
       "    .dataframe thead th {\n",
       "        text-align: right;\n",
       "    }\n",
       "</style>\n",
       "<table border=\"1\" class=\"dataframe\">\n",
       "  <thead>\n",
       "    <tr style=\"text-align: right;\">\n",
       "      <th></th>\n",
       "      <th>item_id</th>\n",
       "      <th>status</th>\n",
       "      <th>created_at</th>\n",
       "      <th>sku</th>\n",
       "      <th>price</th>\n",
       "      <th>qty_ordered</th>\n",
       "      <th>grand_total</th>\n",
       "      <th>increment_id</th>\n",
       "      <th>category_name_1</th>\n",
       "      <th>sales_commission_code</th>\n",
       "      <th>discount_amount</th>\n",
       "      <th>payment_method</th>\n",
       "      <th>Working Date</th>\n",
       "      <th>BI Status</th>\n",
       "      <th>MV</th>\n",
       "      <th>Year</th>\n",
       "      <th>Month</th>\n",
       "      <th>Customer Since</th>\n",
       "      <th>M-Y</th>\n",
       "      <th>FY</th>\n",
       "      <th>Customer ID</th>\n",
       "      <th>Unnamed: 21</th>\n",
       "      <th>Unnamed: 22</th>\n",
       "      <th>Unnamed: 23</th>\n",
       "      <th>Unnamed: 24</th>\n",
       "      <th>Unnamed: 25</th>\n",
       "    </tr>\n",
       "  </thead>\n",
       "  <tbody>\n",
       "    <tr>\n",
       "      <th>0</th>\n",
       "      <td>211131.0</td>\n",
       "      <td>complete</td>\n",
       "      <td>7/1/2016</td>\n",
       "      <td>kreations_YI 06-L</td>\n",
       "      <td>1950.0</td>\n",
       "      <td>1.0</td>\n",
       "      <td>1950.0</td>\n",
       "      <td>100147443</td>\n",
       "      <td>Women's Fashion</td>\n",
       "      <td>\\N</td>\n",
       "      <td>0.0</td>\n",
       "      <td>cod</td>\n",
       "      <td>7/1/2016</td>\n",
       "      <td>#REF!</td>\n",
       "      <td>1,950</td>\n",
       "      <td>2016.0</td>\n",
       "      <td>7.0</td>\n",
       "      <td>2016-07-01</td>\n",
       "      <td>2016-07-01</td>\n",
       "      <td>FY17</td>\n",
       "      <td>1.0</td>\n",
       "      <td>NaN</td>\n",
       "      <td>NaN</td>\n",
       "      <td>NaN</td>\n",
       "      <td>NaN</td>\n",
       "      <td>NaN</td>\n",
       "    </tr>\n",
       "    <tr>\n",
       "      <th>1</th>\n",
       "      <td>211133.0</td>\n",
       "      <td>canceled</td>\n",
       "      <td>7/1/2016</td>\n",
       "      <td>kcc_Buy 2 Frey Air Freshener &amp; Get 1 Kasual Bo...</td>\n",
       "      <td>240.0</td>\n",
       "      <td>1.0</td>\n",
       "      <td>240.0</td>\n",
       "      <td>100147444</td>\n",
       "      <td>Beauty &amp; Grooming</td>\n",
       "      <td>\\N</td>\n",
       "      <td>0.0</td>\n",
       "      <td>cod</td>\n",
       "      <td>7/1/2016</td>\n",
       "      <td>Gross</td>\n",
       "      <td>240</td>\n",
       "      <td>2016.0</td>\n",
       "      <td>7.0</td>\n",
       "      <td>2016-07-01</td>\n",
       "      <td>2016-07-01</td>\n",
       "      <td>FY17</td>\n",
       "      <td>2.0</td>\n",
       "      <td>NaN</td>\n",
       "      <td>NaN</td>\n",
       "      <td>NaN</td>\n",
       "      <td>NaN</td>\n",
       "      <td>NaN</td>\n",
       "    </tr>\n",
       "    <tr>\n",
       "      <th>2</th>\n",
       "      <td>211134.0</td>\n",
       "      <td>canceled</td>\n",
       "      <td>7/1/2016</td>\n",
       "      <td>Ego_UP0017-999-MR0</td>\n",
       "      <td>2450.0</td>\n",
       "      <td>1.0</td>\n",
       "      <td>2450.0</td>\n",
       "      <td>100147445</td>\n",
       "      <td>Women's Fashion</td>\n",
       "      <td>\\N</td>\n",
       "      <td>0.0</td>\n",
       "      <td>cod</td>\n",
       "      <td>7/1/2016</td>\n",
       "      <td>Gross</td>\n",
       "      <td>2,450</td>\n",
       "      <td>2016.0</td>\n",
       "      <td>7.0</td>\n",
       "      <td>2016-07-01</td>\n",
       "      <td>2016-07-01</td>\n",
       "      <td>FY17</td>\n",
       "      <td>3.0</td>\n",
       "      <td>NaN</td>\n",
       "      <td>NaN</td>\n",
       "      <td>NaN</td>\n",
       "      <td>NaN</td>\n",
       "      <td>NaN</td>\n",
       "    </tr>\n",
       "    <tr>\n",
       "      <th>3</th>\n",
       "      <td>211135.0</td>\n",
       "      <td>complete</td>\n",
       "      <td>7/1/2016</td>\n",
       "      <td>kcc_krone deal</td>\n",
       "      <td>360.0</td>\n",
       "      <td>1.0</td>\n",
       "      <td>60.0</td>\n",
       "      <td>100147446</td>\n",
       "      <td>Beauty &amp; Grooming</td>\n",
       "      <td>R-FSD-52352</td>\n",
       "      <td>300.0</td>\n",
       "      <td>cod</td>\n",
       "      <td>7/1/2016</td>\n",
       "      <td>Net</td>\n",
       "      <td>360</td>\n",
       "      <td>2016.0</td>\n",
       "      <td>7.0</td>\n",
       "      <td>2016-07-01</td>\n",
       "      <td>2016-07-01</td>\n",
       "      <td>FY17</td>\n",
       "      <td>4.0</td>\n",
       "      <td>NaN</td>\n",
       "      <td>NaN</td>\n",
       "      <td>NaN</td>\n",
       "      <td>NaN</td>\n",
       "      <td>NaN</td>\n",
       "    </tr>\n",
       "    <tr>\n",
       "      <th>4</th>\n",
       "      <td>211136.0</td>\n",
       "      <td>order_refunded</td>\n",
       "      <td>7/1/2016</td>\n",
       "      <td>BK7010400AG</td>\n",
       "      <td>555.0</td>\n",
       "      <td>2.0</td>\n",
       "      <td>1110.0</td>\n",
       "      <td>100147447</td>\n",
       "      <td>Soghaat</td>\n",
       "      <td>\\N</td>\n",
       "      <td>0.0</td>\n",
       "      <td>cod</td>\n",
       "      <td>7/1/2016</td>\n",
       "      <td>Valid</td>\n",
       "      <td>1,110</td>\n",
       "      <td>2016.0</td>\n",
       "      <td>7.0</td>\n",
       "      <td>2016-07-01</td>\n",
       "      <td>2016-07-01</td>\n",
       "      <td>FY17</td>\n",
       "      <td>5.0</td>\n",
       "      <td>NaN</td>\n",
       "      <td>NaN</td>\n",
       "      <td>NaN</td>\n",
       "      <td>NaN</td>\n",
       "      <td>NaN</td>\n",
       "    </tr>\n",
       "  </tbody>\n",
       "</table>\n",
       "</div>"
      ],
      "text/plain": [
       "    item_id          status created_at  \\\n",
       "0  211131.0        complete   7/1/2016   \n",
       "1  211133.0        canceled   7/1/2016   \n",
       "2  211134.0        canceled   7/1/2016   \n",
       "3  211135.0        complete   7/1/2016   \n",
       "4  211136.0  order_refunded   7/1/2016   \n",
       "\n",
       "                                                 sku   price  qty_ordered  \\\n",
       "0                                  kreations_YI 06-L  1950.0          1.0   \n",
       "1  kcc_Buy 2 Frey Air Freshener & Get 1 Kasual Bo...   240.0          1.0   \n",
       "2                                 Ego_UP0017-999-MR0  2450.0          1.0   \n",
       "3                                     kcc_krone deal   360.0          1.0   \n",
       "4                                        BK7010400AG   555.0          2.0   \n",
       "\n",
       "   grand_total increment_id    category_name_1 sales_commission_code  \\\n",
       "0       1950.0    100147443    Women's Fashion                    \\N   \n",
       "1        240.0    100147444  Beauty & Grooming                    \\N   \n",
       "2       2450.0    100147445    Women's Fashion                    \\N   \n",
       "3         60.0    100147446  Beauty & Grooming           R-FSD-52352   \n",
       "4       1110.0    100147447            Soghaat                    \\N   \n",
       "\n",
       "   discount_amount payment_method Working Date BI Status      MV     Year  \\\n",
       "0              0.0            cod     7/1/2016     #REF!   1,950   2016.0   \n",
       "1              0.0            cod     7/1/2016     Gross     240   2016.0   \n",
       "2              0.0            cod     7/1/2016     Gross   2,450   2016.0   \n",
       "3            300.0            cod     7/1/2016       Net     360   2016.0   \n",
       "4              0.0            cod     7/1/2016     Valid   1,110   2016.0   \n",
       "\n",
       "   Month Customer Since        M-Y    FY  Customer ID  Unnamed: 21  \\\n",
       "0    7.0     2016-07-01 2016-07-01  FY17          1.0          NaN   \n",
       "1    7.0     2016-07-01 2016-07-01  FY17          2.0          NaN   \n",
       "2    7.0     2016-07-01 2016-07-01  FY17          3.0          NaN   \n",
       "3    7.0     2016-07-01 2016-07-01  FY17          4.0          NaN   \n",
       "4    7.0     2016-07-01 2016-07-01  FY17          5.0          NaN   \n",
       "\n",
       "   Unnamed: 22  Unnamed: 23  Unnamed: 24  Unnamed: 25  \n",
       "0          NaN          NaN          NaN          NaN  \n",
       "1          NaN          NaN          NaN          NaN  \n",
       "2          NaN          NaN          NaN          NaN  \n",
       "3          NaN          NaN          NaN          NaN  \n",
       "4          NaN          NaN          NaN          NaN  "
      ]
     },
     "execution_count": 7,
     "metadata": {},
     "output_type": "execute_result"
    }
   ],
   "source": [
    "df.head(5)"
   ]
  },
  {
   "cell_type": "code",
   "execution_count": 8,
   "id": "668ed7ba-37f2-4c06-81d0-25e0e41b66f2",
   "metadata": {},
   "outputs": [
    {
     "data": {
      "text/plain": [
       "1048575"
      ]
     },
     "execution_count": 8,
     "metadata": {},
     "output_type": "execute_result"
    }
   ],
   "source": [
    "len(df)"
   ]
  },
  {
   "cell_type": "code",
   "execution_count": 9,
   "id": "1788359b-521f-4e20-a603-867541ec9ecc",
   "metadata": {},
   "outputs": [
    {
     "name": "stdout",
     "output_type": "stream",
     "text": [
      "<class 'pandas.core.frame.DataFrame'>\n",
      "RangeIndex: 1048575 entries, 0 to 1048574\n",
      "Data columns (total 26 columns):\n",
      " #   Column                 Non-Null Count   Dtype         \n",
      "---  ------                 --------------   -----         \n",
      " 0   item_id                584524 non-null  float64       \n",
      " 1   status                 584509 non-null  object        \n",
      " 2   created_at             584524 non-null  object        \n",
      " 3   sku                    584504 non-null  object        \n",
      " 4   price                  584524 non-null  float64       \n",
      " 5   qty_ordered            584524 non-null  float64       \n",
      " 6   grand_total            584524 non-null  float64       \n",
      " 7   increment_id           584524 non-null  object        \n",
      " 8   category_name_1        584360 non-null  object        \n",
      " 9   sales_commission_code  447349 non-null  object        \n",
      " 10  discount_amount        584524 non-null  float64       \n",
      " 11  payment_method         584524 non-null  object        \n",
      " 12  Working Date           584524 non-null  object        \n",
      " 13  BI Status              584524 non-null  object        \n",
      " 14   MV                    582292 non-null  object        \n",
      " 15  Year                   584524 non-null  float64       \n",
      " 16  Month                  584524 non-null  float64       \n",
      " 17  Customer Since         584513 non-null  datetime64[ns]\n",
      " 18  M-Y                    584524 non-null  datetime64[ns]\n",
      " 19  FY                     584524 non-null  object        \n",
      " 20  Customer ID            584513 non-null  float64       \n",
      " 21  Unnamed: 21            0 non-null       float64       \n",
      " 22  Unnamed: 22            0 non-null       float64       \n",
      " 23  Unnamed: 23            0 non-null       float64       \n",
      " 24  Unnamed: 24            0 non-null       float64       \n",
      " 25  Unnamed: 25            0 non-null       float64       \n",
      "dtypes: datetime64[ns](2), float64(13), object(11)\n",
      "memory usage: 208.0+ MB\n"
     ]
    }
   ],
   "source": [
    "df.info()"
   ]
  },
  {
   "cell_type": "markdown",
   "id": "00ca2a49-c761-4e5e-aeba-6c77c74d4a7c",
   "metadata": {},
   "source": [
    "# Data Pre-Processing"
   ]
  },
  {
   "cell_type": "markdown",
   "id": "ba1c2846-099d-419c-a0af-309735a3e41a",
   "metadata": {},
   "source": [
    "### Droping off Un-necessary Columns"
   ]
  },
  {
   "cell_type": "code",
   "execution_count": 10,
   "id": "b03cceaa-bd27-46f0-8588-b326acb2bc1e",
   "metadata": {},
   "outputs": [
    {
     "data": {
      "text/plain": [
       "Index(['item_id', 'status', 'created_at', 'sku', 'price', 'qty_ordered',\n",
       "       'grand_total', 'increment_id', 'category_name_1',\n",
       "       'sales_commission_code', 'discount_amount', 'payment_method',\n",
       "       'Working Date', 'BI Status', ' MV ', 'Year', 'Month', 'Customer Since',\n",
       "       'M-Y', 'FY', 'Customer ID', 'Unnamed: 21', 'Unnamed: 22', 'Unnamed: 23',\n",
       "       'Unnamed: 24', 'Unnamed: 25'],\n",
       "      dtype='object')"
      ]
     },
     "execution_count": 10,
     "metadata": {},
     "output_type": "execute_result"
    }
   ],
   "source": [
    "df.columns"
   ]
  },
  {
   "cell_type": "markdown",
   "id": "0db8e5ac-a9e3-4d0e-a37b-09dfdb86cb6c",
   "metadata": {},
   "source": [
    "#### Droping Columns = ['Unnamed: 21', 'Unnamed: 22', 'Unnamed: 23', 'Unnamed: 24', 'Unnamed: 25']"
   ]
  },
  {
   "cell_type": "code",
   "execution_count": 11,
   "id": "345cfcc7-eef1-4a45-b2ba-c7c4ae983e3f",
   "metadata": {},
   "outputs": [
    {
     "data": {
      "text/plain": [
       "Index(['Unnamed: 21', 'Unnamed: 22', 'Unnamed: 23', 'Unnamed: 24',\n",
       "       'Unnamed: 25'],\n",
       "      dtype='object')"
      ]
     },
     "execution_count": 11,
     "metadata": {},
     "output_type": "execute_result"
    }
   ],
   "source": [
    "drop_columns_0 = df.columns[-5:]\n",
    "drop_columns_0"
   ]
  },
  {
   "cell_type": "code",
   "execution_count": 12,
   "id": "868aef8a-1dd9-4a45-839b-daa27108475d",
   "metadata": {},
   "outputs": [],
   "source": [
    "df.drop(drop_columns_0, axis = 1, inplace = True)"
   ]
  },
  {
   "cell_type": "markdown",
   "id": "61c41fd7-46f0-4ab7-b3c2-0d45f23779c5",
   "metadata": {},
   "source": [
    "#### Droping Columns \"items_id\", \"created_at\", \"increment_id\", \"sales_commission_code\", \"Working Date\" , \"BI Status\" , \"Year\", \"Month\", \"FY\""
   ]
  },
  {
   "cell_type": "code",
   "execution_count": 13,
   "id": "2db0d0f1-091a-463b-9d35-436c8c2b65bb",
   "metadata": {},
   "outputs": [],
   "source": [
    "drop_columns_1 = [\"item_id\", \"created_at\", \"increment_id\", \"sales_commission_code\", \"Working Date\" , \"BI Status\" , \"Year\", \"Month\", \"FY\"]"
   ]
  },
  {
   "cell_type": "code",
   "execution_count": 14,
   "id": "9508d5bd-ad51-4a28-8561-31565b2277e9",
   "metadata": {},
   "outputs": [],
   "source": [
    "df.drop(drop_columns_1, axis = 1, inplace = True)"
   ]
  },
  {
   "cell_type": "markdown",
   "id": "7c342012-75eb-4d7c-a4e8-ed239f059b0d",
   "metadata": {},
   "source": [
    "### Re arranging Columns"
   ]
  },
  {
   "cell_type": "code",
   "execution_count": 15,
   "id": "2d2645e1-f805-4b62-8a47-4aa40813a02d",
   "metadata": {},
   "outputs": [],
   "source": [
    "df = df[['Customer ID', 'sku', 'category_name_1', 'status', 'qty_ordered',  'price', 'grand_total',\n",
    "       'discount_amount', ' MV ', 'payment_method', 'Customer Since', 'M-Y']]"
   ]
  },
  {
   "cell_type": "markdown",
   "id": "cbaf6b04-57f8-4a31-a19a-5e72beb800e0",
   "metadata": {},
   "source": [
    "#### Check For Missing Data"
   ]
  },
  {
   "cell_type": "code",
   "execution_count": 16,
   "id": "8ccdcf8b-c8e8-49ef-a214-001e25fa2f84",
   "metadata": {},
   "outputs": [
    {
     "data": {
      "text/html": [
       "<div>\n",
       "<style scoped>\n",
       "    .dataframe tbody tr th:only-of-type {\n",
       "        vertical-align: middle;\n",
       "    }\n",
       "\n",
       "    .dataframe tbody tr th {\n",
       "        vertical-align: top;\n",
       "    }\n",
       "\n",
       "    .dataframe thead th {\n",
       "        text-align: right;\n",
       "    }\n",
       "</style>\n",
       "<table border=\"1\" class=\"dataframe\">\n",
       "  <thead>\n",
       "    <tr style=\"text-align: right;\">\n",
       "      <th></th>\n",
       "      <th>Customer ID</th>\n",
       "      <th>sku</th>\n",
       "      <th>category_name_1</th>\n",
       "      <th>status</th>\n",
       "      <th>qty_ordered</th>\n",
       "      <th>price</th>\n",
       "      <th>grand_total</th>\n",
       "      <th>discount_amount</th>\n",
       "      <th>MV</th>\n",
       "      <th>payment_method</th>\n",
       "      <th>Customer Since</th>\n",
       "      <th>M-Y</th>\n",
       "    </tr>\n",
       "  </thead>\n",
       "  <tbody>\n",
       "    <tr>\n",
       "      <th>0</th>\n",
       "      <td>464062</td>\n",
       "      <td>464071</td>\n",
       "      <td>464215</td>\n",
       "      <td>464066</td>\n",
       "      <td>464051</td>\n",
       "      <td>464051</td>\n",
       "      <td>464051</td>\n",
       "      <td>464051</td>\n",
       "      <td>466283</td>\n",
       "      <td>464051</td>\n",
       "      <td>464062</td>\n",
       "      <td>464051</td>\n",
       "    </tr>\n",
       "  </tbody>\n",
       "</table>\n",
       "</div>"
      ],
      "text/plain": [
       "   Customer ID     sku  category_name_1  status  qty_ordered   price  \\\n",
       "0       464062  464071           464215  464066       464051  464051   \n",
       "\n",
       "   grand_total  discount_amount     MV   payment_method  Customer Since  \\\n",
       "0       464051           464051  466283          464051          464062   \n",
       "\n",
       "      M-Y  \n",
       "0  464051  "
      ]
     },
     "execution_count": 16,
     "metadata": {},
     "output_type": "execute_result"
    }
   ],
   "source": [
    "missing = pd.DataFrame(df.isnull().sum())\n",
    "missing.transpose()"
   ]
  },
  {
   "cell_type": "code",
   "execution_count": 17,
   "id": "6fb03b49-8bf5-4309-9061-851534def361",
   "metadata": {},
   "outputs": [
    {
     "data": {
      "text/plain": [
       "5571065"
      ]
     },
     "execution_count": 17,
     "metadata": {},
     "output_type": "execute_result"
    }
   ],
   "source": [
    "total_missing_values = df.isnull().sum().sum()\n",
    "total_missing_values"
   ]
  },
  {
   "cell_type": "markdown",
   "id": "8fc162db-24a0-4d2b-a9cf-4c9f7a25873d",
   "metadata": {},
   "source": [
    "### Droping off Missing Values Rows"
   ]
  },
  {
   "cell_type": "code",
   "execution_count": 18,
   "id": "e7e61cc1-0caf-4b99-ba12-2c6bd05828e0",
   "metadata": {},
   "outputs": [],
   "source": [
    "df.dropna(axis = 0, how = 'any', inplace = True)"
   ]
  },
  {
   "cell_type": "code",
   "execution_count": 19,
   "id": "97d5568a-03e8-4c5d-ac0c-9f70eccdb890",
   "metadata": {},
   "outputs": [
    {
     "data": {
      "text/html": [
       "<div>\n",
       "<style scoped>\n",
       "    .dataframe tbody tr th:only-of-type {\n",
       "        vertical-align: middle;\n",
       "    }\n",
       "\n",
       "    .dataframe tbody tr th {\n",
       "        vertical-align: top;\n",
       "    }\n",
       "\n",
       "    .dataframe thead th {\n",
       "        text-align: right;\n",
       "    }\n",
       "</style>\n",
       "<table border=\"1\" class=\"dataframe\">\n",
       "  <thead>\n",
       "    <tr style=\"text-align: right;\">\n",
       "      <th></th>\n",
       "      <th>Customer ID</th>\n",
       "      <th>sku</th>\n",
       "      <th>category_name_1</th>\n",
       "      <th>status</th>\n",
       "      <th>qty_ordered</th>\n",
       "      <th>price</th>\n",
       "      <th>grand_total</th>\n",
       "      <th>discount_amount</th>\n",
       "      <th>MV</th>\n",
       "      <th>payment_method</th>\n",
       "      <th>Customer Since</th>\n",
       "      <th>M-Y</th>\n",
       "    </tr>\n",
       "  </thead>\n",
       "  <tbody>\n",
       "    <tr>\n",
       "      <th>0</th>\n",
       "      <td>0</td>\n",
       "      <td>0</td>\n",
       "      <td>0</td>\n",
       "      <td>0</td>\n",
       "      <td>0</td>\n",
       "      <td>0</td>\n",
       "      <td>0</td>\n",
       "      <td>0</td>\n",
       "      <td>0</td>\n",
       "      <td>0</td>\n",
       "      <td>0</td>\n",
       "      <td>0</td>\n",
       "    </tr>\n",
       "  </tbody>\n",
       "</table>\n",
       "</div>"
      ],
      "text/plain": [
       "   Customer ID  sku  category_name_1  status  qty_ordered  price  grand_total  \\\n",
       "0            0    0                0       0            0      0            0   \n",
       "\n",
       "   discount_amount   MV   payment_method  Customer Since  M-Y  \n",
       "0                0     0               0               0    0  "
      ]
     },
     "execution_count": 19,
     "metadata": {},
     "output_type": "execute_result"
    }
   ],
   "source": [
    "#Checking again for missing values\n",
    "missing = pd.DataFrame(df.isnull().sum())\n",
    "missing.transpose()"
   ]
  },
  {
   "cell_type": "code",
   "execution_count": 20,
   "id": "98bec8e0-3b27-48c2-9bca-9d5e79e26129",
   "metadata": {},
   "outputs": [
    {
     "data": {
      "text/plain": [
       "0"
      ]
     },
     "execution_count": 20,
     "metadata": {},
     "output_type": "execute_result"
    }
   ],
   "source": [
    "total_missing_values = df.isnull().sum().sum()\n",
    "total_missing_values"
   ]
  },
  {
   "cell_type": "code",
   "execution_count": 21,
   "id": "f2ff26ea-aaca-4525-a32a-a30c6d65de5f",
   "metadata": {},
   "outputs": [
    {
     "data": {
      "text/html": [
       "<div>\n",
       "<style scoped>\n",
       "    .dataframe tbody tr th:only-of-type {\n",
       "        vertical-align: middle;\n",
       "    }\n",
       "\n",
       "    .dataframe tbody tr th {\n",
       "        vertical-align: top;\n",
       "    }\n",
       "\n",
       "    .dataframe thead th {\n",
       "        text-align: right;\n",
       "    }\n",
       "</style>\n",
       "<table border=\"1\" class=\"dataframe\">\n",
       "  <thead>\n",
       "    <tr style=\"text-align: right;\">\n",
       "      <th></th>\n",
       "      <th>Customer ID</th>\n",
       "      <th>sku</th>\n",
       "      <th>category_name_1</th>\n",
       "      <th>status</th>\n",
       "      <th>qty_ordered</th>\n",
       "      <th>price</th>\n",
       "      <th>grand_total</th>\n",
       "      <th>discount_amount</th>\n",
       "      <th>MV</th>\n",
       "      <th>payment_method</th>\n",
       "      <th>Customer Since</th>\n",
       "      <th>M-Y</th>\n",
       "    </tr>\n",
       "  </thead>\n",
       "  <tbody>\n",
       "    <tr>\n",
       "      <th>0</th>\n",
       "      <td>1.0</td>\n",
       "      <td>kreations_YI 06-L</td>\n",
       "      <td>Women's Fashion</td>\n",
       "      <td>complete</td>\n",
       "      <td>1.0</td>\n",
       "      <td>1950.0</td>\n",
       "      <td>1950.0</td>\n",
       "      <td>0.0</td>\n",
       "      <td>1,950</td>\n",
       "      <td>cod</td>\n",
       "      <td>2016-07-01</td>\n",
       "      <td>2016-07-01</td>\n",
       "    </tr>\n",
       "    <tr>\n",
       "      <th>1</th>\n",
       "      <td>2.0</td>\n",
       "      <td>kcc_Buy 2 Frey Air Freshener &amp; Get 1 Kasual Bo...</td>\n",
       "      <td>Beauty &amp; Grooming</td>\n",
       "      <td>canceled</td>\n",
       "      <td>1.0</td>\n",
       "      <td>240.0</td>\n",
       "      <td>240.0</td>\n",
       "      <td>0.0</td>\n",
       "      <td>240</td>\n",
       "      <td>cod</td>\n",
       "      <td>2016-07-01</td>\n",
       "      <td>2016-07-01</td>\n",
       "    </tr>\n",
       "    <tr>\n",
       "      <th>2</th>\n",
       "      <td>3.0</td>\n",
       "      <td>Ego_UP0017-999-MR0</td>\n",
       "      <td>Women's Fashion</td>\n",
       "      <td>canceled</td>\n",
       "      <td>1.0</td>\n",
       "      <td>2450.0</td>\n",
       "      <td>2450.0</td>\n",
       "      <td>0.0</td>\n",
       "      <td>2,450</td>\n",
       "      <td>cod</td>\n",
       "      <td>2016-07-01</td>\n",
       "      <td>2016-07-01</td>\n",
       "    </tr>\n",
       "    <tr>\n",
       "      <th>3</th>\n",
       "      <td>4.0</td>\n",
       "      <td>kcc_krone deal</td>\n",
       "      <td>Beauty &amp; Grooming</td>\n",
       "      <td>complete</td>\n",
       "      <td>1.0</td>\n",
       "      <td>360.0</td>\n",
       "      <td>60.0</td>\n",
       "      <td>300.0</td>\n",
       "      <td>360</td>\n",
       "      <td>cod</td>\n",
       "      <td>2016-07-01</td>\n",
       "      <td>2016-07-01</td>\n",
       "    </tr>\n",
       "    <tr>\n",
       "      <th>4</th>\n",
       "      <td>5.0</td>\n",
       "      <td>BK7010400AG</td>\n",
       "      <td>Soghaat</td>\n",
       "      <td>order_refunded</td>\n",
       "      <td>2.0</td>\n",
       "      <td>555.0</td>\n",
       "      <td>1110.0</td>\n",
       "      <td>0.0</td>\n",
       "      <td>1,110</td>\n",
       "      <td>cod</td>\n",
       "      <td>2016-07-01</td>\n",
       "      <td>2016-07-01</td>\n",
       "    </tr>\n",
       "  </tbody>\n",
       "</table>\n",
       "</div>"
      ],
      "text/plain": [
       "   Customer ID                                                sku  \\\n",
       "0          1.0                                  kreations_YI 06-L   \n",
       "1          2.0  kcc_Buy 2 Frey Air Freshener & Get 1 Kasual Bo...   \n",
       "2          3.0                                 Ego_UP0017-999-MR0   \n",
       "3          4.0                                     kcc_krone deal   \n",
       "4          5.0                                        BK7010400AG   \n",
       "\n",
       "     category_name_1          status  qty_ordered   price  grand_total  \\\n",
       "0    Women's Fashion        complete          1.0  1950.0       1950.0   \n",
       "1  Beauty & Grooming        canceled          1.0   240.0        240.0   \n",
       "2    Women's Fashion        canceled          1.0  2450.0       2450.0   \n",
       "3  Beauty & Grooming        complete          1.0   360.0         60.0   \n",
       "4            Soghaat  order_refunded          2.0   555.0       1110.0   \n",
       "\n",
       "   discount_amount      MV  payment_method Customer Since        M-Y  \n",
       "0              0.0   1,950             cod     2016-07-01 2016-07-01  \n",
       "1              0.0     240             cod     2016-07-01 2016-07-01  \n",
       "2              0.0   2,450             cod     2016-07-01 2016-07-01  \n",
       "3            300.0     360             cod     2016-07-01 2016-07-01  \n",
       "4              0.0   1,110             cod     2016-07-01 2016-07-01  "
      ]
     },
     "execution_count": 21,
     "metadata": {},
     "output_type": "execute_result"
    }
   ],
   "source": [
    "df.head(5)"
   ]
  },
  {
   "cell_type": "code",
   "execution_count": 22,
   "id": "eeaee3da-867d-40a2-be07-7679c18edbc5",
   "metadata": {},
   "outputs": [
    {
     "data": {
      "text/plain": [
       "0"
      ]
     },
     "execution_count": 22,
     "metadata": {},
     "output_type": "execute_result"
    }
   ],
   "source": [
    "df[' MV '].isnull().sum()#.sum()"
   ]
  },
  {
   "cell_type": "markdown",
   "id": "6c5bc389-e37c-492d-87e9-b3ba59692d5c",
   "metadata": {},
   "source": [
    "### Extract Year and Month from 'M-Y' Column"
   ]
  },
  {
   "cell_type": "code",
   "execution_count": 23,
   "id": "dc1cc949-5d14-40ed-b1b0-068c5ee27a0f",
   "metadata": {},
   "outputs": [],
   "source": [
    "# Extract Year\n",
    "df['Year'] = df['M-Y'].apply(lambda x: int(x.year)) \n",
    "\n",
    "# Extract Month\n",
    "df['Month'] = df['M-Y'].apply(lambda x: int(x.month)) \n",
    "\n",
    "df.drop('M-Y', axis = 1, inplace = True)"
   ]
  },
  {
   "cell_type": "markdown",
   "id": "c6b7f7b4-7455-4ce4-973a-a3057e1fd145",
   "metadata": {},
   "source": [
    "### Looking for 0 (zeros) in integer or float value columns"
   ]
  },
  {
   "cell_type": "code",
   "execution_count": 24,
   "id": "8d8f2ef7-8426-4a64-8fda-667532250334",
   "metadata": {},
   "outputs": [
    {
     "data": {
      "text/plain": [
       "Series([], Name: qty_ordered, dtype: int64)"
      ]
     },
     "execution_count": 24,
     "metadata": {},
     "output_type": "execute_result"
    }
   ],
   "source": [
    "df[df['qty_ordered'] == 0]['qty_ordered'].value_counts()"
   ]
  },
  {
   "cell_type": "code",
   "execution_count": 25,
   "id": "2b6cdadd-6ff6-46bb-b69f-fe3d52937119",
   "metadata": {},
   "outputs": [
    {
     "data": {
      "text/plain": [
       "Series([], Name: price, dtype: int64)"
      ]
     },
     "execution_count": 25,
     "metadata": {},
     "output_type": "execute_result"
    }
   ],
   "source": [
    "df[df['price'] == 0]['price'].value_counts()"
   ]
  },
  {
   "cell_type": "code",
   "execution_count": 26,
   "id": "f0318f58-e20d-475f-aad1-b854bc0ab5b6",
   "metadata": {},
   "outputs": [
    {
     "data": {
      "text/plain": [
       "Series([], Name:  MV , dtype: int64)"
      ]
     },
     "execution_count": 26,
     "metadata": {},
     "output_type": "execute_result"
    }
   ],
   "source": [
    "df[df[' MV '] == '0'][' MV '].value_counts()"
   ]
  },
  {
   "cell_type": "code",
   "execution_count": 27,
   "id": "db1afb2c-059b-452c-91ea-753f4a46c0f8",
   "metadata": {},
   "outputs": [
    {
     "data": {
      "text/plain": [
       "0.0    9465\n",
       "Name: grand_total, dtype: int64"
      ]
     },
     "execution_count": 27,
     "metadata": {},
     "output_type": "execute_result"
    }
   ],
   "source": [
    "df[df['grand_total'] == 0]['grand_total'].value_counts()"
   ]
  },
  {
   "cell_type": "code",
   "execution_count": 28,
   "id": "717de9b5-0770-49d6-afda-98003493c5fc",
   "metadata": {},
   "outputs": [],
   "source": [
    "#found 9465 cells containing 0.0\n",
    "#replace 0.0 from corresponding values of ' MV ' column"
   ]
  },
  {
   "cell_type": "code",
   "execution_count": 29,
   "id": "949981a9-c924-4c1e-aa25-808ac2184476",
   "metadata": {},
   "outputs": [],
   "source": [
    "def replace_zeros(x, y):\n",
    "    if x == 0:\n",
    "        return y\n",
    "    else: \n",
    "        return x"
   ]
  },
  {
   "cell_type": "code",
   "execution_count": 30,
   "id": "49d9d678-670b-4908-90b4-033d077427e3",
   "metadata": {},
   "outputs": [
    {
     "data": {
      "text/plain": [
       "Index(['Customer ID', 'sku', 'category_name_1', 'status', 'qty_ordered',\n",
       "       'price', 'grand_total', 'discount_amount', ' MV ', 'payment_method',\n",
       "       'Customer Since', 'Year', 'Month'],\n",
       "      dtype='object')"
      ]
     },
     "execution_count": 30,
     "metadata": {},
     "output_type": "execute_result"
    }
   ],
   "source": [
    "df.columns"
   ]
  },
  {
   "cell_type": "code",
   "execution_count": 31,
   "id": "c424767f-e910-4cd8-8810-9ffd3ea2deb7",
   "metadata": {},
   "outputs": [],
   "source": [
    "df['grand_total'] = df.apply(lambda z: replace_zeros(z['grand_total'], z[' MV ']), axis = 1)"
   ]
  },
  {
   "cell_type": "code",
   "execution_count": 32,
   "id": "5e3f8c3c-bb4d-4e3c-ab46-6387256f5da5",
   "metadata": {},
   "outputs": [
    {
     "data": {
      "text/plain": [
       "Series([], Name: grand_total, dtype: int64)"
      ]
     },
     "execution_count": 32,
     "metadata": {},
     "output_type": "execute_result"
    }
   ],
   "source": [
    "#Checking again\n",
    "df[df['grand_total'] == 0]['grand_total'].value_counts()"
   ]
  },
  {
   "cell_type": "markdown",
   "id": "7179ca70-3614-44e3-bc3d-83099a1e166a",
   "metadata": {},
   "source": [
    "### DataFrame Without 0(Zeros) and Null Values"
   ]
  },
  {
   "cell_type": "code",
   "execution_count": 33,
   "id": "0023db94-9640-40c2-8e0e-6b8a3bf2fff6",
   "metadata": {},
   "outputs": [
    {
     "data": {
      "text/html": [
       "<div>\n",
       "<style scoped>\n",
       "    .dataframe tbody tr th:only-of-type {\n",
       "        vertical-align: middle;\n",
       "    }\n",
       "\n",
       "    .dataframe tbody tr th {\n",
       "        vertical-align: top;\n",
       "    }\n",
       "\n",
       "    .dataframe thead th {\n",
       "        text-align: right;\n",
       "    }\n",
       "</style>\n",
       "<table border=\"1\" class=\"dataframe\">\n",
       "  <thead>\n",
       "    <tr style=\"text-align: right;\">\n",
       "      <th></th>\n",
       "      <th>Customer ID</th>\n",
       "      <th>sku</th>\n",
       "      <th>category_name_1</th>\n",
       "      <th>status</th>\n",
       "      <th>qty_ordered</th>\n",
       "      <th>price</th>\n",
       "      <th>grand_total</th>\n",
       "      <th>discount_amount</th>\n",
       "      <th>MV</th>\n",
       "      <th>payment_method</th>\n",
       "      <th>Customer Since</th>\n",
       "      <th>Year</th>\n",
       "      <th>Month</th>\n",
       "    </tr>\n",
       "  </thead>\n",
       "  <tbody>\n",
       "    <tr>\n",
       "      <th>0</th>\n",
       "      <td>1.0</td>\n",
       "      <td>kreations_YI 06-L</td>\n",
       "      <td>Women's Fashion</td>\n",
       "      <td>complete</td>\n",
       "      <td>1.0</td>\n",
       "      <td>1950.0</td>\n",
       "      <td>1950.0</td>\n",
       "      <td>0.0</td>\n",
       "      <td>1,950</td>\n",
       "      <td>cod</td>\n",
       "      <td>2016-07-01</td>\n",
       "      <td>2016</td>\n",
       "      <td>7</td>\n",
       "    </tr>\n",
       "    <tr>\n",
       "      <th>1</th>\n",
       "      <td>2.0</td>\n",
       "      <td>kcc_Buy 2 Frey Air Freshener &amp; Get 1 Kasual Bo...</td>\n",
       "      <td>Beauty &amp; Grooming</td>\n",
       "      <td>canceled</td>\n",
       "      <td>1.0</td>\n",
       "      <td>240.0</td>\n",
       "      <td>240.0</td>\n",
       "      <td>0.0</td>\n",
       "      <td>240</td>\n",
       "      <td>cod</td>\n",
       "      <td>2016-07-01</td>\n",
       "      <td>2016</td>\n",
       "      <td>7</td>\n",
       "    </tr>\n",
       "    <tr>\n",
       "      <th>2</th>\n",
       "      <td>3.0</td>\n",
       "      <td>Ego_UP0017-999-MR0</td>\n",
       "      <td>Women's Fashion</td>\n",
       "      <td>canceled</td>\n",
       "      <td>1.0</td>\n",
       "      <td>2450.0</td>\n",
       "      <td>2450.0</td>\n",
       "      <td>0.0</td>\n",
       "      <td>2,450</td>\n",
       "      <td>cod</td>\n",
       "      <td>2016-07-01</td>\n",
       "      <td>2016</td>\n",
       "      <td>7</td>\n",
       "    </tr>\n",
       "    <tr>\n",
       "      <th>3</th>\n",
       "      <td>4.0</td>\n",
       "      <td>kcc_krone deal</td>\n",
       "      <td>Beauty &amp; Grooming</td>\n",
       "      <td>complete</td>\n",
       "      <td>1.0</td>\n",
       "      <td>360.0</td>\n",
       "      <td>60.0</td>\n",
       "      <td>300.0</td>\n",
       "      <td>360</td>\n",
       "      <td>cod</td>\n",
       "      <td>2016-07-01</td>\n",
       "      <td>2016</td>\n",
       "      <td>7</td>\n",
       "    </tr>\n",
       "    <tr>\n",
       "      <th>4</th>\n",
       "      <td>5.0</td>\n",
       "      <td>BK7010400AG</td>\n",
       "      <td>Soghaat</td>\n",
       "      <td>order_refunded</td>\n",
       "      <td>2.0</td>\n",
       "      <td>555.0</td>\n",
       "      <td>1110.0</td>\n",
       "      <td>0.0</td>\n",
       "      <td>1,110</td>\n",
       "      <td>cod</td>\n",
       "      <td>2016-07-01</td>\n",
       "      <td>2016</td>\n",
       "      <td>7</td>\n",
       "    </tr>\n",
       "  </tbody>\n",
       "</table>\n",
       "</div>"
      ],
      "text/plain": [
       "   Customer ID                                                sku  \\\n",
       "0          1.0                                  kreations_YI 06-L   \n",
       "1          2.0  kcc_Buy 2 Frey Air Freshener & Get 1 Kasual Bo...   \n",
       "2          3.0                                 Ego_UP0017-999-MR0   \n",
       "3          4.0                                     kcc_krone deal   \n",
       "4          5.0                                        BK7010400AG   \n",
       "\n",
       "     category_name_1          status  qty_ordered   price grand_total  \\\n",
       "0    Women's Fashion        complete          1.0  1950.0      1950.0   \n",
       "1  Beauty & Grooming        canceled          1.0   240.0       240.0   \n",
       "2    Women's Fashion        canceled          1.0  2450.0      2450.0   \n",
       "3  Beauty & Grooming        complete          1.0   360.0        60.0   \n",
       "4            Soghaat  order_refunded          2.0   555.0      1110.0   \n",
       "\n",
       "   discount_amount      MV  payment_method Customer Since  Year  Month  \n",
       "0              0.0   1,950             cod     2016-07-01  2016      7  \n",
       "1              0.0     240             cod     2016-07-01  2016      7  \n",
       "2              0.0   2,450             cod     2016-07-01  2016      7  \n",
       "3            300.0     360             cod     2016-07-01  2016      7  \n",
       "4              0.0   1,110             cod     2016-07-01  2016      7  "
      ]
     },
     "execution_count": 33,
     "metadata": {},
     "output_type": "execute_result"
    }
   ],
   "source": [
    "df.head(5)"
   ]
  },
  {
   "cell_type": "code",
   "execution_count": 34,
   "id": "82eb1985-193f-4945-8b9c-d3cad47b2519",
   "metadata": {},
   "outputs": [
    {
     "data": {
      "text/plain": [
       "582100"
      ]
     },
     "execution_count": 34,
     "metadata": {},
     "output_type": "execute_result"
    }
   ],
   "source": [
    "len(df)"
   ]
  },
  {
   "cell_type": "markdown",
   "id": "3657d647-e339-4f61-b08c-e9b031787b01",
   "metadata": {},
   "source": [
    "# Task 2: Visualize payment method and order status frequency"
   ]
  },
  {
   "cell_type": "markdown",
   "id": "3c5a64fb-3a29-49d7-860b-b4782b8caaa8",
   "metadata": {},
   "source": [
    "## Overall Payment Methods Count from 2016-2018"
   ]
  },
  {
   "cell_type": "code",
   "execution_count": 35,
   "id": "1a5d8a1a-287b-4e27-b1c1-b62f4c09085a",
   "metadata": {},
   "outputs": [
    {
     "data": {
      "text/plain": [
       "18"
      ]
     },
     "execution_count": 35,
     "metadata": {},
     "output_type": "execute_result"
    }
   ],
   "source": [
    "df['payment_method'].nunique()"
   ]
  },
  {
   "cell_type": "code",
   "execution_count": 36,
   "id": "b664a120-a218-41d3-aff9-da0ca72b4d61",
   "metadata": {},
   "outputs": [
    {
     "data": {
      "text/html": [
       "<div>\n",
       "<style scoped>\n",
       "    .dataframe tbody tr th:only-of-type {\n",
       "        vertical-align: middle;\n",
       "    }\n",
       "\n",
       "    .dataframe tbody tr th {\n",
       "        vertical-align: top;\n",
       "    }\n",
       "\n",
       "    .dataframe thead th {\n",
       "        text-align: right;\n",
       "    }\n",
       "</style>\n",
       "<table border=\"1\" class=\"dataframe\">\n",
       "  <thead>\n",
       "    <tr style=\"text-align: right;\">\n",
       "      <th></th>\n",
       "      <th>0</th>\n",
       "      <th>1</th>\n",
       "      <th>2</th>\n",
       "      <th>3</th>\n",
       "      <th>4</th>\n",
       "      <th>5</th>\n",
       "      <th>6</th>\n",
       "      <th>7</th>\n",
       "      <th>8</th>\n",
       "      <th>9</th>\n",
       "      <th>10</th>\n",
       "      <th>11</th>\n",
       "      <th>12</th>\n",
       "      <th>13</th>\n",
       "      <th>14</th>\n",
       "      <th>15</th>\n",
       "      <th>16</th>\n",
       "      <th>17</th>\n",
       "    </tr>\n",
       "  </thead>\n",
       "  <tbody>\n",
       "    <tr>\n",
       "      <th>0</th>\n",
       "      <td>cod</td>\n",
       "      <td>ublcreditcard</td>\n",
       "      <td>mygateway</td>\n",
       "      <td>customercredit</td>\n",
       "      <td>cashatdoorstep</td>\n",
       "      <td>mcblite</td>\n",
       "      <td>internetbanking</td>\n",
       "      <td>marketingexpense</td>\n",
       "      <td>productcredit</td>\n",
       "      <td>financesettlement</td>\n",
       "      <td>Payaxis</td>\n",
       "      <td>jazzvoucher</td>\n",
       "      <td>jazzwallet</td>\n",
       "      <td>Easypay</td>\n",
       "      <td>Easypay_MA</td>\n",
       "      <td>easypay_voucher</td>\n",
       "      <td>bankalfalah</td>\n",
       "      <td>apg</td>\n",
       "    </tr>\n",
       "  </tbody>\n",
       "</table>\n",
       "</div>"
      ],
      "text/plain": [
       "    0              1          2               3               4        5   \\\n",
       "0  cod  ublcreditcard  mygateway  customercredit  cashatdoorstep  mcblite   \n",
       "\n",
       "                6                 7              8                  9   \\\n",
       "0  internetbanking  marketingexpense  productcredit  financesettlement   \n",
       "\n",
       "        10           11          12       13          14               15  \\\n",
       "0  Payaxis  jazzvoucher  jazzwallet  Easypay  Easypay_MA  easypay_voucher   \n",
       "\n",
       "            16   17  \n",
       "0  bankalfalah  apg  "
      ]
     },
     "execution_count": 36,
     "metadata": {},
     "output_type": "execute_result"
    }
   ],
   "source": [
    "pd.DataFrame(df['payment_method'].unique()).transpose()"
   ]
  },
  {
   "cell_type": "code",
   "execution_count": 37,
   "id": "e0b78f11-4c10-41ff-a97d-7dc855cb7050",
   "metadata": {},
   "outputs": [
    {
     "data": {
      "text/html": [
       "<div>\n",
       "<style scoped>\n",
       "    .dataframe tbody tr th:only-of-type {\n",
       "        vertical-align: middle;\n",
       "    }\n",
       "\n",
       "    .dataframe tbody tr th {\n",
       "        vertical-align: top;\n",
       "    }\n",
       "\n",
       "    .dataframe thead th {\n",
       "        text-align: right;\n",
       "    }\n",
       "</style>\n",
       "<table border=\"1\" class=\"dataframe\">\n",
       "  <thead>\n",
       "    <tr style=\"text-align: right;\">\n",
       "      <th></th>\n",
       "      <th>cod</th>\n",
       "      <th>Payaxis</th>\n",
       "      <th>Easypay</th>\n",
       "      <th>jazzwallet</th>\n",
       "      <th>easypay_voucher</th>\n",
       "      <th>bankalfalah</th>\n",
       "      <th>jazzvoucher</th>\n",
       "      <th>Easypay_MA</th>\n",
       "      <th>customercredit</th>\n",
       "      <th>apg</th>\n",
       "      <th>ublcreditcard</th>\n",
       "      <th>cashatdoorstep</th>\n",
       "      <th>mcblite</th>\n",
       "      <th>mygateway</th>\n",
       "      <th>internetbanking</th>\n",
       "      <th>productcredit</th>\n",
       "      <th>marketingexpense</th>\n",
       "      <th>financesettlement</th>\n",
       "    </tr>\n",
       "  </thead>\n",
       "  <tbody>\n",
       "    <tr>\n",
       "      <th>payment_method</th>\n",
       "      <td>269811</td>\n",
       "      <td>97606</td>\n",
       "      <td>82829</td>\n",
       "      <td>35130</td>\n",
       "      <td>31136</td>\n",
       "      <td>23011</td>\n",
       "      <td>15611</td>\n",
       "      <td>14000</td>\n",
       "      <td>7545</td>\n",
       "      <td>1758</td>\n",
       "      <td>882</td>\n",
       "      <td>732</td>\n",
       "      <td>723</td>\n",
       "      <td>669</td>\n",
       "      <td>472</td>\n",
       "      <td>125</td>\n",
       "      <td>45</td>\n",
       "      <td>15</td>\n",
       "    </tr>\n",
       "  </tbody>\n",
       "</table>\n",
       "</div>"
      ],
      "text/plain": [
       "                   cod  Payaxis  Easypay  jazzwallet  easypay_voucher  \\\n",
       "payment_method  269811    97606    82829       35130            31136   \n",
       "\n",
       "                bankalfalah  jazzvoucher  Easypay_MA  customercredit   apg  \\\n",
       "payment_method        23011        15611       14000            7545  1758   \n",
       "\n",
       "                ublcreditcard  cashatdoorstep  mcblite  mygateway  \\\n",
       "payment_method            882             732      723        669   \n",
       "\n",
       "                internetbanking  productcredit  marketingexpense  \\\n",
       "payment_method              472            125                45   \n",
       "\n",
       "                financesettlement  \n",
       "payment_method                 15  "
      ]
     },
     "execution_count": 37,
     "metadata": {},
     "output_type": "execute_result"
    }
   ],
   "source": [
    "df_payment_method = pd.DataFrame(df.payment_method.value_counts())\n",
    "df_payment_method = df_payment_method.sort_values(by = 'payment_method', ascending = False)\n",
    "df_payment_method.transpose()"
   ]
  },
  {
   "cell_type": "code",
   "execution_count": 38,
   "id": "3537c859-9512-4577-8740-345322a8ad68",
   "metadata": {},
   "outputs": [
    {
     "data": {
      "image/png": "[encoded data removed]",
      "text/plain": [
       "<Figure size 720x360 with 1 Axes>"
      ]
     },
     "metadata": {
      "needs_background": "light"
     },
     "output_type": "display_data"
    }
   ],
   "source": [
    "plt.style.use('bmh')\n",
    "\n",
    "df_payment_method.plot.bar(title = 'Overall Payment Methods Counts from 2016-2018', \n",
    "                           xlabel = 'Payment Methods', \n",
    "                           ylabel = 'Count', \n",
    "                           figsize = (10, 5))\n",
    "plt.show()\n"
   ]
  },
  {
   "cell_type": "markdown",
   "id": "acd4d2dc-7dc7-416f-8859-f06917ff8b8a",
   "metadata": {},
   "source": [
    "## Yearly Payment Methods"
   ]
  },
  {
   "cell_type": "markdown",
   "id": "979fb12c-5412-42c2-9528-c44f58dbe724",
   "metadata": {},
   "source": [
    "### (A) Yearly Payment Methods"
   ]
  },
  {
   "cell_type": "code",
   "execution_count": 39,
   "id": "b6ec4ea5-b4fb-4392-90da-943cad2fa22e",
   "metadata": {},
   "outputs": [
    {
     "data": {
      "image/png": "[encoded data removed]",
      "text/plain": [
       "<Figure size 1152x432 with 1 Axes>"
      ]
     },
     "metadata": {
      "needs_background": "light"
     },
     "output_type": "display_data"
    }
   ],
   "source": [
    "# Preparing Data\n",
    "df_payMethod_year = pd.DataFrame(df[['payment_method', 'Year']].value_counts())\n",
    "df_payMethod_year = df_payMethod_year.reset_index()\n",
    "df_payMethod_year.columns = ['Payment Methods', 'Year', 'Count']\n",
    "data = df_payMethod_year.sort_values(by = 'Count', ascending = False).head(20)\n",
    "\n",
    "\n",
    "# Plot\n",
    "fig, ax = plt.subplots(figsize = (16, 6))\n",
    "\n",
    "sns.barplot('Payment Methods', 'Count', hue = 'Year', data = data)\n",
    "\n",
    "# add the annotation\n",
    "ax.bar_label(ax.containers[-2], fmt = '\\n%.0f', label_type = 'edge')\n",
    "\n",
    "# add Labels\n",
    "ax.set(xlabel = 'Payment Methods')\n",
    "ax.set(ylabel = 'Count')\n",
    "ax.set(title = 'Yearly Payment Methods Count from 2016-2018')\n",
    "ax.set_xticklabels(ax.get_xticklabels(), rotation = 0, horizontalalignment = 'center')\n",
    "ax.legend(loc = 1)\n",
    "plt.tight_layout()\n",
    "plt.show()"
   ]
  },
  {
   "cell_type": "markdown",
   "id": "990d8c6b-486e-4d29-afe7-07d580de0a6c",
   "metadata": {},
   "source": [
    "### (B) Yearly Payment Methods"
   ]
  },
  {
   "cell_type": "code",
   "execution_count": 40,
   "id": "4a054bfa-90f1-4dfa-8714-a8935f8dcf6e",
   "metadata": {},
   "outputs": [
    {
     "data": {
      "image/png": "[encoded data removed]",
      "text/plain": [
       "<Figure size 1152x288 with 3 Axes>"
      ]
     },
     "metadata": {
      "needs_background": "light"
     },
     "output_type": "display_data"
    }
   ],
   "source": [
    "# Prepare Data\n",
    "years = df_payMethod_year.Year.unique()\n",
    "years = sorted(years)\n",
    "\n",
    "#data = df_payMethod_year[df_payMethod_year['Year'] == j].value_counts().reset_index().sort_values(by = ['Count'], ascending = False)\n",
    "mycolors = ['tab:red', 'tab:blue', 'tab:green'] #, 'tab:orange', 'tab:brown', 'tab:grey', 'tab:pink', 'tab:olive', 'deeppink', 'steelblue', 'firebrick', 'mediumseagreen']\n",
    "\n",
    "# Plot\n",
    "fig, ax = plt.subplots(1, len(years), sharey = False, figsize = (16, 4))\n",
    "\n",
    "for i, j in enumerate(years):\n",
    "    \n",
    "    data = df_payMethod_year[df_payMethod_year['Year'] == j].value_counts().reset_index().sort_values(by = ['Count'], ascending = False)\n",
    "        \n",
    "    ax[i].bar(data['Payment Methods'], data.Count, color = mycolors[i])\n",
    "    \n",
    "    #labels\n",
    "    ax[i].set(xlabel = 'Order Status')\n",
    "    ax[i].set(ylabel = 'Count')\n",
    "    ax[i].set(title = 'Year ' + str(j))\n",
    "    ax[i].tick_params(labelrotation = 90, axis='x')"
   ]
  },
  {
   "cell_type": "markdown",
   "id": "2c972d72-6a22-4b85-bc1d-7a664725bc88",
   "metadata": {},
   "source": [
    "## Overall Order Status Counts from 2016-2018"
   ]
  },
  {
   "cell_type": "code",
   "execution_count": 41,
   "id": "51c54a4c-79b9-41cb-870e-69c90477b56a",
   "metadata": {},
   "outputs": [
    {
     "data": {
      "text/html": [
       "<div>\n",
       "<style scoped>\n",
       "    .dataframe tbody tr th:only-of-type {\n",
       "        vertical-align: middle;\n",
       "    }\n",
       "\n",
       "    .dataframe tbody tr th {\n",
       "        vertical-align: top;\n",
       "    }\n",
       "\n",
       "    .dataframe thead th {\n",
       "        text-align: right;\n",
       "    }\n",
       "</style>\n",
       "<table border=\"1\" class=\"dataframe\">\n",
       "  <thead>\n",
       "    <tr style=\"text-align: right;\">\n",
       "      <th></th>\n",
       "      <th>0</th>\n",
       "      <th>1</th>\n",
       "      <th>2</th>\n",
       "      <th>3</th>\n",
       "      <th>4</th>\n",
       "      <th>5</th>\n",
       "      <th>6</th>\n",
       "      <th>7</th>\n",
       "      <th>8</th>\n",
       "      <th>9</th>\n",
       "      <th>10</th>\n",
       "      <th>11</th>\n",
       "      <th>12</th>\n",
       "      <th>13</th>\n",
       "      <th>14</th>\n",
       "      <th>15</th>\n",
       "    </tr>\n",
       "  </thead>\n",
       "  <tbody>\n",
       "    <tr>\n",
       "      <th>0</th>\n",
       "      <td>complete</td>\n",
       "      <td>canceled</td>\n",
       "      <td>order_refunded</td>\n",
       "      <td>received</td>\n",
       "      <td>refund</td>\n",
       "      <td>closed</td>\n",
       "      <td>fraud</td>\n",
       "      <td>holded</td>\n",
       "      <td>exchange</td>\n",
       "      <td>pending_paypal</td>\n",
       "      <td>paid</td>\n",
       "      <td>\\N</td>\n",
       "      <td>cod</td>\n",
       "      <td>pending</td>\n",
       "      <td>processing</td>\n",
       "      <td>payment_review</td>\n",
       "    </tr>\n",
       "  </tbody>\n",
       "</table>\n",
       "</div>"
      ],
      "text/plain": [
       "         0         1               2         3       4       5      6   \\\n",
       "0  complete  canceled  order_refunded  received  refund  closed  fraud   \n",
       "\n",
       "       7         8               9     10  11   12       13          14  \\\n",
       "0  holded  exchange  pending_paypal  paid  \\N  cod  pending  processing   \n",
       "\n",
       "               15  \n",
       "0  payment_review  "
      ]
     },
     "execution_count": 41,
     "metadata": {},
     "output_type": "execute_result"
    }
   ],
   "source": [
    "order_status = pd.DataFrame(df['status'].unique())\n",
    "order_status.transpose()"
   ]
  },
  {
   "cell_type": "code",
   "execution_count": 42,
   "id": "309b226b-e6c4-461f-9360-073f67551cb4",
   "metadata": {},
   "outputs": [
    {
     "data": {
      "text/plain": [
       "16"
      ]
     },
     "execution_count": 42,
     "metadata": {},
     "output_type": "execute_result"
    }
   ],
   "source": [
    "df['status'].nunique()"
   ]
  },
  {
   "cell_type": "code",
   "execution_count": 43,
   "id": "4c0876e7-0459-4611-b5c0-417a9662bbe7",
   "metadata": {},
   "outputs": [],
   "source": [
    "df_order_status = pd.DataFrame(df['status'].value_counts())"
   ]
  },
  {
   "cell_type": "code",
   "execution_count": 44,
   "id": "03590a98-10fb-4c2e-b12d-3b250499be49",
   "metadata": {},
   "outputs": [
    {
     "data": {
      "text/html": [
       "<div>\n",
       "<style scoped>\n",
       "    .dataframe tbody tr th:only-of-type {\n",
       "        vertical-align: middle;\n",
       "    }\n",
       "\n",
       "    .dataframe tbody tr th {\n",
       "        vertical-align: top;\n",
       "    }\n",
       "\n",
       "    .dataframe thead th {\n",
       "        text-align: right;\n",
       "    }\n",
       "</style>\n",
       "<table border=\"1\" class=\"dataframe\">\n",
       "  <thead>\n",
       "    <tr style=\"text-align: right;\">\n",
       "      <th></th>\n",
       "      <th>complete</th>\n",
       "      <th>canceled</th>\n",
       "      <th>received</th>\n",
       "      <th>order_refunded</th>\n",
       "      <th>refund</th>\n",
       "      <th>cod</th>\n",
       "      <th>paid</th>\n",
       "      <th>closed</th>\n",
       "      <th>payment_review</th>\n",
       "      <th>pending</th>\n",
       "      <th>processing</th>\n",
       "      <th>holded</th>\n",
       "      <th>fraud</th>\n",
       "      <th>pending_paypal</th>\n",
       "      <th>\\N</th>\n",
       "      <th>exchange</th>\n",
       "    </tr>\n",
       "  </thead>\n",
       "  <tbody>\n",
       "    <tr>\n",
       "      <th>status</th>\n",
       "      <td>233315</td>\n",
       "      <td>200386</td>\n",
       "      <td>76922</td>\n",
       "      <td>59022</td>\n",
       "      <td>7864</td>\n",
       "      <td>2753</td>\n",
       "      <td>1150</td>\n",
       "      <td>494</td>\n",
       "      <td>57</td>\n",
       "      <td>48</td>\n",
       "      <td>33</td>\n",
       "      <td>31</td>\n",
       "      <td>10</td>\n",
       "      <td>7</td>\n",
       "      <td>4</td>\n",
       "      <td>4</td>\n",
       "    </tr>\n",
       "  </tbody>\n",
       "</table>\n",
       "</div>"
      ],
      "text/plain": [
       "        complete  canceled  received  order_refunded  refund   cod  paid  \\\n",
       "status    233315    200386     76922           59022    7864  2753  1150   \n",
       "\n",
       "        closed  payment_review  pending  processing  holded  fraud  \\\n",
       "status     494              57       48          33      31     10   \n",
       "\n",
       "        pending_paypal  \\N  exchange  \n",
       "status               7   4         4  "
      ]
     },
     "execution_count": 44,
     "metadata": {},
     "output_type": "execute_result"
    }
   ],
   "source": [
    "df_order_status.transpose()"
   ]
  },
  {
   "cell_type": "code",
   "execution_count": 45,
   "id": "9b12197b-4a14-44ae-9913-104b54b4b5e8",
   "metadata": {},
   "outputs": [
    {
     "data": {
      "image/png": "[encoded data removed]",
      "text/plain": [
       "<Figure size 720x288 with 1 Axes>"
      ]
     },
     "metadata": {},
     "output_type": "display_data"
    }
   ],
   "source": [
    "plt.style.use('ggplot')\n",
    "df_order_status.plot.bar(title = 'Overall Order Status Counts from 2016-2018', \n",
    "                         xlabel = 'Status', \n",
    "                         ylabel = 'Count', \n",
    "                         figsize = (10, 4),\n",
    "                         sort_columns = df_order_status.sort_values('status', ascending = False))\n",
    "plt.show()"
   ]
  },
  {
   "cell_type": "markdown",
   "id": "efe8d988-c8e8-47b8-9c7a-878d32f19dad",
   "metadata": {},
   "source": [
    "## Yearly Orders Status"
   ]
  },
  {
   "cell_type": "markdown",
   "id": "254a0c6e-e5f3-483f-b258-d48e436efbb7",
   "metadata": {},
   "source": [
    "### (A) Yearly Order Status"
   ]
  },
  {
   "cell_type": "code",
   "execution_count": 46,
   "id": "d12d73c7-f741-443a-8317-c3496bc57d2f",
   "metadata": {},
   "outputs": [],
   "source": [
    "df_status_year = pd.DataFrame(df[['status', 'Year']].value_counts())\n",
    "df_status_year = df_status_year.reset_index()\n",
    "df_status_year.columns = ['Status', 'Year', 'Count']"
   ]
  },
  {
   "cell_type": "code",
   "execution_count": 47,
   "id": "66a9e162-204d-4c90-b122-5fe615016efa",
   "metadata": {},
   "outputs": [
    {
     "data": {
      "image/png": "[encoded data removed]",
      "text/plain": [
       "<Figure size 1080x360 with 1 Axes>"
      ]
     },
     "metadata": {},
     "output_type": "display_data"
    }
   ],
   "source": [
    "fig, ax = plt.subplots(figsize = (15, 5))\n",
    "\n",
    "sns.barplot(x = 'Status', y = 'Count', hue = 'Year', data = df_status_year.head(15)) #\n",
    "\n",
    "# add the annotation\n",
    "ax.bar_label(ax.containers[-2], fmt = '\\n%.0f', label_type = 'edge')\n",
    "\n",
    "# add Labels\n",
    "ax.set(xlabel = 'Order Status')\n",
    "ax.set(ylabel = 'Count')\n",
    "ax.set(title = 'Yearly Order Status')\n",
    "ax.set_xticklabels(ax.get_xticklabels(), rotation = 30, horizontalalignment = 'center')\n",
    "ax.legend(loc = 1)\n",
    "plt.tight_layout()\n",
    "plt.show()"
   ]
  },
  {
   "cell_type": "markdown",
   "id": "f54c8798-e52a-4f21-9da9-f5082015ad7f",
   "metadata": {},
   "source": [
    "### (B) Yearly Order Status"
   ]
  },
  {
   "cell_type": "code",
   "execution_count": 48,
   "id": "f540c77b-ace7-4ed1-ad0d-f6352ad23e73",
   "metadata": {},
   "outputs": [
    {
     "data": {
      "image/png": "[encoded data removed]",
      "text/plain": [
       "<Figure size 1152x360 with 3 Axes>"
      ]
     },
     "metadata": {},
     "output_type": "display_data"
    }
   ],
   "source": [
    "# prepare data\n",
    "years = df_status_year.Year.unique()\n",
    "years = sorted(years)\n",
    "#data = df_status_year[df_status_year['Year'] == j][['Status', 'Count']].value_counts().reset_index().sort_values(by = 'Count', ascending = False).head(5)\n",
    "mycolors = ['tab:red', 'tab:blue', 'tab:green', 'tab:orange', 'tab:brown', 'tab:grey', 'tab:pink', 'tab:olive', 'deeppink', 'steelblue', 'firebrick', 'mediumseagreen']      \n",
    "\n",
    "#Plot\n",
    "\n",
    "fig, ax = plt.subplots(1, len(years), sharey = True, figsize = (16, 5))\n",
    "\n",
    "for i, j in enumerate(years):\n",
    "    \n",
    "    data = df_status_year[df_status_year['Year'] == j][['Status', 'Count']].value_counts().reset_index().sort_values(by = 'Count', ascending = False).head(5)\n",
    "    \n",
    "    ax[i].bar(data.Status, data.Count, color = mycolors[i])\n",
    "    \n",
    "    \n",
    "    ax[i].set(xlabel = 'Order Status')\n",
    "    ax[i].set(ylabel = 'Count')\n",
    "    ax[i].set(title = 'Year ' + str(j))\n",
    "    ax[i].tick_params(labelrotation = 30, axis='x')    "
   ]
  },
  {
   "cell_type": "code",
   "execution_count": 49,
   "id": "ee6e48fe-063d-47a9-b994-c71a9f993502",
   "metadata": {},
   "outputs": [
    {
     "data": {
      "text/html": [
       "<div>\n",
       "<style scoped>\n",
       "    .dataframe tbody tr th:only-of-type {\n",
       "        vertical-align: middle;\n",
       "    }\n",
       "\n",
       "    .dataframe tbody tr th {\n",
       "        vertical-align: top;\n",
       "    }\n",
       "\n",
       "    .dataframe thead th {\n",
       "        text-align: right;\n",
       "    }\n",
       "</style>\n",
       "<table border=\"1\" class=\"dataframe\">\n",
       "  <thead>\n",
       "    <tr style=\"text-align: right;\">\n",
       "      <th>status</th>\n",
       "      <th>\\N</th>\n",
       "      <th>canceled</th>\n",
       "      <th>closed</th>\n",
       "      <th>cod</th>\n",
       "      <th>complete</th>\n",
       "      <th>exchange</th>\n",
       "      <th>fraud</th>\n",
       "      <th>holded</th>\n",
       "      <th>order_refunded</th>\n",
       "      <th>paid</th>\n",
       "      <th>payment_review</th>\n",
       "      <th>pending</th>\n",
       "      <th>pending_paypal</th>\n",
       "      <th>processing</th>\n",
       "      <th>received</th>\n",
       "      <th>refund</th>\n",
       "    </tr>\n",
       "    <tr>\n",
       "      <th>payment_method</th>\n",
       "      <th></th>\n",
       "      <th></th>\n",
       "      <th></th>\n",
       "      <th></th>\n",
       "      <th></th>\n",
       "      <th></th>\n",
       "      <th></th>\n",
       "      <th></th>\n",
       "      <th></th>\n",
       "      <th></th>\n",
       "      <th></th>\n",
       "      <th></th>\n",
       "      <th></th>\n",
       "      <th></th>\n",
       "      <th></th>\n",
       "      <th></th>\n",
       "    </tr>\n",
       "  </thead>\n",
       "  <tbody>\n",
       "    <tr>\n",
       "      <th>Easypay</th>\n",
       "      <td>0</td>\n",
       "      <td>52009</td>\n",
       "      <td>16</td>\n",
       "      <td>0</td>\n",
       "      <td>19192</td>\n",
       "      <td>0</td>\n",
       "      <td>0</td>\n",
       "      <td>2</td>\n",
       "      <td>2621</td>\n",
       "      <td>241</td>\n",
       "      <td>0</td>\n",
       "      <td>0</td>\n",
       "      <td>0</td>\n",
       "      <td>0</td>\n",
       "      <td>8022</td>\n",
       "      <td>726</td>\n",
       "    </tr>\n",
       "    <tr>\n",
       "      <th>Easypay_MA</th>\n",
       "      <td>0</td>\n",
       "      <td>9197</td>\n",
       "      <td>0</td>\n",
       "      <td>0</td>\n",
       "      <td>3111</td>\n",
       "      <td>0</td>\n",
       "      <td>0</td>\n",
       "      <td>0</td>\n",
       "      <td>307</td>\n",
       "      <td>35</td>\n",
       "      <td>0</td>\n",
       "      <td>0</td>\n",
       "      <td>0</td>\n",
       "      <td>0</td>\n",
       "      <td>1206</td>\n",
       "      <td>144</td>\n",
       "    </tr>\n",
       "    <tr>\n",
       "      <th>Payaxis</th>\n",
       "      <td>0</td>\n",
       "      <td>61245</td>\n",
       "      <td>71</td>\n",
       "      <td>0</td>\n",
       "      <td>22805</td>\n",
       "      <td>0</td>\n",
       "      <td>9</td>\n",
       "      <td>8</td>\n",
       "      <td>3813</td>\n",
       "      <td>397</td>\n",
       "      <td>0</td>\n",
       "      <td>0</td>\n",
       "      <td>0</td>\n",
       "      <td>4</td>\n",
       "      <td>8701</td>\n",
       "      <td>553</td>\n",
       "    </tr>\n",
       "    <tr>\n",
       "      <th>apg</th>\n",
       "      <td>0</td>\n",
       "      <td>1361</td>\n",
       "      <td>0</td>\n",
       "      <td>0</td>\n",
       "      <td>27</td>\n",
       "      <td>0</td>\n",
       "      <td>0</td>\n",
       "      <td>0</td>\n",
       "      <td>42</td>\n",
       "      <td>20</td>\n",
       "      <td>0</td>\n",
       "      <td>0</td>\n",
       "      <td>0</td>\n",
       "      <td>0</td>\n",
       "      <td>305</td>\n",
       "      <td>3</td>\n",
       "    </tr>\n",
       "    <tr>\n",
       "      <th>bankalfalah</th>\n",
       "      <td>0</td>\n",
       "      <td>16151</td>\n",
       "      <td>5</td>\n",
       "      <td>0</td>\n",
       "      <td>585</td>\n",
       "      <td>0</td>\n",
       "      <td>0</td>\n",
       "      <td>15</td>\n",
       "      <td>729</td>\n",
       "      <td>183</td>\n",
       "      <td>57</td>\n",
       "      <td>0</td>\n",
       "      <td>0</td>\n",
       "      <td>8</td>\n",
       "      <td>5164</td>\n",
       "      <td>114</td>\n",
       "    </tr>\n",
       "    <tr>\n",
       "      <th>cashatdoorstep</th>\n",
       "      <td>0</td>\n",
       "      <td>5</td>\n",
       "      <td>0</td>\n",
       "      <td>0</td>\n",
       "      <td>674</td>\n",
       "      <td>0</td>\n",
       "      <td>0</td>\n",
       "      <td>0</td>\n",
       "      <td>30</td>\n",
       "      <td>0</td>\n",
       "      <td>0</td>\n",
       "      <td>0</td>\n",
       "      <td>0</td>\n",
       "      <td>0</td>\n",
       "      <td>5</td>\n",
       "      <td>18</td>\n",
       "    </tr>\n",
       "    <tr>\n",
       "      <th>cod</th>\n",
       "      <td>4</td>\n",
       "      <td>21040</td>\n",
       "      <td>360</td>\n",
       "      <td>2753</td>\n",
       "      <td>147718</td>\n",
       "      <td>4</td>\n",
       "      <td>0</td>\n",
       "      <td>6</td>\n",
       "      <td>48292</td>\n",
       "      <td>0</td>\n",
       "      <td>0</td>\n",
       "      <td>0</td>\n",
       "      <td>7</td>\n",
       "      <td>20</td>\n",
       "      <td>44220</td>\n",
       "      <td>5387</td>\n",
       "    </tr>\n",
       "    <tr>\n",
       "      <th>customercredit</th>\n",
       "      <td>0</td>\n",
       "      <td>46</td>\n",
       "      <td>24</td>\n",
       "      <td>0</td>\n",
       "      <td>4146</td>\n",
       "      <td>0</td>\n",
       "      <td>0</td>\n",
       "      <td>0</td>\n",
       "      <td>1267</td>\n",
       "      <td>97</td>\n",
       "      <td>0</td>\n",
       "      <td>3</td>\n",
       "      <td>0</td>\n",
       "      <td>0</td>\n",
       "      <td>1739</td>\n",
       "      <td>223</td>\n",
       "    </tr>\n",
       "    <tr>\n",
       "      <th>easypay_voucher</th>\n",
       "      <td>0</td>\n",
       "      <td>12164</td>\n",
       "      <td>2</td>\n",
       "      <td>0</td>\n",
       "      <td>16058</td>\n",
       "      <td>0</td>\n",
       "      <td>0</td>\n",
       "      <td>0</td>\n",
       "      <td>480</td>\n",
       "      <td>13</td>\n",
       "      <td>0</td>\n",
       "      <td>33</td>\n",
       "      <td>0</td>\n",
       "      <td>0</td>\n",
       "      <td>2146</td>\n",
       "      <td>240</td>\n",
       "    </tr>\n",
       "    <tr>\n",
       "      <th>financesettlement</th>\n",
       "      <td>0</td>\n",
       "      <td>1</td>\n",
       "      <td>0</td>\n",
       "      <td>0</td>\n",
       "      <td>9</td>\n",
       "      <td>0</td>\n",
       "      <td>0</td>\n",
       "      <td>0</td>\n",
       "      <td>1</td>\n",
       "      <td>0</td>\n",
       "      <td>0</td>\n",
       "      <td>0</td>\n",
       "      <td>0</td>\n",
       "      <td>0</td>\n",
       "      <td>0</td>\n",
       "      <td>4</td>\n",
       "    </tr>\n",
       "    <tr>\n",
       "      <th>internetbanking</th>\n",
       "      <td>0</td>\n",
       "      <td>286</td>\n",
       "      <td>4</td>\n",
       "      <td>0</td>\n",
       "      <td>156</td>\n",
       "      <td>0</td>\n",
       "      <td>0</td>\n",
       "      <td>0</td>\n",
       "      <td>16</td>\n",
       "      <td>0</td>\n",
       "      <td>0</td>\n",
       "      <td>0</td>\n",
       "      <td>0</td>\n",
       "      <td>0</td>\n",
       "      <td>0</td>\n",
       "      <td>10</td>\n",
       "    </tr>\n",
       "    <tr>\n",
       "      <th>jazzvoucher</th>\n",
       "      <td>0</td>\n",
       "      <td>8459</td>\n",
       "      <td>2</td>\n",
       "      <td>0</td>\n",
       "      <td>4615</td>\n",
       "      <td>0</td>\n",
       "      <td>0</td>\n",
       "      <td>0</td>\n",
       "      <td>412</td>\n",
       "      <td>6</td>\n",
       "      <td>0</td>\n",
       "      <td>12</td>\n",
       "      <td>0</td>\n",
       "      <td>0</td>\n",
       "      <td>1988</td>\n",
       "      <td>117</td>\n",
       "    </tr>\n",
       "    <tr>\n",
       "      <th>jazzwallet</th>\n",
       "      <td>0</td>\n",
       "      <td>16921</td>\n",
       "      <td>3</td>\n",
       "      <td>0</td>\n",
       "      <td>13505</td>\n",
       "      <td>0</td>\n",
       "      <td>0</td>\n",
       "      <td>0</td>\n",
       "      <td>835</td>\n",
       "      <td>158</td>\n",
       "      <td>0</td>\n",
       "      <td>0</td>\n",
       "      <td>0</td>\n",
       "      <td>1</td>\n",
       "      <td>3416</td>\n",
       "      <td>291</td>\n",
       "    </tr>\n",
       "    <tr>\n",
       "      <th>marketingexpense</th>\n",
       "      <td>0</td>\n",
       "      <td>0</td>\n",
       "      <td>0</td>\n",
       "      <td>0</td>\n",
       "      <td>42</td>\n",
       "      <td>0</td>\n",
       "      <td>0</td>\n",
       "      <td>0</td>\n",
       "      <td>1</td>\n",
       "      <td>0</td>\n",
       "      <td>0</td>\n",
       "      <td>0</td>\n",
       "      <td>0</td>\n",
       "      <td>0</td>\n",
       "      <td>2</td>\n",
       "      <td>0</td>\n",
       "    </tr>\n",
       "    <tr>\n",
       "      <th>mcblite</th>\n",
       "      <td>0</td>\n",
       "      <td>179</td>\n",
       "      <td>1</td>\n",
       "      <td>0</td>\n",
       "      <td>393</td>\n",
       "      <td>0</td>\n",
       "      <td>0</td>\n",
       "      <td>0</td>\n",
       "      <td>137</td>\n",
       "      <td>0</td>\n",
       "      <td>0</td>\n",
       "      <td>0</td>\n",
       "      <td>0</td>\n",
       "      <td>0</td>\n",
       "      <td>2</td>\n",
       "      <td>11</td>\n",
       "    </tr>\n",
       "    <tr>\n",
       "      <th>mygateway</th>\n",
       "      <td>0</td>\n",
       "      <td>652</td>\n",
       "      <td>0</td>\n",
       "      <td>0</td>\n",
       "      <td>14</td>\n",
       "      <td>0</td>\n",
       "      <td>0</td>\n",
       "      <td>0</td>\n",
       "      <td>3</td>\n",
       "      <td>0</td>\n",
       "      <td>0</td>\n",
       "      <td>0</td>\n",
       "      <td>0</td>\n",
       "      <td>0</td>\n",
       "      <td>0</td>\n",
       "      <td>0</td>\n",
       "    </tr>\n",
       "    <tr>\n",
       "      <th>productcredit</th>\n",
       "      <td>0</td>\n",
       "      <td>10</td>\n",
       "      <td>2</td>\n",
       "      <td>0</td>\n",
       "      <td>83</td>\n",
       "      <td>0</td>\n",
       "      <td>0</td>\n",
       "      <td>0</td>\n",
       "      <td>15</td>\n",
       "      <td>0</td>\n",
       "      <td>0</td>\n",
       "      <td>0</td>\n",
       "      <td>0</td>\n",
       "      <td>0</td>\n",
       "      <td>0</td>\n",
       "      <td>15</td>\n",
       "    </tr>\n",
       "    <tr>\n",
       "      <th>ublcreditcard</th>\n",
       "      <td>0</td>\n",
       "      <td>660</td>\n",
       "      <td>4</td>\n",
       "      <td>0</td>\n",
       "      <td>182</td>\n",
       "      <td>0</td>\n",
       "      <td>1</td>\n",
       "      <td>0</td>\n",
       "      <td>21</td>\n",
       "      <td>0</td>\n",
       "      <td>0</td>\n",
       "      <td>0</td>\n",
       "      <td>0</td>\n",
       "      <td>0</td>\n",
       "      <td>6</td>\n",
       "      <td>8</td>\n",
       "    </tr>\n",
       "  </tbody>\n",
       "</table>\n",
       "</div>"
      ],
      "text/plain": [
       "status             \\N  canceled  closed   cod  complete  exchange  fraud  \\\n",
       "payment_method                                                             \n",
       "Easypay             0     52009      16     0     19192         0      0   \n",
       "Easypay_MA          0      9197       0     0      3111         0      0   \n",
       "Payaxis             0     61245      71     0     22805         0      9   \n",
       "apg                 0      1361       0     0        27         0      0   \n",
       "bankalfalah         0     16151       5     0       585         0      0   \n",
       "cashatdoorstep      0         5       0     0       674         0      0   \n",
       "cod                 4     21040     360  2753    147718         4      0   \n",
       "customercredit      0        46      24     0      4146         0      0   \n",
       "easypay_voucher     0     12164       2     0     16058         0      0   \n",
       "financesettlement   0         1       0     0         9         0      0   \n",
       "internetbanking     0       286       4     0       156         0      0   \n",
       "jazzvoucher         0      8459       2     0      4615         0      0   \n",
       "jazzwallet          0     16921       3     0     13505         0      0   \n",
       "marketingexpense    0         0       0     0        42         0      0   \n",
       "mcblite             0       179       1     0       393         0      0   \n",
       "mygateway           0       652       0     0        14         0      0   \n",
       "productcredit       0        10       2     0        83         0      0   \n",
       "ublcreditcard       0       660       4     0       182         0      1   \n",
       "\n",
       "status             holded  order_refunded  paid  payment_review  pending  \\\n",
       "payment_method                                                             \n",
       "Easypay                 2            2621   241               0        0   \n",
       "Easypay_MA              0             307    35               0        0   \n",
       "Payaxis                 8            3813   397               0        0   \n",
       "apg                     0              42    20               0        0   \n",
       "bankalfalah            15             729   183              57        0   \n",
       "cashatdoorstep          0              30     0               0        0   \n",
       "cod                     6           48292     0               0        0   \n",
       "customercredit          0            1267    97               0        3   \n",
       "easypay_voucher         0             480    13               0       33   \n",
       "financesettlement       0               1     0               0        0   \n",
       "internetbanking         0              16     0               0        0   \n",
       "jazzvoucher             0             412     6               0       12   \n",
       "jazzwallet              0             835   158               0        0   \n",
       "marketingexpense        0               1     0               0        0   \n",
       "mcblite                 0             137     0               0        0   \n",
       "mygateway               0               3     0               0        0   \n",
       "productcredit           0              15     0               0        0   \n",
       "ublcreditcard           0              21     0               0        0   \n",
       "\n",
       "status             pending_paypal  processing  received  refund  \n",
       "payment_method                                                   \n",
       "Easypay                         0           0      8022     726  \n",
       "Easypay_MA                      0           0      1206     144  \n",
       "Payaxis                         0           4      8701     553  \n",
       "apg                             0           0       305       3  \n",
       "bankalfalah                     0           8      5164     114  \n",
       "cashatdoorstep                  0           0         5      18  \n",
       "cod                             7          20     44220    5387  \n",
       "customercredit                  0           0      1739     223  \n",
       "easypay_voucher                 0           0      2146     240  \n",
       "financesettlement               0           0         0       4  \n",
       "internetbanking                 0           0         0      10  \n",
       "jazzvoucher                     0           0      1988     117  \n",
       "jazzwallet                      0           1      3416     291  \n",
       "marketingexpense                0           0         2       0  \n",
       "mcblite                         0           0         2      11  \n",
       "mygateway                       0           0         0       0  \n",
       "productcredit                   0           0         0      15  \n",
       "ublcreditcard                   0           0         6       8  "
      ]
     },
     "execution_count": 49,
     "metadata": {},
     "output_type": "execute_result"
    }
   ],
   "source": [
    "payment_method_status = pd.crosstab(df.payment_method, df.status)\n",
    "payment_method_status"
   ]
  },
  {
   "cell_type": "code",
   "execution_count": 50,
   "id": "7c643347-c326-4815-80fa-bc596abab8bd",
   "metadata": {},
   "outputs": [
    {
     "data": {
      "application/vnd.plotly.v1+json": {
       "config": {
        "linkText": "Export to plot.ly",
        "plotlyServerURL": "https://plot.ly",
        "showLink": true
       },
       "data": [
        {
         "marker": {
          "color": "rgba(255, 153, 51, 0.6)",
          "line": {
           "color": "rgba(255, 153, 51, 1.0)",
           "width": 1
          }
         },
         "name": "\\N",
         "orientation": "v",
         "text": "",
         "type": "bar",
         "x": [
          "Easypay",
          "Easypay_MA",
          "Payaxis",
          "apg",
          "bankalfalah",
          "cashatdoorstep",
          "cod",
          "customercredit",
          "easypay_voucher",
          "financesettlement",
          "internetbanking",
          "jazzvoucher",
          "jazzwallet",
          "marketingexpense",
          "mcblite",
          "mygateway",
          "productcredit",
          "ublcreditcard"
         ],
         "y": [
          0,
          0,
          0,
          0,
          0,
          0,
          4,
          0,
          0,
          0,
          0,
          0,
          0,
          0,
          0,
          0,
          0,
          0
         ]
        },
        {
         "marker": {
          "color": "rgba(55, 128, 191, 0.6)",
          "line": {
           "color": "rgba(55, 128, 191, 1.0)",
           "width": 1
          }
         },
         "name": "canceled",
         "orientation": "v",
         "text": "",
         "type": "bar",
         "x": [
          "Easypay",
          "Easypay_MA",
          "Payaxis",
          "apg",
          "bankalfalah",
          "cashatdoorstep",
          "cod",
          "customercredit",
          "easypay_voucher",
          "financesettlement",
          "internetbanking",
          "jazzvoucher",
          "jazzwallet",
          "marketingexpense",
          "mcblite",
          "mygateway",
          "productcredit",
          "ublcreditcard"
         ],
         "y": [
          52009,
          9197,
          61245,
          1361,
          16151,
          5,
          21040,
          46,
          12164,
          1,
          286,
          8459,
          16921,
          0,
          179,
          652,
          10,
          660
         ]
        },
        {
         "marker": {
          "color": "rgba(50, 171, 96, 0.6)",
          "line": {
           "color": "rgba(50, 171, 96, 1.0)",
           "width": 1
          }
         },
         "name": "closed",
         "orientation": "v",
         "text": "",
         "type": "bar",
         "x": [
          "Easypay",
          "Easypay_MA",
          "Payaxis",
          "apg",
          "bankalfalah",
          "cashatdoorstep",
          "cod",
          "customercredit",
          "easypay_voucher",
          "financesettlement",
          "internetbanking",
          "jazzvoucher",
          "jazzwallet",
          "marketingexpense",
          "mcblite",
          "mygateway",
          "productcredit",
          "ublcreditcard"
         ],
         "y": [
          16,
          0,
          71,
          0,
          5,
          0,
          360,
          24,
          2,
          0,
          4,
          2,
          3,
          0,
          1,
          0,
          2,
          4
         ]
        },
        {
         "marker": {
          "color": "rgba(128, 0, 128, 0.6)",
          "line": {
           "color": "rgba(128, 0, 128, 1.0)",
           "width": 1
          }
         },
         "name": "cod",
         "orientation": "v",
         "text": "",
         "type": "bar",
         "x": [
          "Easypay",
          "Easypay_MA",
          "Payaxis",
          "apg",
          "bankalfalah",
          "cashatdoorstep",
          "cod",
          "customercredit",
          "easypay_voucher",
          "financesettlement",
          "internetbanking",
          "jazzvoucher",
          "jazzwallet",
          "marketingexpense",
          "mcblite",
          "mygateway",
          "productcredit",
          "ublcreditcard"
         ],
         "y": [
          0,
          0,
          0,
          0,
          0,
          0,
          2753,
          0,
          0,
          0,
          0,
          0,
          0,
          0,
          0,
          0,
          0,
          0
         ]
        },
        {
         "marker": {
          "color": "rgba(219, 64, 82, 0.6)",
          "line": {
           "color": "rgba(219, 64, 82, 1.0)",
           "width": 1
          }
         },
         "name": "complete",
         "orientation": "v",
         "text": "",
         "type": "bar",
         "x": [
          "Easypay",
          "Easypay_MA",
          "Payaxis",
          "apg",
          "bankalfalah",
          "cashatdoorstep",
          "cod",
          "customercredit",
          "easypay_voucher",
          "financesettlement",
          "internetbanking",
          "jazzvoucher",
          "jazzwallet",
          "marketingexpense",
          "mcblite",
          "mygateway",
          "productcredit",
          "ublcreditcard"
         ],
         "y": [
          19192,
          3111,
          22805,
          27,
          585,
          674,
          147718,
          4146,
          16058,
          9,
          156,
          4615,
          13505,
          42,
          393,
          14,
          83,
          182
         ]
        },
        {
         "marker": {
          "color": "rgba(0, 128, 128, 0.6)",
          "line": {
           "color": "rgba(0, 128, 128, 1.0)",
           "width": 1
          }
         },
         "name": "exchange",
         "orientation": "v",
         "text": "",
         "type": "bar",
         "x": [
          "Easypay",
          "Easypay_MA",
          "Payaxis",
          "apg",
          "bankalfalah",
          "cashatdoorstep",
          "cod",
          "customercredit",
          "easypay_voucher",
          "financesettlement",
          "internetbanking",
          "jazzvoucher",
          "jazzwallet",
          "marketingexpense",
          "mcblite",
          "mygateway",
          "productcredit",
          "ublcreditcard"
         ],
         "y": [
          0,
          0,
          0,
          0,
          0,
          0,
          4,
          0,
          0,
          0,
          0,
          0,
          0,
          0,
          0,
          0,
          0,
          0
         ]
        },
        {
         "marker": {
          "color": "rgba(255, 255, 51, 0.6)",
          "line": {
           "color": "rgba(255, 255, 51, 1.0)",
           "width": 1
          }
         },
         "name": "fraud",
         "orientation": "v",
         "text": "",
         "type": "bar",
         "x": [
          "Easypay",
          "Easypay_MA",
          "Payaxis",
          "apg",
          "bankalfalah",
          "cashatdoorstep",
          "cod",
          "customercredit",
          "easypay_voucher",
          "financesettlement",
          "internetbanking",
          "jazzvoucher",
          "jazzwallet",
          "marketingexpense",
          "mcblite",
          "mygateway",
          "productcredit",
          "ublcreditcard"
         ],
         "y": [
          0,
          0,
          9,
          0,
          0,
          0,
          0,
          0,
          0,
          0,
          0,
          0,
          0,
          0,
          0,
          0,
          0,
          1
         ]
        },
        {
         "marker": {
          "color": "rgba(128, 128, 0, 0.6)",
          "line": {
           "color": "rgba(128, 128, 0, 1.0)",
           "width": 1
          }
         },
         "name": "holded",
         "orientation": "v",
         "text": "",
         "type": "bar",
         "x": [
          "Easypay",
          "Easypay_MA",
          "Payaxis",
          "apg",
          "bankalfalah",
          "cashatdoorstep",
          "cod",
          "customercredit",
          "easypay_voucher",
          "financesettlement",
          "internetbanking",
          "jazzvoucher",
          "jazzwallet",
          "marketingexpense",
          "mcblite",
          "mygateway",
          "productcredit",
          "ublcreditcard"
         ],
         "y": [
          2,
          0,
          8,
          0,
          15,
          0,
          6,
          0,
          0,
          0,
          0,
          0,
          0,
          0,
          0,
          0,
          0,
          0
         ]
        },
        {
         "marker": {
          "color": "rgba(251, 128, 114, 0.6)",
          "line": {
           "color": "rgba(251, 128, 114, 1.0)",
           "width": 1
          }
         },
         "name": "order_refunded",
         "orientation": "v",
         "text": "",
         "type": "bar",
         "x": [
          "Easypay",
          "Easypay_MA",
          "Payaxis",
          "apg",
          "bankalfalah",
          "cashatdoorstep",
          "cod",
          "customercredit",
          "easypay_voucher",
          "financesettlement",
          "internetbanking",
          "jazzvoucher",
          "jazzwallet",
          "marketingexpense",
          "mcblite",
          "mygateway",
          "productcredit",
          "ublcreditcard"
         ],
         "y": [
          2621,
          307,
          3813,
          42,
          729,
          30,
          48292,
          1267,
          480,
          1,
          16,
          412,
          835,
          1,
          137,
          3,
          15,
          21
         ]
        },
        {
         "marker": {
          "color": "rgba(128, 177, 211, 0.6)",
          "line": {
           "color": "rgba(128, 177, 211, 1.0)",
           "width": 1
          }
         },
         "name": "paid",
         "orientation": "v",
         "text": "",
         "type": "bar",
         "x": [
          "Easypay",
          "Easypay_MA",
          "Payaxis",
          "apg",
          "bankalfalah",
          "cashatdoorstep",
          "cod",
          "customercredit",
          "easypay_voucher",
          "financesettlement",
          "internetbanking",
          "jazzvoucher",
          "jazzwallet",
          "marketingexpense",
          "mcblite",
          "mygateway",
          "productcredit",
          "ublcreditcard"
         ],
         "y": [
          241,
          35,
          397,
          20,
          183,
          0,
          0,
          97,
          13,
          0,
          0,
          6,
          158,
          0,
          0,
          0,
          0,
          0
         ]
        },
        {
         "marker": {
          "color": "rgba(128, 177, 211, 0.6)",
          "line": {
           "color": "rgba(128, 177, 211, 0.8999999999999999)",
           "width": 1
          }
         },
         "name": "payment_review",
         "orientation": "v",
         "text": "",
         "type": "bar",
         "x": [
          "Easypay",
          "Easypay_MA",
          "Payaxis",
          "apg",
          "bankalfalah",
          "cashatdoorstep",
          "cod",
          "customercredit",
          "easypay_voucher",
          "financesettlement",
          "internetbanking",
          "jazzvoucher",
          "jazzwallet",
          "marketingexpense",
          "mcblite",
          "mygateway",
          "productcredit",
          "ublcreditcard"
         ],
         "y": [
          0,
          0,
          0,
          0,
          57,
          0,
          0,
          0,
          0,
          0,
          0,
          0,
          0,
          0,
          0,
          0,
          0,
          0
         ]
        },
        {
         "marker": {
          "color": "rgba(255, 153, 51, 0.6)",
          "line": {
           "color": "rgba(255, 153, 51, 0.8999999999999999)",
           "width": 1
          }
         },
         "name": "pending",
         "orientation": "v",
         "text": "",
         "type": "bar",
         "x": [
          "Easypay",
          "Easypay_MA",
          "Payaxis",
          "apg",
          "bankalfalah",
          "cashatdoorstep",
          "cod",
          "customercredit",
          "easypay_voucher",
          "financesettlement",
          "internetbanking",
          "jazzvoucher",
          "jazzwallet",
          "marketingexpense",
          "mcblite",
          "mygateway",
          "productcredit",
          "ublcreditcard"
         ],
         "y": [
          0,
          0,
          0,
          0,
          0,
          0,
          0,
          3,
          33,
          0,
          0,
          12,
          0,
          0,
          0,
          0,
          0,
          0
         ]
        },
        {
         "marker": {
          "color": "rgba(55, 128, 191, 0.6)",
          "line": {
           "color": "rgba(55, 128, 191, 0.8999999999999999)",
           "width": 1
          }
         },
         "name": "pending_paypal",
         "orientation": "v",
         "text": "",
         "type": "bar",
         "x": [
          "Easypay",
          "Easypay_MA",
          "Payaxis",
          "apg",
          "bankalfalah",
          "cashatdoorstep",
          "cod",
          "customercredit",
          "easypay_voucher",
          "financesettlement",
          "internetbanking",
          "jazzvoucher",
          "jazzwallet",
          "marketingexpense",
          "mcblite",
          "mygateway",
          "productcredit",
          "ublcreditcard"
         ],
         "y": [
          0,
          0,
          0,
          0,
          0,
          0,
          7,
          0,
          0,
          0,
          0,
          0,
          0,
          0,
          0,
          0,
          0,
          0
         ]
        },
        {
         "marker": {
          "color": "rgba(50, 171, 96, 0.6)",
          "line": {
           "color": "rgba(50, 171, 96, 0.8999999999999999)",
           "width": 1
          }
         },
         "name": "processing",
         "orientation": "v",
         "text": "",
         "type": "bar",
         "x": [
          "Easypay",
          "Easypay_MA",
          "Payaxis",
          "apg",
          "bankalfalah",
          "cashatdoorstep",
          "cod",
          "customercredit",
          "easypay_voucher",
          "financesettlement",
          "internetbanking",
          "jazzvoucher",
          "jazzwallet",
          "marketingexpense",
          "mcblite",
          "mygateway",
          "productcredit",
          "ublcreditcard"
         ],
         "y": [
          0,
          0,
          4,
          0,
          8,
          0,
          20,
          0,
          0,
          0,
          0,
          0,
          1,
          0,
          0,
          0,
          0,
          0
         ]
        },
        {
         "marker": {
          "color": "rgba(128, 0, 128, 0.6)",
          "line": {
           "color": "rgba(128, 0, 128, 0.8999999999999999)",
           "width": 1
          }
         },
         "name": "received",
         "orientation": "v",
         "text": "",
         "type": "bar",
         "x": [
          "Easypay",
          "Easypay_MA",
          "Payaxis",
          "apg",
          "bankalfalah",
          "cashatdoorstep",
          "cod",
          "customercredit",
          "easypay_voucher",
          "financesettlement",
          "internetbanking",
          "jazzvoucher",
          "jazzwallet",
          "marketingexpense",
          "mcblite",
          "mygateway",
          "productcredit",
          "ublcreditcard"
         ],
         "y": [
          8022,
          1206,
          8701,
          305,
          5164,
          5,
          44220,
          1739,
          2146,
          0,
          0,
          1988,
          3416,
          2,
          2,
          0,
          0,
          6
         ]
        },
        {
         "marker": {
          "color": "rgba(219, 64, 82, 0.6)",
          "line": {
           "color": "rgba(219, 64, 82, 0.8999999999999999)",
           "width": 1
          }
         },
         "name": "refund",
         "orientation": "v",
         "text": "",
         "type": "bar",
         "x": [
          "Easypay",
          "Easypay_MA",
          "Payaxis",
          "apg",
          "bankalfalah",
          "cashatdoorstep",
          "cod",
          "customercredit",
          "easypay_voucher",
          "financesettlement",
          "internetbanking",
          "jazzvoucher",
          "jazzwallet",
          "marketingexpense",
          "mcblite",
          "mygateway",
          "productcredit",
          "ublcreditcard"
         ],
         "y": [
          726,
          144,
          553,
          3,
          114,
          18,
          5387,
          223,
          240,
          4,
          10,
          117,
          291,
          0,
          11,
          0,
          15,
          8
         ]
        }
       ],
       "layout": {
        "height": 500,
        "showlegend": true,
        "template": {
         "data": {
          "bar": [
           {
            "error_x": {
             "color": "#2a3f5f"
            },
            "error_y": {
             "color": "#2a3f5f"
            },
            "marker": {
             "line": {
              "color": "#E5ECF6",
              "width": 0.5
             },
             "pattern": {
              "fillmode": "overlay",
              "size": 10,
              "solidity": 0.2
             }
            },
            "type": "bar"
           }
          ],
          "barpolar": [
           {
            "marker": {
             "line": {
              "color": "#E5ECF6",
              "width": 0.5
             },
             "pattern": {
              "fillmode": "overlay",
              "size": 10,
              "solidity": 0.2
             }
            },
            "type": "barpolar"
           }
          ],
          "carpet": [
           {
            "aaxis": {
             "endlinecolor": "#2a3f5f",
             "gridcolor": "white",
             "linecolor": "white",
             "minorgridcolor": "white",
             "startlinecolor": "#2a3f5f"
            },
            "baxis": {
             "endlinecolor": "#2a3f5f",
             "gridcolor": "white",
             "linecolor": "white",
             "minorgridcolor": "white",
             "startlinecolor": "#2a3f5f"
            },
            "type": "carpet"
           }
          ],
          "choropleth": [
           {
            "colorbar": {
             "outlinewidth": 0,
             "ticks": ""
            },
            "type": "choropleth"
           }
          ],
          "contour": [
           {
            "colorbar": {
             "outlinewidth": 0,
             "ticks": ""
            },
            "colorscale": [
             [
              0,
              "#0d0887"
             ],
             [
              0.1111111111111111,
              "#46039f"
             ],
             [
              0.2222222222222222,
              "#7201a8"
             ],
             [
              0.3333333333333333,
              "#9c179e"
             ],
             [
              0.4444444444444444,
              "#bd3786"
             ],
             [
              0.5555555555555556,
              "#d8576b"
             ],
             [
              0.6666666666666666,
              "#ed7953"
             ],
             [
              0.7777777777777778,
              "#fb9f3a"
             ],
             [
              0.8888888888888888,
              "#fdca26"
             ],
             [
              1,
              "#f0f921"
             ]
            ],
            "type": "contour"
           }
          ],
          "contourcarpet": [
           {
            "colorbar": {
             "outlinewidth": 0,
             "ticks": ""
            },
            "type": "contourcarpet"
           }
          ],
          "heatmap": [
           {
            "colorbar": {
             "outlinewidth": 0,
             "ticks": ""
            },
            "colorscale": [
             [
              0,
              "#0d0887"
             ],
             [
              0.1111111111111111,
              "#46039f"
             ],
             [
              0.2222222222222222,
              "#7201a8"
             ],
             [
              0.3333333333333333,
              "#9c179e"
             ],
             [
              0.4444444444444444,
              "#bd3786"
             ],
             [
              0.5555555555555556,
              "#d8576b"
             ],
             [
              0.6666666666666666,
              "#ed7953"
             ],
             [
              0.7777777777777778,
              "#fb9f3a"
             ],
             [
              0.8888888888888888,
              "#fdca26"
             ],
             [
              1,
              "#f0f921"
             ]
            ],
            "type": "heatmap"
           }
          ],
          "heatmapgl": [
           {
            "colorbar": {
             "outlinewidth": 0,
             "ticks": ""
            },
            "colorscale": [
             [
              0,
              "#0d0887"
             ],
             [
              0.1111111111111111,
              "#46039f"
             ],
             [
              0.2222222222222222,
              "#7201a8"
             ],
             [
              0.3333333333333333,
              "#9c179e"
             ],
             [
              0.4444444444444444,
              "#bd3786"
             ],
             [
              0.5555555555555556,
              "#d8576b"
             ],
             [
              0.6666666666666666,
              "#ed7953"
             ],
             [
              0.7777777777777778,
              "#fb9f3a"
             ],
             [
              0.8888888888888888,
              "#fdca26"
             ],
             [
              1,
              "#f0f921"
             ]
            ],
            "type": "heatmapgl"
           }
          ],
          "histogram": [
           {
            "marker": {
             "pattern": {
              "fillmode": "overlay",
              "size": 10,
              "solidity": 0.2
             }
            },
            "type": "histogram"
           }
          ],
          "histogram2d": [
           {
            "colorbar": {
             "outlinewidth": 0,
             "ticks": ""
            },
            "colorscale": [
             [
              0,
              "#0d0887"
             ],
             [
              0.1111111111111111,
              "#46039f"
             ],
             [
              0.2222222222222222,
              "#7201a8"
             ],
             [
              0.3333333333333333,
              "#9c179e"
             ],
             [
              0.4444444444444444,
              "#bd3786"
             ],
             [
              0.5555555555555556,
              "#d8576b"
             ],
             [
              0.6666666666666666,
              "#ed7953"
             ],
             [
              0.7777777777777778,
              "#fb9f3a"
             ],
             [
              0.8888888888888888,
              "#fdca26"
             ],
             [
              1,
              "#f0f921"
             ]
            ],
            "type": "histogram2d"
           }
          ],
          "histogram2dcontour": [
           {
            "colorbar": {
             "outlinewidth": 0,
             "ticks": ""
            },
            "colorscale": [
             [
              0,
              "#0d0887"
             ],
             [
              0.1111111111111111,
              "#46039f"
             ],
             [
              0.2222222222222222,
              "#7201a8"
             ],
             [
              0.3333333333333333,
              "#9c179e"
             ],
             [
              0.4444444444444444,
              "#bd3786"
             ],
             [
              0.5555555555555556,
              "#d8576b"
             ],
             [
              0.6666666666666666,
              "#ed7953"
             ],
             [
              0.7777777777777778,
              "#fb9f3a"
             ],
             [
              0.8888888888888888,
              "#fdca26"
             ],
             [
              1,
              "#f0f921"
             ]
            ],
            "type": "histogram2dcontour"
           }
          ],
          "mesh3d": [
           {
            "colorbar": {
             "outlinewidth": 0,
             "ticks": ""
            },
            "type": "mesh3d"
           }
          ],
          "parcoords": [
           {
            "line": {
             "colorbar": {
              "outlinewidth": 0,
              "ticks": ""
             }
            },
            "type": "parcoords"
           }
          ],
          "pie": [
           {
            "automargin": true,
            "type": "pie"
           }
          ],
          "scatter": [
           {
            "marker": {
             "colorbar": {
              "outlinewidth": 0,
              "ticks": ""
             }
            },
            "type": "scatter"
           }
          ],
          "scatter3d": [
           {
            "line": {
             "colorbar": {
              "outlinewidth": 0,
              "ticks": ""
             }
            },
            "marker": {
             "colorbar": {
              "outlinewidth": 0,
              "ticks": ""
             }
            },
            "type": "scatter3d"
           }
          ],
          "scattercarpet": [
           {
            "marker": {
             "colorbar": {
              "outlinewidth": 0,
              "ticks": ""
             }
            },
            "type": "scattercarpet"
           }
          ],
          "scattergeo": [
           {
            "marker": {
             "colorbar": {
              "outlinewidth": 0,
              "ticks": ""
             }
            },
            "type": "scattergeo"
           }
          ],
          "scattergl": [
           {
            "marker": {
             "colorbar": {
              "outlinewidth": 0,
              "ticks": ""
             }
            },
            "type": "scattergl"
           }
          ],
          "scattermapbox": [
           {
            "marker": {
             "colorbar": {
              "outlinewidth": 0,
              "ticks": ""
             }
            },
            "type": "scattermapbox"
           }
          ],
          "scatterpolar": [
           {
            "marker": {
             "colorbar": {
              "outlinewidth": 0,
              "ticks": ""
             }
            },
            "type": "scatterpolar"
           }
          ],
          "scatterpolargl": [
           {
            "marker": {
             "colorbar": {
              "outlinewidth": 0,
              "ticks": ""
             }
            },
            "type": "scatterpolargl"
           }
          ],
          "scatterternary": [
           {
            "marker": {
             "colorbar": {
              "outlinewidth": 0,
              "ticks": ""
             }
            },
            "type": "scatterternary"
           }
          ],
          "surface": [
           {
            "colorbar": {
             "outlinewidth": 0,
             "ticks": ""
            },
            "colorscale": [
             [
              0,
              "#0d0887"
             ],
             [
              0.1111111111111111,
              "#46039f"
             ],
             [
              0.2222222222222222,
              "#7201a8"
             ],
             [
              0.3333333333333333,
              "#9c179e"
             ],
             [
              0.4444444444444444,
              "#bd3786"
             ],
             [
              0.5555555555555556,
              "#d8576b"
             ],
             [
              0.6666666666666666,
              "#ed7953"
             ],
             [
              0.7777777777777778,
              "#fb9f3a"
             ],
             [
              0.8888888888888888,
              "#fdca26"
             ],
             [
              1,
              "#f0f921"
             ]
            ],
            "type": "surface"
           }
          ],
          "table": [
           {
            "cells": {
             "fill": {
              "color": "#EBF0F8"
             },
             "line": {
              "color": "white"
             }
            },
            "header": {
             "fill": {
              "color": "#C8D4E3"
             },
             "line": {
              "color": "white"
             }
            },
            "type": "table"
           }
          ]
         },
         "layout": {
          "annotationdefaults": {
           "arrowcolor": "#2a3f5f",
           "arrowhead": 0,
           "arrowwidth": 1
          },
          "autotypenumbers": "strict",
          "coloraxis": {
           "colorbar": {
            "outlinewidth": 0,
            "ticks": ""
           }
          },
          "colorscale": {
           "diverging": [
            [
             0,
             "#8e0152"
            ],
            [
             0.1,
             "#c51b7d"
            ],
            [
             0.2,
             "#de77ae"
            ],
            [
             0.3,
             "#f1b6da"
            ],
            [
             0.4,
             "#fde0ef"
            ],
            [
             0.5,
             "#f7f7f7"
            ],
            [
             0.6,
             "#e6f5d0"
            ],
            [
             0.7,
             "#b8e186"
            ],
            [
             0.8,
             "#7fbc41"
            ],
            [
             0.9,
             "#4d9221"
            ],
            [
             1,
             "#276419"
            ]
           ],
           "sequential": [
            [
             0,
             "#0d0887"
            ],
            [
             0.1111111111111111,
             "#46039f"
            ],
            [
             0.2222222222222222,
             "#7201a8"
            ],
            [
             0.3333333333333333,
             "#9c179e"
            ],
            [
             0.4444444444444444,
             "#bd3786"
            ],
            [
             0.5555555555555556,
             "#d8576b"
            ],
            [
             0.6666666666666666,
             "#ed7953"
            ],
            [
             0.7777777777777778,
             "#fb9f3a"
            ],
            [
             0.8888888888888888,
             "#fdca26"
            ],
            [
             1,
             "#f0f921"
            ]
           ],
           "sequentialminus": [
            [
             0,
             "#0d0887"
            ],
            [
             0.1111111111111111,
             "#46039f"
            ],
            [
             0.2222222222222222,
             "#7201a8"
            ],
            [
             0.3333333333333333,
             "#9c179e"
            ],
            [
             0.4444444444444444,
             "#bd3786"
            ],
            [
             0.5555555555555556,
             "#d8576b"
            ],
            [
             0.6666666666666666,
             "#ed7953"
            ],
            [
             0.7777777777777778,
             "#fb9f3a"
            ],
            [
             0.8888888888888888,
             "#fdca26"
            ],
            [
             1,
             "#f0f921"
            ]
           ]
          },
          "colorway": [
           "#636efa",
           "#EF553B",
           "#00cc96",
           "#ab63fa",
           "#FFA15A",
           "#19d3f3",
           "#FF6692",
           "#B6E880",
           "#FF97FF",
           "#FECB52"
          ],
          "font": {
           "color": "#2a3f5f"
          },
          "geo": {
           "bgcolor": "white",
           "lakecolor": "white",
           "landcolor": "#E5ECF6",
           "showlakes": true,
           "showland": true,
           "subunitcolor": "white"
          },
          "hoverlabel": {
           "align": "left"
          },
          "hovermode": "closest",
          "mapbox": {
           "style": "light"
          },
          "paper_bgcolor": "white",
          "plot_bgcolor": "#E5ECF6",
          "polar": {
           "angularaxis": {
            "gridcolor": "white",
            "linecolor": "white",
            "ticks": ""
           },
           "bgcolor": "#E5ECF6",
           "radialaxis": {
            "gridcolor": "white",
            "linecolor": "white",
            "ticks": ""
           }
          },
          "scene": {
           "xaxis": {
            "backgroundcolor": "#E5ECF6",
            "gridcolor": "white",
            "gridwidth": 2,
            "linecolor": "white",
            "showbackground": true,
            "ticks": "",
            "zerolinecolor": "white"
           },
           "yaxis": {
            "backgroundcolor": "#E5ECF6",
            "gridcolor": "white",
            "gridwidth": 2,
            "linecolor": "white",
            "showbackground": true,
            "ticks": "",
            "zerolinecolor": "white"
           },
           "zaxis": {
            "backgroundcolor": "#E5ECF6",
            "gridcolor": "white",
            "gridwidth": 2,
            "linecolor": "white",
            "showbackground": true,
            "ticks": "",
            "zerolinecolor": "white"
           }
          },
          "shapedefaults": {
           "line": {
            "color": "#2a3f5f"
           }
          },
          "ternary": {
           "aaxis": {
            "gridcolor": "white",
            "linecolor": "white",
            "ticks": ""
           },
           "baxis": {
            "gridcolor": "white",
            "linecolor": "white",
            "ticks": ""
           },
           "bgcolor": "#E5ECF6",
           "caxis": {
            "gridcolor": "white",
            "linecolor": "white",
            "ticks": ""
           }
          },
          "title": {
           "x": 0.05
          },
          "xaxis": {
           "automargin": true,
           "gridcolor": "white",
           "linecolor": "white",
           "ticks": "",
           "title": {
            "standoff": 15
           },
           "zerolinecolor": "white",
           "zerolinewidth": 2
          },
          "yaxis": {
           "automargin": true,
           "gridcolor": "white",
           "linecolor": "white",
           "ticks": "",
           "title": {
            "standoff": 15
           },
           "zerolinecolor": "white",
           "zerolinewidth": 2
          }
         }
        },
        "title": {
         "text": "Payment Methods/Status"
        },
        "width": 1000,
        "xaxis": {
         "autorange": true,
         "range": [
          -0.5,
          17.5
         ],
         "title": {
          "text": "Payment Methods"
         },
         "type": "category"
        },
        "yaxis": {
         "autorange": true,
         "range": [
          0,
          155492.63157894736
         ],
         "title": {
          "text": "Count"
         },
         "type": "linear"
        }
       }
      },
      "image/png": "[encoded data removed]",
      "text/html": [
       "<div>                            <div id=\"3d3aedd6-aed7-4e9b-8f51-2ccbff4ec6e3\" class=\"plotly-graph-div\" style=\"height:500px; width:1000px;\"></div>            <script type=\"text/javascript\">                require([\"plotly\"], function(Plotly) {                    window.PLOTLYENV=window.PLOTLYENV || {};\n",
       "                    window.PLOTLYENV.BASE_URL='https://plot.ly';                                    if (document.getElementById(\"3d3aedd6-aed7-4e9b-8f51-2ccbff4ec6e3\")) {                    Plotly.newPlot(                        \"3d3aedd6-aed7-4e9b-8f51-2ccbff4ec6e3\",                        [{\"marker\":{\"color\":\"rgba(255, 153, 51, 0.6)\",\"line\":{\"color\":\"rgba(255, 153, 51, 1.0)\",\"width\":1}},\"name\":\"\\\\N\",\"orientation\":\"v\",\"text\":\"\",\"type\":\"bar\",\"x\":[\"Easypay\",\"Easypay_MA\",\"Payaxis\",\"apg\",\"bankalfalah\",\"cashatdoorstep\",\"cod\",\"customercredit\",\"easypay_voucher\",\"financesettlement\",\"internetbanking\",\"jazzvoucher\",\"jazzwallet\",\"marketingexpense\",\"mcblite\",\"mygateway\",\"productcredit\",\"ublcreditcard\"],\"y\":[0,0,0,0,0,0,4,0,0,0,0,0,0,0,0,0,0,0]},{\"marker\":{\"color\":\"rgba(55, 128, 191, 0.6)\",\"line\":{\"color\":\"rgba(55, 128, 191, 1.0)\",\"width\":1}},\"name\":\"canceled\",\"orientation\":\"v\",\"text\":\"\",\"type\":\"bar\",\"x\":[\"Easypay\",\"Easypay_MA\",\"Payaxis\",\"apg\",\"bankalfalah\",\"cashatdoorstep\",\"cod\",\"customercredit\",\"easypay_voucher\",\"financesettlement\",\"internetbanking\",\"jazzvoucher\",\"jazzwallet\",\"marketingexpense\",\"mcblite\",\"mygateway\",\"productcredit\",\"ublcreditcard\"],\"y\":[52009,9197,61245,1361,16151,5,21040,46,12164,1,286,8459,16921,0,179,652,10,660]},{\"marker\":{\"color\":\"rgba(50, 171, 96, 0.6)\",\"line\":{\"color\":\"rgba(50, 171, 96, 1.0)\",\"width\":1}},\"name\":\"closed\",\"orientation\":\"v\",\"text\":\"\",\"type\":\"bar\",\"x\":[\"Easypay\",\"Easypay_MA\",\"Payaxis\",\"apg\",\"bankalfalah\",\"cashatdoorstep\",\"cod\",\"customercredit\",\"easypay_voucher\",\"financesettlement\",\"internetbanking\",\"jazzvoucher\",\"jazzwallet\",\"marketingexpense\",\"mcblite\",\"mygateway\",\"productcredit\",\"ublcreditcard\"],\"y\":[16,0,71,0,5,0,360,24,2,0,4,2,3,0,1,0,2,4]},{\"marker\":{\"color\":\"rgba(128, 0, 128, 0.6)\",\"line\":{\"color\":\"rgba(128, 0, 128, 1.0)\",\"width\":1}},\"name\":\"cod\",\"orientation\":\"v\",\"text\":\"\",\"type\":\"bar\",\"x\":[\"Easypay\",\"Easypay_MA\",\"Payaxis\",\"apg\",\"bankalfalah\",\"cashatdoorstep\",\"cod\",\"customercredit\",\"easypay_voucher\",\"financesettlement\",\"internetbanking\",\"jazzvoucher\",\"jazzwallet\",\"marketingexpense\",\"mcblite\",\"mygateway\",\"productcredit\",\"ublcreditcard\"],\"y\":[0,0,0,0,0,0,2753,0,0,0,0,0,0,0,0,0,0,0]},{\"marker\":{\"color\":\"rgba(219, 64, 82, 0.6)\",\"line\":{\"color\":\"rgba(219, 64, 82, 1.0)\",\"width\":1}},\"name\":\"complete\",\"orientation\":\"v\",\"text\":\"\",\"type\":\"bar\",\"x\":[\"Easypay\",\"Easypay_MA\",\"Payaxis\",\"apg\",\"bankalfalah\",\"cashatdoorstep\",\"cod\",\"customercredit\",\"easypay_voucher\",\"financesettlement\",\"internetbanking\",\"jazzvoucher\",\"jazzwallet\",\"marketingexpense\",\"mcblite\",\"mygateway\",\"productcredit\",\"ublcreditcard\"],\"y\":[19192,3111,22805,27,585,674,147718,4146,16058,9,156,4615,13505,42,393,14,83,182]},{\"marker\":{\"color\":\"rgba(0, 128, 128, 0.6)\",\"line\":{\"color\":\"rgba(0, 128, 128, 1.0)\",\"width\":1}},\"name\":\"exchange\",\"orientation\":\"v\",\"text\":\"\",\"type\":\"bar\",\"x\":[\"Easypay\",\"Easypay_MA\",\"Payaxis\",\"apg\",\"bankalfalah\",\"cashatdoorstep\",\"cod\",\"customercredit\",\"easypay_voucher\",\"financesettlement\",\"internetbanking\",\"jazzvoucher\",\"jazzwallet\",\"marketingexpense\",\"mcblite\",\"mygateway\",\"productcredit\",\"ublcreditcard\"],\"y\":[0,0,0,0,0,0,4,0,0,0,0,0,0,0,0,0,0,0]},{\"marker\":{\"color\":\"rgba(255, 255, 51, 0.6)\",\"line\":{\"color\":\"rgba(255, 255, 51, 1.0)\",\"width\":1}},\"name\":\"fraud\",\"orientation\":\"v\",\"text\":\"\",\"type\":\"bar\",\"x\":[\"Easypay\",\"Easypay_MA\",\"Payaxis\",\"apg\",\"bankalfalah\",\"cashatdoorstep\",\"cod\",\"customercredit\",\"easypay_voucher\",\"financesettlement\",\"internetbanking\",\"jazzvoucher\",\"jazzwallet\",\"marketingexpense\",\"mcblite\",\"mygateway\",\"productcredit\",\"ublcreditcard\"],\"y\":[0,0,9,0,0,0,0,0,0,0,0,0,0,0,0,0,0,1]},{\"marker\":{\"color\":\"rgba(128, 128, 0, 0.6)\",\"line\":{\"color\":\"rgba(128, 128, 0, 1.0)\",\"width\":1}},\"name\":\"holded\",\"orientation\":\"v\",\"text\":\"\",\"type\":\"bar\",\"x\":[\"Easypay\",\"Easypay_MA\",\"Payaxis\",\"apg\",\"bankalfalah\",\"cashatdoorstep\",\"cod\",\"customercredit\",\"easypay_voucher\",\"financesettlement\",\"internetbanking\",\"jazzvoucher\",\"jazzwallet\",\"marketingexpense\",\"mcblite\",\"mygateway\",\"productcredit\",\"ublcreditcard\"],\"y\":[2,0,8,0,15,0,6,0,0,0,0,0,0,0,0,0,0,0]},{\"marker\":{\"color\":\"rgba(251, 128, 114, 0.6)\",\"line\":{\"color\":\"rgba(251, 128, 114, 1.0)\",\"width\":1}},\"name\":\"order_refunded\",\"orientation\":\"v\",\"text\":\"\",\"type\":\"bar\",\"x\":[\"Easypay\",\"Easypay_MA\",\"Payaxis\",\"apg\",\"bankalfalah\",\"cashatdoorstep\",\"cod\",\"customercredit\",\"easypay_voucher\",\"financesettlement\",\"internetbanking\",\"jazzvoucher\",\"jazzwallet\",\"marketingexpense\",\"mcblite\",\"mygateway\",\"productcredit\",\"ublcreditcard\"],\"y\":[2621,307,3813,42,729,30,48292,1267,480,1,16,412,835,1,137,3,15,21]},{\"marker\":{\"color\":\"rgba(128, 177, 211, 0.6)\",\"line\":{\"color\":\"rgba(128, 177, 211, 1.0)\",\"width\":1}},\"name\":\"paid\",\"orientation\":\"v\",\"text\":\"\",\"type\":\"bar\",\"x\":[\"Easypay\",\"Easypay_MA\",\"Payaxis\",\"apg\",\"bankalfalah\",\"cashatdoorstep\",\"cod\",\"customercredit\",\"easypay_voucher\",\"financesettlement\",\"internetbanking\",\"jazzvoucher\",\"jazzwallet\",\"marketingexpense\",\"mcblite\",\"mygateway\",\"productcredit\",\"ublcreditcard\"],\"y\":[241,35,397,20,183,0,0,97,13,0,0,6,158,0,0,0,0,0]},{\"marker\":{\"color\":\"rgba(128, 177, 211, 0.6)\",\"line\":{\"color\":\"rgba(128, 177, 211, 0.8999999999999999)\",\"width\":1}},\"name\":\"payment_review\",\"orientation\":\"v\",\"text\":\"\",\"type\":\"bar\",\"x\":[\"Easypay\",\"Easypay_MA\",\"Payaxis\",\"apg\",\"bankalfalah\",\"cashatdoorstep\",\"cod\",\"customercredit\",\"easypay_voucher\",\"financesettlement\",\"internetbanking\",\"jazzvoucher\",\"jazzwallet\",\"marketingexpense\",\"mcblite\",\"mygateway\",\"productcredit\",\"ublcreditcard\"],\"y\":[0,0,0,0,57,0,0,0,0,0,0,0,0,0,0,0,0,0]},{\"marker\":{\"color\":\"rgba(255, 153, 51, 0.6)\",\"line\":{\"color\":\"rgba(255, 153, 51, 0.8999999999999999)\",\"width\":1}},\"name\":\"pending\",\"orientation\":\"v\",\"text\":\"\",\"type\":\"bar\",\"x\":[\"Easypay\",\"Easypay_MA\",\"Payaxis\",\"apg\",\"bankalfalah\",\"cashatdoorstep\",\"cod\",\"customercredit\",\"easypay_voucher\",\"financesettlement\",\"internetbanking\",\"jazzvoucher\",\"jazzwallet\",\"marketingexpense\",\"mcblite\",\"mygateway\",\"productcredit\",\"ublcreditcard\"],\"y\":[0,0,0,0,0,0,0,3,33,0,0,12,0,0,0,0,0,0]},{\"marker\":{\"color\":\"rgba(55, 128, 191, 0.6)\",\"line\":{\"color\":\"rgba(55, 128, 191, 0.8999999999999999)\",\"width\":1}},\"name\":\"pending_paypal\",\"orientation\":\"v\",\"text\":\"\",\"type\":\"bar\",\"x\":[\"Easypay\",\"Easypay_MA\",\"Payaxis\",\"apg\",\"bankalfalah\",\"cashatdoorstep\",\"cod\",\"customercredit\",\"easypay_voucher\",\"financesettlement\",\"internetbanking\",\"jazzvoucher\",\"jazzwallet\",\"marketingexpense\",\"mcblite\",\"mygateway\",\"productcredit\",\"ublcreditcard\"],\"y\":[0,0,0,0,0,0,7,0,0,0,0,0,0,0,0,0,0,0]},{\"marker\":{\"color\":\"rgba(50, 171, 96, 0.6)\",\"line\":{\"color\":\"rgba(50, 171, 96, 0.8999999999999999)\",\"width\":1}},\"name\":\"processing\",\"orientation\":\"v\",\"text\":\"\",\"type\":\"bar\",\"x\":[\"Easypay\",\"Easypay_MA\",\"Payaxis\",\"apg\",\"bankalfalah\",\"cashatdoorstep\",\"cod\",\"customercredit\",\"easypay_voucher\",\"financesettlement\",\"internetbanking\",\"jazzvoucher\",\"jazzwallet\",\"marketingexpense\",\"mcblite\",\"mygateway\",\"productcredit\",\"ublcreditcard\"],\"y\":[0,0,4,0,8,0,20,0,0,0,0,0,1,0,0,0,0,0]},{\"marker\":{\"color\":\"rgba(128, 0, 128, 0.6)\",\"line\":{\"color\":\"rgba(128, 0, 128, 0.8999999999999999)\",\"width\":1}},\"name\":\"received\",\"orientation\":\"v\",\"text\":\"\",\"type\":\"bar\",\"x\":[\"Easypay\",\"Easypay_MA\",\"Payaxis\",\"apg\",\"bankalfalah\",\"cashatdoorstep\",\"cod\",\"customercredit\",\"easypay_voucher\",\"financesettlement\",\"internetbanking\",\"jazzvoucher\",\"jazzwallet\",\"marketingexpense\",\"mcblite\",\"mygateway\",\"productcredit\",\"ublcreditcard\"],\"y\":[8022,1206,8701,305,5164,5,44220,1739,2146,0,0,1988,3416,2,2,0,0,6]},{\"marker\":{\"color\":\"rgba(219, 64, 82, 0.6)\",\"line\":{\"color\":\"rgba(219, 64, 82, 0.8999999999999999)\",\"width\":1}},\"name\":\"refund\",\"orientation\":\"v\",\"text\":\"\",\"type\":\"bar\",\"x\":[\"Easypay\",\"Easypay_MA\",\"Payaxis\",\"apg\",\"bankalfalah\",\"cashatdoorstep\",\"cod\",\"customercredit\",\"easypay_voucher\",\"financesettlement\",\"internetbanking\",\"jazzvoucher\",\"jazzwallet\",\"marketingexpense\",\"mcblite\",\"mygateway\",\"productcredit\",\"ublcreditcard\"],\"y\":[726,144,553,3,114,18,5387,223,240,4,10,117,291,0,11,0,15,8]}],                        {\"height\":500,\"showlegend\":true,\"template\":{\"data\":{\"bar\":[{\"error_x\":{\"color\":\"#2a3f5f\"},\"error_y\":{\"color\":\"#2a3f5f\"},\"marker\":{\"line\":{\"color\":\"#E5ECF6\",\"width\":0.5},\"pattern\":{\"fillmode\":\"overlay\",\"size\":10,\"solidity\":0.2}},\"type\":\"bar\"}],\"barpolar\":[{\"marker\":{\"line\":{\"color\":\"#E5ECF6\",\"width\":0.5},\"pattern\":{\"fillmode\":\"overlay\",\"size\":10,\"solidity\":0.2}},\"type\":\"barpolar\"}],\"carpet\":[{\"aaxis\":{\"endlinecolor\":\"#2a3f5f\",\"gridcolor\":\"white\",\"linecolor\":\"white\",\"minorgridcolor\":\"white\",\"startlinecolor\":\"#2a3f5f\"},\"baxis\":{\"endlinecolor\":\"#2a3f5f\",\"gridcolor\":\"white\",\"linecolor\":\"white\",\"minorgridcolor\":\"white\",\"startlinecolor\":\"#2a3f5f\"},\"type\":\"carpet\"}],\"choropleth\":[{\"colorbar\":{\"outlinewidth\":0,\"ticks\":\"\"},\"type\":\"choropleth\"}],\"contour\":[{\"colorbar\":{\"outlinewidth\":0,\"ticks\":\"\"},\"colorscale\":[[0.0,\"#0d0887\"],[0.1111111111111111,\"#46039f\"],[0.2222222222222222,\"#7201a8\"],[0.3333333333333333,\"#9c179e\"],[0.4444444444444444,\"#bd3786\"],[0.5555555555555556,\"#d8576b\"],[0.6666666666666666,\"#ed7953\"],[0.7777777777777778,\"#fb9f3a\"],[0.8888888888888888,\"#fdca26\"],[1.0,\"#f0f921\"]],\"type\":\"contour\"}],\"contourcarpet\":[{\"colorbar\":{\"outlinewidth\":0,\"ticks\":\"\"},\"type\":\"contourcarpet\"}],\"heatmap\":[{\"colorbar\":{\"outlinewidth\":0,\"ticks\":\"\"},\"colorscale\":[[0.0,\"#0d0887\"],[0.1111111111111111,\"#46039f\"],[0.2222222222222222,\"#7201a8\"],[0.3333333333333333,\"#9c179e\"],[0.4444444444444444,\"#bd3786\"],[0.5555555555555556,\"#d8576b\"],[0.6666666666666666,\"#ed7953\"],[0.7777777777777778,\"#fb9f3a\"],[0.8888888888888888,\"#fdca26\"],[1.0,\"#f0f921\"]],\"type\":\"heatmap\"}],\"heatmapgl\":[{\"colorbar\":{\"outlinewidth\":0,\"ticks\":\"\"},\"colorscale\":[[0.0,\"#0d0887\"],[0.1111111111111111,\"#46039f\"],[0.2222222222222222,\"#7201a8\"],[0.3333333333333333,\"#9c179e\"],[0.4444444444444444,\"#bd3786\"],[0.5555555555555556,\"#d8576b\"],[0.6666666666666666,\"#ed7953\"],[0.7777777777777778,\"#fb9f3a\"],[0.8888888888888888,\"#fdca26\"],[1.0,\"#f0f921\"]],\"type\":\"heatmapgl\"}],\"histogram\":[{\"marker\":{\"pattern\":{\"fillmode\":\"overlay\",\"size\":10,\"solidity\":0.2}},\"type\":\"histogram\"}],\"histogram2d\":[{\"colorbar\":{\"outlinewidth\":0,\"ticks\":\"\"},\"colorscale\":[[0.0,\"#0d0887\"],[0.1111111111111111,\"#46039f\"],[0.2222222222222222,\"#7201a8\"],[0.3333333333333333,\"#9c179e\"],[0.4444444444444444,\"#bd3786\"],[0.5555555555555556,\"#d8576b\"],[0.6666666666666666,\"#ed7953\"],[0.7777777777777778,\"#fb9f3a\"],[0.8888888888888888,\"#fdca26\"],[1.0,\"#f0f921\"]],\"type\":\"histogram2d\"}],\"histogram2dcontour\":[{\"colorbar\":{\"outlinewidth\":0,\"ticks\":\"\"},\"colorscale\":[[0.0,\"#0d0887\"],[0.1111111111111111,\"#46039f\"],[0.2222222222222222,\"#7201a8\"],[0.3333333333333333,\"#9c179e\"],[0.4444444444444444,\"#bd3786\"],[0.5555555555555556,\"#d8576b\"],[0.6666666666666666,\"#ed7953\"],[0.7777777777777778,\"#fb9f3a\"],[0.8888888888888888,\"#fdca26\"],[1.0,\"#f0f921\"]],\"type\":\"histogram2dcontour\"}],\"mesh3d\":[{\"colorbar\":{\"outlinewidth\":0,\"ticks\":\"\"},\"type\":\"mesh3d\"}],\"parcoords\":[{\"line\":{\"colorbar\":{\"outlinewidth\":0,\"ticks\":\"\"}},\"type\":\"parcoords\"}],\"pie\":[{\"automargin\":true,\"type\":\"pie\"}],\"scatter\":[{\"marker\":{\"colorbar\":{\"outlinewidth\":0,\"ticks\":\"\"}},\"type\":\"scatter\"}],\"scatter3d\":[{\"line\":{\"colorbar\":{\"outlinewidth\":0,\"ticks\":\"\"}},\"marker\":{\"colorbar\":{\"outlinewidth\":0,\"ticks\":\"\"}},\"type\":\"scatter3d\"}],\"scattercarpet\":[{\"marker\":{\"colorbar\":{\"outlinewidth\":0,\"ticks\":\"\"}},\"type\":\"scattercarpet\"}],\"scattergeo\":[{\"marker\":{\"colorbar\":{\"outlinewidth\":0,\"ticks\":\"\"}},\"type\":\"scattergeo\"}],\"scattergl\":[{\"marker\":{\"colorbar\":{\"outlinewidth\":0,\"ticks\":\"\"}},\"type\":\"scattergl\"}],\"scattermapbox\":[{\"marker\":{\"colorbar\":{\"outlinewidth\":0,\"ticks\":\"\"}},\"type\":\"scattermapbox\"}],\"scatterpolar\":[{\"marker\":{\"colorbar\":{\"outlinewidth\":0,\"ticks\":\"\"}},\"type\":\"scatterpolar\"}],\"scatterpolargl\":[{\"marker\":{\"colorbar\":{\"outlinewidth\":0,\"ticks\":\"\"}},\"type\":\"scatterpolargl\"}],\"scatterternary\":[{\"marker\":{\"colorbar\":{\"outlinewidth\":0,\"ticks\":\"\"}},\"type\":\"scatterternary\"}],\"surface\":[{\"colorbar\":{\"outlinewidth\":0,\"ticks\":\"\"},\"colorscale\":[[0.0,\"#0d0887\"],[0.1111111111111111,\"#46039f\"],[0.2222222222222222,\"#7201a8\"],[0.3333333333333333,\"#9c179e\"],[0.4444444444444444,\"#bd3786\"],[0.5555555555555556,\"#d8576b\"],[0.6666666666666666,\"#ed7953\"],[0.7777777777777778,\"#fb9f3a\"],[0.8888888888888888,\"#fdca26\"],[1.0,\"#f0f921\"]],\"type\":\"surface\"}],\"table\":[{\"cells\":{\"fill\":{\"color\":\"#EBF0F8\"},\"line\":{\"color\":\"white\"}},\"header\":{\"fill\":{\"color\":\"#C8D4E3\"},\"line\":{\"color\":\"white\"}},\"type\":\"table\"}]},\"layout\":{\"annotationdefaults\":{\"arrowcolor\":\"#2a3f5f\",\"arrowhead\":0,\"arrowwidth\":1},\"autotypenumbers\":\"strict\",\"coloraxis\":{\"colorbar\":{\"outlinewidth\":0,\"ticks\":\"\"}},\"colorscale\":{\"diverging\":[[0,\"#8e0152\"],[0.1,\"#c51b7d\"],[0.2,\"#de77ae\"],[0.3,\"#f1b6da\"],[0.4,\"#fde0ef\"],[0.5,\"#f7f7f7\"],[0.6,\"#e6f5d0\"],[0.7,\"#b8e186\"],[0.8,\"#7fbc41\"],[0.9,\"#4d9221\"],[1,\"#276419\"]],\"sequential\":[[0.0,\"#0d0887\"],[0.1111111111111111,\"#46039f\"],[0.2222222222222222,\"#7201a8\"],[0.3333333333333333,\"#9c179e\"],[0.4444444444444444,\"#bd3786\"],[0.5555555555555556,\"#d8576b\"],[0.6666666666666666,\"#ed7953\"],[0.7777777777777778,\"#fb9f3a\"],[0.8888888888888888,\"#fdca26\"],[1.0,\"#f0f921\"]],\"sequentialminus\":[[0.0,\"#0d0887\"],[0.1111111111111111,\"#46039f\"],[0.2222222222222222,\"#7201a8\"],[0.3333333333333333,\"#9c179e\"],[0.4444444444444444,\"#bd3786\"],[0.5555555555555556,\"#d8576b\"],[0.6666666666666666,\"#ed7953\"],[0.7777777777777778,\"#fb9f3a\"],[0.8888888888888888,\"#fdca26\"],[1.0,\"#f0f921\"]]},\"colorway\":[\"#636efa\",\"#EF553B\",\"#00cc96\",\"#ab63fa\",\"#FFA15A\",\"#19d3f3\",\"#FF6692\",\"#B6E880\",\"#FF97FF\",\"#FECB52\"],\"font\":{\"color\":\"#2a3f5f\"},\"geo\":{\"bgcolor\":\"white\",\"lakecolor\":\"white\",\"landcolor\":\"#E5ECF6\",\"showlakes\":true,\"showland\":true,\"subunitcolor\":\"white\"},\"hoverlabel\":{\"align\":\"left\"},\"hovermode\":\"closest\",\"mapbox\":{\"style\":\"light\"},\"paper_bgcolor\":\"white\",\"plot_bgcolor\":\"#E5ECF6\",\"polar\":{\"angularaxis\":{\"gridcolor\":\"white\",\"linecolor\":\"white\",\"ticks\":\"\"},\"bgcolor\":\"#E5ECF6\",\"radialaxis\":{\"gridcolor\":\"white\",\"linecolor\":\"white\",\"ticks\":\"\"}},\"scene\":{\"xaxis\":{\"backgroundcolor\":\"#E5ECF6\",\"gridcolor\":\"white\",\"gridwidth\":2,\"linecolor\":\"white\",\"showbackground\":true,\"ticks\":\"\",\"zerolinecolor\":\"white\"},\"yaxis\":{\"backgroundcolor\":\"#E5ECF6\",\"gridcolor\":\"white\",\"gridwidth\":2,\"linecolor\":\"white\",\"showbackground\":true,\"ticks\":\"\",\"zerolinecolor\":\"white\"},\"zaxis\":{\"backgroundcolor\":\"#E5ECF6\",\"gridcolor\":\"white\",\"gridwidth\":2,\"linecolor\":\"white\",\"showbackground\":true,\"ticks\":\"\",\"zerolinecolor\":\"white\"}},\"shapedefaults\":{\"line\":{\"color\":\"#2a3f5f\"}},\"ternary\":{\"aaxis\":{\"gridcolor\":\"white\",\"linecolor\":\"white\",\"ticks\":\"\"},\"baxis\":{\"gridcolor\":\"white\",\"linecolor\":\"white\",\"ticks\":\"\"},\"bgcolor\":\"#E5ECF6\",\"caxis\":{\"gridcolor\":\"white\",\"linecolor\":\"white\",\"ticks\":\"\"}},\"title\":{\"x\":0.05},\"xaxis\":{\"automargin\":true,\"gridcolor\":\"white\",\"linecolor\":\"white\",\"ticks\":\"\",\"title\":{\"standoff\":15},\"zerolinecolor\":\"white\",\"zerolinewidth\":2},\"yaxis\":{\"automargin\":true,\"gridcolor\":\"white\",\"linecolor\":\"white\",\"ticks\":\"\",\"title\":{\"standoff\":15},\"zerolinecolor\":\"white\",\"zerolinewidth\":2}}},\"title\":{\"text\":\"Payment Methods/Status\"},\"width\":1000,\"xaxis\":{\"title\":{\"text\":\"Payment Methods\"}},\"yaxis\":{\"title\":{\"text\":\"Count\"}}},                        {\"showLink\": true, \"linkText\": \"Export to plot.ly\", \"plotlyServerURL\": \"https://plot.ly\", \"responsive\": true}                    ).then(function(){\n",
       "                            \n",
       "var gd = document.getElementById('3d3aedd6-aed7-4e9b-8f51-2ccbff4ec6e3');\n",
       "var x = new MutationObserver(function (mutations, observer) {{\n",
       "        var display = window.getComputedStyle(gd).display;\n",
       "        if (!display || display === 'none') {{\n",
       "            console.log([gd, 'removed!']);\n",
       "            Plotly.purge(gd);\n",
       "            observer.disconnect();\n",
       "        }}\n",
       "}});\n",
       "\n",
       "// Listen for the removal of the full notebook cells\n",
       "var notebookContainer = gd.closest('#notebook-container');\n",
       "if (notebookContainer) {{\n",
       "    x.observe(notebookContainer, {childList: true});\n",
       "}}\n",
       "\n",
       "// Listen for the clearing of the current output cell\n",
       "var outputEl = gd.closest('.output');\n",
       "if (outputEl) {{\n",
       "    x.observe(outputEl, {childList: true});\n",
       "}}\n",
       "\n",
       "                        })                };                });            </script>        </div>"
      ]
     },
     "metadata": {},
     "output_type": "display_data"
    }
   ],
   "source": [
    "layout = go.Layout(title = \"Payment Methods/Status\", \n",
    "                   xaxis = {'title': 'Payment Methods'}, \n",
    "                   yaxis = {'title': 'Count'}, \n",
    "                   showlegend = True, \n",
    "                   width = 1000, \n",
    "                   height = 500,)\n",
    "\n",
    "payment_method_status.iplot(kind = 'bar', layout = layout) \n",
    "\n",
    "# colorscale = Greens, Greys,YlGnBu,Greens,YlOrRd,Bluered,RdBu,Reds,Bl ues,Picnic,Rainbow,Portland,Jet,Hot,Blackbody,Earth,Electric,Vi ridis,Cividis.\n"
   ]
  },
  {
   "cell_type": "code",
   "execution_count": 51,
   "id": "d534044c-cb8d-4dda-964c-21807636e8f3",
   "metadata": {},
   "outputs": [],
   "source": [
    "# import plotly.express as px\n",
    "# fig = px.bar(payment_method_status)\n",
    "# fig.update_xaxes(title = 'Payment Method', title_font = dict(size = 18, family = 'Courier', color = 'crimson'))\n",
    "# fig.update_yaxes(title = 'Count', title_font = dict(size = 18, family = 'Courier', color = 'crimson'))\n",
    "# fig.\n",
    "# fig.show()"
   ]
  },
  {
   "cell_type": "markdown",
   "id": "6b2b895d-500b-4d22-a2f5-78ff113d7775",
   "metadata": {},
   "source": [
    "# Task 3: Correlation between Payment Method and Order Status"
   ]
  },
  {
   "cell_type": "code",
   "execution_count": 52,
   "id": "597941dc-f682-4a38-9ac5-6bf2a4ea3f06",
   "metadata": {},
   "outputs": [
    {
     "data": {
      "image/png": "[encoded data removed]",
      "text/plain": [
       "<Figure size 1008x504 with 2 Axes>"
      ]
     },
     "metadata": {},
     "output_type": "display_data"
    }
   ],
   "source": [
    "plt.figure(figsize = (14, 7))\n",
    "sns.set_theme(context = 'notebook', style = 'darkgrid', palette = 'bright', font = 'sans-serif', font_scale = 1, color_codes = True, rc = None)\n",
    "\n",
    "sns.heatmap(payment_method_status, \n",
    "            cmap = 'coolwarm', \n",
    "            robust = True, \n",
    "            annot = True, \n",
    "            annot_kws = {'size':13}, \n",
    "            fmt = \".0f\", \n",
    "            linecolor = 'white', \n",
    "            linewidths = 1, \n",
    "            cbar = True, \n",
    "            square = False,\n",
    "            xticklabels = True,\n",
    "            yticklabels = True) \n",
    "\n",
    "plt.xlabel(\"Status\")\n",
    "plt.ylabel(\"Payment Methods\")\n",
    "plt.text(0,-1, \"Heat Map\", fontsize = 25, color = 'Black', fontstyle = 'italic')\n",
    "plt.show()"
   ]
  },
  {
   "cell_type": "markdown",
   "id": "a632813e-8015-424d-bddc-40769ee252b2",
   "metadata": {},
   "source": [
    "# Task 4:  Find Correlation Between Order Date and Item Category"
   ]
  },
  {
   "cell_type": "code",
   "execution_count": 53,
   "id": "c510bc7e-9546-4843-b7ae-03ad9ebdc9e6",
   "metadata": {},
   "outputs": [],
   "source": [
    "#df[df['Year'] ==  2016][['category_name_1', 'Month']].sort_values(by = 'Month', ascending = True)"
   ]
  },
  {
   "cell_type": "code",
   "execution_count": 54,
   "id": "a33c36af-833b-429c-8b08-7dadc13da576",
   "metadata": {},
   "outputs": [
    {
     "data": {
      "text/html": [
       "<div>\n",
       "<style scoped>\n",
       "    .dataframe tbody tr th:only-of-type {\n",
       "        vertical-align: middle;\n",
       "    }\n",
       "\n",
       "    .dataframe tbody tr th {\n",
       "        vertical-align: top;\n",
       "    }\n",
       "\n",
       "    .dataframe thead th {\n",
       "        text-align: right;\n",
       "    }\n",
       "</style>\n",
       "<table border=\"1\" class=\"dataframe\">\n",
       "  <thead>\n",
       "    <tr style=\"text-align: right;\">\n",
       "      <th></th>\n",
       "      <th>category_name_1</th>\n",
       "      <th>Year</th>\n",
       "      <th>Month</th>\n",
       "    </tr>\n",
       "  </thead>\n",
       "  <tbody>\n",
       "    <tr>\n",
       "      <th>0</th>\n",
       "      <td>Women's Fashion</td>\n",
       "      <td>2016</td>\n",
       "      <td>7</td>\n",
       "    </tr>\n",
       "    <tr>\n",
       "      <th>1</th>\n",
       "      <td>Beauty &amp; Grooming</td>\n",
       "      <td>2016</td>\n",
       "      <td>7</td>\n",
       "    </tr>\n",
       "    <tr>\n",
       "      <th>2</th>\n",
       "      <td>Women's Fashion</td>\n",
       "      <td>2016</td>\n",
       "      <td>7</td>\n",
       "    </tr>\n",
       "    <tr>\n",
       "      <th>3</th>\n",
       "      <td>Beauty &amp; Grooming</td>\n",
       "      <td>2016</td>\n",
       "      <td>7</td>\n",
       "    </tr>\n",
       "    <tr>\n",
       "      <th>4</th>\n",
       "      <td>Soghaat</td>\n",
       "      <td>2016</td>\n",
       "      <td>7</td>\n",
       "    </tr>\n",
       "    <tr>\n",
       "      <th>...</th>\n",
       "      <td>...</td>\n",
       "      <td>...</td>\n",
       "      <td>...</td>\n",
       "    </tr>\n",
       "    <tr>\n",
       "      <th>584519</th>\n",
       "      <td>Women's Fashion</td>\n",
       "      <td>2018</td>\n",
       "      <td>8</td>\n",
       "    </tr>\n",
       "    <tr>\n",
       "      <th>584520</th>\n",
       "      <td>Mobiles &amp; Tablets</td>\n",
       "      <td>2018</td>\n",
       "      <td>8</td>\n",
       "    </tr>\n",
       "    <tr>\n",
       "      <th>584521</th>\n",
       "      <td>Mobiles &amp; Tablets</td>\n",
       "      <td>2018</td>\n",
       "      <td>8</td>\n",
       "    </tr>\n",
       "    <tr>\n",
       "      <th>584522</th>\n",
       "      <td>Mobiles &amp; Tablets</td>\n",
       "      <td>2018</td>\n",
       "      <td>8</td>\n",
       "    </tr>\n",
       "    <tr>\n",
       "      <th>584523</th>\n",
       "      <td>Mobiles &amp; Tablets</td>\n",
       "      <td>2018</td>\n",
       "      <td>8</td>\n",
       "    </tr>\n",
       "  </tbody>\n",
       "</table>\n",
       "<p>582100 rows × 3 columns</p>\n",
       "</div>"
      ],
      "text/plain": [
       "          category_name_1  Year  Month\n",
       "0         Women's Fashion  2016      7\n",
       "1       Beauty & Grooming  2016      7\n",
       "2         Women's Fashion  2016      7\n",
       "3       Beauty & Grooming  2016      7\n",
       "4                 Soghaat  2016      7\n",
       "...                   ...   ...    ...\n",
       "584519    Women's Fashion  2018      8\n",
       "584520  Mobiles & Tablets  2018      8\n",
       "584521  Mobiles & Tablets  2018      8\n",
       "584522  Mobiles & Tablets  2018      8\n",
       "584523  Mobiles & Tablets  2018      8\n",
       "\n",
       "[582100 rows x 3 columns]"
      ]
     },
     "execution_count": 54,
     "metadata": {},
     "output_type": "execute_result"
    }
   ],
   "source": [
    "df_cat_orderDate = pd.DataFrame(df[['category_name_1', 'Year', 'Month']])\n",
    "df_cat_orderDate = df_cat_orderDate.sort_values(by = ['Year', 'Month'])\n",
    "df_cat_orderDate"
   ]
  },
  {
   "cell_type": "code",
   "execution_count": 55,
   "id": "b742c1db-400c-49cb-bf39-699173858b90",
   "metadata": {},
   "outputs": [
    {
     "data": {
      "text/html": [
       "<div>\n",
       "<style scoped>\n",
       "    .dataframe tbody tr th:only-of-type {\n",
       "        vertical-align: middle;\n",
       "    }\n",
       "\n",
       "    .dataframe tbody tr th {\n",
       "        vertical-align: top;\n",
       "    }\n",
       "\n",
       "    .dataframe thead th {\n",
       "        text-align: right;\n",
       "    }\n",
       "</style>\n",
       "<table border=\"1\" class=\"dataframe\">\n",
       "  <thead>\n",
       "    <tr style=\"text-align: right;\">\n",
       "      <th>Order_Date</th>\n",
       "      <th>2016-10</th>\n",
       "      <th>2016-11</th>\n",
       "      <th>2016-12</th>\n",
       "      <th>2016-7</th>\n",
       "      <th>2016-8</th>\n",
       "      <th>2016-9</th>\n",
       "      <th>2017-1</th>\n",
       "      <th>2017-10</th>\n",
       "      <th>2017-11</th>\n",
       "      <th>2017-12</th>\n",
       "      <th>2017-2</th>\n",
       "      <th>2017-3</th>\n",
       "      <th>2017-4</th>\n",
       "      <th>2017-5</th>\n",
       "      <th>2017-6</th>\n",
       "      <th>2017-7</th>\n",
       "      <th>2017-8</th>\n",
       "      <th>2017-9</th>\n",
       "      <th>2018-1</th>\n",
       "      <th>2018-2</th>\n",
       "      <th>2018-3</th>\n",
       "      <th>2018-4</th>\n",
       "      <th>2018-5</th>\n",
       "      <th>2018-6</th>\n",
       "      <th>2018-7</th>\n",
       "      <th>2018-8</th>\n",
       "      <th>All</th>\n",
       "    </tr>\n",
       "    <tr>\n",
       "      <th>category_name_1</th>\n",
       "      <th></th>\n",
       "      <th></th>\n",
       "      <th></th>\n",
       "      <th></th>\n",
       "      <th></th>\n",
       "      <th></th>\n",
       "      <th></th>\n",
       "      <th></th>\n",
       "      <th></th>\n",
       "      <th></th>\n",
       "      <th></th>\n",
       "      <th></th>\n",
       "      <th></th>\n",
       "      <th></th>\n",
       "      <th></th>\n",
       "      <th></th>\n",
       "      <th></th>\n",
       "      <th></th>\n",
       "      <th></th>\n",
       "      <th></th>\n",
       "      <th></th>\n",
       "      <th></th>\n",
       "      <th></th>\n",
       "      <th></th>\n",
       "      <th></th>\n",
       "      <th></th>\n",
       "      <th></th>\n",
       "    </tr>\n",
       "  </thead>\n",
       "  <tbody>\n",
       "    <tr>\n",
       "      <th>Appliances</th>\n",
       "      <td>616</td>\n",
       "      <td>6279</td>\n",
       "      <td>860</td>\n",
       "      <td>378</td>\n",
       "      <td>339</td>\n",
       "      <td>1226</td>\n",
       "      <td>636</td>\n",
       "      <td>671</td>\n",
       "      <td>14495</td>\n",
       "      <td>1751</td>\n",
       "      <td>314</td>\n",
       "      <td>1452</td>\n",
       "      <td>890</td>\n",
       "      <td>3338</td>\n",
       "      <td>1044</td>\n",
       "      <td>639</td>\n",
       "      <td>1423</td>\n",
       "      <td>400</td>\n",
       "      <td>1237</td>\n",
       "      <td>2926</td>\n",
       "      <td>2895</td>\n",
       "      <td>986</td>\n",
       "      <td>4274</td>\n",
       "      <td>1341</td>\n",
       "      <td>806</td>\n",
       "      <td>1105</td>\n",
       "      <td>52321</td>\n",
       "    </tr>\n",
       "    <tr>\n",
       "      <th>Beauty &amp; Grooming</th>\n",
       "      <td>1388</td>\n",
       "      <td>5754</td>\n",
       "      <td>1080</td>\n",
       "      <td>2425</td>\n",
       "      <td>1846</td>\n",
       "      <td>1405</td>\n",
       "      <td>880</td>\n",
       "      <td>1089</td>\n",
       "      <td>5003</td>\n",
       "      <td>1833</td>\n",
       "      <td>685</td>\n",
       "      <td>1239</td>\n",
       "      <td>1265</td>\n",
       "      <td>1382</td>\n",
       "      <td>1482</td>\n",
       "      <td>1178</td>\n",
       "      <td>1660</td>\n",
       "      <td>696</td>\n",
       "      <td>1262</td>\n",
       "      <td>1098</td>\n",
       "      <td>1267</td>\n",
       "      <td>873</td>\n",
       "      <td>1685</td>\n",
       "      <td>1191</td>\n",
       "      <td>780</td>\n",
       "      <td>958</td>\n",
       "      <td>41404</td>\n",
       "    </tr>\n",
       "    <tr>\n",
       "      <th>Books</th>\n",
       "      <td>73</td>\n",
       "      <td>89</td>\n",
       "      <td>52</td>\n",
       "      <td>22</td>\n",
       "      <td>165</td>\n",
       "      <td>37</td>\n",
       "      <td>39</td>\n",
       "      <td>22</td>\n",
       "      <td>44</td>\n",
       "      <td>7</td>\n",
       "      <td>43</td>\n",
       "      <td>97</td>\n",
       "      <td>53</td>\n",
       "      <td>40</td>\n",
       "      <td>63</td>\n",
       "      <td>45</td>\n",
       "      <td>36</td>\n",
       "      <td>24</td>\n",
       "      <td>16</td>\n",
       "      <td>12</td>\n",
       "      <td>36</td>\n",
       "      <td>43</td>\n",
       "      <td>28</td>\n",
       "      <td>36</td>\n",
       "      <td>33</td>\n",
       "      <td>37</td>\n",
       "      <td>1192</td>\n",
       "    </tr>\n",
       "    <tr>\n",
       "      <th>Computing</th>\n",
       "      <td>237</td>\n",
       "      <td>2616</td>\n",
       "      <td>317</td>\n",
       "      <td>214</td>\n",
       "      <td>203</td>\n",
       "      <td>487</td>\n",
       "      <td>292</td>\n",
       "      <td>677</td>\n",
       "      <td>2635</td>\n",
       "      <td>437</td>\n",
       "      <td>194</td>\n",
       "      <td>448</td>\n",
       "      <td>343</td>\n",
       "      <td>889</td>\n",
       "      <td>305</td>\n",
       "      <td>568</td>\n",
       "      <td>726</td>\n",
       "      <td>170</td>\n",
       "      <td>370</td>\n",
       "      <td>677</td>\n",
       "      <td>871</td>\n",
       "      <td>312</td>\n",
       "      <td>821</td>\n",
       "      <td>402</td>\n",
       "      <td>318</td>\n",
       "      <td>373</td>\n",
       "      <td>15902</td>\n",
       "    </tr>\n",
       "    <tr>\n",
       "      <th>Entertainment</th>\n",
       "      <td>291</td>\n",
       "      <td>1892</td>\n",
       "      <td>333</td>\n",
       "      <td>64</td>\n",
       "      <td>91</td>\n",
       "      <td>851</td>\n",
       "      <td>267</td>\n",
       "      <td>1312</td>\n",
       "      <td>5654</td>\n",
       "      <td>289</td>\n",
       "      <td>200</td>\n",
       "      <td>691</td>\n",
       "      <td>371</td>\n",
       "      <td>1963</td>\n",
       "      <td>453</td>\n",
       "      <td>571</td>\n",
       "      <td>951</td>\n",
       "      <td>456</td>\n",
       "      <td>485</td>\n",
       "      <td>2605</td>\n",
       "      <td>2058</td>\n",
       "      <td>284</td>\n",
       "      <td>2192</td>\n",
       "      <td>483</td>\n",
       "      <td>410</td>\n",
       "      <td>1101</td>\n",
       "      <td>26318</td>\n",
       "    </tr>\n",
       "    <tr>\n",
       "      <th>Health &amp; Sports</th>\n",
       "      <td>532</td>\n",
       "      <td>1972</td>\n",
       "      <td>671</td>\n",
       "      <td>181</td>\n",
       "      <td>371</td>\n",
       "      <td>433</td>\n",
       "      <td>511</td>\n",
       "      <td>307</td>\n",
       "      <td>1054</td>\n",
       "      <td>321</td>\n",
       "      <td>561</td>\n",
       "      <td>495</td>\n",
       "      <td>490</td>\n",
       "      <td>1286</td>\n",
       "      <td>532</td>\n",
       "      <td>533</td>\n",
       "      <td>555</td>\n",
       "      <td>289</td>\n",
       "      <td>483</td>\n",
       "      <td>630</td>\n",
       "      <td>1031</td>\n",
       "      <td>965</td>\n",
       "      <td>1275</td>\n",
       "      <td>821</td>\n",
       "      <td>785</td>\n",
       "      <td>417</td>\n",
       "      <td>17501</td>\n",
       "    </tr>\n",
       "    <tr>\n",
       "      <th>Home &amp; Living</th>\n",
       "      <td>619</td>\n",
       "      <td>2984</td>\n",
       "      <td>451</td>\n",
       "      <td>389</td>\n",
       "      <td>427</td>\n",
       "      <td>760</td>\n",
       "      <td>358</td>\n",
       "      <td>472</td>\n",
       "      <td>6022</td>\n",
       "      <td>957</td>\n",
       "      <td>724</td>\n",
       "      <td>1014</td>\n",
       "      <td>952</td>\n",
       "      <td>1555</td>\n",
       "      <td>768</td>\n",
       "      <td>763</td>\n",
       "      <td>832</td>\n",
       "      <td>341</td>\n",
       "      <td>728</td>\n",
       "      <td>1173</td>\n",
       "      <td>808</td>\n",
       "      <td>723</td>\n",
       "      <td>808</td>\n",
       "      <td>596</td>\n",
       "      <td>595</td>\n",
       "      <td>585</td>\n",
       "      <td>26404</td>\n",
       "    </tr>\n",
       "    <tr>\n",
       "      <th>Kids &amp; Baby</th>\n",
       "      <td>578</td>\n",
       "      <td>1116</td>\n",
       "      <td>591</td>\n",
       "      <td>160</td>\n",
       "      <td>509</td>\n",
       "      <td>461</td>\n",
       "      <td>497</td>\n",
       "      <td>384</td>\n",
       "      <td>1802</td>\n",
       "      <td>635</td>\n",
       "      <td>360</td>\n",
       "      <td>758</td>\n",
       "      <td>660</td>\n",
       "      <td>1380</td>\n",
       "      <td>1125</td>\n",
       "      <td>1150</td>\n",
       "      <td>683</td>\n",
       "      <td>229</td>\n",
       "      <td>422</td>\n",
       "      <td>760</td>\n",
       "      <td>422</td>\n",
       "      <td>480</td>\n",
       "      <td>432</td>\n",
       "      <td>307</td>\n",
       "      <td>283</td>\n",
       "      <td>257</td>\n",
       "      <td>16441</td>\n",
       "    </tr>\n",
       "    <tr>\n",
       "      <th>Men's Fashion</th>\n",
       "      <td>1954</td>\n",
       "      <td>15719</td>\n",
       "      <td>2840</td>\n",
       "      <td>1003</td>\n",
       "      <td>2587</td>\n",
       "      <td>1264</td>\n",
       "      <td>2022</td>\n",
       "      <td>2267</td>\n",
       "      <td>16280</td>\n",
       "      <td>2931</td>\n",
       "      <td>2079</td>\n",
       "      <td>2554</td>\n",
       "      <td>3284</td>\n",
       "      <td>6809</td>\n",
       "      <td>3935</td>\n",
       "      <td>1942</td>\n",
       "      <td>3681</td>\n",
       "      <td>1632</td>\n",
       "      <td>1573</td>\n",
       "      <td>3658</td>\n",
       "      <td>3417</td>\n",
       "      <td>1681</td>\n",
       "      <td>2168</td>\n",
       "      <td>1774</td>\n",
       "      <td>1246</td>\n",
       "      <td>1506</td>\n",
       "      <td>91806</td>\n",
       "    </tr>\n",
       "    <tr>\n",
       "      <th>Mobiles &amp; Tablets</th>\n",
       "      <td>1724</td>\n",
       "      <td>11837</td>\n",
       "      <td>2786</td>\n",
       "      <td>820</td>\n",
       "      <td>1792</td>\n",
       "      <td>3318</td>\n",
       "      <td>3045</td>\n",
       "      <td>3956</td>\n",
       "      <td>19385</td>\n",
       "      <td>2393</td>\n",
       "      <td>3124</td>\n",
       "      <td>4218</td>\n",
       "      <td>3539</td>\n",
       "      <td>5876</td>\n",
       "      <td>2720</td>\n",
       "      <td>5058</td>\n",
       "      <td>4254</td>\n",
       "      <td>1967</td>\n",
       "      <td>2654</td>\n",
       "      <td>5737</td>\n",
       "      <td>5914</td>\n",
       "      <td>2217</td>\n",
       "      <td>7350</td>\n",
       "      <td>3757</td>\n",
       "      <td>3443</td>\n",
       "      <td>2512</td>\n",
       "      <td>115396</td>\n",
       "    </tr>\n",
       "    <tr>\n",
       "      <th>Others</th>\n",
       "      <td>163</td>\n",
       "      <td>1117</td>\n",
       "      <td>89</td>\n",
       "      <td>35</td>\n",
       "      <td>54</td>\n",
       "      <td>355</td>\n",
       "      <td>120</td>\n",
       "      <td>1600</td>\n",
       "      <td>342</td>\n",
       "      <td>103</td>\n",
       "      <td>109</td>\n",
       "      <td>141</td>\n",
       "      <td>102</td>\n",
       "      <td>202</td>\n",
       "      <td>290</td>\n",
       "      <td>202</td>\n",
       "      <td>106</td>\n",
       "      <td>54</td>\n",
       "      <td>78</td>\n",
       "      <td>4017</td>\n",
       "      <td>19237</td>\n",
       "      <td>187</td>\n",
       "      <td>259</td>\n",
       "      <td>96</td>\n",
       "      <td>65</td>\n",
       "      <td>65</td>\n",
       "      <td>29188</td>\n",
       "    </tr>\n",
       "    <tr>\n",
       "      <th>School &amp; Education</th>\n",
       "      <td>177</td>\n",
       "      <td>311</td>\n",
       "      <td>203</td>\n",
       "      <td>177</td>\n",
       "      <td>241</td>\n",
       "      <td>94</td>\n",
       "      <td>162</td>\n",
       "      <td>52</td>\n",
       "      <td>143</td>\n",
       "      <td>32</td>\n",
       "      <td>71</td>\n",
       "      <td>224</td>\n",
       "      <td>147</td>\n",
       "      <td>88</td>\n",
       "      <td>104</td>\n",
       "      <td>209</td>\n",
       "      <td>186</td>\n",
       "      <td>75</td>\n",
       "      <td>77</td>\n",
       "      <td>143</td>\n",
       "      <td>158</td>\n",
       "      <td>75</td>\n",
       "      <td>78</td>\n",
       "      <td>74</td>\n",
       "      <td>91</td>\n",
       "      <td>86</td>\n",
       "      <td>3478</td>\n",
       "    </tr>\n",
       "    <tr>\n",
       "      <th>Soghaat</th>\n",
       "      <td>2754</td>\n",
       "      <td>6382</td>\n",
       "      <td>1748</td>\n",
       "      <td>1746</td>\n",
       "      <td>1843</td>\n",
       "      <td>1771</td>\n",
       "      <td>1706</td>\n",
       "      <td>642</td>\n",
       "      <td>1064</td>\n",
       "      <td>908</td>\n",
       "      <td>1029</td>\n",
       "      <td>1183</td>\n",
       "      <td>1155</td>\n",
       "      <td>1954</td>\n",
       "      <td>1364</td>\n",
       "      <td>1040</td>\n",
       "      <td>1159</td>\n",
       "      <td>532</td>\n",
       "      <td>661</td>\n",
       "      <td>328</td>\n",
       "      <td>339</td>\n",
       "      <td>340</td>\n",
       "      <td>1197</td>\n",
       "      <td>642</td>\n",
       "      <td>257</td>\n",
       "      <td>257</td>\n",
       "      <td>34001</td>\n",
       "    </tr>\n",
       "    <tr>\n",
       "      <th>Superstore</th>\n",
       "      <td>242</td>\n",
       "      <td>4889</td>\n",
       "      <td>237</td>\n",
       "      <td>12</td>\n",
       "      <td>251</td>\n",
       "      <td>993</td>\n",
       "      <td>1012</td>\n",
       "      <td>1825</td>\n",
       "      <td>2089</td>\n",
       "      <td>662</td>\n",
       "      <td>677</td>\n",
       "      <td>361</td>\n",
       "      <td>5580</td>\n",
       "      <td>2626</td>\n",
       "      <td>3159</td>\n",
       "      <td>3581</td>\n",
       "      <td>5043</td>\n",
       "      <td>339</td>\n",
       "      <td>952</td>\n",
       "      <td>1101</td>\n",
       "      <td>1178</td>\n",
       "      <td>639</td>\n",
       "      <td>2340</td>\n",
       "      <td>1711</td>\n",
       "      <td>700</td>\n",
       "      <td>1240</td>\n",
       "      <td>43439</td>\n",
       "    </tr>\n",
       "    <tr>\n",
       "      <th>Women's Fashion</th>\n",
       "      <td>966</td>\n",
       "      <td>5710</td>\n",
       "      <td>885</td>\n",
       "      <td>469</td>\n",
       "      <td>628</td>\n",
       "      <td>967</td>\n",
       "      <td>1282</td>\n",
       "      <td>2132</td>\n",
       "      <td>7615</td>\n",
       "      <td>2267</td>\n",
       "      <td>1488</td>\n",
       "      <td>4432</td>\n",
       "      <td>2668</td>\n",
       "      <td>4941</td>\n",
       "      <td>1840</td>\n",
       "      <td>1565</td>\n",
       "      <td>3576</td>\n",
       "      <td>1214</td>\n",
       "      <td>1691</td>\n",
       "      <td>1962</td>\n",
       "      <td>2124</td>\n",
       "      <td>2252</td>\n",
       "      <td>2812</td>\n",
       "      <td>1420</td>\n",
       "      <td>1207</td>\n",
       "      <td>1374</td>\n",
       "      <td>59487</td>\n",
       "    </tr>\n",
       "    <tr>\n",
       "      <th>\\N</th>\n",
       "      <td>805</td>\n",
       "      <td>2815</td>\n",
       "      <td>282</td>\n",
       "      <td>731</td>\n",
       "      <td>177</td>\n",
       "      <td>1010</td>\n",
       "      <td>341</td>\n",
       "      <td>2</td>\n",
       "      <td>99</td>\n",
       "      <td>14</td>\n",
       "      <td>202</td>\n",
       "      <td>221</td>\n",
       "      <td>176</td>\n",
       "      <td>322</td>\n",
       "      <td>267</td>\n",
       "      <td>151</td>\n",
       "      <td>199</td>\n",
       "      <td>8</td>\n",
       "      <td>0</td>\n",
       "      <td>0</td>\n",
       "      <td>0</td>\n",
       "      <td>0</td>\n",
       "      <td>0</td>\n",
       "      <td>0</td>\n",
       "      <td>0</td>\n",
       "      <td>0</td>\n",
       "      <td>7822</td>\n",
       "    </tr>\n",
       "    <tr>\n",
       "      <th>All</th>\n",
       "      <td>13119</td>\n",
       "      <td>71482</td>\n",
       "      <td>13425</td>\n",
       "      <td>8826</td>\n",
       "      <td>11524</td>\n",
       "      <td>15432</td>\n",
       "      <td>13170</td>\n",
       "      <td>17410</td>\n",
       "      <td>83726</td>\n",
       "      <td>15540</td>\n",
       "      <td>11860</td>\n",
       "      <td>19528</td>\n",
       "      <td>21675</td>\n",
       "      <td>34651</td>\n",
       "      <td>19451</td>\n",
       "      <td>19195</td>\n",
       "      <td>25070</td>\n",
       "      <td>8426</td>\n",
       "      <td>12689</td>\n",
       "      <td>26827</td>\n",
       "      <td>41755</td>\n",
       "      <td>12057</td>\n",
       "      <td>27719</td>\n",
       "      <td>14651</td>\n",
       "      <td>11019</td>\n",
       "      <td>11873</td>\n",
       "      <td>582100</td>\n",
       "    </tr>\n",
       "  </tbody>\n",
       "</table>\n",
       "</div>"
      ],
      "text/plain": [
       "Order_Date          2016-10  2016-11  2016-12  2016-7  2016-8  2016-9  2017-1  \\\n",
       "category_name_1                                                                 \n",
       "Appliances              616     6279      860     378     339    1226     636   \n",
       "Beauty & Grooming      1388     5754     1080    2425    1846    1405     880   \n",
       "Books                    73       89       52      22     165      37      39   \n",
       "Computing               237     2616      317     214     203     487     292   \n",
       "Entertainment           291     1892      333      64      91     851     267   \n",
       "Health & Sports         532     1972      671     181     371     433     511   \n",
       "Home & Living           619     2984      451     389     427     760     358   \n",
       "Kids & Baby             578     1116      591     160     509     461     497   \n",
       "Men's Fashion          1954    15719     2840    1003    2587    1264    2022   \n",
       "Mobiles & Tablets      1724    11837     2786     820    1792    3318    3045   \n",
       "Others                  163     1117       89      35      54     355     120   \n",
       "School & Education      177      311      203     177     241      94     162   \n",
       "Soghaat                2754     6382     1748    1746    1843    1771    1706   \n",
       "Superstore              242     4889      237      12     251     993    1012   \n",
       "Women's Fashion         966     5710      885     469     628     967    1282   \n",
       "\\N                      805     2815      282     731     177    1010     341   \n",
       "All                   13119    71482    13425    8826   11524   15432   13170   \n",
       "\n",
       "Order_Date          2017-10  2017-11  2017-12  2017-2  2017-3  2017-4  2017-5  \\\n",
       "category_name_1                                                                 \n",
       "Appliances              671    14495     1751     314    1452     890    3338   \n",
       "Beauty & Grooming      1089     5003     1833     685    1239    1265    1382   \n",
       "Books                    22       44        7      43      97      53      40   \n",
       "Computing               677     2635      437     194     448     343     889   \n",
       "Entertainment          1312     5654      289     200     691     371    1963   \n",
       "Health & Sports         307     1054      321     561     495     490    1286   \n",
       "Home & Living           472     6022      957     724    1014     952    1555   \n",
       "Kids & Baby             384     1802      635     360     758     660    1380   \n",
       "Men's Fashion          2267    16280     2931    2079    2554    3284    6809   \n",
       "Mobiles & Tablets      3956    19385     2393    3124    4218    3539    5876   \n",
       "Others                 1600      342      103     109     141     102     202   \n",
       "School & Education       52      143       32      71     224     147      88   \n",
       "Soghaat                 642     1064      908    1029    1183    1155    1954   \n",
       "Superstore             1825     2089      662     677     361    5580    2626   \n",
       "Women's Fashion        2132     7615     2267    1488    4432    2668    4941   \n",
       "\\N                        2       99       14     202     221     176     322   \n",
       "All                   17410    83726    15540   11860   19528   21675   34651   \n",
       "\n",
       "Order_Date          2017-6  2017-7  2017-8  2017-9  2018-1  2018-2  2018-3  \\\n",
       "category_name_1                                                              \n",
       "Appliances            1044     639    1423     400    1237    2926    2895   \n",
       "Beauty & Grooming     1482    1178    1660     696    1262    1098    1267   \n",
       "Books                   63      45      36      24      16      12      36   \n",
       "Computing              305     568     726     170     370     677     871   \n",
       "Entertainment          453     571     951     456     485    2605    2058   \n",
       "Health & Sports        532     533     555     289     483     630    1031   \n",
       "Home & Living          768     763     832     341     728    1173     808   \n",
       "Kids & Baby           1125    1150     683     229     422     760     422   \n",
       "Men's Fashion         3935    1942    3681    1632    1573    3658    3417   \n",
       "Mobiles & Tablets     2720    5058    4254    1967    2654    5737    5914   \n",
       "Others                 290     202     106      54      78    4017   19237   \n",
       "School & Education     104     209     186      75      77     143     158   \n",
       "Soghaat               1364    1040    1159     532     661     328     339   \n",
       "Superstore            3159    3581    5043     339     952    1101    1178   \n",
       "Women's Fashion       1840    1565    3576    1214    1691    1962    2124   \n",
       "\\N                     267     151     199       8       0       0       0   \n",
       "All                  19451   19195   25070    8426   12689   26827   41755   \n",
       "\n",
       "Order_Date          2018-4  2018-5  2018-6  2018-7  2018-8     All  \n",
       "category_name_1                                                     \n",
       "Appliances             986    4274    1341     806    1105   52321  \n",
       "Beauty & Grooming      873    1685    1191     780     958   41404  \n",
       "Books                   43      28      36      33      37    1192  \n",
       "Computing              312     821     402     318     373   15902  \n",
       "Entertainment          284    2192     483     410    1101   26318  \n",
       "Health & Sports        965    1275     821     785     417   17501  \n",
       "Home & Living          723     808     596     595     585   26404  \n",
       "Kids & Baby            480     432     307     283     257   16441  \n",
       "Men's Fashion         1681    2168    1774    1246    1506   91806  \n",
       "Mobiles & Tablets     2217    7350    3757    3443    2512  115396  \n",
       "Others                 187     259      96      65      65   29188  \n",
       "School & Education      75      78      74      91      86    3478  \n",
       "Soghaat                340    1197     642     257     257   34001  \n",
       "Superstore             639    2340    1711     700    1240   43439  \n",
       "Women's Fashion       2252    2812    1420    1207    1374   59487  \n",
       "\\N                       0       0       0       0       0    7822  \n",
       "All                  12057   27719   14651   11019   11873  582100  "
      ]
     },
     "execution_count": 55,
     "metadata": {},
     "output_type": "execute_result"
    }
   ],
   "source": [
    "df_cat_orderDate['Year'] =  df_cat_orderDate['Year'].apply(lambda x: str(x))\n",
    "df_cat_orderDate['Month'] = df_cat_orderDate['Month'].apply(lambda x: str(x))\n",
    "\n",
    "df_cat_orderDate['Order_Date'] = df_cat_orderDate['Year'] + \"-\" + df_cat_orderDate['Month']\n",
    "df_cat_orderDate = pd.crosstab(df_cat_orderDate.category_name_1, df_cat_orderDate.Order_Date, margins = True)\n",
    "df_cat_orderDate"
   ]
  },
  {
   "cell_type": "code",
   "execution_count": 56,
   "id": "347581a6-d809-46e5-ad01-336385dc256a",
   "metadata": {},
   "outputs": [
    {
     "data": {
      "image/png": "[encoded data removed]",
      "text/plain": [
       "<Figure size 1440x504 with 2 Axes>"
      ]
     },
     "metadata": {},
     "output_type": "display_data"
    }
   ],
   "source": [
    "plt.figure(figsize = (20, 7))\n",
    "sns.set_theme(context = 'notebook', style = 'darkgrid', palette = 'bright', font = 'sans-serif', font_scale = 1, color_codes = True, rc = None)\n",
    "\n",
    "sns.heatmap(df_cat_orderDate, \n",
    "            cmap = 'viridis', \n",
    "            robust = True, \n",
    "            annot = True, \n",
    "            annot_kws = {'size':13}, \n",
    "            fmt = \".0f\", \n",
    "            linecolor = 'white', \n",
    "            linewidths = 1, \n",
    "            cbar = True, \n",
    "            square = False,\n",
    "            xticklabels = True,\n",
    "            yticklabels = True) \n",
    "\n",
    "plt.xlabel(\"Order Date (Year-Month)\")\n",
    "plt.ylabel(\"Item Categories\")\n",
    "plt.text(0,-1, \"Heat Map\", fontsize = 25, color = 'Black', fontstyle = 'italic')\n",
    "plt.show()"
   ]
  },
  {
   "cell_type": "code",
   "execution_count": 57,
   "id": "61752b35-8352-4577-b86f-ed3d8145526e",
   "metadata": {},
   "outputs": [],
   "source": [
    "#df[df['Year'] == 2016] & df[df['Month'] == 10][]"
   ]
  },
  {
   "cell_type": "code",
   "execution_count": null,
   "id": "55cbbbac-83c2-4334-a20d-60116d96a5ad",
   "metadata": {},
   "outputs": [],
   "source": []
  }
 ],
 "metadata": {
  "kernelspec": {
   "display_name": "Python 3",
   "language": "python",
   "name": "python3"
  },
  "language_info": {
   "codemirror_mode": {
    "name": "ipython",
    "version": 3
   },
   "file_extension": ".py",
   "mimetype": "text/x-python",
   "name": "python",
   "nbconvert_exporter": "python",
   "pygments_lexer": "ipython3",
   "version": "3.8.0"
  }
 },
 "nbformat": 4,
 "nbformat_minor": 5
}
